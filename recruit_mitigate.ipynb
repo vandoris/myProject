{
 "cells": [
  {
   "cell_type": "code",
   "execution_count": 1,
   "metadata": {},
   "outputs": [],
   "source": [
    "import pandas as pd\n",
    "import numpy as np\n",
    "import seaborn as sns"
   ]
  },
  {
   "cell_type": "code",
   "execution_count": 2,
   "metadata": {},
   "outputs": [
    {
     "data": {
      "text/html": [
       "<div>\n",
       "<style scoped>\n",
       "    .dataframe tbody tr th:only-of-type {\n",
       "        vertical-align: middle;\n",
       "    }\n",
       "\n",
       "    .dataframe tbody tr th {\n",
       "        vertical-align: top;\n",
       "    }\n",
       "\n",
       "    .dataframe thead th {\n",
       "        text-align: right;\n",
       "    }\n",
       "</style>\n",
       "<table border=\"1\" class=\"dataframe\">\n",
       "  <thead>\n",
       "    <tr style=\"text-align: right;\">\n",
       "      <th></th>\n",
       "      <th>id</th>\n",
       "      <th>sex</th>\n",
       "      <th>apply_age</th>\n",
       "      <th>marriage</th>\n",
       "      <th>highest_education</th>\n",
       "      <th>highest_graduation</th>\n",
       "      <th>loan</th>\n",
       "      <th>loan_status</th>\n",
       "      <th>military_status</th>\n",
       "      <th>aboriginal</th>\n",
       "      <th>height</th>\n",
       "      <th>weight</th>\n",
       "      <th>nationality</th>\n",
       "      <th>highest_school_level</th>\n",
       "      <th>english_level</th>\n",
       "      <th>hired_or_not</th>\n",
       "      <th>relabel_check</th>\n",
       "    </tr>\n",
       "  </thead>\n",
       "  <tbody>\n",
       "    <tr>\n",
       "      <td>0</td>\n",
       "      <td>R224211691</td>\n",
       "      <td>F</td>\n",
       "      <td>24</td>\n",
       "      <td>0</td>\n",
       "      <td>B</td>\n",
       "      <td>Y</td>\n",
       "      <td>0</td>\n",
       "      <td>1</td>\n",
       "      <td>1</td>\n",
       "      <td>0</td>\n",
       "      <td>162</td>\n",
       "      <td>60</td>\n",
       "      <td>1</td>\n",
       "      <td>3</td>\n",
       "      <td>2.0</td>\n",
       "      <td>N</td>\n",
       "      <td>N</td>\n",
       "    </tr>\n",
       "    <tr>\n",
       "      <td>1</td>\n",
       "      <td>R223936966</td>\n",
       "      <td>F</td>\n",
       "      <td>28</td>\n",
       "      <td>0</td>\n",
       "      <td>B</td>\n",
       "      <td>Y</td>\n",
       "      <td>1</td>\n",
       "      <td>1</td>\n",
       "      <td>1</td>\n",
       "      <td>0</td>\n",
       "      <td>158</td>\n",
       "      <td>52</td>\n",
       "      <td>1</td>\n",
       "      <td>2</td>\n",
       "      <td>2.0</td>\n",
       "      <td>N</td>\n",
       "      <td>N</td>\n",
       "    </tr>\n",
       "    <tr>\n",
       "      <td>2</td>\n",
       "      <td>F228161684</td>\n",
       "      <td>F</td>\n",
       "      <td>24</td>\n",
       "      <td>0</td>\n",
       "      <td>B</td>\n",
       "      <td>Y</td>\n",
       "      <td>1</td>\n",
       "      <td>1</td>\n",
       "      <td>1</td>\n",
       "      <td>0</td>\n",
       "      <td>164</td>\n",
       "      <td>70</td>\n",
       "      <td>1</td>\n",
       "      <td>3</td>\n",
       "      <td>2.0</td>\n",
       "      <td>N</td>\n",
       "      <td>N</td>\n",
       "    </tr>\n",
       "    <tr>\n",
       "      <td>3</td>\n",
       "      <td>O200443001</td>\n",
       "      <td>F</td>\n",
       "      <td>21</td>\n",
       "      <td>0</td>\n",
       "      <td>B</td>\n",
       "      <td>Y</td>\n",
       "      <td>0</td>\n",
       "      <td>1</td>\n",
       "      <td>1</td>\n",
       "      <td>0</td>\n",
       "      <td>152</td>\n",
       "      <td>41</td>\n",
       "      <td>1</td>\n",
       "      <td>5</td>\n",
       "      <td>2.0</td>\n",
       "      <td>N</td>\n",
       "      <td>N</td>\n",
       "    </tr>\n",
       "    <tr>\n",
       "      <td>4</td>\n",
       "      <td>N225966272</td>\n",
       "      <td>F</td>\n",
       "      <td>22</td>\n",
       "      <td>0</td>\n",
       "      <td>B</td>\n",
       "      <td>I</td>\n",
       "      <td>0</td>\n",
       "      <td>1</td>\n",
       "      <td>1</td>\n",
       "      <td>0</td>\n",
       "      <td>155</td>\n",
       "      <td>45</td>\n",
       "      <td>1</td>\n",
       "      <td>6</td>\n",
       "      <td>3.0</td>\n",
       "      <td>N</td>\n",
       "      <td>N</td>\n",
       "    </tr>\n",
       "  </tbody>\n",
       "</table>\n",
       "</div>"
      ],
      "text/plain": [
       "           id sex  apply_age  marriage highest_education highest_graduation  \\\n",
       "0  R224211691   F         24         0                 B                  Y   \n",
       "1  R223936966   F         28         0                 B                  Y   \n",
       "2  F228161684   F         24         0                 B                  Y   \n",
       "3  O200443001   F         21         0                 B                  Y   \n",
       "4  N225966272   F         22         0                 B                  I   \n",
       "\n",
       "   loan  loan_status  military_status  aboriginal  height  weight  \\\n",
       "0     0            1                1           0     162      60   \n",
       "1     1            1                1           0     158      52   \n",
       "2     1            1                1           0     164      70   \n",
       "3     0            1                1           0     152      41   \n",
       "4     0            1                1           0     155      45   \n",
       "\n",
       "   nationality highest_school_level  english_level hired_or_not relabel_check  \n",
       "0            1                    3            2.0            N             N  \n",
       "1            1                    2            2.0            N             N  \n",
       "2            1                    3            2.0            N             N  \n",
       "3            1                    5            2.0            N             N  \n",
       "4            1                    6            3.0            N             N  "
      ]
     },
     "execution_count": 2,
     "metadata": {},
     "output_type": "execute_result"
    }
   ],
   "source": [
    "data = pd.read_excel('C:/Users/Administrator/paper/108_recruit_train.xlsx')\n",
    "data = data[data['highest_school_level']!='F']\n",
    "data = data.drop(['interview','second_interview','relabel'], axis=1)\n",
    "data.head()"
   ]
  },
  {
   "cell_type": "code",
   "execution_count": 3,
   "metadata": {},
   "outputs": [
    {
     "name": "stdout",
     "output_type": "stream",
     "text": [
      "<class 'pandas.core.frame.DataFrame'>\n",
      "Int64Index: 1188 entries, 0 to 1201\n",
      "Data columns (total 17 columns):\n",
      "id                      1188 non-null object\n",
      "sex                     1188 non-null object\n",
      "apply_age               1188 non-null int64\n",
      "marriage                1188 non-null int64\n",
      "highest_education       1188 non-null object\n",
      "highest_graduation      1188 non-null object\n",
      "loan                    1188 non-null int64\n",
      "loan_status             1188 non-null int64\n",
      "military_status         1188 non-null int64\n",
      "aboriginal              1188 non-null int64\n",
      "height                  1188 non-null int64\n",
      "weight                  1188 non-null int64\n",
      "nationality             1188 non-null int64\n",
      "highest_school_level    1188 non-null object\n",
      "english_level           1188 non-null float64\n",
      "hired_or_not            1188 non-null object\n",
      "relabel_check           1188 non-null object\n",
      "dtypes: float64(1), int64(9), object(7)\n",
      "memory usage: 167.1+ KB\n"
     ]
    }
   ],
   "source": [
    "data.info()"
   ]
  },
  {
   "cell_type": "code",
   "execution_count": 4,
   "metadata": {},
   "outputs": [
    {
     "name": "stdout",
     "output_type": "stream",
     "text": [
      "應徵總人數 1188\n",
      "男性應徵人數 412\n",
      "男性錄取人數 39\n",
      "男性錄取率 0.09466019417475728\n",
      "女性應徵人數 776\n",
      "女性錄取人數 63\n",
      "女性錄取率 0.08118556701030928\n",
      "男性應徵人數占比 0.3468013468013468\n",
      "女性應徵人數占比 0.6531986531986532\n"
     ]
    }
   ],
   "source": [
    "print(\"應徵總人數\", len(data))\n",
    "print(\"男性應徵人數\", len(data[data['sex']=='M']))\n",
    "print(\"男性錄取人數\", len(data[(data['sex']=='M') & (data['hired_or_not']=='Y')]))\n",
    "print(\"男性錄取率\", len(data[(data['sex']=='M') & (data['hired_or_not']=='Y')])/len(data[data['sex']=='M']))\n",
    "print(\"女性應徵人數\", len(data[data['sex']=='F']))\n",
    "print(\"女性錄取人數\", len(data[(data['sex']=='F') & (data['hired_or_not']=='Y')]))\n",
    "print(\"女性錄取率\", len(data[(data['sex']=='F') & (data['hired_or_not']=='Y')])/len(data[data['sex']=='F']))\n",
    "print(\"男性應徵人數占比\",len(data[data['sex']=='M'])/len(data))\n",
    "print(\"女性應徵人數占比\",len(data[data['sex']=='F'])/len(data))"
   ]
  },
  {
   "cell_type": "code",
   "execution_count": 5,
   "metadata": {},
   "outputs": [],
   "source": [
    "# 設定資料集男女比及應徵錄取比\n",
    "n_pop = 1000000\n",
    "p_male = 0.3468\n",
    "p_job_male, p_job_female = 0.0946, 0.0812\n",
    "\n",
    "gender = np.random.choice(['male', 'female'], size=n_pop, p=[p_male, 1 - p_male])\n",
    "df = pd.DataFrame({'gender' : gender})\n",
    "df.loc[df.gender == 'male', 'found_job'] = np.random.choice([1, 0], size=len(df.loc[df.gender == 'male']), p=[p_job_male, 1 - p_job_male])\n",
    "df.loc[df.gender == 'female', 'found_job'] = np.random.choice([1, 0], size=len(df.loc[df.gender == 'female']), p=[p_job_female, 1 - p_job_female])\n",
    "df['found_job'] = df['found_job'].astype(int)"
   ]
  },
  {
   "cell_type": "code",
   "execution_count": 6,
   "metadata": {},
   "outputs": [
    {
     "name": "stdout",
     "output_type": "stream",
     "text": [
      "男性應徵人數 346486\n",
      "男性錄取人數 32581\n",
      "男性錄取率 0.09403265932822683\n",
      "女性應徵人數 653514\n",
      "女性錄取人數 52795\n",
      "女性錄取率 0.08078633357510322\n",
      "男性應徵人數占比 0.346486\n",
      "女性應徵人數占比 0.653514\n"
     ]
    }
   ],
   "source": [
    "# 檢視資料集\n",
    "print(\"男性應徵人數\", len(df[df['gender']=='male']))\n",
    "print(\"男性錄取人數\", len(df[(df['gender']=='male') & (df['found_job']==1)]))\n",
    "print(\"男性錄取率\", len(df[(df['gender']=='male') & (df['found_job']==1)])/len(df[df['gender']=='male']))\n",
    "print(\"女性應徵人數\", len(df[df['gender']=='female']))\n",
    "print(\"女性錄取人數\", len(df[(df['gender']=='female') & (df['found_job']==1)]))\n",
    "print(\"女性錄取率\", len(df[(df['gender']=='female') & (df['found_job']==1)])/len(df[df['gender']=='female']))\n",
    "print(\"男性應徵人數占比\",len(df[df['gender']=='male'])/len(df))\n",
    "print(\"女性應徵人數占比\",len(df[df['gender']=='female'])/len(df))"
   ]
  },
  {
   "cell_type": "code",
   "execution_count": 7,
   "metadata": {},
   "outputs": [
    {
     "data": {
      "text/html": [
       "<div>\n",
       "<style scoped>\n",
       "    .dataframe tbody tr th:only-of-type {\n",
       "        vertical-align: middle;\n",
       "    }\n",
       "\n",
       "    .dataframe tbody tr th {\n",
       "        vertical-align: top;\n",
       "    }\n",
       "\n",
       "    .dataframe thead th {\n",
       "        text-align: right;\n",
       "    }\n",
       "</style>\n",
       "<table border=\"1\" class=\"dataframe\">\n",
       "  <thead>\n",
       "    <tr style=\"text-align: right;\">\n",
       "      <th>found_job</th>\n",
       "      <th>0</th>\n",
       "      <th>1</th>\n",
       "    </tr>\n",
       "    <tr>\n",
       "      <th>gender</th>\n",
       "      <th></th>\n",
       "      <th></th>\n",
       "    </tr>\n",
       "  </thead>\n",
       "  <tbody>\n",
       "    <tr>\n",
       "      <td>female</td>\n",
       "      <td>600719</td>\n",
       "      <td>52795</td>\n",
       "    </tr>\n",
       "    <tr>\n",
       "      <td>male</td>\n",
       "      <td>313905</td>\n",
       "      <td>32581</td>\n",
       "    </tr>\n",
       "  </tbody>\n",
       "</table>\n",
       "</div>"
      ],
      "text/plain": [
       "found_job       0      1\n",
       "gender                  \n",
       "female     600719  52795\n",
       "male       313905  32581"
      ]
     },
     "execution_count": 7,
     "metadata": {},
     "output_type": "execute_result"
    }
   ],
   "source": [
    "df.pivot_table(index='gender', columns='found_job', aggfunc='size')"
   ]
  },
  {
   "cell_type": "code",
   "execution_count": 8,
   "metadata": {},
   "outputs": [
    {
     "name": "stdout",
     "output_type": "stream",
     "text": [
      "男性錄取年齡平均 26.53846153846154\n",
      "男性錄取年齡標準差 3.3938501180048863\n",
      "男性未錄取年齡平均 27.396782841823057\n",
      "男性未錄取年齡標準差 4.783842693106973\n",
      "---------------------------------------------------------------------\n",
      "女性錄取年齡平均 25.26984126984127\n",
      "女性錄取年齡標準差 2.806710560059008\n",
      "女性未錄取年齡平均 26.517531556802243\n",
      "女性未錄取年齡標準差 4.669111814273186\n"
     ]
    }
   ],
   "source": [
    "print(\"男性錄取年齡平均\", data[(data['sex']=='M') & (data['hired_or_not']=='Y')].apply_age.mean())\n",
    "print(\"男性錄取年齡標準差\", data[(data['sex']=='M') & (data['hired_or_not']=='Y')].apply_age.std())\n",
    "print(\"男性未錄取年齡平均\", data[(data['sex']=='M') & (data['hired_or_not']=='N')].apply_age.mean())\n",
    "print(\"男性未錄取年齡標準差\", data[(data['sex']=='M') & (data['hired_or_not']=='N')].apply_age.std())\n",
    "print(\"---------------------------------------------------------------------\")\n",
    "print(\"女性錄取年齡平均\", data[(data['sex']=='F') & (data['hired_or_not']=='Y')].apply_age.mean())\n",
    "print(\"女性錄取年齡標準差\", data[(data['sex']=='F') & (data['hired_or_not']=='Y')].apply_age.std())\n",
    "print(\"女性未錄取年齡平均\", data[(data['sex']=='F') & (data['hired_or_not']=='N')].apply_age.mean())\n",
    "print(\"女性未錄取年齡標準差\", data[(data['sex']=='F') & (data['hired_or_not']=='N')].apply_age.std())"
   ]
  },
  {
   "cell_type": "code",
   "execution_count": 10,
   "metadata": {},
   "outputs": [],
   "source": [
    "# 設定資料集年齡分布(待採樣)\n",
    "mu_job_male, sigma_job_male = 26.5385, 3.3939\n",
    "mu_no_job_male, sigma_no_job_male = 27.3968, 4.7838\n",
    "\n",
    "mu_job_female, sigma_job_female = 25.2698, 2.8067\n",
    "mu_no_job_female, sigma_no_job_female = 26.5175, 4.6691\n",
    "\n",
    "df_male = df[df['gender']=='male']\n",
    "df_female = df[df['gender']=='female']\n",
    "\n",
    "df_male.loc[df_male.found_job == 1, 'age'] = np.floor(np.random.normal(mu_job_male, sigma_job_male, len(df_male.loc[df_male.found_job == 1])))\n",
    "df_male.loc[df_male.found_job == 0, 'age'] = np.floor(np.random.normal(mu_no_job_male, sigma_no_job_male, len(df_male.loc[df_male.found_job == 0])))\n",
    "df_female.loc[df_female.found_job == 1, 'age'] = np.floor(np.random.normal(mu_job_female, sigma_job_female, len(df_female.loc[df_female.found_job == 1])))\n",
    "df_female.loc[df_female.found_job == 0, 'age'] = np.floor(np.random.normal(mu_no_job_female, sigma_no_job_female, len(df_female.loc[df_female.found_job == 0])))\n",
    "\n",
    "df = df_male.append(df_female)\n",
    "df['age'] = df['age'].astype(int)"
   ]
  },
  {
   "cell_type": "code",
   "execution_count": 11,
   "metadata": {},
   "outputs": [
    {
     "name": "stdout",
     "output_type": "stream",
     "text": [
      "男性錄取年齡平均 26.011724624781316\n",
      "男性錄取年齡標準差 3.3963541695433483\n",
      "男性未錄取年齡平均 26.90393590417483\n",
      "男性未錄取年齡標準差 4.790027075204018\n",
      "---------------------------------------------------------------------\n",
      "女性錄取年齡平均 24.741604318590774\n",
      "女性錄取年齡標準差 2.8342038403692875\n",
      "女性未錄取年齡平均 26.015851005212088\n",
      "女性未錄取年齡標準差 4.674223276279987\n"
     ]
    }
   ],
   "source": [
    "print(\"男性錄取年齡平均\", df[(df['gender']=='male') & (df['found_job']==1)].age.mean())\n",
    "print(\"男性錄取年齡標準差\", df[(df['gender']=='male') & (df['found_job']==1)].age.std())\n",
    "print(\"男性未錄取年齡平均\", df[(df['gender']=='male') & (df['found_job']==0)].age.mean())\n",
    "print(\"男性未錄取年齡標準差\", df[(df['gender']=='male') & (df['found_job']==0)].age.std())\n",
    "print(\"---------------------------------------------------------------------\")\n",
    "print(\"女性錄取年齡平均\", df[(df['gender']=='female') & (df['found_job']==1)].age.mean())\n",
    "print(\"女性錄取年齡標準差\", df[(df['gender']=='female') & (df['found_job']==1)].age.std())\n",
    "print(\"女性未錄取年齡平均\", df[(df['gender']=='female') & (df['found_job']==0)].age.mean())\n",
    "print(\"女性未錄取年齡標準差\", df[(df['gender']=='female') & (df['found_job']==0)].age.std())"
   ]
  },
  {
   "cell_type": "code",
   "execution_count": 12,
   "metadata": {},
   "outputs": [
    {
     "data": {
      "text/html": [
       "<div>\n",
       "<style scoped>\n",
       "    .dataframe tbody tr th:only-of-type {\n",
       "        vertical-align: middle;\n",
       "    }\n",
       "\n",
       "    .dataframe tbody tr th {\n",
       "        vertical-align: top;\n",
       "    }\n",
       "\n",
       "    .dataframe thead th {\n",
       "        text-align: right;\n",
       "    }\n",
       "</style>\n",
       "<table border=\"1\" class=\"dataframe\">\n",
       "  <thead>\n",
       "    <tr style=\"text-align: right;\">\n",
       "      <th></th>\n",
       "      <th>age</th>\n",
       "    </tr>\n",
       "    <tr>\n",
       "      <th>found_job</th>\n",
       "      <th></th>\n",
       "    </tr>\n",
       "  </thead>\n",
       "  <tbody>\n",
       "    <tr>\n",
       "      <td>0</td>\n",
       "      <td>26.3</td>\n",
       "    </tr>\n",
       "    <tr>\n",
       "      <td>1</td>\n",
       "      <td>25.2</td>\n",
       "    </tr>\n",
       "  </tbody>\n",
       "</table>\n",
       "</div>"
      ],
      "text/plain": [
       "            age\n",
       "found_job      \n",
       "0          26.3\n",
       "1          25.2"
      ]
     },
     "execution_count": 12,
     "metadata": {},
     "output_type": "execute_result"
    }
   ],
   "source": [
    "df.groupby('found_job').mean().round(1)"
   ]
  },
  {
   "cell_type": "code",
   "execution_count": 13,
   "metadata": {},
   "outputs": [
    {
     "name": "stdout",
     "output_type": "stream",
     "text": [
      "學士人數 1024\n",
      "碩士人數 162\n",
      "博士人數 2\n",
      "---------------------------------------------------------------------\n",
      "學士錄取人數 87\n",
      "碩士錄取人數 15\n",
      "博士錄取人數 0\n",
      "總錄取人數 102\n",
      "---------------------------------------------------------------------\n",
      "學士錄取率 0.8529411764705882\n",
      "碩士錄取率 0.14705882352941177\n",
      "博士錄取率 0.0\n",
      "---------------------------------------------------------------------\n",
      "學士不錄取率 0.8627992633517495\n",
      "碩士不錄取率 0.13535911602209943\n",
      "博士不錄取率 0.001841620626151013\n"
     ]
    }
   ],
   "source": [
    "# 設定資料集學歷分布(待採樣)\n",
    "print(\"學士人數\", len(data[data['highest_education']=='B']))\n",
    "print(\"碩士人數\", len(data[data['highest_education']=='M']))\n",
    "print(\"博士人數\", len(data[data['highest_education']=='D']))\n",
    "print(\"---------------------------------------------------------------------\")\n",
    "print(\"學士錄取人數\", len(data[(data['highest_education']=='B') & (data['hired_or_not']=='Y')]))\n",
    "print(\"碩士錄取人數\", len(data[(data['highest_education']=='M') & (data['hired_or_not']=='Y')]))\n",
    "print(\"博士錄取人數\", len(data[(data['highest_education']=='D') & (data['hired_or_not']=='Y')]))\n",
    "print(\"總錄取人數\", len(data[data['hired_or_not']=='Y']))\n",
    "print(\"---------------------------------------------------------------------\")\n",
    "print(\"學士錄取率\", len(data[(data['highest_education']=='B') & (data['hired_or_not']=='Y')])/len(data[data['hired_or_not']=='Y']))\n",
    "print(\"碩士錄取率\", len(data[(data['highest_education']=='M') & (data['hired_or_not']=='Y')])/len(data[data['hired_or_not']=='Y']))\n",
    "print(\"博士錄取率\", len(data[(data['highest_education']=='D') & (data['hired_or_not']=='Y')])/len(data[data['hired_or_not']=='Y']))\n",
    "print(\"---------------------------------------------------------------------\")\n",
    "print(\"學士不錄取率\", len(data[(data['highest_education']=='B') & (data['hired_or_not']=='N')])/len(data[data['hired_or_not']=='N']))\n",
    "print(\"碩士不錄取率\", len(data[(data['highest_education']=='M') & (data['hired_or_not']=='N')])/len(data[data['hired_or_not']=='N']))\n",
    "print(\"博士不錄取率\", len(data[(data['highest_education']=='D') & (data['hired_or_not']=='N')])/len(data[data['hired_or_not']=='N']))"
   ]
  },
  {
   "cell_type": "code",
   "execution_count": 14,
   "metadata": {},
   "outputs": [],
   "source": [
    "educ_class_set = ['B', 'M', 'D']\n",
    "educ_class_wt_job = [0.8529, 0.1471, 0]\n",
    "educ_class_wt_no_job = [0.8628, 0.1354, 0.0018]\n",
    "\n",
    "df.loc[df.found_job == 1, 'educ_class'] = np.random.choice(educ_class_set, size=len(df.loc[df.found_job == 1]), p=educ_class_wt_job)\n",
    "df.loc[df.found_job == 0, 'educ_class'] = np.random.choice(educ_class_set, size=len(df.loc[df.found_job == 0]), p=educ_class_wt_no_job)"
   ]
  },
  {
   "cell_type": "code",
   "execution_count": 15,
   "metadata": {},
   "outputs": [
    {
     "name": "stdout",
     "output_type": "stream",
     "text": [
      "學士人數 861584\n",
      "碩士人數 136823\n",
      "博士人數 1593\n",
      "---------------------------------------------------------------------\n",
      "學士錄取人數 72856\n",
      "碩士錄取人數 12520\n",
      "博士錄取人數 0\n",
      "總錄取人數 85376\n",
      "---------------------------------------------------------------------\n",
      "學士錄取率 0.8533545727136432\n",
      "碩士錄取率 0.14664542728635682\n",
      "博士錄取率 0.0\n",
      "---------------------------------------------------------------------\n",
      "學士不錄取率 0.8623521796935134\n",
      "碩士不錄取率 0.13590612098523547\n",
      "博士不錄取率 0.001741699321251137\n"
     ]
    }
   ],
   "source": [
    "# 檢視資料集學歷分布\n",
    "print(\"學士人數\", len(df[df['educ_class']=='B']))\n",
    "print(\"碩士人數\", len(df[df['educ_class']=='M']))\n",
    "print(\"博士人數\", len(df[df['educ_class']=='D']))\n",
    "print(\"---------------------------------------------------------------------\")\n",
    "print(\"學士錄取人數\", len(df[(df['educ_class']=='B') & (df['found_job']==1)]))\n",
    "print(\"碩士錄取人數\", len(df[(df['educ_class']=='M') & (df['found_job']==1)]))\n",
    "print(\"博士錄取人數\", len(df[(df['educ_class']=='D') & (df['found_job']==1)]))\n",
    "print(\"總錄取人數\", len(df[df['found_job']==1]))\n",
    "print(\"---------------------------------------------------------------------\")\n",
    "print(\"學士錄取率\", len(df[(df['educ_class']=='B') & (df['found_job']==1)])/len(df[df['found_job']==1]))\n",
    "print(\"碩士錄取率\", len(df[(df['educ_class']=='M') & (df['found_job']==1)])/len(df[df['found_job']==1]))\n",
    "print(\"博士錄取率\", len(df[(df['educ_class']=='D') & (df['found_job']==1)])/len(df[df['found_job']==1]))\n",
    "print(\"---------------------------------------------------------------------\")\n",
    "print(\"學士不錄取率\", len(df[(df['educ_class']=='B') & (df['found_job']==0)])/len(df[df['found_job']==0]))\n",
    "print(\"碩士不錄取率\", len(df[(df['educ_class']=='M') & (df['found_job']==0)])/len(df[df['found_job']==0]))\n",
    "print(\"博士不錄取率\", len(df[(df['educ_class']=='D') & (df['found_job']==0)])/len(df[df['found_job']==0]))"
   ]
  },
  {
   "cell_type": "code",
   "execution_count": 16,
   "metadata": {},
   "outputs": [
    {
     "name": "stdout",
     "output_type": "stream",
     "text": [
      "女性應徵總人數 776\n",
      "女性已婚總人數 95\n",
      "女性未婚總人數 681\n",
      "已錄取女性已婚人數 3\n",
      "女性錄取者已婚比例 0.047619047619047616\n",
      "未錄取女性已婚人數 92\n",
      "女性未錄取者已婚比例 0.12903225806451613\n",
      "---------------------------------------------------------------------\n",
      "男性應徵總人數 412\n",
      "男性已婚總人數 31\n",
      "男性未婚總人數 381\n",
      "已錄取男性已婚人數 5\n",
      "男性錄取者已婚比例 0.1282051282051282\n",
      "未錄取男性已婚人數 26\n",
      "男性未錄取者已婚比例 0.06970509383378017\n",
      "---------------------------------------------------------------------\n",
      "已婚女性錄取率 0.031578947368421054\n",
      "未婚女性錄取率 0.0881057268722467\n",
      "已婚男性錄取率 0.16129032258064516\n",
      "未婚男性錄取率 0.08923884514435695\n"
     ]
    }
   ],
   "source": [
    "# 設定婚姻狀況資料分布(待採樣)\n",
    "print(\"女性應徵總人數\", len(data[data['sex']=='F']))\n",
    "print(\"女性已婚總人數\", len(data[(data['sex']=='F')&(data['marriage']==1)]))\n",
    "print(\"女性未婚總人數\", len(data[(data['sex']=='F')&(data['marriage']==0)]))\n",
    "print(\"已錄取女性已婚人數\", len(data[(data['sex']=='F')&(data['marriage']==1)&(data['hired_or_not']=='Y')]))\n",
    "print(\"女性錄取者已婚比例\", len(data[(data['sex']=='F')&(data['marriage']==1)&(data['hired_or_not']=='Y')])/len(data[(data['sex']=='F')&(data['hired_or_not']=='Y')]))\n",
    "print(\"未錄取女性已婚人數\", len(data[(data['sex']=='F')&(data['marriage']==1)&(data['hired_or_not']=='N')]))\n",
    "print(\"女性未錄取者已婚比例\", len(data[(data['sex']=='F')&(data['marriage']==1)&(data['hired_or_not']=='N')])/len(data[(data['sex']=='F')&(data['hired_or_not']=='N')]))\n",
    "print(\"---------------------------------------------------------------------\")\n",
    "print(\"男性應徵總人數\", len(data[data['sex']=='M']))\n",
    "print(\"男性已婚總人數\", len(data[(data['sex']=='M')&(data['marriage']==1)]))\n",
    "print(\"男性未婚總人數\", len(data[(data['sex']=='M')&(data['marriage']==0)]))\n",
    "print(\"已錄取男性已婚人數\", len(data[(data['sex']=='M')&(data['marriage']==1)&(data['hired_or_not']=='Y')]))\n",
    "print(\"男性錄取者已婚比例\", len(data[(data['sex']=='M')&(data['marriage']==1)&(data['hired_or_not']=='Y')])/len(data[(data['sex']=='M')&(data['hired_or_not']=='Y')]))\n",
    "print(\"未錄取男性已婚人數\", len(data[(data['sex']=='M')&(data['marriage']==1)&(data['hired_or_not']=='N')]))\n",
    "print(\"男性未錄取者已婚比例\", len(data[(data['sex']=='M')&(data['marriage']==1)&(data['hired_or_not']=='N')])/len(data[(data['sex']=='M')&(data['hired_or_not']=='N')]))\n",
    "print(\"---------------------------------------------------------------------\")\n",
    "print(\"已婚女性錄取率\", len(data[(data['sex']=='F')&(data['marriage']==1)&(data['hired_or_not']=='Y')])/len(data[(data['sex']=='F')&(data['marriage']==1)]))\n",
    "print(\"未婚女性錄取率\", len(data[(data['sex']=='F')&(data['marriage']==0)&(data['hired_or_not']=='Y')])/len(data[(data['sex']=='F')&(data['marriage']==0)]))\n",
    "print(\"已婚男性錄取率\", len(data[(data['sex']=='M')&(data['marriage']==1)&(data['hired_or_not']=='Y')])/len(data[(data['sex']=='M')&(data['marriage']==1)]))\n",
    "print(\"未婚男性錄取率\", len(data[(data['sex']=='M')&(data['marriage']==0)&(data['hired_or_not']=='Y')])/len(data[(data['sex']=='M')&(data['marriage']==0)]))"
   ]
  },
  {
   "cell_type": "code",
   "execution_count": 17,
   "metadata": {},
   "outputs": [],
   "source": [
    "# 設定男女婚姻狀況分布\n",
    "# 男性錄取者已婚比例, 男性未錄取者已婚比例\n",
    "p_job_male_marriage, p_no_job_male_marriage = 0.12820512, 0.06970509\n",
    "# 女性錄取者已婚比例, 女性未錄取者已婚比例\n",
    "p_job_female_marriage, p_no_job_female_marriage = 0.04761904, 0.12903225\n",
    "\n",
    "df_male = df[df['gender']=='male']\n",
    "df_female = df[df['gender']=='female']\n",
    "\n",
    "df_male.loc[df_male.found_job == 1, 'marriage'] = np.random.choice([1, 0], size=len(df_male.loc[df_male.found_job == 1]), p=[p_job_male_marriage, 1 - p_job_male_marriage])\n",
    "df_male.loc[df_male.found_job == 0, 'marriage'] = np.random.choice([1, 0], size=len(df_male.loc[df_male.found_job == 0]), p=[p_no_job_male_marriage, 1 - p_no_job_male_marriage])\n",
    "df_female.loc[df_female.found_job == 1, 'marriage'] = np.random.choice([1, 0], size=len(df_female.loc[df_female.found_job == 1]), p=[p_job_female_marriage, 1 - p_job_female_marriage])\n",
    "df_female.loc[df_female.found_job == 0, 'marriage'] = np.random.choice([1, 0], size=len(df_female.loc[df_female.found_job == 0]), p=[p_no_job_female_marriage, 1 - p_no_job_female_marriage])\n",
    "\n",
    "df = df_male.append(df_female)"
   ]
  },
  {
   "cell_type": "code",
   "execution_count": 18,
   "metadata": {},
   "outputs": [
    {
     "name": "stdout",
     "output_type": "stream",
     "text": [
      "女性應徵總人數 653514\n",
      "女性已婚總人數 79946\n",
      "女性未婚總人數 573568\n",
      "已錄取女性已婚人數 2467\n",
      "女性錄取者已婚比例 0.046727909839946964\n",
      "未錄取女性已婚人數 77479\n",
      "女性未錄取者已婚比例 0.12897710909759805\n",
      "---------------------------------------------------------------------\n",
      "男性應徵總人數 346486\n",
      "男性已婚總人數 25908\n",
      "男性未婚總人數 320578\n",
      "已錄取男性已婚人數 4104\n",
      "男性錄取者已婚比例 0.12596298456155428\n",
      "未錄取男性已婚人數 21804\n",
      "男性未錄取者已婚比例 0.06946050556697089\n",
      "---------------------------------------------------------------------\n",
      "已婚女性錄取率 0.03085832937232632\n",
      "未婚女性錄取率 0.08774548091943762\n",
      "已婚男性錄取率 0.15840666975451598\n",
      "未婚男性錄取率 0.08883017549551123\n"
     ]
    }
   ],
   "source": [
    "# 設定婚姻狀況資料分布\n",
    "print(\"女性應徵總人數\", len(df[df['gender']=='female']))\n",
    "print(\"女性已婚總人數\", len(df[(df['gender']=='female')&(df['marriage']==1)]))\n",
    "print(\"女性未婚總人數\", len(df[(df['gender']=='female')&(df['marriage']==0)]))\n",
    "print(\"已錄取女性已婚人數\", len(df[(df['gender']=='female')&(df['marriage']==1)&(df['found_job']==1)]))\n",
    "print(\"女性錄取者已婚比例\", len(df[(df['gender']=='female')&(df['marriage']==1)&(df['found_job']==1)])/len(df[(df['gender']=='female')&(df['found_job']==1)]))\n",
    "print(\"未錄取女性已婚人數\", len(df[(df['gender']=='female')&(df['marriage']==1)&(df['found_job']==0)]))\n",
    "print(\"女性未錄取者已婚比例\", len(df[(df['gender']=='female')&(df['marriage']==1)&(df['found_job']==0)])/len(df[(df['gender']=='female')&(df['found_job']==0)]))\n",
    "print(\"---------------------------------------------------------------------\")\n",
    "print(\"男性應徵總人數\", len(df[df['gender']=='male']))\n",
    "print(\"男性已婚總人數\", len(df[(df['gender']=='male')&(df['marriage']==1)]))\n",
    "print(\"男性未婚總人數\", len(df[(df['gender']=='male')&(df['marriage']==0)]))\n",
    "print(\"已錄取男性已婚人數\", len(df[(df['gender']=='male')&(df['marriage']==1)&(df['found_job']==1)]))\n",
    "print(\"男性錄取者已婚比例\", len(df[(df['gender']=='male')&(df['marriage']==1)&(df['found_job']==1)])/len(df[(df['gender']=='male')&(df['found_job']==1)]))\n",
    "print(\"未錄取男性已婚人數\", len(df[(df['gender']=='male')&(df['marriage']==1)&(df['found_job']==0)]))\n",
    "print(\"男性未錄取者已婚比例\", len(df[(df['gender']=='male')&(df['marriage']==1)&(df['found_job']==0)])/len(df[(df['gender']=='male')&(df['found_job']==0)]))\n",
    "print(\"---------------------------------------------------------------------\")\n",
    "print(\"已婚女性錄取率\", len(df[(df['gender']=='female')&(df['marriage']==1)&(df['found_job']==1)])/len(df[(df['gender']=='female')&(df['marriage']==1)]))\n",
    "print(\"未婚女性錄取率\", len(df[(df['gender']=='female')&(df['marriage']==0)&(df['found_job']==1)])/len(df[(df['gender']=='female')&(df['marriage']==0)]))\n",
    "print(\"已婚男性錄取率\", len(df[(df['gender']=='male')&(df['marriage']==1)&(df['found_job']==1)])/len(df[(df['gender']=='male')&(df['marriage']==1)]))\n",
    "print(\"未婚男性錄取率\", len(df[(df['gender']=='male')&(df['marriage']==0)&(df['found_job']==1)])/len(df[(df['gender']=='male')&(df['marriage']==0)]))"
   ]
  },
  {
   "cell_type": "code",
   "execution_count": 19,
   "metadata": {},
   "outputs": [
    {
     "name": "stdout",
     "output_type": "stream",
     "text": [
      "有借貸者人數 276\n",
      "有借貸且信用正常且錄取者 28\n",
      "有借貸但信用異常且錄取者 0\n",
      "無借貸且錄取者 74\n",
      "有借貸且異常者占有信貸者比例 0.014492753623188406\n",
      "---------------------------------------------------------------------\n",
      "有信貸者錄取率 0.10144927536231885\n",
      "無信貸者錄取率 0.08114035087719298\n",
      "---------------------------------------------------------------------\n",
      "錄取者有信貸比例 0.27450980392156865\n",
      "未錄取者有信貸比例 0.2283609576427256\n"
     ]
    }
   ],
   "source": [
    "# 檢視資料集借貸與錄取與否關係\n",
    "print(\"有借貸者人數\", len(data[data['loan']==1]))\n",
    "print(\"有借貸且信用正常且錄取者\", len(data[(data['loan']==1)&(data['loan_status']==1)&(data['hired_or_not']=='Y')]))\n",
    "print(\"有借貸但信用異常且錄取者\", len(data[(data['loan']==1)&(data['loan_status']==0)&(data['hired_or_not']=='Y')]))\n",
    "print(\"無借貸且錄取者\", len(data[(data['loan']==0)&(data['hired_or_not']=='Y')]))\n",
    "print(\"有借貸且異常者占有信貸者比例\", len(data[(data['loan']==1)&(data['loan_status']==0)])/len(data[data['loan']==1]))\n",
    "print(\"---------------------------------------------------------------------\")\n",
    "print(\"有信貸者錄取率\", len(data[(data['loan']==1)&(data['hired_or_not']=='Y')])/len(data[data['loan']==1]))\n",
    "print(\"無信貸者錄取率\", len(data[(data['loan']==0)&(data['hired_or_not']=='Y')])/len(data[data['loan']==0]))\n",
    "print(\"---------------------------------------------------------------------\")\n",
    "print(\"錄取者有信貸比例\", len(data[(data['loan']==1)&(data['hired_or_not']=='Y')])/len(data[(data['hired_or_not']=='Y')]))\n",
    "print(\"未錄取者有信貸比例\", len(data[(data['loan']==1)&(data['hired_or_not']=='N')])/len(data[(data['hired_or_not']=='N')]))"
   ]
  },
  {
   "cell_type": "code",
   "execution_count": 20,
   "metadata": {},
   "outputs": [],
   "source": [
    "# 建立信貸者資料\n",
    "p_job_loan, p_no_job_loan = 0.27450980, 0.22836095\n",
    "df.loc[df.found_job == 1, 'loan'] = np.random.choice([1, 0], size=len(df.loc[df.found_job == 1]), p=[p_job_loan, 1 - p_job_loan])\n",
    "df.loc[df.found_job == 0, 'loan'] = np.random.choice([1, 0], size=len(df.loc[df.found_job == 0]), p=[p_no_job_loan, 1 - p_no_job_loan])"
   ]
  },
  {
   "cell_type": "code",
   "execution_count": 58,
   "metadata": {},
   "outputs": [
    {
     "name": "stdout",
     "output_type": "stream",
     "text": [
      "有借貸者人數 232603\n",
      "無借貸且錄取者 62010\n",
      "---------------------------------------------------------------------\n",
      "有信貸者錄取率 0.10045442234193024\n",
      "無信貸者錄取率 0.08080563254742981\n",
      "---------------------------------------------------------------------\n",
      "錄取者有信貸比例 0.2736834707646177\n",
      "未錄取者有信貸比例 0.22876832446994613\n"
     ]
    }
   ],
   "source": [
    "# 檢視資料集借貸與錄取與否關係\n",
    "print(\"有借貸者人數\", len(df[df['loan']==1]))\n",
    "print(\"無借貸且錄取者\", len(df[(df['loan']==0)&(df['found_job']==1)]))\n",
    "print(\"---------------------------------------------------------------------\")\n",
    "print(\"有信貸者錄取率\", len(df[(df['loan']==1)&(df['found_job']==1)])/len(df[df['loan']==1]))\n",
    "print(\"無信貸者錄取率\", len(df[(df['loan']==0)&(df['found_job']==1)])/len(df[df['loan']==0]))\n",
    "print(\"---------------------------------------------------------------------\")\n",
    "print(\"錄取者有信貸比例\", len(df[(df['loan']==1)&(df['found_job']==1)])/len(df[(df['found_job']==1)]))\n",
    "print(\"未錄取者有信貸比例\", len(df[(df['loan']==1)&(df['found_job']==0)])/len(df[(df['found_job']==0)]))"
   ]
  },
  {
   "cell_type": "code",
   "execution_count": 49,
   "metadata": {},
   "outputs": [
    {
     "name": "stdout",
     "output_type": "stream",
     "text": [
      "有信貸人數 276\n",
      "有信貸且信用正常人數 272\n",
      "有信貸但信用不正常人數 4\n",
      "---------------------------------------------------------------------\n",
      "有信貸且信用正常錄取人數 28\n",
      "有信貸且信用正常但未錄取人數 244\n",
      "有信貸但信用不正常錄取人數 0\n",
      "有信貸但信用不正常且未錄取人數 4\n",
      "---------------------------------------------------------------------\n",
      "未錄取者中信用正常者佔比 0.9838709677419355\n",
      "未錄取者中信用不正常者佔比 0.016129032258064516\n"
     ]
    }
   ],
   "source": [
    "# 檢視資料集不良信貸者\n",
    "print(\"有信貸人數\", len(data[(data['loan']==1)]))\n",
    "print(\"有信貸且信用正常人數\", len(data[(data['loan']==1)&(data['loan_status']==1)]))\n",
    "print(\"有信貸但信用不正常人數\", len(data[(data['loan']==1)&(data['loan_status']==0)]))\n",
    "print(\"---------------------------------------------------------------------\")\n",
    "print(\"有信貸且信用正常錄取人數\", len(data[(data['loan']==1)&(data['loan_status']==1)&(data['hired_or_not']=='Y')]))\n",
    "print(\"有信貸且信用正常但未錄取人數\", len(data[(data['loan']==1)&(data['loan_status']==1)&(data['hired_or_not']=='N')]))\n",
    "print(\"有信貸但信用不正常錄取人數\", len(data[(data['loan']==1)&(data['loan_status']==0)&(data['hired_or_not']=='Y')]))\n",
    "print(\"有信貸但信用不正常且未錄取人數\", len(data[(data['loan']==1)&(data['loan_status']==0)&(data['hired_or_not']=='N')]))\n",
    "print(\"---------------------------------------------------------------------\")\n",
    "print(\"未錄取者中信用正常者佔比\", len(data[(data['loan']==1)&(data['loan_status']==1)&(data['hired_or_not']=='N')])/len(data[(data['loan']==1)&(data['hired_or_not']=='N')]))\n",
    "print(\"未錄取者中信用不正常者佔比\", len(data[(data['loan']==1)&(data['loan_status']==0)&(data['hired_or_not']=='N')])/len(data[(data['loan']==1)&(data['hired_or_not']=='N')]))"
   ]
  },
  {
   "cell_type": "code",
   "execution_count": 55,
   "metadata": {},
   "outputs": [],
   "source": [
    "# 設定信貸狀況分布\n",
    "# 未錄取信用狀況良好者\n",
    "p_no_job_loan_good = 0.98387096\n",
    "\n",
    "df_loan = df[df['loan']==1]\n",
    "df_no_loan = df[df['loan']==0]\n",
    "\n",
    "df_loan.loc[df_loan.found_job == 1, 'loan_status'] = np.random.choice([1, 0], size=len(df_loan.loc[df_loan.found_job == 1]), p=[1, 0])\n",
    "df_loan.loc[df_loan.found_job == 0, 'loan_status'] = np.random.choice([1, 0], size=len(df_loan.loc[df_loan.found_job == 0]), p=[p_no_job_loan_good, 1-p_no_job_loan_good])\n",
    "\n",
    "df = df_loan.append(df_no_loan)"
   ]
  },
  {
   "cell_type": "code",
   "execution_count": 57,
   "metadata": {},
   "outputs": [
    {
     "name": "stdout",
     "output_type": "stream",
     "text": [
      "有信貸人數 232603\n",
      "有信貸且信用正常人數 229269\n",
      "有信貸但信用不正常人數 3334\n",
      "---------------------------------------------------------------------\n",
      "有信貸且信用正常錄取人數 23366\n",
      "有信貸且信用正常但未錄取人數 205903\n",
      "有信貸但信用不正常錄取人數 0\n",
      "有信貸但信用不正常且未錄取人數 3334\n",
      "---------------------------------------------------------------------\n",
      "未錄取者中信用正常者佔比 0.9840659156841285\n",
      "未錄取者中信用不正常者佔比 0.015934084315871476\n"
     ]
    }
   ],
   "source": [
    "# 檢視資料集不良信貸者\n",
    "print(\"有信貸人數\", len(df[(df['loan']==1)]))\n",
    "print(\"有信貸且信用正常人數\", len(df[(df['loan']==1)&(df['loan_status']==1)]))\n",
    "print(\"有信貸但信用不正常人數\", len(df[(df['loan']==1)&(df['loan_status']==0)]))\n",
    "print(\"---------------------------------------------------------------------\")\n",
    "print(\"有信貸且信用正常錄取人數\", len(df[(df['loan']==1)&(df['loan_status']==1)&(df['found_job']==1)]))\n",
    "print(\"有信貸且信用正常但未錄取人數\", len(df[(df['loan']==1)&(df['loan_status']==1)&(df['found_job']==0)]))\n",
    "print(\"有信貸但信用不正常錄取人數\", len(df[(df['loan']==1)&(df['loan_status']==0)&(df['found_job']==1)]))\n",
    "print(\"有信貸但信用不正常且未錄取人數\", len(df[(df['loan']==1)&(df['loan_status']==0)&(df['found_job']==0)]))\n",
    "print(\"---------------------------------------------------------------------\")\n",
    "print(\"未錄取者中信用正常者佔比\", len(df[(df['loan']==1)&(df['loan_status']==1)&(df['found_job']==0)])/len(df[(df['loan']==1)&(df['found_job']==0)]))\n",
    "print(\"未錄取者中信用不正常者佔比\", len(df[(df['loan']==1)&(df['loan_status']==0)&(df['found_job']==0)])/len(df[(df['loan']==1)&(df['found_job']==0)]))"
   ]
  },
  {
   "cell_type": "code",
   "execution_count": 70,
   "metadata": {},
   "outputs": [
    {
     "name": "stdout",
     "output_type": "stream",
     "text": [
      "役畢總人數 399\n",
      "待畢總人數 13\n",
      "錄取者中役畢人數 38\n",
      "錄取者中未畢人數 1\n",
      "未錄取者中役畢人數 361\n",
      "未錄取者中未畢人數 12\n",
      "---------------------------------------------------------\n",
      "錄取者中役畢占比 0.9743589743589743\n",
      "錄取者中未畢占比 0.02564102564102564\n",
      "未錄取者中役畢占比 0.967828418230563\n",
      "未錄取者中未畢占比 0.032171581769437\n"
     ]
    }
   ],
   "source": [
    "# 檢視服役狀況\n",
    "print(\"役畢總人數\", len(data[(data['sex']=='M')&(data['military_status']==1)]))\n",
    "print(\"待畢總人數\", len(data[(data['sex']=='M')&(data['military_status']==0)]))\n",
    "print(\"錄取者中役畢人數\", len(data[(data['sex']=='M')&(data['military_status']==1)&(data['hired_or_not']=='Y')]))\n",
    "print(\"錄取者中未畢人數\", len(data[(data['sex']=='M')&(data['military_status']==0)&(data['hired_or_not']=='Y')]))\n",
    "print(\"未錄取者中役畢人數\", len(data[(data['sex']=='M')&(data['military_status']==1)&(data['hired_or_not']=='N')]))\n",
    "print(\"未錄取者中未畢人數\", len(data[(data['sex']=='M')&(data['military_status']==0)&(data['hired_or_not']=='N')]))\n",
    "print(\"---------------------------------------------------------\")\n",
    "print(\"錄取者中役畢占比\", len(data[(data['sex']=='M')&(data['military_status']==1)&(data['hired_or_not']=='Y')])/len(data[(data['sex']=='M')&(data['hired_or_not']=='Y')]))\n",
    "print(\"錄取者中未畢占比\", len(data[(data['sex']=='M')&(data['military_status']==0)&(data['hired_or_not']=='Y')])/len(data[(data['sex']=='M')&(data['hired_or_not']=='Y')]))\n",
    "print(\"未錄取者中役畢占比\", len(data[(data['sex']=='M')&(data['military_status']==1)&(data['hired_or_not']=='N')])/len(data[(data['sex']=='M')&(data['hired_or_not']=='N')]))\n",
    "print(\"未錄取者中未畢占比\", len(data[(data['sex']=='M')&(data['military_status']==0)&(data['hired_or_not']=='N')])/len(data[(data['sex']=='M')&(data['hired_or_not']=='N')]))"
   ]
  },
  {
   "cell_type": "code",
   "execution_count": 79,
   "metadata": {},
   "outputs": [],
   "source": [
    "# 設定資料集服役情況\n",
    "p_job_miliarty_status, p_no_job_military_status = 0.97435897, 0.96782841\n",
    "\n",
    "df_male = df[df['gender']=='male']\n",
    "df_female = df[df['gender']=='female']\n",
    "\n",
    "df_male.loc[df_male.found_job == 1, 'military_status'] = np.random.choice([1, 0], size=len(df_male.loc[df_male.found_job == 1]), p=[p_job_miliarty_status, 1-p_job_miliarty_status])\n",
    "df_male.loc[df_male.found_job == 0, 'military_status'] = np.random.choice([1, 0], size=len(df_male.loc[df_male.found_job == 0]), p=[p_no_job_military_status, 1-p_no_job_military_status])\n",
    "df_female.loc[:,'military_status'] = 1\n",
    "\n",
    "df = df_male.append(df_female)"
   ]
  },
  {
   "cell_type": "code",
   "execution_count": 84,
   "metadata": {},
   "outputs": [
    {
     "name": "stdout",
     "output_type": "stream",
     "text": [
      "役畢總人數 335508\n",
      "待畢總人數 10978\n",
      "錄取者中役畢人數 31766\n",
      "錄取者中未畢人數 815\n",
      "未錄取者中役畢人數 303742\n",
      "未錄取者中未畢人數 10163\n",
      "---------------------------------------------------------\n",
      "錄取者中役畢占比 0.9749854209508609\n",
      "錄取者中未畢占比 0.02501457904913907\n",
      "未錄取者中役畢占比 0.9676239626638633\n",
      "未錄取者中未畢占比 0.032376037336136726\n"
     ]
    }
   ],
   "source": [
    "# 檢視服役狀況\n",
    "print(\"役畢總人數\", len(df[(df['gender']=='male')&(df['military_status']==1)]))\n",
    "print(\"待畢總人數\", len(df[(df['gender']=='male')&(df['military_status']==0)]))\n",
    "print(\"錄取者中役畢人數\", len(df[(df['gender']=='male')&(df['military_status']==1)&(df['found_job']==1)]))\n",
    "print(\"錄取者中未畢人數\", len(df[(df['gender']=='male')&(df['military_status']==0)&(df['found_job']==1)]))\n",
    "print(\"未錄取者中役畢人數\", len(df[(df['gender']=='male')&(df['military_status']==1)&(df['found_job']==0)]))\n",
    "print(\"未錄取者中未畢人數\", len(df[(df['gender']=='male')&(df['military_status']==0)&(df['found_job']==0)]))\n",
    "print(\"---------------------------------------------------------\")\n",
    "print(\"錄取者中役畢占比\", len(df[(df['gender']=='male')&(df['military_status']==1)&(df['found_job']==1)])/len(df[(df['gender']=='male')&(df['found_job']==1)]))\n",
    "print(\"錄取者中未畢占比\", len(df[(df['gender']=='male')&(df['military_status']==0)&(df['found_job']==1)])/len(df[(df['gender']=='male')&(df['found_job']==1)]))\n",
    "print(\"未錄取者中役畢占比\", len(df[(df['gender']=='male')&(df['military_status']==1)&(df['found_job']==0)])/len(df[(df['gender']=='male')&(df['found_job']==0)]))\n",
    "print(\"未錄取者中未畢占比\", len(df[(df['gender']=='male')&(df['military_status']==0)&(df['found_job']==0)])/len(df[(df['gender']=='male')&(df['found_job']==0)]))"
   ]
  },
  {
   "cell_type": "code",
   "execution_count": 92,
   "metadata": {},
   "outputs": [
    {
     "name": "stdout",
     "output_type": "stream",
     "text": [
      "原住民身分總人數 10\n",
      "錄取者屬原住民身分者 1\n",
      "未錄取者屬原住民身分者 9\n",
      "---------------------------------------------------------\n",
      "錄取者屬原住民身分者占比 0.00980392156862745\n",
      "未錄取者屬原住民身分者占比 0.008287292817679558\n"
     ]
    }
   ],
   "source": [
    "print(\"原住民身分總人數\", len(data[data['aboriginal']==1]))\n",
    "print(\"錄取者屬原住民身分者\", len(data[(data['aboriginal']==1)&(data['hired_or_not']=='Y')]))\n",
    "print(\"未錄取者屬原住民身分者\", len(data[(data['aboriginal']==1)&(data['hired_or_not']=='N')]))\n",
    "print(\"---------------------------------------------------------\")\n",
    "print(\"錄取者屬原住民身分者占比\", len(data[(data['aboriginal']==1)&(data['hired_or_not']=='Y')])/len(data[(data['hired_or_not']=='Y')]))\n",
    "print(\"未錄取者屬原住民身分者占比\", len(data[(data['aboriginal']==1)&(data['hired_or_not']=='N')])/len(data[(data['hired_or_not']=='N')]))"
   ]
  },
  {
   "cell_type": "code",
   "execution_count": 93,
   "metadata": {},
   "outputs": [],
   "source": [
    "# 設定資料集原住民身分\n",
    "p_job_aboriginal, p_no_job_aboriginal = 0.00980392, 0.00828729\n",
    "\n",
    "df.loc[df.found_job == 1, 'aboriginal'] = np.random.choice([1, 0], size=len(df.loc[df.found_job == 1]), p=[p_job_aboriginal, 1-p_job_aboriginal])\n",
    "df.loc[df.found_job == 0, 'aboriginal'] = np.random.choice([1, 0], size=len(df.loc[df.found_job == 0]), p=[p_no_job_aboriginal, 1-p_no_job_aboriginal])"
   ]
  },
  {
   "cell_type": "code",
   "execution_count": 94,
   "metadata": {},
   "outputs": [
    {
     "name": "stdout",
     "output_type": "stream",
     "text": [
      "原住民身分總人數 8442\n",
      "錄取者屬原住民身分者 870\n",
      "未錄取者屬原住民身分者 7572\n",
      "---------------------------------------------------------\n",
      "錄取者屬原住民身分者占比 0.010190217391304348\n",
      "未錄取者屬原住民身分者占比 0.008278811839619342\n"
     ]
    }
   ],
   "source": [
    "print(\"原住民身分總人數\", len(df[df['aboriginal']==1]))\n",
    "print(\"錄取者屬原住民身分者\", len(df[(df['aboriginal']==1)&(df['found_job']==1)]))\n",
    "print(\"未錄取者屬原住民身分者\", len(df[(df['aboriginal']==1)&(df['found_job']==0)]))\n",
    "print(\"---------------------------------------------------------\")\n",
    "print(\"錄取者屬原住民身分者占比\", len(df[(df['aboriginal']==1)&(df['found_job']==1)])/len(df[(df['found_job']==1)]))\n",
    "print(\"未錄取者屬原住民身分者占比\", len(df[(df['aboriginal']==1)&(df['found_job']==0)])/len(df[(df['found_job']==0)]))"
   ]
  },
  {
   "cell_type": "code",
   "execution_count": 107,
   "metadata": {},
   "outputs": [
    {
     "name": "stdout",
     "output_type": "stream",
     "text": [
      "錄取男性bmi平均 23.474358974358978\n",
      "錄取男性bmi標準差 2.583624336054209\n",
      "未錄取男性bmi平均 22.98739946380696\n",
      "未錄取男性bmi標準差 3.2864133706349055\n",
      "---------------------------------------------------------\n",
      "錄取女性bmi平均 19.603174603174608\n",
      "錄取女性bmi標準差 1.7807182543232611\n",
      "未錄取女性bmi平均 20.42272089761572\n",
      "未錄取女性bmi標準差 2.564294567958626\n"
     ]
    }
   ],
   "source": [
    "# 檢視資料集 BMI 分布\n",
    "data.loc[:,'bmi'] = (data['weight'] / (data['height']/100 * data['height']/100)).round(1)\n",
    "print(\"錄取男性bmi平均\", data[(data['sex']=='M')&(data['hired_or_not']=='Y')].bmi.mean())\n",
    "print(\"錄取男性bmi標準差\", data[(data['sex']=='M')&(data['hired_or_not']=='Y')].bmi.std())\n",
    "print(\"未錄取男性bmi平均\", data[(data['sex']=='M')&(data['hired_or_not']=='N')].bmi.mean())\n",
    "print(\"未錄取男性bmi標準差\", data[(data['sex']=='M')&(data['hired_or_not']=='N')].bmi.std())\n",
    "print(\"---------------------------------------------------------\")\n",
    "print(\"錄取女性bmi平均\", data[(data['sex']=='F')&(data['hired_or_not']=='Y')].bmi.mean())\n",
    "print(\"錄取女性bmi標準差\", data[(data['sex']=='F')&(data['hired_or_not']=='Y')].bmi.std())\n",
    "print(\"未錄取女性bmi平均\", data[(data['sex']=='F')&(data['hired_or_not']=='N')].bmi.mean())\n",
    "print(\"未錄取女性bmi標準差\", data[(data['sex']=='F')&(data['hired_or_not']=='N')].bmi.std())"
   ]
  },
  {
   "cell_type": "code",
   "execution_count": null,
   "metadata": {},
   "outputs": [],
   "source": [
    "# 設定資料集BMI分布\n",
    "mu_job_male_bmi, mu_job_female_bmi = 23.47435897, 19.60317460\n",
    "sigma_job_male_bmi, sigma_job_female_bmi = 2.58362433, 1.78071825\n",
    "mu_no_job_male_bmi, mu_no_job_female_bmi = 22.98739946, 20.42272089\n",
    "sigma_no_job_male_bmi, sigma_no_job_female_bmi = 3.28641337, 2.56429456\n",
    "\n",
    "df_male = df[df['gender']=='male']\n",
    "df_female = df[df['gender']=='female']\n",
    "\n",
    "df_male.loc[df_male.found_job == 1, 'age'] = np.floor(np.random.normal(mu_job_male, sigma_job_male, len(df_male.loc[df_male.found_job == 1])))\n",
    "df_male.loc[df_male.found_job == 0, 'age'] = np.floor(np.random.normal(mu_no_job_male, sigma_no_job_male, len(df_male.loc[df_male.found_job == 0])))\n",
    "df_female.loc[df_female.found_job == 1, 'age'] = np.floor(np.random.normal(mu_job_female, sigma_job_female, len(df_female.loc[df_female.found_job == 1])))\n",
    "df_female.loc[df_female.found_job == 0, 'age'] = np.floor(np.random.normal(mu_no_job_female, sigma_no_job_female, len(df_female.loc[df_female.found_job == 0])))\n",
    "\n",
    "df = df_male.append(df_female)\n",
    "df['age'] = df['age'].astype(int)"
   ]
  }
 ],
 "metadata": {
  "kernelspec": {
   "display_name": "Python 3",
   "language": "python",
   "name": "python3"
  },
  "language_info": {
   "codemirror_mode": {
    "name": "ipython",
    "version": 3
   },
   "file_extension": ".py",
   "mimetype": "text/x-python",
   "name": "python",
   "nbconvert_exporter": "python",
   "pygments_lexer": "ipython3",
   "version": "3.7.4"
  }
 },
 "nbformat": 4,
 "nbformat_minor": 2
}
