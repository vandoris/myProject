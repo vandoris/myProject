{
 "cells": [
  {
   "cell_type": "code",
   "execution_count": 1,
   "metadata": {},
   "outputs": [],
   "source": [
    "import pandas as pd\n",
    "import numpy as np\n",
    "import seaborn as sns\n",
    "import matplotlib.pyplot as plt\n",
    "from aif360.datasets import BinaryLabelDataset\n",
    "from aif360.metrics import BinaryLabelDatasetMetric\n",
    "from aif360.metrics import ClassificationMetric\n",
    "from aif360.algorithms.preprocessing import Reweighing\n",
    "from sklearn.preprocessing import StandardScaler\n",
    "from sklearn.linear_model import LogisticRegression\n",
    "from tqdm import tqdm"
   ]
  },
  {
   "cell_type": "code",
   "execution_count": 2,
   "metadata": {},
   "outputs": [
    {
     "data": {
      "text/html": [
       "<div>\n",
       "<style scoped>\n",
       "    .dataframe tbody tr th:only-of-type {\n",
       "        vertical-align: middle;\n",
       "    }\n",
       "\n",
       "    .dataframe tbody tr th {\n",
       "        vertical-align: top;\n",
       "    }\n",
       "\n",
       "    .dataframe thead th {\n",
       "        text-align: right;\n",
       "    }\n",
       "</style>\n",
       "<table border=\"1\" class=\"dataframe\">\n",
       "  <thead>\n",
       "    <tr style=\"text-align: right;\">\n",
       "      <th></th>\n",
       "      <th>id</th>\n",
       "      <th>sex</th>\n",
       "      <th>apply_age</th>\n",
       "      <th>marriage</th>\n",
       "      <th>highest_education</th>\n",
       "      <th>highest_graduation</th>\n",
       "      <th>loan</th>\n",
       "      <th>loan_status</th>\n",
       "      <th>military_status</th>\n",
       "      <th>aboriginal</th>\n",
       "      <th>height</th>\n",
       "      <th>weight</th>\n",
       "      <th>nationality</th>\n",
       "      <th>highest_school_level</th>\n",
       "      <th>english_level</th>\n",
       "      <th>hired_or_not</th>\n",
       "      <th>relabel_check</th>\n",
       "    </tr>\n",
       "  </thead>\n",
       "  <tbody>\n",
       "    <tr>\n",
       "      <td>0</td>\n",
       "      <td>R224211691</td>\n",
       "      <td>F</td>\n",
       "      <td>24</td>\n",
       "      <td>0</td>\n",
       "      <td>B</td>\n",
       "      <td>Y</td>\n",
       "      <td>0</td>\n",
       "      <td>1</td>\n",
       "      <td>1</td>\n",
       "      <td>0</td>\n",
       "      <td>162</td>\n",
       "      <td>60</td>\n",
       "      <td>1</td>\n",
       "      <td>3</td>\n",
       "      <td>2.0</td>\n",
       "      <td>N</td>\n",
       "      <td>N</td>\n",
       "    </tr>\n",
       "    <tr>\n",
       "      <td>1</td>\n",
       "      <td>R223936966</td>\n",
       "      <td>F</td>\n",
       "      <td>28</td>\n",
       "      <td>0</td>\n",
       "      <td>B</td>\n",
       "      <td>Y</td>\n",
       "      <td>1</td>\n",
       "      <td>1</td>\n",
       "      <td>1</td>\n",
       "      <td>0</td>\n",
       "      <td>158</td>\n",
       "      <td>52</td>\n",
       "      <td>1</td>\n",
       "      <td>2</td>\n",
       "      <td>2.0</td>\n",
       "      <td>N</td>\n",
       "      <td>N</td>\n",
       "    </tr>\n",
       "    <tr>\n",
       "      <td>2</td>\n",
       "      <td>F228161684</td>\n",
       "      <td>F</td>\n",
       "      <td>24</td>\n",
       "      <td>0</td>\n",
       "      <td>B</td>\n",
       "      <td>Y</td>\n",
       "      <td>1</td>\n",
       "      <td>1</td>\n",
       "      <td>1</td>\n",
       "      <td>0</td>\n",
       "      <td>164</td>\n",
       "      <td>70</td>\n",
       "      <td>1</td>\n",
       "      <td>3</td>\n",
       "      <td>2.0</td>\n",
       "      <td>N</td>\n",
       "      <td>N</td>\n",
       "    </tr>\n",
       "    <tr>\n",
       "      <td>3</td>\n",
       "      <td>O200443001</td>\n",
       "      <td>F</td>\n",
       "      <td>21</td>\n",
       "      <td>0</td>\n",
       "      <td>B</td>\n",
       "      <td>Y</td>\n",
       "      <td>0</td>\n",
       "      <td>1</td>\n",
       "      <td>1</td>\n",
       "      <td>0</td>\n",
       "      <td>152</td>\n",
       "      <td>41</td>\n",
       "      <td>1</td>\n",
       "      <td>5</td>\n",
       "      <td>2.0</td>\n",
       "      <td>N</td>\n",
       "      <td>N</td>\n",
       "    </tr>\n",
       "    <tr>\n",
       "      <td>4</td>\n",
       "      <td>N225966272</td>\n",
       "      <td>F</td>\n",
       "      <td>22</td>\n",
       "      <td>0</td>\n",
       "      <td>B</td>\n",
       "      <td>I</td>\n",
       "      <td>0</td>\n",
       "      <td>1</td>\n",
       "      <td>1</td>\n",
       "      <td>0</td>\n",
       "      <td>155</td>\n",
       "      <td>45</td>\n",
       "      <td>1</td>\n",
       "      <td>6</td>\n",
       "      <td>3.0</td>\n",
       "      <td>N</td>\n",
       "      <td>N</td>\n",
       "    </tr>\n",
       "  </tbody>\n",
       "</table>\n",
       "</div>"
      ],
      "text/plain": [
       "           id sex  apply_age  marriage highest_education highest_graduation  \\\n",
       "0  R224211691   F         24         0                 B                  Y   \n",
       "1  R223936966   F         28         0                 B                  Y   \n",
       "2  F228161684   F         24         0                 B                  Y   \n",
       "3  O200443001   F         21         0                 B                  Y   \n",
       "4  N225966272   F         22         0                 B                  I   \n",
       "\n",
       "   loan  loan_status  military_status  aboriginal  height  weight  \\\n",
       "0     0            1                1           0     162      60   \n",
       "1     1            1                1           0     158      52   \n",
       "2     1            1                1           0     164      70   \n",
       "3     0            1                1           0     152      41   \n",
       "4     0            1                1           0     155      45   \n",
       "\n",
       "   nationality highest_school_level  english_level hired_or_not relabel_check  \n",
       "0            1                    3            2.0            N             N  \n",
       "1            1                    2            2.0            N             N  \n",
       "2            1                    3            2.0            N             N  \n",
       "3            1                    5            2.0            N             N  \n",
       "4            1                    6            3.0            N             N  "
      ]
     },
     "execution_count": 2,
     "metadata": {},
     "output_type": "execute_result"
    }
   ],
   "source": [
    "data = pd.read_excel('C:/Users/Administrator/paper/108_recruit_train.xlsx')\n",
    "data = data[data['highest_school_level']!='F']\n",
    "data = data.drop(['interview','second_interview','relabel'], axis=1)\n",
    "data.head()"
   ]
  },
  {
   "cell_type": "code",
   "execution_count": 3,
   "metadata": {},
   "outputs": [
    {
     "name": "stdout",
     "output_type": "stream",
     "text": [
      "<class 'pandas.core.frame.DataFrame'>\n",
      "Int64Index: 1188 entries, 0 to 1201\n",
      "Data columns (total 17 columns):\n",
      "id                      1188 non-null object\n",
      "sex                     1188 non-null object\n",
      "apply_age               1188 non-null int64\n",
      "marriage                1188 non-null int64\n",
      "highest_education       1188 non-null object\n",
      "highest_graduation      1188 non-null object\n",
      "loan                    1188 non-null int64\n",
      "loan_status             1188 non-null int64\n",
      "military_status         1188 non-null int64\n",
      "aboriginal              1188 non-null int64\n",
      "height                  1188 non-null int64\n",
      "weight                  1188 non-null int64\n",
      "nationality             1188 non-null int64\n",
      "highest_school_level    1188 non-null object\n",
      "english_level           1188 non-null float64\n",
      "hired_or_not            1188 non-null object\n",
      "relabel_check           1188 non-null object\n",
      "dtypes: float64(1), int64(9), object(7)\n",
      "memory usage: 167.1+ KB\n"
     ]
    }
   ],
   "source": [
    "data.info()"
   ]
  },
  {
   "cell_type": "code",
   "execution_count": 4,
   "metadata": {},
   "outputs": [
    {
     "name": "stdout",
     "output_type": "stream",
     "text": [
      "應徵總人數 1188\n",
      "男性應徵人數 412\n",
      "男性錄取人數 39\n",
      "男性錄取率 0.09466019417475728\n",
      "女性應徵人數 776\n",
      "女性錄取人數 63\n",
      "女性錄取率 0.08118556701030928\n",
      "男性應徵人數占比 0.3468013468013468\n",
      "女性應徵人數占比 0.6531986531986532\n"
     ]
    }
   ],
   "source": [
    "print(\"應徵總人數\", len(data))\n",
    "print(\"男性應徵人數\", len(data[data['sex']=='M']))\n",
    "print(\"男性錄取人數\", len(data[(data['sex']=='M') & (data['hired_or_not']=='Y')]))\n",
    "print(\"男性錄取率\", len(data[(data['sex']=='M') & (data['hired_or_not']=='Y')])/len(data[data['sex']=='M']))\n",
    "print(\"女性應徵人數\", len(data[data['sex']=='F']))\n",
    "print(\"女性錄取人數\", len(data[(data['sex']=='F') & (data['hired_or_not']=='Y')]))\n",
    "print(\"女性錄取率\", len(data[(data['sex']=='F') & (data['hired_or_not']=='Y')])/len(data[data['sex']=='F']))\n",
    "print(\"男性應徵人數占比\",len(data[data['sex']=='M'])/len(data))\n",
    "print(\"女性應徵人數占比\",len(data[data['sex']=='F'])/len(data))"
   ]
  },
  {
   "cell_type": "code",
   "execution_count": 5,
   "metadata": {},
   "outputs": [],
   "source": [
    "# 設定資料集男女比及應徵錄取比\n",
    "n_pop = 1000000\n",
    "p_male = 0.3468\n",
    "p_job_male, p_job_female = 0.0946, 0.0812\n",
    "\n",
    "gender = np.random.choice(['male', 'female'], size=n_pop, p=[p_male, 1 - p_male])\n",
    "df = pd.DataFrame({'gender' : gender})\n",
    "df.loc[df.gender == 'male', 'found_job'] = np.random.choice([1, 0], size=len(df.loc[df.gender == 'male']), p=[p_job_male, 1 - p_job_male])\n",
    "df.loc[df.gender == 'female', 'found_job'] = np.random.choice([1, 0], size=len(df.loc[df.gender == 'female']), p=[p_job_female, 1 - p_job_female])\n",
    "df['found_job'] = df['found_job'].astype(int)"
   ]
  },
  {
   "cell_type": "code",
   "execution_count": 6,
   "metadata": {},
   "outputs": [
    {
     "name": "stdout",
     "output_type": "stream",
     "text": [
      "男性應徵人數 346758\n",
      "男性錄取人數 32872\n",
      "男性錄取率 0.09479810126947323\n",
      "女性應徵人數 653242\n",
      "女性錄取人數 52753\n",
      "女性錄取率 0.0807556770691413\n",
      "男性應徵人數占比 0.346758\n",
      "女性應徵人數占比 0.653242\n"
     ]
    }
   ],
   "source": [
    "# 檢視資料集\n",
    "print(\"男性應徵人數\", len(df[df['gender']=='male']))\n",
    "print(\"男性錄取人數\", len(df[(df['gender']=='male') & (df['found_job']==1)]))\n",
    "print(\"男性錄取率\", len(df[(df['gender']=='male') & (df['found_job']==1)])/len(df[df['gender']=='male']))\n",
    "print(\"女性應徵人數\", len(df[df['gender']=='female']))\n",
    "print(\"女性錄取人數\", len(df[(df['gender']=='female') & (df['found_job']==1)]))\n",
    "print(\"女性錄取率\", len(df[(df['gender']=='female') & (df['found_job']==1)])/len(df[df['gender']=='female']))\n",
    "print(\"男性應徵人數占比\",len(df[df['gender']=='male'])/len(df))\n",
    "print(\"女性應徵人數占比\",len(df[df['gender']=='female'])/len(df))"
   ]
  },
  {
   "cell_type": "code",
   "execution_count": 7,
   "metadata": {},
   "outputs": [
    {
     "data": {
      "text/html": [
       "<div>\n",
       "<style scoped>\n",
       "    .dataframe tbody tr th:only-of-type {\n",
       "        vertical-align: middle;\n",
       "    }\n",
       "\n",
       "    .dataframe tbody tr th {\n",
       "        vertical-align: top;\n",
       "    }\n",
       "\n",
       "    .dataframe thead th {\n",
       "        text-align: right;\n",
       "    }\n",
       "</style>\n",
       "<table border=\"1\" class=\"dataframe\">\n",
       "  <thead>\n",
       "    <tr style=\"text-align: right;\">\n",
       "      <th>found_job</th>\n",
       "      <th>0</th>\n",
       "      <th>1</th>\n",
       "    </tr>\n",
       "    <tr>\n",
       "      <th>gender</th>\n",
       "      <th></th>\n",
       "      <th></th>\n",
       "    </tr>\n",
       "  </thead>\n",
       "  <tbody>\n",
       "    <tr>\n",
       "      <td>female</td>\n",
       "      <td>600489</td>\n",
       "      <td>52753</td>\n",
       "    </tr>\n",
       "    <tr>\n",
       "      <td>male</td>\n",
       "      <td>313886</td>\n",
       "      <td>32872</td>\n",
       "    </tr>\n",
       "  </tbody>\n",
       "</table>\n",
       "</div>"
      ],
      "text/plain": [
       "found_job       0      1\n",
       "gender                  \n",
       "female     600489  52753\n",
       "male       313886  32872"
      ]
     },
     "execution_count": 7,
     "metadata": {},
     "output_type": "execute_result"
    }
   ],
   "source": [
    "df.pivot_table(index='gender', columns='found_job', aggfunc='size')"
   ]
  },
  {
   "cell_type": "code",
   "execution_count": 8,
   "metadata": {},
   "outputs": [
    {
     "name": "stdout",
     "output_type": "stream",
     "text": [
      "男性錄取年齡平均 26.53846153846154\n",
      "男性錄取年齡標準差 3.3938501180048863\n",
      "男性未錄取年齡平均 27.396782841823057\n",
      "男性未錄取年齡標準差 4.783842693106973\n",
      "---------------------------------------------------------------------\n",
      "女性錄取年齡平均 25.26984126984127\n",
      "女性錄取年齡標準差 2.806710560059008\n",
      "女性未錄取年齡平均 26.517531556802243\n",
      "女性未錄取年齡標準差 4.669111814273186\n"
     ]
    }
   ],
   "source": [
    "print(\"男性錄取年齡平均\", data[(data['sex']=='M') & (data['hired_or_not']=='Y')].apply_age.mean())\n",
    "print(\"男性錄取年齡標準差\", data[(data['sex']=='M') & (data['hired_or_not']=='Y')].apply_age.std())\n",
    "print(\"男性未錄取年齡平均\", data[(data['sex']=='M') & (data['hired_or_not']=='N')].apply_age.mean())\n",
    "print(\"男性未錄取年齡標準差\", data[(data['sex']=='M') & (data['hired_or_not']=='N')].apply_age.std())\n",
    "print(\"---------------------------------------------------------------------\")\n",
    "print(\"女性錄取年齡平均\", data[(data['sex']=='F') & (data['hired_or_not']=='Y')].apply_age.mean())\n",
    "print(\"女性錄取年齡標準差\", data[(data['sex']=='F') & (data['hired_or_not']=='Y')].apply_age.std())\n",
    "print(\"女性未錄取年齡平均\", data[(data['sex']=='F') & (data['hired_or_not']=='N')].apply_age.mean())\n",
    "print(\"女性未錄取年齡標準差\", data[(data['sex']=='F') & (data['hired_or_not']=='N')].apply_age.std())"
   ]
  },
  {
   "cell_type": "code",
   "execution_count": 10,
   "metadata": {},
   "outputs": [],
   "source": [
    "# 設定資料集年齡分布(待採樣)\n",
    "mu_job_male, sigma_job_male = 26.5385, 3.3939\n",
    "mu_no_job_male, sigma_no_job_male = 27.3968, 4.7838\n",
    "\n",
    "mu_job_female, sigma_job_female = 25.2698, 2.8067\n",
    "mu_no_job_female, sigma_no_job_female = 26.5175, 4.6691\n",
    "\n",
    "df_male = df[df['gender']=='male']\n",
    "df_female = df[df['gender']=='female']\n",
    "\n",
    "df_male.loc[df_male.found_job == 1, 'age'] = np.floor(np.random.normal(mu_job_male, sigma_job_male, len(df_male.loc[df_male.found_job == 1])))\n",
    "df_male.loc[df_male.found_job == 0, 'age'] = np.floor(np.random.normal(mu_no_job_male, sigma_no_job_male, len(df_male.loc[df_male.found_job == 0])))\n",
    "df_female.loc[df_female.found_job == 1, 'age'] = np.floor(np.random.normal(mu_job_female, sigma_job_female, len(df_female.loc[df_female.found_job == 1])))\n",
    "df_female.loc[df_female.found_job == 0, 'age'] = np.floor(np.random.normal(mu_no_job_female, sigma_no_job_female, len(df_female.loc[df_female.found_job == 0])))\n",
    "\n",
    "df = df_male.append(df_female)\n",
    "df['age'] = df['age'].astype(int)"
   ]
  },
  {
   "cell_type": "code",
   "execution_count": 11,
   "metadata": {},
   "outputs": [
    {
     "name": "stdout",
     "output_type": "stream",
     "text": [
      "男性錄取年齡平均 26.0462703820881\n",
      "男性錄取年齡標準差 3.418595401987765\n",
      "男性未錄取年齡平均 26.877117807101943\n",
      "男性未錄取年齡標準差 4.796142509813993\n",
      "---------------------------------------------------------------------\n",
      "女性錄取年齡平均 24.781434231228555\n",
      "女性錄取年齡標準差 2.812747265058157\n",
      "女性未錄取年齡平均 26.024771477912168\n",
      "女性未錄取年齡標準差 4.678254682334784\n"
     ]
    }
   ],
   "source": [
    "print(\"男性錄取年齡平均\", df[(df['gender']=='male') & (df['found_job']==1)].age.mean())\n",
    "print(\"男性錄取年齡標準差\", df[(df['gender']=='male') & (df['found_job']==1)].age.std())\n",
    "print(\"男性未錄取年齡平均\", df[(df['gender']=='male') & (df['found_job']==0)].age.mean())\n",
    "print(\"男性未錄取年齡標準差\", df[(df['gender']=='male') & (df['found_job']==0)].age.std())\n",
    "print(\"---------------------------------------------------------------------\")\n",
    "print(\"女性錄取年齡平均\", df[(df['gender']=='female') & (df['found_job']==1)].age.mean())\n",
    "print(\"女性錄取年齡標準差\", df[(df['gender']=='female') & (df['found_job']==1)].age.std())\n",
    "print(\"女性未錄取年齡平均\", df[(df['gender']=='female') & (df['found_job']==0)].age.mean())\n",
    "print(\"女性未錄取年齡標準差\", df[(df['gender']=='female') & (df['found_job']==0)].age.std())"
   ]
  },
  {
   "cell_type": "code",
   "execution_count": 12,
   "metadata": {},
   "outputs": [
    {
     "data": {
      "text/html": [
       "<div>\n",
       "<style scoped>\n",
       "    .dataframe tbody tr th:only-of-type {\n",
       "        vertical-align: middle;\n",
       "    }\n",
       "\n",
       "    .dataframe tbody tr th {\n",
       "        vertical-align: top;\n",
       "    }\n",
       "\n",
       "    .dataframe thead th {\n",
       "        text-align: right;\n",
       "    }\n",
       "</style>\n",
       "<table border=\"1\" class=\"dataframe\">\n",
       "  <thead>\n",
       "    <tr style=\"text-align: right;\">\n",
       "      <th></th>\n",
       "      <th>age</th>\n",
       "    </tr>\n",
       "    <tr>\n",
       "      <th>found_job</th>\n",
       "      <th></th>\n",
       "    </tr>\n",
       "  </thead>\n",
       "  <tbody>\n",
       "    <tr>\n",
       "      <td>0</td>\n",
       "      <td>26.3</td>\n",
       "    </tr>\n",
       "    <tr>\n",
       "      <td>1</td>\n",
       "      <td>25.3</td>\n",
       "    </tr>\n",
       "  </tbody>\n",
       "</table>\n",
       "</div>"
      ],
      "text/plain": [
       "            age\n",
       "found_job      \n",
       "0          26.3\n",
       "1          25.3"
      ]
     },
     "execution_count": 12,
     "metadata": {},
     "output_type": "execute_result"
    }
   ],
   "source": [
    "df.groupby('found_job').mean().round(1)"
   ]
  },
  {
   "cell_type": "code",
   "execution_count": 13,
   "metadata": {},
   "outputs": [
    {
     "name": "stdout",
     "output_type": "stream",
     "text": [
      "學士人數 1024\n",
      "碩士人數 162\n",
      "博士人數 2\n",
      "---------------------------------------------------------------------\n",
      "學士錄取人數 87\n",
      "碩士錄取人數 15\n",
      "博士錄取人數 0\n",
      "總錄取人數 102\n",
      "---------------------------------------------------------------------\n",
      "學士錄取率 0.8529411764705882\n",
      "碩士錄取率 0.14705882352941177\n",
      "博士錄取率 0.0\n",
      "---------------------------------------------------------------------\n",
      "學士不錄取率 0.8627992633517495\n",
      "碩士不錄取率 0.13535911602209943\n",
      "博士不錄取率 0.001841620626151013\n"
     ]
    }
   ],
   "source": [
    "# 設定資料集學歷分布(待採樣)\n",
    "print(\"學士人數\", len(data[data['highest_education']=='B']))\n",
    "print(\"碩士人數\", len(data[data['highest_education']=='M']))\n",
    "print(\"博士人數\", len(data[data['highest_education']=='D']))\n",
    "print(\"---------------------------------------------------------------------\")\n",
    "print(\"學士錄取人數\", len(data[(data['highest_education']=='B') & (data['hired_or_not']=='Y')]))\n",
    "print(\"碩士錄取人數\", len(data[(data['highest_education']=='M') & (data['hired_or_not']=='Y')]))\n",
    "print(\"博士錄取人數\", len(data[(data['highest_education']=='D') & (data['hired_or_not']=='Y')]))\n",
    "print(\"總錄取人數\", len(data[data['hired_or_not']=='Y']))\n",
    "print(\"---------------------------------------------------------------------\")\n",
    "print(\"學士錄取率\", len(data[(data['highest_education']=='B') & (data['hired_or_not']=='Y')])/len(data[data['hired_or_not']=='Y']))\n",
    "print(\"碩士錄取率\", len(data[(data['highest_education']=='M') & (data['hired_or_not']=='Y')])/len(data[data['hired_or_not']=='Y']))\n",
    "print(\"博士錄取率\", len(data[(data['highest_education']=='D') & (data['hired_or_not']=='Y')])/len(data[data['hired_or_not']=='Y']))\n",
    "print(\"---------------------------------------------------------------------\")\n",
    "print(\"學士不錄取率\", len(data[(data['highest_education']=='B') & (data['hired_or_not']=='N')])/len(data[data['hired_or_not']=='N']))\n",
    "print(\"碩士不錄取率\", len(data[(data['highest_education']=='M') & (data['hired_or_not']=='N')])/len(data[data['hired_or_not']=='N']))\n",
    "print(\"博士不錄取率\", len(data[(data['highest_education']=='D') & (data['hired_or_not']=='N')])/len(data[data['hired_or_not']=='N']))"
   ]
  },
  {
   "cell_type": "code",
   "execution_count": 14,
   "metadata": {},
   "outputs": [],
   "source": [
    "educ_class_set = ['B', 'M', 'D']\n",
    "educ_class_wt_job = [0.8529, 0.1471, 0]\n",
    "educ_class_wt_no_job = [0.8628, 0.1354, 0.0018]\n",
    "\n",
    "df.loc[df.found_job == 1, 'educ_class'] = np.random.choice(educ_class_set, size=len(df.loc[df.found_job == 1]), p=educ_class_wt_job)\n",
    "df.loc[df.found_job == 0, 'educ_class'] = np.random.choice(educ_class_set, size=len(df.loc[df.found_job == 0]), p=educ_class_wt_no_job)"
   ]
  },
  {
   "cell_type": "code",
   "execution_count": 15,
   "metadata": {},
   "outputs": [
    {
     "name": "stdout",
     "output_type": "stream",
     "text": [
      "學士人數 862565\n",
      "碩士人數 135827\n",
      "博士人數 1608\n",
      "---------------------------------------------------------------------\n",
      "學士錄取人數 73052\n",
      "碩士錄取人數 12573\n",
      "博士錄取人數 0\n",
      "總錄取人數 85625\n",
      "---------------------------------------------------------------------\n",
      "學士錄取率 0.8531620437956204\n",
      "碩士錄取率 0.14683795620437956\n",
      "博士錄取率 0.0\n",
      "---------------------------------------------------------------------\n",
      "學士不錄取率 0.8634455228981545\n",
      "碩士不錄取率 0.1347958988380041\n",
      "博士不錄取率 0.0017585782638414218\n"
     ]
    }
   ],
   "source": [
    "# 檢視資料集學歷分布\n",
    "print(\"學士人數\", len(df[df['educ_class']=='B']))\n",
    "print(\"碩士人數\", len(df[df['educ_class']=='M']))\n",
    "print(\"博士人數\", len(df[df['educ_class']=='D']))\n",
    "print(\"---------------------------------------------------------------------\")\n",
    "print(\"學士錄取人數\", len(df[(df['educ_class']=='B') & (df['found_job']==1)]))\n",
    "print(\"碩士錄取人數\", len(df[(df['educ_class']=='M') & (df['found_job']==1)]))\n",
    "print(\"博士錄取人數\", len(df[(df['educ_class']=='D') & (df['found_job']==1)]))\n",
    "print(\"總錄取人數\", len(df[df['found_job']==1]))\n",
    "print(\"---------------------------------------------------------------------\")\n",
    "print(\"學士錄取率\", len(df[(df['educ_class']=='B') & (df['found_job']==1)])/len(df[df['found_job']==1]))\n",
    "print(\"碩士錄取率\", len(df[(df['educ_class']=='M') & (df['found_job']==1)])/len(df[df['found_job']==1]))\n",
    "print(\"博士錄取率\", len(df[(df['educ_class']=='D') & (df['found_job']==1)])/len(df[df['found_job']==1]))\n",
    "print(\"---------------------------------------------------------------------\")\n",
    "print(\"學士不錄取率\", len(df[(df['educ_class']=='B') & (df['found_job']==0)])/len(df[df['found_job']==0]))\n",
    "print(\"碩士不錄取率\", len(df[(df['educ_class']=='M') & (df['found_job']==0)])/len(df[df['found_job']==0]))\n",
    "print(\"博士不錄取率\", len(df[(df['educ_class']=='D') & (df['found_job']==0)])/len(df[df['found_job']==0]))"
   ]
  },
  {
   "cell_type": "code",
   "execution_count": 16,
   "metadata": {},
   "outputs": [
    {
     "name": "stdout",
     "output_type": "stream",
     "text": [
      "女性應徵總人數 776\n",
      "女性已婚總人數 95\n",
      "女性未婚總人數 681\n",
      "已錄取女性已婚人數 3\n",
      "女性錄取者已婚比例 0.047619047619047616\n",
      "未錄取女性已婚人數 92\n",
      "女性未錄取者已婚比例 0.12903225806451613\n",
      "---------------------------------------------------------------------\n",
      "男性應徵總人數 412\n",
      "男性已婚總人數 31\n",
      "男性未婚總人數 381\n",
      "已錄取男性已婚人數 5\n",
      "男性錄取者已婚比例 0.1282051282051282\n",
      "未錄取男性已婚人數 26\n",
      "男性未錄取者已婚比例 0.06970509383378017\n",
      "---------------------------------------------------------------------\n",
      "已婚女性錄取率 0.031578947368421054\n",
      "未婚女性錄取率 0.0881057268722467\n",
      "已婚男性錄取率 0.16129032258064516\n",
      "未婚男性錄取率 0.08923884514435695\n"
     ]
    }
   ],
   "source": [
    "# 設定婚姻狀況資料分布(待採樣)\n",
    "print(\"女性應徵總人數\", len(data[data['sex']=='F']))\n",
    "print(\"女性已婚總人數\", len(data[(data['sex']=='F')&(data['marriage']==1)]))\n",
    "print(\"女性未婚總人數\", len(data[(data['sex']=='F')&(data['marriage']==0)]))\n",
    "print(\"已錄取女性已婚人數\", len(data[(data['sex']=='F')&(data['marriage']==1)&(data['hired_or_not']=='Y')]))\n",
    "print(\"女性錄取者已婚比例\", len(data[(data['sex']=='F')&(data['marriage']==1)&(data['hired_or_not']=='Y')])/len(data[(data['sex']=='F')&(data['hired_or_not']=='Y')]))\n",
    "print(\"未錄取女性已婚人數\", len(data[(data['sex']=='F')&(data['marriage']==1)&(data['hired_or_not']=='N')]))\n",
    "print(\"女性未錄取者已婚比例\", len(data[(data['sex']=='F')&(data['marriage']==1)&(data['hired_or_not']=='N')])/len(data[(data['sex']=='F')&(data['hired_or_not']=='N')]))\n",
    "print(\"---------------------------------------------------------------------\")\n",
    "print(\"男性應徵總人數\", len(data[data['sex']=='M']))\n",
    "print(\"男性已婚總人數\", len(data[(data['sex']=='M')&(data['marriage']==1)]))\n",
    "print(\"男性未婚總人數\", len(data[(data['sex']=='M')&(data['marriage']==0)]))\n",
    "print(\"已錄取男性已婚人數\", len(data[(data['sex']=='M')&(data['marriage']==1)&(data['hired_or_not']=='Y')]))\n",
    "print(\"男性錄取者已婚比例\", len(data[(data['sex']=='M')&(data['marriage']==1)&(data['hired_or_not']=='Y')])/len(data[(data['sex']=='M')&(data['hired_or_not']=='Y')]))\n",
    "print(\"未錄取男性已婚人數\", len(data[(data['sex']=='M')&(data['marriage']==1)&(data['hired_or_not']=='N')]))\n",
    "print(\"男性未錄取者已婚比例\", len(data[(data['sex']=='M')&(data['marriage']==1)&(data['hired_or_not']=='N')])/len(data[(data['sex']=='M')&(data['hired_or_not']=='N')]))\n",
    "print(\"---------------------------------------------------------------------\")\n",
    "print(\"已婚女性錄取率\", len(data[(data['sex']=='F')&(data['marriage']==1)&(data['hired_or_not']=='Y')])/len(data[(data['sex']=='F')&(data['marriage']==1)]))\n",
    "print(\"未婚女性錄取率\", len(data[(data['sex']=='F')&(data['marriage']==0)&(data['hired_or_not']=='Y')])/len(data[(data['sex']=='F')&(data['marriage']==0)]))\n",
    "print(\"已婚男性錄取率\", len(data[(data['sex']=='M')&(data['marriage']==1)&(data['hired_or_not']=='Y')])/len(data[(data['sex']=='M')&(data['marriage']==1)]))\n",
    "print(\"未婚男性錄取率\", len(data[(data['sex']=='M')&(data['marriage']==0)&(data['hired_or_not']=='Y')])/len(data[(data['sex']=='M')&(data['marriage']==0)]))"
   ]
  },
  {
   "cell_type": "code",
   "execution_count": 17,
   "metadata": {},
   "outputs": [],
   "source": [
    "# 設定男女婚姻狀況分布\n",
    "# 男性錄取者已婚比例, 男性未錄取者已婚比例\n",
    "p_job_male_marriage, p_no_job_male_marriage = 0.12820512, 0.06970509\n",
    "# 女性錄取者已婚比例, 女性未錄取者已婚比例\n",
    "p_job_female_marriage, p_no_job_female_marriage = 0.04761904, 0.12903225\n",
    "\n",
    "df_male = df[df['gender']=='male']\n",
    "df_female = df[df['gender']=='female']\n",
    "\n",
    "df_male.loc[df_male.found_job == 1, 'marriage'] = np.random.choice(['Y', 'N'], size=len(df_male.loc[df_male.found_job == 1]), p=[p_job_male_marriage, 1 - p_job_male_marriage])\n",
    "df_male.loc[df_male.found_job == 0, 'marriage'] = np.random.choice(['Y', 'N'], size=len(df_male.loc[df_male.found_job == 0]), p=[p_no_job_male_marriage, 1 - p_no_job_male_marriage])\n",
    "df_female.loc[df_female.found_job == 1, 'marriage'] = np.random.choice(['Y', 'N'], size=len(df_female.loc[df_female.found_job == 1]), p=[p_job_female_marriage, 1 - p_job_female_marriage])\n",
    "df_female.loc[df_female.found_job == 0, 'marriage'] = np.random.choice(['Y', 'N'], size=len(df_female.loc[df_female.found_job == 0]), p=[p_no_job_female_marriage, 1 - p_no_job_female_marriage])\n",
    "\n",
    "df = df_male.append(df_female)"
   ]
  },
  {
   "cell_type": "code",
   "execution_count": 18,
   "metadata": {},
   "outputs": [
    {
     "name": "stdout",
     "output_type": "stream",
     "text": [
      "女性應徵總人數 653242\n",
      "女性已婚總人數 80257\n",
      "女性未婚總人數 572985\n",
      "已錄取女性已婚人數 2463\n",
      "女性錄取者已婚比例 0.04668928781301537\n",
      "未錄取女性已婚人數 77794\n",
      "女性未錄取者已婚比例 0.12955108253440112\n",
      "---------------------------------------------------------------------\n",
      "男性應徵總人數 346758\n",
      "男性已婚總人數 26271\n",
      "男性未婚總人數 320487\n",
      "已錄取男性已婚人數 4310\n",
      "男性錄取者已婚比例 0.13111462642978827\n",
      "未錄取男性已婚人數 21961\n",
      "男性未錄取者已婚比例 0.06996489171227771\n",
      "---------------------------------------------------------------------\n",
      "已婚女性錄取率 0.03068891187061565\n",
      "未婚女性錄取率 0.08776844070961717\n",
      "已婚男性錄取率 0.16405922880743024\n",
      "未婚男性錄取率 0.08912061955711152\n"
     ]
    }
   ],
   "source": [
    "# 設定婚姻狀況資料分布\n",
    "print(\"女性應徵總人數\", len(df[df['gender']=='female']))\n",
    "print(\"女性已婚總人數\", len(df[(df['gender']=='female')&(df['marriage']=='Y')]))\n",
    "print(\"女性未婚總人數\", len(df[(df['gender']=='female')&(df['marriage']=='N')]))\n",
    "print(\"已錄取女性已婚人數\", len(df[(df['gender']=='female')&(df['marriage']=='Y')&(df['found_job']==1)]))\n",
    "print(\"女性錄取者已婚比例\", len(df[(df['gender']=='female')&(df['marriage']=='Y')&(df['found_job']==1)])/len(df[(df['gender']=='female')&(df['found_job']==1)]))\n",
    "print(\"未錄取女性已婚人數\", len(df[(df['gender']=='female')&(df['marriage']=='Y')&(df['found_job']==0)]))\n",
    "print(\"女性未錄取者已婚比例\", len(df[(df['gender']=='female')&(df['marriage']=='Y')&(df['found_job']==0)])/len(df[(df['gender']=='female')&(df['found_job']==0)]))\n",
    "print(\"---------------------------------------------------------------------\")\n",
    "print(\"男性應徵總人數\", len(df[df['gender']=='male']))\n",
    "print(\"男性已婚總人數\", len(df[(df['gender']=='male')&(df['marriage']=='Y')]))\n",
    "print(\"男性未婚總人數\", len(df[(df['gender']=='male')&(df['marriage']=='N')]))\n",
    "print(\"已錄取男性已婚人數\", len(df[(df['gender']=='male')&(df['marriage']=='Y')&(df['found_job']==1)]))\n",
    "print(\"男性錄取者已婚比例\", len(df[(df['gender']=='male')&(df['marriage']=='Y')&(df['found_job']==1)])/len(df[(df['gender']=='male')&(df['found_job']==1)]))\n",
    "print(\"未錄取男性已婚人數\", len(df[(df['gender']=='male')&(df['marriage']=='Y')&(df['found_job']==0)]))\n",
    "print(\"男性未錄取者已婚比例\", len(df[(df['gender']=='male')&(df['marriage']=='Y')&(df['found_job']==0)])/len(df[(df['gender']=='male')&(df['found_job']==0)]))\n",
    "print(\"---------------------------------------------------------------------\")\n",
    "print(\"已婚女性錄取率\", len(df[(df['gender']=='female')&(df['marriage']=='Y')&(df['found_job']==1)])/len(df[(df['gender']=='female')&(df['marriage']=='Y')]))\n",
    "print(\"未婚女性錄取率\", len(df[(df['gender']=='female')&(df['marriage']=='N')&(df['found_job']==1)])/len(df[(df['gender']=='female')&(df['marriage']=='N')]))\n",
    "print(\"已婚男性錄取率\", len(df[(df['gender']=='male')&(df['marriage']=='Y')&(df['found_job']==1)])/len(df[(df['gender']=='male')&(df['marriage']=='Y')]))\n",
    "print(\"未婚男性錄取率\", len(df[(df['gender']=='male')&(df['marriage']=='N')&(df['found_job']==1)])/len(df[(df['gender']=='male')&(df['marriage']=='N')]))"
   ]
  },
  {
   "cell_type": "code",
   "execution_count": 19,
   "metadata": {},
   "outputs": [
    {
     "name": "stdout",
     "output_type": "stream",
     "text": [
      "有借貸者人數 276\n",
      "有借貸且信用正常且錄取者 28\n",
      "有借貸但信用異常且錄取者 0\n",
      "無借貸且錄取者 74\n",
      "有借貸且異常者占有信貸者比例 0.014492753623188406\n",
      "---------------------------------------------------------------------\n",
      "有信貸者錄取率 0.10144927536231885\n",
      "無信貸者錄取率 0.08114035087719298\n",
      "---------------------------------------------------------------------\n",
      "錄取者有信貸比例 0.27450980392156865\n",
      "未錄取者有信貸比例 0.2283609576427256\n"
     ]
    }
   ],
   "source": [
    "# 檢視資料集借貸與錄取與否關係\n",
    "print(\"有借貸者人數\", len(data[data['loan']==1]))\n",
    "print(\"有借貸且信用正常且錄取者\", len(data[(data['loan']==1)&(data['loan_status']==1)&(data['hired_or_not']=='Y')]))\n",
    "print(\"有借貸但信用異常且錄取者\", len(data[(data['loan']==1)&(data['loan_status']==0)&(data['hired_or_not']=='Y')]))\n",
    "print(\"無借貸且錄取者\", len(data[(data['loan']==0)&(data['hired_or_not']=='Y')]))\n",
    "print(\"有借貸且異常者占有信貸者比例\", len(data[(data['loan']==1)&(data['loan_status']==0)])/len(data[data['loan']==1]))\n",
    "print(\"---------------------------------------------------------------------\")\n",
    "print(\"有信貸者錄取率\", len(data[(data['loan']==1)&(data['hired_or_not']=='Y')])/len(data[data['loan']==1]))\n",
    "print(\"無信貸者錄取率\", len(data[(data['loan']==0)&(data['hired_or_not']=='Y')])/len(data[data['loan']==0]))\n",
    "print(\"---------------------------------------------------------------------\")\n",
    "print(\"錄取者有信貸比例\", len(data[(data['loan']==1)&(data['hired_or_not']=='Y')])/len(data[(data['hired_or_not']=='Y')]))\n",
    "print(\"未錄取者有信貸比例\", len(data[(data['loan']==1)&(data['hired_or_not']=='N')])/len(data[(data['hired_or_not']=='N')]))"
   ]
  },
  {
   "cell_type": "code",
   "execution_count": 20,
   "metadata": {},
   "outputs": [],
   "source": [
    "# 建立信貸者資料\n",
    "p_job_loan, p_no_job_loan = 0.27450980, 0.22836095\n",
    "df.loc[df.found_job == 1, 'loan'] = np.random.choice([1, 0], size=len(df.loc[df.found_job == 1]), p=[p_job_loan, 1 - p_job_loan])\n",
    "df.loc[df.found_job == 0, 'loan'] = np.random.choice([1, 0], size=len(df.loc[df.found_job == 0]), p=[p_no_job_loan, 1 - p_no_job_loan])"
   ]
  },
  {
   "cell_type": "code",
   "execution_count": 21,
   "metadata": {},
   "outputs": [
    {
     "name": "stdout",
     "output_type": "stream",
     "text": [
      "有借貸者人數 233311\n",
      "無借貸且錄取者 61915\n",
      "---------------------------------------------------------------------\n",
      "有信貸者錄取率 0.10162401258406162\n",
      "無信貸者錄取率 0.08075634318478549\n",
      "---------------------------------------------------------------------\n",
      "錄取者有信貸比例 0.2769051094890511\n",
      "未錄取者有信貸比例 0.22922870813397128\n"
     ]
    }
   ],
   "source": [
    "# 檢視資料集借貸與錄取與否關係\n",
    "print(\"有借貸者人數\", len(df[df['loan']==1]))\n",
    "print(\"無借貸且錄取者\", len(df[(df['loan']==0)&(df['found_job']==1)]))\n",
    "print(\"---------------------------------------------------------------------\")\n",
    "print(\"有信貸者錄取率\", len(df[(df['loan']==1)&(df['found_job']==1)])/len(df[df['loan']==1]))\n",
    "print(\"無信貸者錄取率\", len(df[(df['loan']==0)&(df['found_job']==1)])/len(df[df['loan']==0]))\n",
    "print(\"---------------------------------------------------------------------\")\n",
    "print(\"錄取者有信貸比例\", len(df[(df['loan']==1)&(df['found_job']==1)])/len(df[(df['found_job']==1)]))\n",
    "print(\"未錄取者有信貸比例\", len(df[(df['loan']==1)&(df['found_job']==0)])/len(df[(df['found_job']==0)]))"
   ]
  },
  {
   "cell_type": "code",
   "execution_count": 22,
   "metadata": {},
   "outputs": [
    {
     "name": "stdout",
     "output_type": "stream",
     "text": [
      "有信貸人數 276\n",
      "有信貸且信用正常人數 272\n",
      "有信貸但信用不正常人數 4\n",
      "---------------------------------------------------------------------\n",
      "有信貸且信用正常錄取人數 28\n",
      "有信貸且信用正常但未錄取人數 244\n",
      "有信貸但信用不正常錄取人數 0\n",
      "有信貸但信用不正常且未錄取人數 4\n",
      "---------------------------------------------------------------------\n",
      "未錄取者中信用正常者佔比 0.9838709677419355\n",
      "未錄取者中信用不正常者佔比 0.016129032258064516\n"
     ]
    }
   ],
   "source": [
    "# 檢視資料集不良信貸者\n",
    "print(\"有信貸人數\", len(data[(data['loan']==1)]))\n",
    "print(\"有信貸且信用正常人數\", len(data[(data['loan']==1)&(data['loan_status']==1)]))\n",
    "print(\"有信貸但信用不正常人數\", len(data[(data['loan']==1)&(data['loan_status']==0)]))\n",
    "print(\"---------------------------------------------------------------------\")\n",
    "print(\"有信貸且信用正常錄取人數\", len(data[(data['loan']==1)&(data['loan_status']==1)&(data['hired_or_not']=='Y')]))\n",
    "print(\"有信貸且信用正常但未錄取人數\", len(data[(data['loan']==1)&(data['loan_status']==1)&(data['hired_or_not']=='N')]))\n",
    "print(\"有信貸但信用不正常錄取人數\", len(data[(data['loan']==1)&(data['loan_status']==0)&(data['hired_or_not']=='Y')]))\n",
    "print(\"有信貸但信用不正常且未錄取人數\", len(data[(data['loan']==1)&(data['loan_status']==0)&(data['hired_or_not']=='N')]))\n",
    "print(\"---------------------------------------------------------------------\")\n",
    "print(\"未錄取者中信用正常者佔比\", len(data[(data['loan']==1)&(data['loan_status']==1)&(data['hired_or_not']=='N')])/len(data[(data['loan']==1)&(data['hired_or_not']=='N')]))\n",
    "print(\"未錄取者中信用不正常者佔比\", len(data[(data['loan']==1)&(data['loan_status']==0)&(data['hired_or_not']=='N')])/len(data[(data['loan']==1)&(data['hired_or_not']=='N')]))"
   ]
  },
  {
   "cell_type": "code",
   "execution_count": 24,
   "metadata": {},
   "outputs": [],
   "source": [
    "# 設定信貸狀況分布\n",
    "# 未錄取信用狀況良好者\n",
    "p_no_job_loan_good = 0.98387096\n",
    "\n",
    "df_loan = df[df['loan']==1]\n",
    "df_no_loan = df[df['loan']==0]\n",
    "\n",
    "df_loan.loc[df_loan.found_job == 1, 'loan_status'] = np.random.choice([1, 0], size=len(df_loan.loc[df_loan.found_job == 1]), p=[1, 0])\n",
    "df_loan.loc[df_loan.found_job == 0, 'loan_status'] = np.random.choice([1, 0], size=len(df_loan.loc[df_loan.found_job == 0]), p=[p_no_job_loan_good, 1-p_no_job_loan_good])\n",
    "    \n",
    "df = df_loan.append(df_no_loan)\n",
    "\n",
    "df['loan_status'] = df['loan_status'].fillna(1)"
   ]
  },
  {
   "cell_type": "code",
   "execution_count": 25,
   "metadata": {},
   "outputs": [
    {
     "name": "stdout",
     "output_type": "stream",
     "text": [
      "有信貸人數 233311\n",
      "有信貸且信用正常人數 229970\n",
      "有信貸但信用不正常人數 3341\n",
      "---------------------------------------------------------------------\n",
      "有信貸且信用正常錄取人數 23710\n",
      "有信貸且信用正常但未錄取人數 206260\n",
      "有信貸但信用不正常錄取人數 0\n",
      "有信貸但信用不正常且未錄取人數 3341\n",
      "---------------------------------------------------------------------\n",
      "未錄取者中信用正常者佔比 0.984060190552526\n",
      "未錄取者中信用不正常者佔比 0.01593980944747401\n"
     ]
    }
   ],
   "source": [
    "# 檢視資料集不良信貸者\n",
    "print(\"有信貸人數\", len(df[(df['loan']==1)]))\n",
    "print(\"有信貸且信用正常人數\", len(df[(df['loan']==1)&(df['loan_status']==1)]))\n",
    "print(\"有信貸但信用不正常人數\", len(df[(df['loan']==1)&(df['loan_status']==0)]))\n",
    "print(\"---------------------------------------------------------------------\")\n",
    "print(\"有信貸且信用正常錄取人數\", len(df[(df['loan']==1)&(df['loan_status']==1)&(df['found_job']==1)]))\n",
    "print(\"有信貸且信用正常但未錄取人數\", len(df[(df['loan']==1)&(df['loan_status']==1)&(df['found_job']==0)]))\n",
    "print(\"有信貸但信用不正常錄取人數\", len(df[(df['loan']==1)&(df['loan_status']==0)&(df['found_job']==1)]))\n",
    "print(\"有信貸但信用不正常且未錄取人數\", len(df[(df['loan']==1)&(df['loan_status']==0)&(df['found_job']==0)]))\n",
    "print(\"---------------------------------------------------------------------\")\n",
    "print(\"未錄取者中信用正常者佔比\", len(df[(df['loan']==1)&(df['loan_status']==1)&(df['found_job']==0)])/len(df[(df['loan']==1)&(df['found_job']==0)]))\n",
    "print(\"未錄取者中信用不正常者佔比\", len(df[(df['loan']==1)&(df['loan_status']==0)&(df['found_job']==0)])/len(df[(df['loan']==1)&(df['found_job']==0)]))"
   ]
  },
  {
   "cell_type": "code",
   "execution_count": 26,
   "metadata": {},
   "outputs": [
    {
     "name": "stdout",
     "output_type": "stream",
     "text": [
      "役畢總人數 399\n",
      "待畢總人數 13\n",
      "錄取者中役畢人數 38\n",
      "錄取者中未畢人數 1\n",
      "未錄取者中役畢人數 361\n",
      "未錄取者中未畢人數 12\n",
      "---------------------------------------------------------\n",
      "錄取者中役畢占比 0.9743589743589743\n",
      "錄取者中未畢占比 0.02564102564102564\n",
      "未錄取者中役畢占比 0.967828418230563\n",
      "未錄取者中未畢占比 0.032171581769437\n"
     ]
    }
   ],
   "source": [
    "# 檢視服役狀況\n",
    "print(\"役畢總人數\", len(data[(data['sex']=='M')&(data['military_status']==1)]))\n",
    "print(\"待畢總人數\", len(data[(data['sex']=='M')&(data['military_status']==0)]))\n",
    "print(\"錄取者中役畢人數\", len(data[(data['sex']=='M')&(data['military_status']==1)&(data['hired_or_not']=='Y')]))\n",
    "print(\"錄取者中未畢人數\", len(data[(data['sex']=='M')&(data['military_status']==0)&(data['hired_or_not']=='Y')]))\n",
    "print(\"未錄取者中役畢人數\", len(data[(data['sex']=='M')&(data['military_status']==1)&(data['hired_or_not']=='N')]))\n",
    "print(\"未錄取者中未畢人數\", len(data[(data['sex']=='M')&(data['military_status']==0)&(data['hired_or_not']=='N')]))\n",
    "print(\"---------------------------------------------------------\")\n",
    "print(\"錄取者中役畢占比\", len(data[(data['sex']=='M')&(data['military_status']==1)&(data['hired_or_not']=='Y')])/len(data[(data['sex']=='M')&(data['hired_or_not']=='Y')]))\n",
    "print(\"錄取者中未畢占比\", len(data[(data['sex']=='M')&(data['military_status']==0)&(data['hired_or_not']=='Y')])/len(data[(data['sex']=='M')&(data['hired_or_not']=='Y')]))\n",
    "print(\"未錄取者中役畢占比\", len(data[(data['sex']=='M')&(data['military_status']==1)&(data['hired_or_not']=='N')])/len(data[(data['sex']=='M')&(data['hired_or_not']=='N')]))\n",
    "print(\"未錄取者中未畢占比\", len(data[(data['sex']=='M')&(data['military_status']==0)&(data['hired_or_not']=='N')])/len(data[(data['sex']=='M')&(data['hired_or_not']=='N')]))"
   ]
  },
  {
   "cell_type": "code",
   "execution_count": 27,
   "metadata": {},
   "outputs": [],
   "source": [
    "# 設定資料集服役情況\n",
    "p_job_miliarty_status, p_no_job_military_status = 0.97435897, 0.96782841\n",
    "\n",
    "df_male = df[df['gender']=='male']\n",
    "df_female = df[df['gender']=='female']\n",
    "\n",
    "df_male.loc[df_male.found_job == 1, 'military_status'] = np.random.choice([1, 0], size=len(df_male.loc[df_male.found_job == 1]), p=[p_job_miliarty_status, 1-p_job_miliarty_status])\n",
    "df_male.loc[df_male.found_job == 0, 'military_status'] = np.random.choice([1, 0], size=len(df_male.loc[df_male.found_job == 0]), p=[p_no_job_military_status, 1-p_no_job_military_status])\n",
    "df_female.loc[:,'military_status'] = 1\n",
    "\n",
    "df = df_male.append(df_female)"
   ]
  },
  {
   "cell_type": "code",
   "execution_count": 28,
   "metadata": {},
   "outputs": [
    {
     "name": "stdout",
     "output_type": "stream",
     "text": [
      "役畢總人數 335910\n",
      "待畢總人數 10848\n",
      "錄取者中役畢人數 32075\n",
      "錄取者中未畢人數 797\n",
      "未錄取者中役畢人數 303835\n",
      "未錄取者中未畢人數 10051\n",
      "---------------------------------------------------------\n",
      "錄取者中役畢占比 0.9757544414699441\n",
      "錄取者中未畢占比 0.024245558530055975\n",
      "未錄取者中役畢占比 0.9679788203360455\n",
      "未錄取者中未畢占比 0.03202117966395443\n"
     ]
    }
   ],
   "source": [
    "# 檢視服役狀況\n",
    "print(\"役畢總人數\", len(df[(df['gender']=='male')&(df['military_status']==1)]))\n",
    "print(\"待畢總人數\", len(df[(df['gender']=='male')&(df['military_status']==0)]))\n",
    "print(\"錄取者中役畢人數\", len(df[(df['gender']=='male')&(df['military_status']==1)&(df['found_job']==1)]))\n",
    "print(\"錄取者中未畢人數\", len(df[(df['gender']=='male')&(df['military_status']==0)&(df['found_job']==1)]))\n",
    "print(\"未錄取者中役畢人數\", len(df[(df['gender']=='male')&(df['military_status']==1)&(df['found_job']==0)]))\n",
    "print(\"未錄取者中未畢人數\", len(df[(df['gender']=='male')&(df['military_status']==0)&(df['found_job']==0)]))\n",
    "print(\"---------------------------------------------------------\")\n",
    "print(\"錄取者中役畢占比\", len(df[(df['gender']=='male')&(df['military_status']==1)&(df['found_job']==1)])/len(df[(df['gender']=='male')&(df['found_job']==1)]))\n",
    "print(\"錄取者中未畢占比\", len(df[(df['gender']=='male')&(df['military_status']==0)&(df['found_job']==1)])/len(df[(df['gender']=='male')&(df['found_job']==1)]))\n",
    "print(\"未錄取者中役畢占比\", len(df[(df['gender']=='male')&(df['military_status']==1)&(df['found_job']==0)])/len(df[(df['gender']=='male')&(df['found_job']==0)]))\n",
    "print(\"未錄取者中未畢占比\", len(df[(df['gender']=='male')&(df['military_status']==0)&(df['found_job']==0)])/len(df[(df['gender']=='male')&(df['found_job']==0)]))"
   ]
  },
  {
   "cell_type": "code",
   "execution_count": 29,
   "metadata": {},
   "outputs": [
    {
     "name": "stdout",
     "output_type": "stream",
     "text": [
      "原住民身分總人數 10\n",
      "錄取者屬原住民身分者 1\n",
      "未錄取者屬原住民身分者 9\n",
      "---------------------------------------------------------\n",
      "錄取者屬原住民身分者占比 0.00980392156862745\n",
      "未錄取者屬原住民身分者占比 0.008287292817679558\n"
     ]
    }
   ],
   "source": [
    "print(\"原住民身分總人數\", len(data[data['aboriginal']==1]))\n",
    "print(\"錄取者屬原住民身分者\", len(data[(data['aboriginal']==1)&(data['hired_or_not']=='Y')]))\n",
    "print(\"未錄取者屬原住民身分者\", len(data[(data['aboriginal']==1)&(data['hired_or_not']=='N')]))\n",
    "print(\"---------------------------------------------------------\")\n",
    "print(\"錄取者屬原住民身分者占比\", len(data[(data['aboriginal']==1)&(data['hired_or_not']=='Y')])/len(data[(data['hired_or_not']=='Y')]))\n",
    "print(\"未錄取者屬原住民身分者占比\", len(data[(data['aboriginal']==1)&(data['hired_or_not']=='N')])/len(data[(data['hired_or_not']=='N')]))"
   ]
  },
  {
   "cell_type": "code",
   "execution_count": 30,
   "metadata": {},
   "outputs": [],
   "source": [
    "# 設定資料集原住民身分\n",
    "p_job_aboriginal, p_no_job_aboriginal = 0.00980392, 0.00828729\n",
    "\n",
    "df.loc[df.found_job == 1, 'aboriginal'] = np.random.choice([1, 0], size=len(df.loc[df.found_job == 1]), p=[p_job_aboriginal, 1-p_job_aboriginal])\n",
    "df.loc[df.found_job == 0, 'aboriginal'] = np.random.choice([1, 0], size=len(df.loc[df.found_job == 0]), p=[p_no_job_aboriginal, 1-p_no_job_aboriginal])"
   ]
  },
  {
   "cell_type": "code",
   "execution_count": 31,
   "metadata": {},
   "outputs": [
    {
     "name": "stdout",
     "output_type": "stream",
     "text": [
      "原住民身分總人數 8471\n",
      "錄取者屬原住民身分者 812\n",
      "未錄取者屬原住民身分者 7659\n",
      "---------------------------------------------------------\n",
      "錄取者屬原住民身分者占比 0.009483211678832117\n",
      "未錄取者屬原住民身分者占比 0.008376213260423787\n"
     ]
    }
   ],
   "source": [
    "print(\"原住民身分總人數\", len(df[df['aboriginal']==1]))\n",
    "print(\"錄取者屬原住民身分者\", len(df[(df['aboriginal']==1)&(df['found_job']==1)]))\n",
    "print(\"未錄取者屬原住民身分者\", len(df[(df['aboriginal']==1)&(df['found_job']==0)]))\n",
    "print(\"---------------------------------------------------------\")\n",
    "print(\"錄取者屬原住民身分者占比\", len(df[(df['aboriginal']==1)&(df['found_job']==1)])/len(df[(df['found_job']==1)]))\n",
    "print(\"未錄取者屬原住民身分者占比\", len(df[(df['aboriginal']==1)&(df['found_job']==0)])/len(df[(df['found_job']==0)]))"
   ]
  },
  {
   "cell_type": "code",
   "execution_count": 32,
   "metadata": {},
   "outputs": [
    {
     "name": "stdout",
     "output_type": "stream",
     "text": [
      "錄取男性bmi平均 23.474358974358978\n",
      "錄取男性bmi標準差 2.583624336054209\n",
      "未錄取男性bmi平均 22.98739946380696\n",
      "未錄取男性bmi標準差 3.2864133706349055\n",
      "---------------------------------------------------------\n",
      "錄取女性bmi平均 19.603174603174608\n",
      "錄取女性bmi標準差 1.7807182543232611\n",
      "未錄取女性bmi平均 20.42272089761572\n",
      "未錄取女性bmi標準差 2.564294567958626\n"
     ]
    }
   ],
   "source": [
    "# 檢視資料集 BMI 分布\n",
    "data.loc[:,'bmi'] = (data['weight'] / (data['height']/100 * data['height']/100)).round(1)\n",
    "print(\"錄取男性bmi平均\", data[(data['sex']=='M')&(data['hired_or_not']=='Y')].bmi.mean())\n",
    "print(\"錄取男性bmi標準差\", data[(data['sex']=='M')&(data['hired_or_not']=='Y')].bmi.std())\n",
    "print(\"未錄取男性bmi平均\", data[(data['sex']=='M')&(data['hired_or_not']=='N')].bmi.mean())\n",
    "print(\"未錄取男性bmi標準差\", data[(data['sex']=='M')&(data['hired_or_not']=='N')].bmi.std())\n",
    "print(\"---------------------------------------------------------\")\n",
    "print(\"錄取女性bmi平均\", data[(data['sex']=='F')&(data['hired_or_not']=='Y')].bmi.mean())\n",
    "print(\"錄取女性bmi標準差\", data[(data['sex']=='F')&(data['hired_or_not']=='Y')].bmi.std())\n",
    "print(\"未錄取女性bmi平均\", data[(data['sex']=='F')&(data['hired_or_not']=='N')].bmi.mean())\n",
    "print(\"未錄取女性bmi標準差\", data[(data['sex']=='F')&(data['hired_or_not']=='N')].bmi.std())"
   ]
  },
  {
   "cell_type": "code",
   "execution_count": 33,
   "metadata": {},
   "outputs": [
    {
     "data": {
      "text/html": [
       "<div>\n",
       "<style scoped>\n",
       "    .dataframe tbody tr th:only-of-type {\n",
       "        vertical-align: middle;\n",
       "    }\n",
       "\n",
       "    .dataframe tbody tr th {\n",
       "        vertical-align: top;\n",
       "    }\n",
       "\n",
       "    .dataframe thead th {\n",
       "        text-align: right;\n",
       "    }\n",
       "</style>\n",
       "<table border=\"1\" class=\"dataframe\">\n",
       "  <thead>\n",
       "    <tr style=\"text-align: right;\">\n",
       "      <th></th>\n",
       "      <th>age</th>\n",
       "      <th>educ_class</th>\n",
       "      <th>found_job</th>\n",
       "      <th>gender</th>\n",
       "      <th>loan</th>\n",
       "      <th>loan_status</th>\n",
       "      <th>marriage</th>\n",
       "      <th>military_status</th>\n",
       "      <th>aboriginal</th>\n",
       "      <th>bmi</th>\n",
       "    </tr>\n",
       "  </thead>\n",
       "  <tbody>\n",
       "    <tr>\n",
       "      <td>40</td>\n",
       "      <td>26</td>\n",
       "      <td>B</td>\n",
       "      <td>0</td>\n",
       "      <td>male</td>\n",
       "      <td>1.0</td>\n",
       "      <td>1.0</td>\n",
       "      <td>N</td>\n",
       "      <td>1.0</td>\n",
       "      <td>0.0</td>\n",
       "      <td>26.0</td>\n",
       "    </tr>\n",
       "    <tr>\n",
       "      <td>41</td>\n",
       "      <td>35</td>\n",
       "      <td>B</td>\n",
       "      <td>0</td>\n",
       "      <td>male</td>\n",
       "      <td>1.0</td>\n",
       "      <td>1.0</td>\n",
       "      <td>N</td>\n",
       "      <td>1.0</td>\n",
       "      <td>0.0</td>\n",
       "      <td>21.0</td>\n",
       "    </tr>\n",
       "    <tr>\n",
       "      <td>42</td>\n",
       "      <td>33</td>\n",
       "      <td>B</td>\n",
       "      <td>1</td>\n",
       "      <td>male</td>\n",
       "      <td>1.0</td>\n",
       "      <td>1.0</td>\n",
       "      <td>N</td>\n",
       "      <td>1.0</td>\n",
       "      <td>0.0</td>\n",
       "      <td>20.0</td>\n",
       "    </tr>\n",
       "    <tr>\n",
       "      <td>47</td>\n",
       "      <td>31</td>\n",
       "      <td>B</td>\n",
       "      <td>0</td>\n",
       "      <td>male</td>\n",
       "      <td>1.0</td>\n",
       "      <td>1.0</td>\n",
       "      <td>N</td>\n",
       "      <td>1.0</td>\n",
       "      <td>0.0</td>\n",
       "      <td>21.0</td>\n",
       "    </tr>\n",
       "    <tr>\n",
       "      <td>52</td>\n",
       "      <td>26</td>\n",
       "      <td>B</td>\n",
       "      <td>0</td>\n",
       "      <td>male</td>\n",
       "      <td>1.0</td>\n",
       "      <td>1.0</td>\n",
       "      <td>Y</td>\n",
       "      <td>1.0</td>\n",
       "      <td>0.0</td>\n",
       "      <td>24.0</td>\n",
       "    </tr>\n",
       "  </tbody>\n",
       "</table>\n",
       "</div>"
      ],
      "text/plain": [
       "    age educ_class  found_job gender  loan  loan_status marriage  \\\n",
       "40   26          B          0   male   1.0          1.0        N   \n",
       "41   35          B          0   male   1.0          1.0        N   \n",
       "42   33          B          1   male   1.0          1.0        N   \n",
       "47   31          B          0   male   1.0          1.0        N   \n",
       "52   26          B          0   male   1.0          1.0        Y   \n",
       "\n",
       "    military_status  aboriginal   bmi  \n",
       "40              1.0         0.0  26.0  \n",
       "41              1.0         0.0  21.0  \n",
       "42              1.0         0.0  20.0  \n",
       "47              1.0         0.0  21.0  \n",
       "52              1.0         0.0  24.0  "
      ]
     },
     "execution_count": 33,
     "metadata": {},
     "output_type": "execute_result"
    }
   ],
   "source": [
    "# 設定資料集BMI分布\n",
    "mu_job_male_bmi, mu_job_female_bmi = 23.47435897, 19.60317460\n",
    "sigma_job_male_bmi, sigma_job_female_bmi = 2.58362433, 1.78071825\n",
    "mu_no_job_male_bmi, mu_no_job_female_bmi = 22.98739946, 20.42272089\n",
    "sigma_no_job_male_bmi, sigma_no_job_female_bmi = 3.28641337, 2.56429456\n",
    "\n",
    "df_male = df[df['gender']=='male']\n",
    "df_female = df[df['gender']=='female']\n",
    "\n",
    "df_male.loc[df_male.found_job == 1, 'bmi'] = np.floor(np.random.normal(mu_job_male_bmi, sigma_job_male_bmi, len(df_male.loc[df_male.found_job == 1])))\n",
    "df_male.loc[df_male.found_job == 0, 'bmi'] = np.floor(np.random.normal(mu_no_job_male_bmi, sigma_no_job_male_bmi, len(df_male.loc[df_male.found_job == 0])))\n",
    "df_female.loc[df_female.found_job == 1, 'bmi'] = np.floor(np.random.normal(mu_job_female_bmi, sigma_job_female_bmi, len(df_female.loc[df_female.found_job == 1])))\n",
    "df_female.loc[df_female.found_job == 0, 'bmi'] = np.floor(np.random.normal(mu_no_job_female_bmi, sigma_no_job_female_bmi, len(df_female.loc[df_female.found_job == 0])))\n",
    "\n",
    "df = df_male.append(df_female)\n",
    "df.head()"
   ]
  },
  {
   "cell_type": "code",
   "execution_count": 34,
   "metadata": {},
   "outputs": [
    {
     "name": "stdout",
     "output_type": "stream",
     "text": [
      "等級1學歷錄取者人數 2\n",
      "等級2學歷錄取者人數 1\n",
      "等級3學歷錄取者人數 21\n",
      "等級4學歷錄取者人數 49\n",
      "等級5學歷錄取者人數 3\n",
      "等級6學歷錄取者人數 20\n",
      "等級7學歷錄取者人數 6\n",
      "---------------------------------------------------------\n",
      "等級1學歷錄取者占比 0.0196078431372549\n",
      "等級2學歷錄取者占比 0.00980392156862745\n",
      "等級3學歷錄取者占比 0.20588235294117646\n",
      "等級4學歷錄取者占比 0.4803921568627451\n",
      "等級5學歷錄取者占比 0.029411764705882353\n",
      "等級6學歷錄取者占比 0.19607843137254902\n",
      "等級7學歷錄取者占比 0.058823529411764705\n",
      "---------------------------------------------------------\n",
      "等級1學歷不錄取者占比 0.027624309392265192\n",
      "等級2學歷不錄取者占比 0.09760589318600368\n",
      "等級3學歷不錄取者占比 0.24125230202578268\n",
      "等級4學歷不錄取者占比 0.356353591160221\n",
      "等級5學歷不錄取者占比 0.06906077348066299\n",
      "等級6學歷不錄取者占比 0.16482504604051565\n",
      "等級7學歷不錄取者占比 0.0432780847145488\n"
     ]
    }
   ],
   "source": [
    "# 檢視資料集各學歷分布情況\n",
    "print(\"等級1學歷錄取者人數\", len(data[(data['highest_school_level']==1)&(data['hired_or_not']=='Y')]))\n",
    "print(\"等級2學歷錄取者人數\", len(data[(data['highest_school_level']==2)&(data['hired_or_not']=='Y')]))\n",
    "print(\"等級3學歷錄取者人數\", len(data[(data['highest_school_level']==3)&(data['hired_or_not']=='Y')]))\n",
    "print(\"等級4學歷錄取者人數\", len(data[(data['highest_school_level']==4)&(data['hired_or_not']=='Y')]))\n",
    "print(\"等級5學歷錄取者人數\", len(data[(data['highest_school_level']==5)&(data['hired_or_not']=='Y')]))\n",
    "print(\"等級6學歷錄取者人數\", len(data[(data['highest_school_level']==6)&(data['hired_or_not']=='Y')]))\n",
    "print(\"等級7學歷錄取者人數\", len(data[(data['highest_school_level']==7)&(data['hired_or_not']=='Y')]))\n",
    "print(\"---------------------------------------------------------\")\n",
    "print(\"等級1學歷錄取者占比\", len(data[(data['highest_school_level']==1)&(data['hired_or_not']=='Y')])/len(data[data['hired_or_not']=='Y']))\n",
    "print(\"等級2學歷錄取者占比\", len(data[(data['highest_school_level']==2)&(data['hired_or_not']=='Y')])/len(data[data['hired_or_not']=='Y']))\n",
    "print(\"等級3學歷錄取者占比\", len(data[(data['highest_school_level']==3)&(data['hired_or_not']=='Y')])/len(data[data['hired_or_not']=='Y']))\n",
    "print(\"等級4學歷錄取者占比\", len(data[(data['highest_school_level']==4)&(data['hired_or_not']=='Y')])/len(data[data['hired_or_not']=='Y']))\n",
    "print(\"等級5學歷錄取者占比\", len(data[(data['highest_school_level']==5)&(data['hired_or_not']=='Y')])/len(data[data['hired_or_not']=='Y']))\n",
    "print(\"等級6學歷錄取者占比\", len(data[(data['highest_school_level']==6)&(data['hired_or_not']=='Y')])/len(data[data['hired_or_not']=='Y']))\n",
    "print(\"等級7學歷錄取者占比\", len(data[(data['highest_school_level']==7)&(data['hired_or_not']=='Y')])/len(data[data['hired_or_not']=='Y']))\n",
    "print(\"---------------------------------------------------------\")\n",
    "print(\"等級1學歷不錄取者占比\", len(data[(data['highest_school_level']==1)&(data['hired_or_not']=='N')])/len(data[data['hired_or_not']=='N']))\n",
    "print(\"等級2學歷不錄取者占比\", len(data[(data['highest_school_level']==2)&(data['hired_or_not']=='N')])/len(data[data['hired_or_not']=='N']))\n",
    "print(\"等級3學歷不錄取者占比\", len(data[(data['highest_school_level']==3)&(data['hired_or_not']=='N')])/len(data[data['hired_or_not']=='N']))\n",
    "print(\"等級4學歷不錄取者占比\", len(data[(data['highest_school_level']==4)&(data['hired_or_not']=='N')])/len(data[data['hired_or_not']=='N']))\n",
    "print(\"等級5學歷不錄取者占比\", len(data[(data['highest_school_level']==5)&(data['hired_or_not']=='N')])/len(data[data['hired_or_not']=='N']))\n",
    "print(\"等級6學歷不錄取者占比\", len(data[(data['highest_school_level']==6)&(data['hired_or_not']=='N')])/len(data[data['hired_or_not']=='N']))\n",
    "print(\"等級7學歷不錄取者占比\", len(data[(data['highest_school_level']==7)&(data['hired_or_not']=='N')])/len(data[data['hired_or_not']=='N']))"
   ]
  },
  {
   "cell_type": "code",
   "execution_count": 35,
   "metadata": {},
   "outputs": [],
   "source": [
    "# 設定資料集最高學歷分布\n",
    "p_job_highest_school = [0.01960784, 0.00980392, 0.20588235, 0.48039215, 0.02941176, 0.19607843, 0.05882355]\n",
    "p_no_job_ahighest_school = [0.02762430, 0.09760589, 0.24125230, 0.35635359, 0.06906077, 0.16482504, 0.04327811]\n",
    "\n",
    "df.loc[df.found_job == 1, 'highest_school_level'] = np.random.choice([1, 2, 3, 4, 5, 6, 7], size=len(df.loc[df.found_job == 1]), p=p_job_highest_school)\n",
    "df.loc[df.found_job == 0, 'highest_school_level'] = np.random.choice([1, 2, 3, 4, 5, 6, 7], size=len(df.loc[df.found_job == 0]), p=p_no_job_ahighest_school)"
   ]
  },
  {
   "cell_type": "code",
   "execution_count": 36,
   "metadata": {},
   "outputs": [
    {
     "name": "stdout",
     "output_type": "stream",
     "text": [
      "等級1學歷錄取者人數 1705\n",
      "等級2學歷錄取者人數 889\n",
      "等級3學歷錄取者人數 17774\n",
      "等級4學歷錄取者人數 40988\n",
      "等級5學歷錄取者人數 2483\n",
      "等級6學歷錄取者人數 16785\n",
      "等級7學歷錄取者人數 5001\n",
      "---------------------------------------------------------\n",
      "等級1學歷錄取者占比 0.019912408759124086\n",
      "等級2學歷錄取者占比 0.010382481751824818\n",
      "等級3學歷錄取者占比 0.20757956204379563\n",
      "等級4學歷錄取者占比 0.4786919708029197\n",
      "等級5學歷錄取者占比 0.0289985401459854\n",
      "等級6學歷錄取者占比 0.19602919708029198\n",
      "等級7學歷錄取者占比 0.0584058394160584\n",
      "---------------------------------------------------------\n",
      "等級1學歷不錄取者占比 0.02755434039644566\n",
      "等級2學歷不錄取者占比 0.09751141490088859\n",
      "等級3學歷不錄取者占比 0.24152125768967875\n",
      "等級4學歷不錄取者占比 0.3563187969924812\n",
      "等級5學歷不錄取者占比 0.069126999316473\n",
      "等級6學歷不錄取者占比 0.16484702665755296\n",
      "等級7學歷不錄取者占比 0.043120164046479836\n"
     ]
    }
   ],
   "source": [
    "# 各學歷分布情況\n",
    "print(\"等級1學歷錄取者人數\", len(df[(df['highest_school_level']==1)&(df['found_job']==1)]))\n",
    "print(\"等級2學歷錄取者人數\", len(df[(df['highest_school_level']==2)&(df['found_job']==1)]))\n",
    "print(\"等級3學歷錄取者人數\", len(df[(df['highest_school_level']==3)&(df['found_job']==1)]))\n",
    "print(\"等級4學歷錄取者人數\", len(df[(df['highest_school_level']==4)&(df['found_job']==1)]))\n",
    "print(\"等級5學歷錄取者人數\", len(df[(df['highest_school_level']==5)&(df['found_job']==1)]))\n",
    "print(\"等級6學歷錄取者人數\", len(df[(df['highest_school_level']==6)&(df['found_job']==1)]))\n",
    "print(\"等級7學歷錄取者人數\", len(df[(df['highest_school_level']==7)&(df['found_job']==1)]))\n",
    "print(\"---------------------------------------------------------\")\n",
    "print(\"等級1學歷錄取者占比\", len(df[(df['highest_school_level']==1)&(df['found_job']==1)])/len(df[df['found_job']==1]))\n",
    "print(\"等級2學歷錄取者占比\", len(df[(df['highest_school_level']==2)&(df['found_job']==1)])/len(df[df['found_job']==1]))\n",
    "print(\"等級3學歷錄取者占比\", len(df[(df['highest_school_level']==3)&(df['found_job']==1)])/len(df[df['found_job']==1]))\n",
    "print(\"等級4學歷錄取者占比\", len(df[(df['highest_school_level']==4)&(df['found_job']==1)])/len(df[df['found_job']==1]))\n",
    "print(\"等級5學歷錄取者占比\", len(df[(df['highest_school_level']==5)&(df['found_job']==1)])/len(df[df['found_job']==1]))\n",
    "print(\"等級6學歷錄取者占比\", len(df[(df['highest_school_level']==6)&(df['found_job']==1)])/len(df[df['found_job']==1]))\n",
    "print(\"等級7學歷錄取者占比\", len(df[(df['highest_school_level']==7)&(df['found_job']==1)])/len(df[df['found_job']==1]))\n",
    "print(\"---------------------------------------------------------\")\n",
    "print(\"等級1學歷不錄取者占比\", len(df[(df['highest_school_level']==1)&(df['found_job']==0)])/len(df[df['found_job']==0]))\n",
    "print(\"等級2學歷不錄取者占比\", len(df[(df['highest_school_level']==2)&(df['found_job']==0)])/len(df[df['found_job']==0]))\n",
    "print(\"等級3學歷不錄取者占比\", len(df[(df['highest_school_level']==3)&(df['found_job']==0)])/len(df[df['found_job']==0]))\n",
    "print(\"等級4學歷不錄取者占比\", len(df[(df['highest_school_level']==4)&(df['found_job']==0)])/len(df[df['found_job']==0]))\n",
    "print(\"等級5學歷不錄取者占比\", len(df[(df['highest_school_level']==5)&(df['found_job']==0)])/len(df[df['found_job']==0]))\n",
    "print(\"等級6學歷不錄取者占比\", len(df[(df['highest_school_level']==6)&(df['found_job']==0)])/len(df[df['found_job']==0]))\n",
    "print(\"等級7學歷不錄取者占比\", len(df[(df['highest_school_level']==7)&(df['found_job']==0)])/len(df[df['found_job']==0]))"
   ]
  },
  {
   "cell_type": "code",
   "execution_count": 37,
   "metadata": {},
   "outputs": [
    {
     "name": "stdout",
     "output_type": "stream",
     "text": [
      "等級1錄取者人數 2\n",
      "等級2錄取者人數 30\n",
      "等級3錄取者人數 53\n",
      "等級4錄取者人數 15\n",
      "等級5錄取者人數 2\n",
      "---------------------------------------------------------\n",
      "等級1錄取者占比 0.0196078431372549\n",
      "等級2錄取者占比 0.29411764705882354\n",
      "等級3錄取者占比 0.5196078431372549\n",
      "等級4錄取者占比 0.14705882352941177\n",
      "等級5錄取者占比 0.0196078431372549\n",
      "---------------------------------------------------------\n",
      "等級1不錄取者占比 0.014732965009208104\n",
      "等級1不錄取者占比 0.4429097605893186\n",
      "等級1不錄取者占比 0.4521178637200737\n",
      "等級1不錄取者占比 0.07366482504604052\n",
      "等級1不錄取者占比 0.013812154696132596\n"
     ]
    }
   ],
   "source": [
    "# 檢視資料集英文程度分布情況\n",
    "print(\"等級1錄取者人數\", len(data[(data['english_level']==1)&(data['hired_or_not']=='Y')]))\n",
    "print(\"等級2錄取者人數\", len(data[(data['english_level']==2)&(data['hired_or_not']=='Y')]))\n",
    "print(\"等級3錄取者人數\", len(data[(data['english_level']==3)&(data['hired_or_not']=='Y')]))\n",
    "print(\"等級4錄取者人數\", len(data[(data['english_level']==4)&(data['hired_or_not']=='Y')]))\n",
    "print(\"等級5錄取者人數\", len(data[(data['english_level']==5)&(data['hired_or_not']=='Y')]))\n",
    "print(\"---------------------------------------------------------\")\n",
    "print(\"等級1錄取者占比\", len(data[(data['english_level']==1)&(data['hired_or_not']=='Y')])/len(data[data['hired_or_not']=='Y']))\n",
    "print(\"等級2錄取者占比\", len(data[(data['english_level']==2)&(data['hired_or_not']=='Y')])/len(data[data['hired_or_not']=='Y']))\n",
    "print(\"等級3錄取者占比\", len(data[(data['english_level']==3)&(data['hired_or_not']=='Y')])/len(data[data['hired_or_not']=='Y']))\n",
    "print(\"等級4錄取者占比\", len(data[(data['english_level']==4)&(data['hired_or_not']=='Y')])/len(data[data['hired_or_not']=='Y']))\n",
    "print(\"等級5錄取者占比\", len(data[(data['english_level']==5)&(data['hired_or_not']=='Y')])/len(data[data['hired_or_not']=='Y']))\n",
    "print(\"---------------------------------------------------------\")\n",
    "print(\"等級1不錄取者占比\", len(data[(data['english_level']==1)&(data['hired_or_not']=='N')])/len(data[data['hired_or_not']=='N']))\n",
    "print(\"等級1不錄取者占比\", len(data[(data['english_level']==2)&(data['hired_or_not']=='N')])/len(data[data['hired_or_not']=='N']))\n",
    "print(\"等級1不錄取者占比\", len(data[(data['english_level']==3)&(data['hired_or_not']=='N')])/len(data[data['hired_or_not']=='N']))\n",
    "print(\"等級1不錄取者占比\", len(data[(data['english_level']==4)&(data['hired_or_not']=='N')])/len(data[data['hired_or_not']=='N']))\n",
    "print(\"等級1不錄取者占比\", len(data[(data['english_level']==5)&(data['hired_or_not']=='N')])/len(data[data['hired_or_not']=='N']))"
   ]
  },
  {
   "cell_type": "code",
   "execution_count": 38,
   "metadata": {},
   "outputs": [],
   "source": [
    "# 設定資料集最高學歷分布\n",
    "p_job_english_level = [0.01960784, 0.29411764, 0.51960784, 0.14705882, 0.01960786]\n",
    "p_no_job_english_level = [0.01473296, 0.44290976, 0.45211786, 0.07366482, 0.0165746]\n",
    "\n",
    "df.loc[df.found_job == 1, 'english_level'] = np.random.choice([1, 2, 3, 4, 5], size=len(df.loc[df.found_job == 1]), p=p_job_english_level)\n",
    "df.loc[df.found_job == 0, 'english_level'] = np.random.choice([1, 2, 3, 4, 5], size=len(df.loc[df.found_job == 0]), p=p_no_job_english_level)"
   ]
  },
  {
   "cell_type": "code",
   "execution_count": 39,
   "metadata": {},
   "outputs": [
    {
     "name": "stdout",
     "output_type": "stream",
     "text": [
      "等級1錄取者人數 1684\n",
      "等級2錄取者人數 25043\n",
      "等級3錄取者人數 44518\n",
      "等級4錄取者人數 12650\n",
      "等級5錄取者人數 1730\n",
      "---------------------------------------------------------\n",
      "等級1錄取者占比 0.019667153284671533\n",
      "等級2錄取者占比 0.2924729927007299\n",
      "等級3錄取者占比 0.5199182481751825\n",
      "等級4錄取者占比 0.14773722627737226\n",
      "等級5錄取者占比 0.020204379562043795\n",
      "---------------------------------------------------------\n",
      "等級1不錄取者占比 0.01481995898838004\n",
      "等級1不錄取者占比 0.4435816814764183\n",
      "等級1不錄取者占比 0.45129624060150375\n",
      "等級1不錄取者占比 0.07355297334244702\n",
      "等級1不錄取者占比 0.016749145591250854\n"
     ]
    }
   ],
   "source": [
    "# 檢視英文程度分布情況\n",
    "print(\"等級1錄取者人數\", len(df[(df['english_level']==1)&(df['found_job']==1)]))\n",
    "print(\"等級2錄取者人數\", len(df[(df['english_level']==2)&(df['found_job']==1)]))\n",
    "print(\"等級3錄取者人數\", len(df[(df['english_level']==3)&(df['found_job']==1)]))\n",
    "print(\"等級4錄取者人數\", len(df[(df['english_level']==4)&(df['found_job']==1)]))\n",
    "print(\"等級5錄取者人數\", len(df[(df['english_level']==5)&(df['found_job']==1)]))\n",
    "print(\"---------------------------------------------------------\")\n",
    "print(\"等級1錄取者占比\", len(df[(df['english_level']==1)&(df['found_job']==1)])/len(df[df['found_job']==1]))\n",
    "print(\"等級2錄取者占比\", len(df[(df['english_level']==2)&(df['found_job']==1)])/len(df[df['found_job']==1]))\n",
    "print(\"等級3錄取者占比\", len(df[(df['english_level']==3)&(df['found_job']==1)])/len(df[df['found_job']==1]))\n",
    "print(\"等級4錄取者占比\", len(df[(df['english_level']==4)&(df['found_job']==1)])/len(df[df['found_job']==1]))\n",
    "print(\"等級5錄取者占比\", len(df[(df['english_level']==5)&(df['found_job']==1)])/len(df[df['found_job']==1]))\n",
    "print(\"---------------------------------------------------------\")\n",
    "print(\"等級1不錄取者占比\", len(df[(df['english_level']==1)&(df['found_job']==0)])/len(df[df['found_job']==0]))\n",
    "print(\"等級1不錄取者占比\", len(df[(df['english_level']==2)&(df['found_job']==0)])/len(df[df['found_job']==0]))\n",
    "print(\"等級1不錄取者占比\", len(df[(df['english_level']==3)&(df['found_job']==0)])/len(df[df['found_job']==0]))\n",
    "print(\"等級1不錄取者占比\", len(df[(df['english_level']==4)&(df['found_job']==0)])/len(df[df['found_job']==0]))\n",
    "print(\"等級1不錄取者占比\", len(df[(df['english_level']==5)&(df['found_job']==0)])/len(df[df['found_job']==0]))"
   ]
  },
  {
   "cell_type": "code",
   "execution_count": 40,
   "metadata": {},
   "outputs": [
    {
     "name": "stdout",
     "output_type": "stream",
     "text": [
      "輟學錄取者人數 0\n",
      "肄業錄取者人數 10\n",
      "畢業錄取者人數 92\n",
      "輟學未錄取者人數 4\n",
      "肄業未錄取者人數 62\n",
      "畢業未錄取者人數 1020\n",
      "---------------------------------------------------------\n",
      "肄業錄取者占比 0.09803921568627451\n",
      "肄業錄取者占比 0.9019607843137255\n",
      "---------------------------------------------------------\n",
      "輟學不錄取者占比 0.003683241252302026\n",
      "肄業不錄取者占比 0.0570902394106814\n",
      "畢業不錄取者占比 0.9392265193370166\n"
     ]
    }
   ],
   "source": [
    "# 檢視資料集畢業狀況分布情況\n",
    "print(\"輟學錄取者人數\", len(data[(data['highest_graduation']=='D')&(data['hired_or_not']=='Y')]))\n",
    "print(\"肄業錄取者人數\", len(data[(data['highest_graduation']=='I')&(data['hired_or_not']=='Y')]))\n",
    "print(\"畢業錄取者人數\", len(data[(data['highest_graduation']=='Y')&(data['hired_or_not']=='Y')]))\n",
    "print(\"輟學未錄取者人數\", len(data[(data['highest_graduation']=='D')&(data['hired_or_not']=='N')]))\n",
    "print(\"肄業未錄取者人數\", len(data[(data['highest_graduation']=='I')&(data['hired_or_not']=='N')]))\n",
    "print(\"畢業未錄取者人數\", len(data[(data['highest_graduation']=='Y')&(data['hired_or_not']=='N')]))\n",
    "print(\"---------------------------------------------------------\")\n",
    "print(\"肄業錄取者占比\", len(data[(data['highest_graduation']=='I')&(data['hired_or_not']=='Y')])/len(data[data['hired_or_not']=='Y']))\n",
    "print(\"肄業錄取者占比\", len(data[(data['highest_graduation']=='Y')&(data['hired_or_not']=='Y')])/len(data[data['hired_or_not']=='Y']))\n",
    "print(\"---------------------------------------------------------\")\n",
    "print(\"輟學不錄取者占比\", len(data[(data['highest_graduation']=='D')&(data['hired_or_not']=='N')])/len(data[data['hired_or_not']=='N']))\n",
    "print(\"肄業不錄取者占比\", len(data[(data['highest_graduation']=='I')&(data['hired_or_not']=='N')])/len(data[data['hired_or_not']=='N']))\n",
    "print(\"畢業不錄取者占比\", len(data[(data['highest_graduation']=='Y')&(data['hired_or_not']=='N')])/len(data[data['hired_or_not']=='N']))"
   ]
  },
  {
   "cell_type": "code",
   "execution_count": 41,
   "metadata": {},
   "outputs": [],
   "source": [
    "# 設定資料集最高學歷分布\n",
    "p_job_highest_graduation = [0.09803921, 0.90196079]\n",
    "p_no_job_highest_graduation = [0.00368324, 0.05709023, 0.93922653]\n",
    "\n",
    "df.loc[df.found_job == 1, 'highest_graduation'] = np.random.choice(['I','Y'], size=len(df.loc[df.found_job == 1]), p=p_job_highest_graduation)\n",
    "df.loc[df.found_job == 0, 'highest_graduation'] = np.random.choice(['D','I','Y'], size=len(df.loc[df.found_job == 0]), p=p_no_job_highest_graduation)"
   ]
  },
  {
   "cell_type": "code",
   "execution_count": 42,
   "metadata": {},
   "outputs": [
    {
     "name": "stdout",
     "output_type": "stream",
     "text": [
      "輟學錄取者人數 0\n",
      "肄業錄取者人數 8412\n",
      "畢業錄取者人數 0\n",
      "輟學未錄取者人數 3313\n",
      "肄業未錄取者人數 52160\n",
      "畢業未錄取者人數 0\n",
      "---------------------------------------------------------\n",
      "肄業錄取者占比 0.09824233576642336\n",
      "肄業錄取者占比 0.9017576642335766\n",
      "---------------------------------------------------------\n",
      "輟學不錄取者占比 0.00362323991797676\n",
      "肄業不錄取者占比 0.05704442925495557\n",
      "畢業不錄取者占比 0.9393323308270677\n"
     ]
    }
   ],
   "source": [
    "# 檢視畢業狀況分布情況\n",
    "print(\"輟學錄取者人數\", len(df[(df['highest_graduation']=='D')&(df['found_job']==1)]))\n",
    "print(\"肄業錄取者人數\", len(df[(df['highest_graduation']=='I')&(df['found_job']==1)]))\n",
    "print(\"畢業錄取者人數\", len(df[(df['highest_graduation']==1)&(df['found_job']==1)]))\n",
    "print(\"輟學未錄取者人數\", len(df[(df['highest_graduation']=='D')&(df['found_job']==0)]))\n",
    "print(\"肄業未錄取者人數\", len(df[(df['highest_graduation']=='I')&(df['found_job']==0)]))\n",
    "print(\"畢業未錄取者人數\", len(df[(df['highest_graduation']==1)&(df['found_job']==0)]))\n",
    "print(\"---------------------------------------------------------\")\n",
    "print(\"肄業錄取者占比\", len(df[(df['highest_graduation']=='I')&(df['found_job']==1)])/len(df[df['found_job']==1]))\n",
    "print(\"肄業錄取者占比\", len(df[(df['highest_graduation']=='Y')&(df['found_job']==1)])/len(df[df['found_job']==1]))\n",
    "print(\"---------------------------------------------------------\")\n",
    "print(\"輟學不錄取者占比\", len(df[(df['highest_graduation']=='D')&(df['found_job']==0)])/len(df[df['found_job']==0]))\n",
    "print(\"肄業不錄取者占比\", len(df[(df['highest_graduation']=='I')&(df['found_job']==0)])/len(df[df['found_job']==0]))\n",
    "print(\"畢業不錄取者占比\", len(df[(df['highest_graduation']=='Y')&(df['found_job']==0)])/len(df[df['found_job']==0]))"
   ]
  },
  {
   "cell_type": "code",
   "execution_count": 43,
   "metadata": {},
   "outputs": [
    {
     "data": {
      "text/html": [
       "<div>\n",
       "<style scoped>\n",
       "    .dataframe tbody tr th:only-of-type {\n",
       "        vertical-align: middle;\n",
       "    }\n",
       "\n",
       "    .dataframe tbody tr th {\n",
       "        vertical-align: top;\n",
       "    }\n",
       "\n",
       "    .dataframe thead th {\n",
       "        text-align: right;\n",
       "    }\n",
       "</style>\n",
       "<table border=\"1\" class=\"dataframe\">\n",
       "  <thead>\n",
       "    <tr style=\"text-align: right;\">\n",
       "      <th></th>\n",
       "      <th>age</th>\n",
       "      <th>educ_class</th>\n",
       "      <th>found_job</th>\n",
       "      <th>gender</th>\n",
       "      <th>loan</th>\n",
       "      <th>loan_status</th>\n",
       "      <th>marriage</th>\n",
       "      <th>military_status</th>\n",
       "      <th>aboriginal</th>\n",
       "      <th>bmi</th>\n",
       "      <th>highest_school_level</th>\n",
       "      <th>english_level</th>\n",
       "      <th>highest_graduation</th>\n",
       "    </tr>\n",
       "  </thead>\n",
       "  <tbody>\n",
       "    <tr>\n",
       "      <td>40</td>\n",
       "      <td>26</td>\n",
       "      <td>B</td>\n",
       "      <td>0</td>\n",
       "      <td>male</td>\n",
       "      <td>1.0</td>\n",
       "      <td>1.0</td>\n",
       "      <td>N</td>\n",
       "      <td>1.0</td>\n",
       "      <td>0.0</td>\n",
       "      <td>26.0</td>\n",
       "      <td>7.0</td>\n",
       "      <td>2.0</td>\n",
       "      <td>Y</td>\n",
       "    </tr>\n",
       "    <tr>\n",
       "      <td>41</td>\n",
       "      <td>35</td>\n",
       "      <td>B</td>\n",
       "      <td>0</td>\n",
       "      <td>male</td>\n",
       "      <td>1.0</td>\n",
       "      <td>1.0</td>\n",
       "      <td>N</td>\n",
       "      <td>1.0</td>\n",
       "      <td>0.0</td>\n",
       "      <td>21.0</td>\n",
       "      <td>6.0</td>\n",
       "      <td>1.0</td>\n",
       "      <td>Y</td>\n",
       "    </tr>\n",
       "    <tr>\n",
       "      <td>42</td>\n",
       "      <td>33</td>\n",
       "      <td>B</td>\n",
       "      <td>1</td>\n",
       "      <td>male</td>\n",
       "      <td>1.0</td>\n",
       "      <td>1.0</td>\n",
       "      <td>N</td>\n",
       "      <td>1.0</td>\n",
       "      <td>0.0</td>\n",
       "      <td>20.0</td>\n",
       "      <td>6.0</td>\n",
       "      <td>4.0</td>\n",
       "      <td>Y</td>\n",
       "    </tr>\n",
       "    <tr>\n",
       "      <td>47</td>\n",
       "      <td>31</td>\n",
       "      <td>B</td>\n",
       "      <td>0</td>\n",
       "      <td>male</td>\n",
       "      <td>1.0</td>\n",
       "      <td>1.0</td>\n",
       "      <td>N</td>\n",
       "      <td>1.0</td>\n",
       "      <td>0.0</td>\n",
       "      <td>21.0</td>\n",
       "      <td>6.0</td>\n",
       "      <td>2.0</td>\n",
       "      <td>Y</td>\n",
       "    </tr>\n",
       "    <tr>\n",
       "      <td>52</td>\n",
       "      <td>26</td>\n",
       "      <td>B</td>\n",
       "      <td>0</td>\n",
       "      <td>male</td>\n",
       "      <td>1.0</td>\n",
       "      <td>1.0</td>\n",
       "      <td>Y</td>\n",
       "      <td>1.0</td>\n",
       "      <td>0.0</td>\n",
       "      <td>24.0</td>\n",
       "      <td>5.0</td>\n",
       "      <td>2.0</td>\n",
       "      <td>Y</td>\n",
       "    </tr>\n",
       "  </tbody>\n",
       "</table>\n",
       "</div>"
      ],
      "text/plain": [
       "    age educ_class  found_job gender  loan  loan_status marriage  \\\n",
       "40   26          B          0   male   1.0          1.0        N   \n",
       "41   35          B          0   male   1.0          1.0        N   \n",
       "42   33          B          1   male   1.0          1.0        N   \n",
       "47   31          B          0   male   1.0          1.0        N   \n",
       "52   26          B          0   male   1.0          1.0        Y   \n",
       "\n",
       "    military_status  aboriginal   bmi  highest_school_level  english_level  \\\n",
       "40              1.0         0.0  26.0                   7.0            2.0   \n",
       "41              1.0         0.0  21.0                   6.0            1.0   \n",
       "42              1.0         0.0  20.0                   6.0            4.0   \n",
       "47              1.0         0.0  21.0                   6.0            2.0   \n",
       "52              1.0         0.0  24.0                   5.0            2.0   \n",
       "\n",
       "   highest_graduation  \n",
       "40                  Y  \n",
       "41                  Y  \n",
       "42                  Y  \n",
       "47                  Y  \n",
       "52                  Y  "
      ]
     },
     "execution_count": 43,
     "metadata": {},
     "output_type": "execute_result"
    }
   ],
   "source": [
    "df.head()"
   ]
  },
  {
   "cell_type": "code",
   "execution_count": 44,
   "metadata": {},
   "outputs": [
    {
     "name": "stdout",
     "output_type": "stream",
     "text": [
      "女性應徵者錄取率 0.0807556770691413\n",
      "男性應徵者錄取率 0.09479810126947323\n",
      "---------------------------------------------------------\n",
      "已婚應徵者錄取率 0.06357952838690298\n",
      "未婚應徵者錄取率 0.08825346513377028\n",
      "---------------------------------------------------------\n",
      "未婚女性應徵者錄取率 0.08776844070961717\n",
      "已婚女性應徵者錄取率 0.03068891187061565\n",
      "---------------------------------------------------------\n",
      "未婚男性應徵者錄取率 0.08912061955711152\n",
      "已婚男性應徵者錄取率 0.16405922880743024\n"
     ]
    }
   ],
   "source": [
    "print(\"女性應徵者錄取率\", len(df[(df['gender']=='female')&(df['found_job']==1)])/len(df[df['gender']=='female']))\n",
    "print(\"男性應徵者錄取率\", len(df[(df['gender']=='male')&(df['found_job']==1)])/len(df[df['gender']=='male']))\n",
    "print(\"---------------------------------------------------------\")\n",
    "print(\"已婚應徵者錄取率\", len(df[(df['marriage']=='Y')&(df['found_job']==1)])/len(df[df['marriage']=='Y']))\n",
    "print(\"未婚應徵者錄取率\", len(df[(df['marriage']=='N')&(df['found_job']==1)])/len(df[df['marriage']=='N']))\n",
    "print(\"---------------------------------------------------------\")\n",
    "print(\"未婚女性應徵者錄取率\", len(df[(df['gender']=='female')&(df['found_job']==1)&(df['marriage']=='N')])/len(df[(df['gender']=='female')&(df['marriage']=='N')]))\n",
    "print(\"已婚女性應徵者錄取率\", len(df[(df['gender']=='female')&(df['found_job']==1)&(df['marriage']=='Y')])/len(df[(df['gender']=='female')&(df['marriage']=='Y')]))\n",
    "print(\"---------------------------------------------------------\")\n",
    "print(\"未婚男性應徵者錄取率\", len(df[(df['gender']=='male')&(df['found_job']==1)&(df['marriage']=='N')])/len(df[(df['gender']=='male')&(df['marriage']=='N')]))\n",
    "print(\"已婚男性應徵者錄取率\", len(df[(df['gender']=='male')&(df['found_job']==1)&(df['marriage']=='Y')])/len(df[(df['gender']=='male')&(df['marriage']=='Y')]))"
   ]
  },
  {
   "cell_type": "code",
   "execution_count": 45,
   "metadata": {},
   "outputs": [],
   "source": [
    "# 資料集儲存\n",
    "df.to_excel(\"recruit_train_test.xlsx\")"
   ]
  },
  {
   "cell_type": "code",
   "execution_count": 46,
   "metadata": {},
   "outputs": [
    {
     "data": {
      "text/html": [
       "<div>\n",
       "<style scoped>\n",
       "    .dataframe tbody tr th:only-of-type {\n",
       "        vertical-align: middle;\n",
       "    }\n",
       "\n",
       "    .dataframe tbody tr th {\n",
       "        vertical-align: top;\n",
       "    }\n",
       "\n",
       "    .dataframe thead th {\n",
       "        text-align: right;\n",
       "    }\n",
       "</style>\n",
       "<table border=\"1\" class=\"dataframe\">\n",
       "  <thead>\n",
       "    <tr style=\"text-align: right;\">\n",
       "      <th></th>\n",
       "      <th>id</th>\n",
       "      <th>sex</th>\n",
       "      <th>apply_age</th>\n",
       "      <th>marriage</th>\n",
       "      <th>highest_education</th>\n",
       "      <th>highest_graduation</th>\n",
       "      <th>loan</th>\n",
       "      <th>loan_status</th>\n",
       "      <th>military_status</th>\n",
       "      <th>aboriginal</th>\n",
       "      <th>height</th>\n",
       "      <th>weight</th>\n",
       "      <th>nationality</th>\n",
       "      <th>highest_school_level</th>\n",
       "      <th>english_level</th>\n",
       "      <th>hired_or_not</th>\n",
       "      <th>relabel_check</th>\n",
       "      <th>bmi</th>\n",
       "    </tr>\n",
       "  </thead>\n",
       "  <tbody>\n",
       "    <tr>\n",
       "      <td>0</td>\n",
       "      <td>R224211691</td>\n",
       "      <td>F</td>\n",
       "      <td>24</td>\n",
       "      <td>0</td>\n",
       "      <td>B</td>\n",
       "      <td>Y</td>\n",
       "      <td>0</td>\n",
       "      <td>1</td>\n",
       "      <td>1</td>\n",
       "      <td>0</td>\n",
       "      <td>162</td>\n",
       "      <td>60</td>\n",
       "      <td>1</td>\n",
       "      <td>3</td>\n",
       "      <td>2.0</td>\n",
       "      <td>N</td>\n",
       "      <td>N</td>\n",
       "      <td>22.9</td>\n",
       "    </tr>\n",
       "    <tr>\n",
       "      <td>1</td>\n",
       "      <td>R223936966</td>\n",
       "      <td>F</td>\n",
       "      <td>28</td>\n",
       "      <td>0</td>\n",
       "      <td>B</td>\n",
       "      <td>Y</td>\n",
       "      <td>1</td>\n",
       "      <td>1</td>\n",
       "      <td>1</td>\n",
       "      <td>0</td>\n",
       "      <td>158</td>\n",
       "      <td>52</td>\n",
       "      <td>1</td>\n",
       "      <td>2</td>\n",
       "      <td>2.0</td>\n",
       "      <td>N</td>\n",
       "      <td>N</td>\n",
       "      <td>20.8</td>\n",
       "    </tr>\n",
       "    <tr>\n",
       "      <td>2</td>\n",
       "      <td>F228161684</td>\n",
       "      <td>F</td>\n",
       "      <td>24</td>\n",
       "      <td>0</td>\n",
       "      <td>B</td>\n",
       "      <td>Y</td>\n",
       "      <td>1</td>\n",
       "      <td>1</td>\n",
       "      <td>1</td>\n",
       "      <td>0</td>\n",
       "      <td>164</td>\n",
       "      <td>70</td>\n",
       "      <td>1</td>\n",
       "      <td>3</td>\n",
       "      <td>2.0</td>\n",
       "      <td>N</td>\n",
       "      <td>N</td>\n",
       "      <td>26.0</td>\n",
       "    </tr>\n",
       "    <tr>\n",
       "      <td>3</td>\n",
       "      <td>O200443001</td>\n",
       "      <td>F</td>\n",
       "      <td>21</td>\n",
       "      <td>0</td>\n",
       "      <td>B</td>\n",
       "      <td>Y</td>\n",
       "      <td>0</td>\n",
       "      <td>1</td>\n",
       "      <td>1</td>\n",
       "      <td>0</td>\n",
       "      <td>152</td>\n",
       "      <td>41</td>\n",
       "      <td>1</td>\n",
       "      <td>5</td>\n",
       "      <td>2.0</td>\n",
       "      <td>N</td>\n",
       "      <td>N</td>\n",
       "      <td>17.7</td>\n",
       "    </tr>\n",
       "    <tr>\n",
       "      <td>4</td>\n",
       "      <td>N225966272</td>\n",
       "      <td>F</td>\n",
       "      <td>22</td>\n",
       "      <td>0</td>\n",
       "      <td>B</td>\n",
       "      <td>I</td>\n",
       "      <td>0</td>\n",
       "      <td>1</td>\n",
       "      <td>1</td>\n",
       "      <td>0</td>\n",
       "      <td>155</td>\n",
       "      <td>45</td>\n",
       "      <td>1</td>\n",
       "      <td>6</td>\n",
       "      <td>3.0</td>\n",
       "      <td>N</td>\n",
       "      <td>N</td>\n",
       "      <td>18.7</td>\n",
       "    </tr>\n",
       "  </tbody>\n",
       "</table>\n",
       "</div>"
      ],
      "text/plain": [
       "           id sex  apply_age  marriage highest_education highest_graduation  \\\n",
       "0  R224211691   F         24         0                 B                  Y   \n",
       "1  R223936966   F         28         0                 B                  Y   \n",
       "2  F228161684   F         24         0                 B                  Y   \n",
       "3  O200443001   F         21         0                 B                  Y   \n",
       "4  N225966272   F         22         0                 B                  I   \n",
       "\n",
       "   loan  loan_status  military_status  aboriginal  height  weight  \\\n",
       "0     0            1                1           0     162      60   \n",
       "1     1            1                1           0     158      52   \n",
       "2     1            1                1           0     164      70   \n",
       "3     0            1                1           0     152      41   \n",
       "4     0            1                1           0     155      45   \n",
       "\n",
       "   nationality highest_school_level  english_level hired_or_not relabel_check  \\\n",
       "0            1                    3            2.0            N             N   \n",
       "1            1                    2            2.0            N             N   \n",
       "2            1                    3            2.0            N             N   \n",
       "3            1                    5            2.0            N             N   \n",
       "4            1                    6            3.0            N             N   \n",
       "\n",
       "    bmi  \n",
       "0  22.9  \n",
       "1  20.8  \n",
       "2  26.0  \n",
       "3  17.7  \n",
       "4  18.7  "
      ]
     },
     "execution_count": 46,
     "metadata": {},
     "output_type": "execute_result"
    }
   ],
   "source": [
    "data.head()"
   ]
  },
  {
   "cell_type": "code",
   "execution_count": 47,
   "metadata": {},
   "outputs": [
    {
     "data": {
      "text/html": [
       "<div>\n",
       "<style scoped>\n",
       "    .dataframe tbody tr th:only-of-type {\n",
       "        vertical-align: middle;\n",
       "    }\n",
       "\n",
       "    .dataframe tbody tr th {\n",
       "        vertical-align: top;\n",
       "    }\n",
       "\n",
       "    .dataframe thead th {\n",
       "        text-align: right;\n",
       "    }\n",
       "</style>\n",
       "<table border=\"1\" class=\"dataframe\">\n",
       "  <thead>\n",
       "    <tr style=\"text-align: right;\">\n",
       "      <th></th>\n",
       "      <th>age</th>\n",
       "      <th>educ_class</th>\n",
       "      <th>found_job</th>\n",
       "      <th>gender</th>\n",
       "      <th>loan</th>\n",
       "      <th>loan_status</th>\n",
       "      <th>marriage</th>\n",
       "      <th>military_status</th>\n",
       "      <th>aboriginal</th>\n",
       "      <th>bmi</th>\n",
       "      <th>highest_school_level</th>\n",
       "      <th>english_level</th>\n",
       "      <th>highest_graduation</th>\n",
       "    </tr>\n",
       "  </thead>\n",
       "  <tbody>\n",
       "    <tr>\n",
       "      <td>40</td>\n",
       "      <td>26</td>\n",
       "      <td>B</td>\n",
       "      <td>0</td>\n",
       "      <td>male</td>\n",
       "      <td>1.0</td>\n",
       "      <td>1.0</td>\n",
       "      <td>N</td>\n",
       "      <td>1.0</td>\n",
       "      <td>0.0</td>\n",
       "      <td>26.0</td>\n",
       "      <td>7.0</td>\n",
       "      <td>2.0</td>\n",
       "      <td>Y</td>\n",
       "    </tr>\n",
       "    <tr>\n",
       "      <td>41</td>\n",
       "      <td>35</td>\n",
       "      <td>B</td>\n",
       "      <td>0</td>\n",
       "      <td>male</td>\n",
       "      <td>1.0</td>\n",
       "      <td>1.0</td>\n",
       "      <td>N</td>\n",
       "      <td>1.0</td>\n",
       "      <td>0.0</td>\n",
       "      <td>21.0</td>\n",
       "      <td>6.0</td>\n",
       "      <td>1.0</td>\n",
       "      <td>Y</td>\n",
       "    </tr>\n",
       "    <tr>\n",
       "      <td>42</td>\n",
       "      <td>33</td>\n",
       "      <td>B</td>\n",
       "      <td>1</td>\n",
       "      <td>male</td>\n",
       "      <td>1.0</td>\n",
       "      <td>1.0</td>\n",
       "      <td>N</td>\n",
       "      <td>1.0</td>\n",
       "      <td>0.0</td>\n",
       "      <td>20.0</td>\n",
       "      <td>6.0</td>\n",
       "      <td>4.0</td>\n",
       "      <td>Y</td>\n",
       "    </tr>\n",
       "    <tr>\n",
       "      <td>47</td>\n",
       "      <td>31</td>\n",
       "      <td>B</td>\n",
       "      <td>0</td>\n",
       "      <td>male</td>\n",
       "      <td>1.0</td>\n",
       "      <td>1.0</td>\n",
       "      <td>N</td>\n",
       "      <td>1.0</td>\n",
       "      <td>0.0</td>\n",
       "      <td>21.0</td>\n",
       "      <td>6.0</td>\n",
       "      <td>2.0</td>\n",
       "      <td>Y</td>\n",
       "    </tr>\n",
       "    <tr>\n",
       "      <td>52</td>\n",
       "      <td>26</td>\n",
       "      <td>B</td>\n",
       "      <td>0</td>\n",
       "      <td>male</td>\n",
       "      <td>1.0</td>\n",
       "      <td>1.0</td>\n",
       "      <td>Y</td>\n",
       "      <td>1.0</td>\n",
       "      <td>0.0</td>\n",
       "      <td>24.0</td>\n",
       "      <td>5.0</td>\n",
       "      <td>2.0</td>\n",
       "      <td>Y</td>\n",
       "    </tr>\n",
       "  </tbody>\n",
       "</table>\n",
       "</div>"
      ],
      "text/plain": [
       "    age educ_class  found_job gender  loan  loan_status marriage  \\\n",
       "40   26          B          0   male   1.0          1.0        N   \n",
       "41   35          B          0   male   1.0          1.0        N   \n",
       "42   33          B          1   male   1.0          1.0        N   \n",
       "47   31          B          0   male   1.0          1.0        N   \n",
       "52   26          B          0   male   1.0          1.0        Y   \n",
       "\n",
       "    military_status  aboriginal   bmi  highest_school_level  english_level  \\\n",
       "40              1.0         0.0  26.0                   7.0            2.0   \n",
       "41              1.0         0.0  21.0                   6.0            1.0   \n",
       "42              1.0         0.0  20.0                   6.0            4.0   \n",
       "47              1.0         0.0  21.0                   6.0            2.0   \n",
       "52              1.0         0.0  24.0                   5.0            2.0   \n",
       "\n",
       "   highest_graduation  \n",
       "40                  Y  \n",
       "41                  Y  \n",
       "42                  Y  \n",
       "47                  Y  \n",
       "52                  Y  "
      ]
     },
     "execution_count": 47,
     "metadata": {},
     "output_type": "execute_result"
    }
   ],
   "source": [
    "df.head()"
   ]
  },
  {
   "cell_type": "markdown",
   "metadata": {},
   "source": [
    "# 資料檢視"
   ]
  },
  {
   "cell_type": "code",
   "execution_count": 53,
   "metadata": {},
   "outputs": [
    {
     "name": "stdout",
     "output_type": "stream",
     "text": [
      "男性錄取率 0.09466019417475728\n",
      "女性錄取率 0.08118556701030928\n",
      "---------------------------------------------------------\n",
      "未婚錄取率 0.08851224105461393\n",
      "已婚錄取率 0.06349206349206349\n",
      "---------------------------------------------------------\n",
      "非原住民錄取率 0.08573853989813243\n",
      "原住民錄取率 0.1\n"
     ]
    }
   ],
   "source": [
    "# 理應中性欄位\n",
    "print(\"男性錄取率\", len(data[(data['sex']=='M')&(data['hired_or_not']=='Y')])/len(data[data['sex']=='M']))\n",
    "print(\"女性錄取率\", len(data[(data['sex']=='F')&(data['hired_or_not']=='Y')])/len(data[data['sex']=='F']))\n",
    "print(\"---------------------------------------------------------\")\n",
    "print(\"未婚錄取率\", len(data[(data['marriage']==0)&(data['hired_or_not']=='Y')])/len(data[data['marriage']==0]))\n",
    "print(\"已婚錄取率\", len(data[(data['marriage']==1)&(data['hired_or_not']=='Y')])/len(data[data['marriage']==1]))\n",
    "print(\"---------------------------------------------------------\")\n",
    "print(\"非原住民錄取率\", len(data[(data['aboriginal']==0)&(data['hired_or_not']=='Y')])/len(data[data['aboriginal']==0]))\n",
    "print(\"原住民錄取率\", len(data[(data['aboriginal']==1)&(data['hired_or_not']=='Y')])/len(data[data['aboriginal']==1]))"
   ]
  },
  {
   "cell_type": "code",
   "execution_count": 102,
   "metadata": {},
   "outputs": [
    {
     "name": "stdout",
     "output_type": "stream",
     "text": [
      "男性錄取率 0.09479810126947323\n",
      "女性錄取率 0.0807556770691413\n",
      "---------------------------------------------------------\n",
      "未婚錄取率 0.08825346513377028\n",
      "已婚錄取率 0.06357952838690298\n",
      "---------------------------------------------------------\n",
      "非原住民錄取率 0.08553758891570494\n",
      "原住民錄取率 0.0958564514225003\n"
     ]
    }
   ],
   "source": [
    "# 理應中性欄位\n",
    "print(\"男性錄取率\", len(df[(df['gender']=='male')&(df['found_job']==1)])/len(df[df['gender']=='male']))\n",
    "print(\"女性錄取率\", len(df[(df['gender']=='female')&(df['found_job']==1)])/len(df[df['gender']=='female']))\n",
    "print(\"---------------------------------------------------------\")\n",
    "print(\"未婚錄取率\", len(df[(df['marriage']=='N')&(df['found_job']==1)])/len(df[df['marriage']=='N']))\n",
    "print(\"已婚錄取率\", len(df[(df['marriage']=='Y')&(df['found_job']==1)])/len(df[df['marriage']=='Y']))\n",
    "print(\"---------------------------------------------------------\")\n",
    "print(\"非原住民錄取率\", len(df[(df['aboriginal']==0)&(df['found_job']==1)])/len(df[df['aboriginal']==0]))\n",
    "print(\"原住民錄取率\", len(df[(df['aboriginal']==1)&(df['found_job']==1)])/len(df[df['aboriginal']==1]))"
   ]
  },
  {
   "cell_type": "code",
   "execution_count": 101,
   "metadata": {},
   "outputs": [
    {
     "data": {
      "text/plain": [
       "0"
      ]
     },
     "execution_count": 101,
     "metadata": {},
     "output_type": "execute_result"
    }
   ],
   "source": [
    "len(df[df['marriage']==0])"
   ]
  },
  {
   "cell_type": "code",
   "execution_count": null,
   "metadata": {},
   "outputs": [],
   "source": [
    "# 性別\n",
    "sns.countplot(data['sex'], hue=data['hired_or_not'])\n",
    "display(data[['sex','hired_or_not']].groupby(['sex'], as_index=False).mean().round(3))"
   ]
  },
  {
   "cell_type": "code",
   "execution_count": 59,
   "metadata": {},
   "outputs": [
    {
     "name": "stdout",
     "output_type": "stream",
     "text": [
      "國立_1錄取率 0.11320754716981132\n",
      "國立_2錄取率 0.10050251256281408\n",
      "國立_3錄取率 0.038461538461538464\n",
      "私立_1錄取率 0.11238532110091744\n",
      "私立_2錄取率 0.07420494699646643\n",
      "私立_3錄取率 0.19626168224299065\n",
      "私立_4錄取率 0.0625\n"
     ]
    }
   ],
   "source": [
    "# 各學校等級錄取率\n",
    "print(\"國立_1錄取率\", len(data[(data['highest_school_level']==7)&(data['hired_or_not']=='Y')])/len(data[data['highest_school_level']==7]))\n",
    "print(\"國立_2錄取率\", len(data[(data['highest_school_level']==6)&(data['hired_or_not']=='Y')])/len(data[data['highest_school_level']==6]))\n",
    "print(\"國立_3錄取率\", len(data[(data['highest_school_level']==5)&(data['hired_or_not']=='Y')])/len(data[data['highest_school_level']==5]))\n",
    "print(\"私立_1錄取率\", len(data[(data['highest_school_level']==4)&(data['hired_or_not']=='Y')])/len(data[data['highest_school_level']==4]))\n",
    "print(\"私立_2錄取率\", len(data[(data['highest_school_level']==3)&(data['hired_or_not']=='Y')])/len(data[data['highest_school_level']==3]))\n",
    "print(\"私立_3錄取率\", len(data[(data['highest_school_level']==3)&(data['hired_or_not']=='Y')])/len(data[data['highest_school_level']==2]))\n",
    "print(\"私立_4錄取率\", len(data[(data['highest_school_level']==1)&(data['hired_or_not']=='Y')])/len(data[data['highest_school_level']==1]))"
   ]
  },
  {
   "cell_type": "code",
   "execution_count": 56,
   "metadata": {},
   "outputs": [
    {
     "name": "stdout",
     "output_type": "stream",
     "text": [
      "初級錄取率 0.1111111111111111\n",
      "中級錄取率 1.6666666666666667\n",
      "中高級錄取率 2.9444444444444446\n",
      "高級錄取率 0.8333333333333334\n",
      "優級錄取率 0.1111111111111111\n"
     ]
    }
   ],
   "source": [
    "# 各英文程度錄取率\n",
    "print(\"初級錄取率\", len(data[(data['english_level']==1)&(data['hired_or_not']=='Y')])/len(data[data['english_level']==1]))\n",
    "print(\"中級錄取率\", len(data[(data['english_level']==2)&(data['hired_or_not']=='Y')])/len(data[data['english_level']==1]))\n",
    "print(\"中高級錄取率\", len(data[(data['english_level']==3)&(data['hired_or_not']=='Y')])/len(data[data['english_level']==1]))\n",
    "print(\"高級錄取率\", len(data[(data['english_level']==4)&(data['hired_or_not']=='Y')])/len(data[data['english_level']==1]))\n",
    "print(\"優級錄取率\", len(data[(data['english_level']==5)&(data['hired_or_not']=='Y')])/len(data[data['english_level']==1]))"
   ]
  },
  {
   "cell_type": "code",
   "execution_count": 60,
   "metadata": {},
   "outputs": [
    {
     "name": "stdout",
     "output_type": "stream",
     "text": [
      "已婚女性不錄取者為國立_1比率 0.043478260869565216\n",
      "已婚女性不錄取者為國立_2比率 0.17391304347826086\n",
      "已婚女性不錄取者為國立_3比率 0.09782608695652174\n",
      "已婚女性不錄取者為私立_1比率 0.2608695652173913\n",
      "已婚女性不錄取者為私立_2比率 0.29347826086956524\n",
      "已婚女性不錄取者為私立_3比率 0.08695652173913043\n",
      "已婚女性不錄取者為私立_4比率 0.043478260869565216\n"
     ]
    }
   ],
   "source": [
    "print(\"已婚女性不錄取者為國立_1比率\", len(data[(data['sex']=='F')&(data['marriage']==1)&(data['highest_school_level']==7)&(data['hired_or_not']=='N')])/len(data[(data['sex']=='F')&(data['marriage']==1)&(data['hired_or_not']=='N')]))\n",
    "print(\"已婚女性不錄取者為國立_2比率\", len(data[(data['sex']=='F')&(data['marriage']==1)&(data['highest_school_level']==6)&(data['hired_or_not']=='N')])/len(data[(data['sex']=='F')&(data['marriage']==1)&(data['hired_or_not']=='N')]))\n",
    "print(\"已婚女性不錄取者為國立_3比率\", len(data[(data['sex']=='F')&(data['marriage']==1)&(data['highest_school_level']==5)&(data['hired_or_not']=='N')])/len(data[(data['sex']=='F')&(data['marriage']==1)&(data['hired_or_not']=='N')]))\n",
    "print(\"已婚女性不錄取者為私立_1比率\", len(data[(data['sex']=='F')&(data['marriage']==1)&(data['highest_school_level']==4)&(data['hired_or_not']=='N')])/len(data[(data['sex']=='F')&(data['marriage']==1)&(data['hired_or_not']=='N')]))\n",
    "print(\"已婚女性不錄取者為私立_2比率\", len(data[(data['sex']=='F')&(data['marriage']==1)&(data['highest_school_level']==3)&(data['hired_or_not']=='N')])/len(data[(data['sex']=='F')&(data['marriage']==1)&(data['hired_or_not']=='N')]))\n",
    "print(\"已婚女性不錄取者為私立_3比率\", len(data[(data['sex']=='F')&(data['marriage']==1)&(data['highest_school_level']==2)&(data['hired_or_not']=='N')])/len(data[(data['sex']=='F')&(data['marriage']==1)&(data['hired_or_not']=='N')]))\n",
    "print(\"已婚女性不錄取者為私立_4比率\", len(data[(data['sex']=='F')&(data['marriage']==1)&(data['highest_school_level']==1)&(data['hired_or_not']=='N')])/len(data[(data['sex']=='F')&(data['marriage']==1)&(data['hired_or_not']=='N')]))"
   ]
  },
  {
   "cell_type": "code",
   "execution_count": 63,
   "metadata": {},
   "outputs": [
    {
     "name": "stdout",
     "output_type": "stream",
     "text": [
      "未婚女性不錄取者為國立_1比率 0.0322061191626409\n",
      "未婚女性不錄取者為國立_2比率 0.16586151368760063\n",
      "未婚女性不錄取者為國立_3比率 0.06924315619967794\n",
      "未婚女性不錄取者為私立_1比率 0.36231884057971014\n",
      "未婚女性不錄取者為私立_2比率 0.24798711755233493\n",
      "未婚女性不錄取者為私立_3比率 0.09822866344605476\n",
      "未婚女性不錄取者為私立_4比率 0.024154589371980676\n"
     ]
    }
   ],
   "source": [
    "print(\"未婚女性不錄取者為國立_1比率\", len(data[(data['sex']=='F')&(data['marriage']==0)&(data['highest_school_level']==7)&(data['hired_or_not']=='N')])/len(data[(data['sex']=='F')&(data['marriage']==0)&(data['hired_or_not']=='N')]))\n",
    "print(\"未婚女性不錄取者為國立_2比率\", len(data[(data['sex']=='F')&(data['marriage']==0)&(data['highest_school_level']==6)&(data['hired_or_not']=='N')])/len(data[(data['sex']=='F')&(data['marriage']==0)&(data['hired_or_not']=='N')]))\n",
    "print(\"未婚女性不錄取者為國立_3比率\", len(data[(data['sex']=='F')&(data['marriage']==0)&(data['highest_school_level']==5)&(data['hired_or_not']=='N')])/len(data[(data['sex']=='F')&(data['marriage']==0)&(data['hired_or_not']=='N')]))\n",
    "print(\"未婚女性不錄取者為私立_1比率\", len(data[(data['sex']=='F')&(data['marriage']==0)&(data['highest_school_level']==4)&(data['hired_or_not']=='N')])/len(data[(data['sex']=='F')&(data['marriage']==0)&(data['hired_or_not']=='N')]))\n",
    "print(\"未婚女性不錄取者為私立_2比率\", len(data[(data['sex']=='F')&(data['marriage']==0)&(data['highest_school_level']==3)&(data['hired_or_not']=='N')])/len(data[(data['sex']=='F')&(data['marriage']==0)&(data['hired_or_not']=='N')]))\n",
    "print(\"未婚女性不錄取者為私立_3比率\", len(data[(data['sex']=='F')&(data['marriage']==0)&(data['highest_school_level']==2)&(data['hired_or_not']=='N')])/len(data[(data['sex']=='F')&(data['marriage']==0)&(data['hired_or_not']=='N')]))\n",
    "print(\"未婚女性不錄取者為私立_4比率\", len(data[(data['sex']=='F')&(data['marriage']==0)&(data['highest_school_level']==1)&(data['hired_or_not']=='N')])/len(data[(data['sex']=='F')&(data['marriage']==0)&(data['hired_or_not']=='N')]))"
   ]
  },
  {
   "cell_type": "code",
   "execution_count": 62,
   "metadata": {},
   "outputs": [
    {
     "name": "stdout",
     "output_type": "stream",
     "text": [
      "已婚男性不錄取者為國立_1比率 0.06340057636887608\n",
      "已婚男性不錄取者為國立_2比率 0.16138328530259366\n",
      "已婚男性不錄取者為國立_3比率 0.06340057636887608\n",
      "已婚男性不錄取者為私立_1比率 0.37175792507204614\n",
      "已婚男性不錄取者為私立_2比率 0.21613832853025935\n",
      "已婚男性不錄取者為私立_3比率 0.09510086455331412\n",
      "已婚男性不錄取者為私立_4比率 0.02881844380403458\n"
     ]
    }
   ],
   "source": [
    "print(\"已婚男性不錄取者為國立_1比率\", len(data[(data['sex']=='M')&(data['marriage']==0)&(data['highest_school_level']==7)&(data['hired_or_not']=='N')])/len(data[(data['sex']=='M')&(data['marriage']==0)&(data['hired_or_not']=='N')]))\n",
    "print(\"已婚男性不錄取者為國立_2比率\", len(data[(data['sex']=='M')&(data['marriage']==0)&(data['highest_school_level']==6)&(data['hired_or_not']=='N')])/len(data[(data['sex']=='M')&(data['marriage']==0)&(data['hired_or_not']=='N')]))\n",
    "print(\"已婚男性不錄取者為國立_3比率\", len(data[(data['sex']=='M')&(data['marriage']==0)&(data['highest_school_level']==5)&(data['hired_or_not']=='N')])/len(data[(data['sex']=='M')&(data['marriage']==0)&(data['hired_or_not']=='N')]))\n",
    "print(\"已婚男性不錄取者為私立_1比率\", len(data[(data['sex']=='M')&(data['marriage']==0)&(data['highest_school_level']==4)&(data['hired_or_not']=='N')])/len(data[(data['sex']=='M')&(data['marriage']==0)&(data['hired_or_not']=='N')]))\n",
    "print(\"已婚男性不錄取者為私立_2比率\", len(data[(data['sex']=='M')&(data['marriage']==0)&(data['highest_school_level']==3)&(data['hired_or_not']=='N')])/len(data[(data['sex']=='M')&(data['marriage']==0)&(data['hired_or_not']=='N')]))\n",
    "print(\"已婚男性不錄取者為私立_3比率\", len(data[(data['sex']=='M')&(data['marriage']==0)&(data['highest_school_level']==2)&(data['hired_or_not']=='N')])/len(data[(data['sex']=='M')&(data['marriage']==0)&(data['hired_or_not']=='N')]))\n",
    "print(\"已婚男性不錄取者為私立_4比率\", len(data[(data['sex']=='M')&(data['marriage']==0)&(data['highest_school_level']==1)&(data['hired_or_not']=='N')])/len(data[(data['sex']=='M')&(data['marriage']==0)&(data['hired_or_not']=='N')]))"
   ]
  },
  {
   "cell_type": "markdown",
   "metadata": {},
   "source": [
    "# 模型訓練"
   ]
  },
  {
   "cell_type": "code",
   "execution_count": 85,
   "metadata": {},
   "outputs": [],
   "source": [
    "def get_disparity_index(di):\n",
    "    return 1 - np.minimum(di, 1 / di)\n",
    "\n",
    "def get_bal_acc(classified_metric):\n",
    "    return 0.5 * (classified_metric.true_positive_rate() + classified_metric.true_negative_rate())\n",
    "\n",
    "def train_lr_model(dataset):\n",
    "    scale = StandardScaler().fit(dataset.features)\n",
    "    model = LogisticRegression(random_state=0, solver='liblinear')\n",
    "    x_train = scale.transform(dataset.features)\n",
    "    y_train = dataset.labels.ravel()\n",
    "    model.fit(x_train, y_train, sample_weight=dataset.instance_weights)\n",
    "    y_train_pred = model.predict(x_train)\n",
    "    return model, scale\n",
    "\n",
    "def test_lr_model(y_data_pred_prob, dataset, thresh_arr):\n",
    "    y_pred = (y_data_pred_prob[:,1] > thresh_arr).astype(np.double)\n",
    "    dataset_pred = dataset.copy()\n",
    "    dataset_pred.labels = y_pred\n",
    "    classified_metric = ClassificationMetric(dataset, dataset_pred, unprivileged_group, privileged_group)\n",
    "    metric_pred = BinaryLabelDatasetMetric(dataset_pred, unprivileged_group, privileged_group)\n",
    "    return dataset_pred.labels, classified_metric, metric_pred\n",
    "\n",
    "def get_y_pred_prob_lr(scale, model, dataset):\n",
    "    x = scale.transform(dataset.features)\n",
    "    y_pred_prob = model.predict_proba(x)\n",
    "    return y_pred_prob\n",
    "\n",
    "def get_best_bal_acc_cutoff(y_pred_prob, dataset):\n",
    "    y_validate_pred_prob = y_pred_prob\n",
    "    bal_acc_arr = []\n",
    "    disp_imp_arr = []\n",
    "\n",
    "    for thresh in tqdm(thresh_arr):\n",
    "        y_validate_pred = (y_validate_pred_prob[:,1] > thresh).astype(np.double)\n",
    "        dataset_pred = dataset.copy()\n",
    "        dataset_pred.labels = y_validate_pred\n",
    "\n",
    "        # Calculate accuracy for each threshold value\n",
    "        classified_metric = ClassificationMetric(dataset, dataset_pred, unprivileged_group, privileged_group)\n",
    "        bal_acc = get_bal_acc(classified_metric)\n",
    "        bal_acc_arr.append(bal_acc)\n",
    "\n",
    "        # Calculate fairness for each threshold value\n",
    "        metric_pred = BinaryLabelDatasetMetric(dataset_pred, unprivileged_group, privileged_group)\n",
    "        disp_imp_arr.append(metric_pred.disparate_impact())\n",
    "\n",
    "    # Find threshold for best accuracy\n",
    "    thresh_arr_best_ind = np.where(bal_acc_arr == np.max(bal_acc_arr))[0][0]\n",
    "    thresh_arr_best = np.array(thresh_arr)[thresh_arr_best_ind]\n",
    "\n",
    "    # Calculate accuracy and fairness at this threshold\n",
    "    best_bal_acc = bal_acc_arr[thresh_arr_best_ind]\n",
    "    disp_imp_at_best_bal_acc = disp_imp_arr[thresh_arr_best_ind]\n",
    "\n",
    "    # Output metrics\n",
    "    acc_metrics = pd.DataFrame({'thresh_arr_best_ind' : thresh_arr_best_ind, \\\n",
    "    'thresh_arr_best' : thresh_arr_best, \\\n",
    "    'best_bal_acc' : best_bal_acc, \\\n",
    "    'disp_imp_at_best_bal_acc' : disp_imp_at_best_bal_acc}, index=[0]).transpose()\n",
    "    return acc_metrics, bal_acc_arr, disp_imp_arr, dataset_pred.labels\n",
    "\n",
    "\n",
    "def plot_acc_vs_fairness(metric, metric_name, bal_acc_arr, thresh_arr_best_ind):\n",
    "    fig, ax1 = plt.subplots(figsize=(10, 7))\n",
    "    ax1.plot(thresh_arr, bal_acc_arr, color='b')\n",
    "    ax1.set_xlabel('Classification Thresholds', fontsize=16, fontweight='bold')\n",
    "    ax1.set_ylabel('Balanced Accuracy', color='b', fontsize=16, fontweight='bold')\n",
    "    ax1.xaxis.set_tick_params(labelsize=14)\n",
    "    ax1.yaxis.set_tick_params(labelsize=14, labelcolor='b')\n",
    "    ax2 = ax1.twinx()\n",
    "    ax2.plot(thresh_arr, metric, color='r')\n",
    "    ax2.set_ylabel(metric_name, color='r', fontsize=16, fontweight='bold')\n",
    "    ax2.axvline(np.array(thresh_arr)[thresh_arr_best_ind], color='k', linestyle=':')\n",
    "    ax2.yaxis.set_tick_params(labelsize=14, labelcolor='r')\n",
    "    ax2.grid(True)"
   ]
  },
  {
   "cell_type": "code",
   "execution_count": 65,
   "metadata": {},
   "outputs": [
    {
     "data": {
      "text/html": [
       "<div>\n",
       "<style scoped>\n",
       "    .dataframe tbody tr th:only-of-type {\n",
       "        vertical-align: middle;\n",
       "    }\n",
       "\n",
       "    .dataframe tbody tr th {\n",
       "        vertical-align: top;\n",
       "    }\n",
       "\n",
       "    .dataframe thead th {\n",
       "        text-align: right;\n",
       "    }\n",
       "</style>\n",
       "<table border=\"1\" class=\"dataframe\">\n",
       "  <thead>\n",
       "    <tr style=\"text-align: right;\">\n",
       "      <th></th>\n",
       "      <th>age</th>\n",
       "      <th>educ_class</th>\n",
       "      <th>found_job</th>\n",
       "      <th>gender</th>\n",
       "      <th>loan</th>\n",
       "      <th>loan_status</th>\n",
       "      <th>marriage</th>\n",
       "      <th>military_status</th>\n",
       "      <th>aboriginal</th>\n",
       "      <th>bmi</th>\n",
       "      <th>highest_school_level</th>\n",
       "      <th>english_level</th>\n",
       "      <th>highest_graduation</th>\n",
       "    </tr>\n",
       "  </thead>\n",
       "  <tbody>\n",
       "    <tr>\n",
       "      <td>40</td>\n",
       "      <td>26</td>\n",
       "      <td>B</td>\n",
       "      <td>0</td>\n",
       "      <td>male</td>\n",
       "      <td>1.0</td>\n",
       "      <td>1.0</td>\n",
       "      <td>N</td>\n",
       "      <td>1.0</td>\n",
       "      <td>0.0</td>\n",
       "      <td>26.0</td>\n",
       "      <td>7.0</td>\n",
       "      <td>2.0</td>\n",
       "      <td>Y</td>\n",
       "    </tr>\n",
       "    <tr>\n",
       "      <td>41</td>\n",
       "      <td>35</td>\n",
       "      <td>B</td>\n",
       "      <td>0</td>\n",
       "      <td>male</td>\n",
       "      <td>1.0</td>\n",
       "      <td>1.0</td>\n",
       "      <td>N</td>\n",
       "      <td>1.0</td>\n",
       "      <td>0.0</td>\n",
       "      <td>21.0</td>\n",
       "      <td>6.0</td>\n",
       "      <td>1.0</td>\n",
       "      <td>Y</td>\n",
       "    </tr>\n",
       "    <tr>\n",
       "      <td>42</td>\n",
       "      <td>33</td>\n",
       "      <td>B</td>\n",
       "      <td>1</td>\n",
       "      <td>male</td>\n",
       "      <td>1.0</td>\n",
       "      <td>1.0</td>\n",
       "      <td>N</td>\n",
       "      <td>1.0</td>\n",
       "      <td>0.0</td>\n",
       "      <td>20.0</td>\n",
       "      <td>6.0</td>\n",
       "      <td>4.0</td>\n",
       "      <td>Y</td>\n",
       "    </tr>\n",
       "    <tr>\n",
       "      <td>47</td>\n",
       "      <td>31</td>\n",
       "      <td>B</td>\n",
       "      <td>0</td>\n",
       "      <td>male</td>\n",
       "      <td>1.0</td>\n",
       "      <td>1.0</td>\n",
       "      <td>N</td>\n",
       "      <td>1.0</td>\n",
       "      <td>0.0</td>\n",
       "      <td>21.0</td>\n",
       "      <td>6.0</td>\n",
       "      <td>2.0</td>\n",
       "      <td>Y</td>\n",
       "    </tr>\n",
       "    <tr>\n",
       "      <td>52</td>\n",
       "      <td>26</td>\n",
       "      <td>B</td>\n",
       "      <td>0</td>\n",
       "      <td>male</td>\n",
       "      <td>1.0</td>\n",
       "      <td>1.0</td>\n",
       "      <td>Y</td>\n",
       "      <td>1.0</td>\n",
       "      <td>0.0</td>\n",
       "      <td>24.0</td>\n",
       "      <td>5.0</td>\n",
       "      <td>2.0</td>\n",
       "      <td>Y</td>\n",
       "    </tr>\n",
       "  </tbody>\n",
       "</table>\n",
       "</div>"
      ],
      "text/plain": [
       "    age educ_class  found_job gender  loan  loan_status marriage  \\\n",
       "40   26          B          0   male   1.0          1.0        N   \n",
       "41   35          B          0   male   1.0          1.0        N   \n",
       "42   33          B          1   male   1.0          1.0        N   \n",
       "47   31          B          0   male   1.0          1.0        N   \n",
       "52   26          B          0   male   1.0          1.0        Y   \n",
       "\n",
       "    military_status  aboriginal   bmi  highest_school_level  english_level  \\\n",
       "40              1.0         0.0  26.0                   7.0            2.0   \n",
       "41              1.0         0.0  21.0                   6.0            1.0   \n",
       "42              1.0         0.0  20.0                   6.0            4.0   \n",
       "47              1.0         0.0  21.0                   6.0            2.0   \n",
       "52              1.0         0.0  24.0                   5.0            2.0   \n",
       "\n",
       "   highest_graduation  \n",
       "40                  Y  \n",
       "41                  Y  \n",
       "42                  Y  \n",
       "47                  Y  \n",
       "52                  Y  "
      ]
     },
     "execution_count": 65,
     "metadata": {},
     "output_type": "execute_result"
    }
   ],
   "source": [
    "df.head()"
   ]
  },
  {
   "cell_type": "markdown",
   "metadata": {},
   "source": [
    "# 將男女資料分開來處理並訓練模型"
   ]
  },
  {
   "cell_type": "code",
   "execution_count": 66,
   "metadata": {},
   "outputs": [
    {
     "name": "stdout",
     "output_type": "stream",
     "text": [
      "653242\n"
     ]
    },
    {
     "data": {
      "text/html": [
       "<div>\n",
       "<style scoped>\n",
       "    .dataframe tbody tr th:only-of-type {\n",
       "        vertical-align: middle;\n",
       "    }\n",
       "\n",
       "    .dataframe tbody tr th {\n",
       "        vertical-align: top;\n",
       "    }\n",
       "\n",
       "    .dataframe thead th {\n",
       "        text-align: right;\n",
       "    }\n",
       "</style>\n",
       "<table border=\"1\" class=\"dataframe\">\n",
       "  <thead>\n",
       "    <tr style=\"text-align: right;\">\n",
       "      <th></th>\n",
       "      <th>age</th>\n",
       "      <th>educ_class</th>\n",
       "      <th>found_job</th>\n",
       "      <th>loan</th>\n",
       "      <th>loan_status</th>\n",
       "      <th>marriage</th>\n",
       "      <th>military_status</th>\n",
       "      <th>aboriginal</th>\n",
       "      <th>bmi</th>\n",
       "      <th>highest_school_level</th>\n",
       "      <th>english_level</th>\n",
       "      <th>highest_graduation</th>\n",
       "    </tr>\n",
       "  </thead>\n",
       "  <tbody>\n",
       "    <tr>\n",
       "      <td>10</td>\n",
       "      <td>17</td>\n",
       "      <td>B</td>\n",
       "      <td>0</td>\n",
       "      <td>1.0</td>\n",
       "      <td>1.0</td>\n",
       "      <td>N</td>\n",
       "      <td>1.0</td>\n",
       "      <td>0.0</td>\n",
       "      <td>24.0</td>\n",
       "      <td>4.0</td>\n",
       "      <td>2.0</td>\n",
       "      <td>Y</td>\n",
       "    </tr>\n",
       "    <tr>\n",
       "      <td>25</td>\n",
       "      <td>22</td>\n",
       "      <td>B</td>\n",
       "      <td>0</td>\n",
       "      <td>1.0</td>\n",
       "      <td>1.0</td>\n",
       "      <td>N</td>\n",
       "      <td>1.0</td>\n",
       "      <td>0.0</td>\n",
       "      <td>20.0</td>\n",
       "      <td>1.0</td>\n",
       "      <td>2.0</td>\n",
       "      <td>Y</td>\n",
       "    </tr>\n",
       "    <tr>\n",
       "      <td>27</td>\n",
       "      <td>23</td>\n",
       "      <td>B</td>\n",
       "      <td>0</td>\n",
       "      <td>1.0</td>\n",
       "      <td>1.0</td>\n",
       "      <td>N</td>\n",
       "      <td>1.0</td>\n",
       "      <td>0.0</td>\n",
       "      <td>28.0</td>\n",
       "      <td>3.0</td>\n",
       "      <td>2.0</td>\n",
       "      <td>Y</td>\n",
       "    </tr>\n",
       "    <tr>\n",
       "      <td>31</td>\n",
       "      <td>25</td>\n",
       "      <td>B</td>\n",
       "      <td>0</td>\n",
       "      <td>1.0</td>\n",
       "      <td>1.0</td>\n",
       "      <td>N</td>\n",
       "      <td>1.0</td>\n",
       "      <td>0.0</td>\n",
       "      <td>15.0</td>\n",
       "      <td>4.0</td>\n",
       "      <td>3.0</td>\n",
       "      <td>Y</td>\n",
       "    </tr>\n",
       "    <tr>\n",
       "      <td>53</td>\n",
       "      <td>23</td>\n",
       "      <td>B</td>\n",
       "      <td>0</td>\n",
       "      <td>1.0</td>\n",
       "      <td>0.0</td>\n",
       "      <td>N</td>\n",
       "      <td>1.0</td>\n",
       "      <td>0.0</td>\n",
       "      <td>17.0</td>\n",
       "      <td>2.0</td>\n",
       "      <td>4.0</td>\n",
       "      <td>Y</td>\n",
       "    </tr>\n",
       "  </tbody>\n",
       "</table>\n",
       "</div>"
      ],
      "text/plain": [
       "    age educ_class  found_job  loan  loan_status marriage  military_status  \\\n",
       "10   17          B          0   1.0          1.0        N              1.0   \n",
       "25   22          B          0   1.0          1.0        N              1.0   \n",
       "27   23          B          0   1.0          1.0        N              1.0   \n",
       "31   25          B          0   1.0          1.0        N              1.0   \n",
       "53   23          B          0   1.0          0.0        N              1.0   \n",
       "\n",
       "    aboriginal   bmi  highest_school_level  english_level highest_graduation  \n",
       "10         0.0  24.0                   4.0            2.0                  Y  \n",
       "25         0.0  20.0                   1.0            2.0                  Y  \n",
       "27         0.0  28.0                   3.0            2.0                  Y  \n",
       "31         0.0  15.0                   4.0            3.0                  Y  \n",
       "53         0.0  17.0                   2.0            4.0                  Y  "
      ]
     },
     "execution_count": 66,
     "metadata": {},
     "output_type": "execute_result"
    }
   ],
   "source": [
    "# 女性做婚姻狀態檢查\n",
    "df_female = df[df['gender']=='female']\n",
    "df_female = df_female.drop('gender', axis=1)\n",
    "print(len(df_female))\n",
    "df_female.head()"
   ]
  },
  {
   "cell_type": "markdown",
   "metadata": {},
   "source": [
    "# Convert to AIF360 format"
   ]
  },
  {
   "cell_type": "code",
   "execution_count": 67,
   "metadata": {},
   "outputs": [
    {
     "data": {
      "text/html": [
       "<div>\n",
       "<style scoped>\n",
       "    .dataframe tbody tr th:only-of-type {\n",
       "        vertical-align: middle;\n",
       "    }\n",
       "\n",
       "    .dataframe tbody tr th {\n",
       "        vertical-align: top;\n",
       "    }\n",
       "\n",
       "    .dataframe thead th {\n",
       "        text-align: right;\n",
       "    }\n",
       "</style>\n",
       "<table border=\"1\" class=\"dataframe\">\n",
       "  <thead>\n",
       "    <tr style=\"text-align: right;\">\n",
       "      <th></th>\n",
       "      <th>found_job</th>\n",
       "      <th>age</th>\n",
       "      <th>loan</th>\n",
       "      <th>loan_status</th>\n",
       "      <th>military_status</th>\n",
       "      <th>aboriginal</th>\n",
       "      <th>highest_school_level</th>\n",
       "      <th>english_level</th>\n",
       "      <th>bmi</th>\n",
       "      <th>educ_class_B</th>\n",
       "      <th>educ_class_D</th>\n",
       "      <th>educ_class_M</th>\n",
       "      <th>highest_graduation_D</th>\n",
       "      <th>highest_graduation_I</th>\n",
       "      <th>highest_graduation_Y</th>\n",
       "      <th>marriage_N</th>\n",
       "      <th>marriage_Y</th>\n",
       "    </tr>\n",
       "  </thead>\n",
       "  <tbody>\n",
       "    <tr>\n",
       "      <td>10</td>\n",
       "      <td>0</td>\n",
       "      <td>17</td>\n",
       "      <td>1.0</td>\n",
       "      <td>1.0</td>\n",
       "      <td>1.0</td>\n",
       "      <td>0.0</td>\n",
       "      <td>4.0</td>\n",
       "      <td>2.0</td>\n",
       "      <td>24.0</td>\n",
       "      <td>1</td>\n",
       "      <td>0</td>\n",
       "      <td>0</td>\n",
       "      <td>0</td>\n",
       "      <td>0</td>\n",
       "      <td>1</td>\n",
       "      <td>1</td>\n",
       "      <td>0</td>\n",
       "    </tr>\n",
       "    <tr>\n",
       "      <td>25</td>\n",
       "      <td>0</td>\n",
       "      <td>22</td>\n",
       "      <td>1.0</td>\n",
       "      <td>1.0</td>\n",
       "      <td>1.0</td>\n",
       "      <td>0.0</td>\n",
       "      <td>1.0</td>\n",
       "      <td>2.0</td>\n",
       "      <td>20.0</td>\n",
       "      <td>1</td>\n",
       "      <td>0</td>\n",
       "      <td>0</td>\n",
       "      <td>0</td>\n",
       "      <td>0</td>\n",
       "      <td>1</td>\n",
       "      <td>1</td>\n",
       "      <td>0</td>\n",
       "    </tr>\n",
       "    <tr>\n",
       "      <td>27</td>\n",
       "      <td>0</td>\n",
       "      <td>23</td>\n",
       "      <td>1.0</td>\n",
       "      <td>1.0</td>\n",
       "      <td>1.0</td>\n",
       "      <td>0.0</td>\n",
       "      <td>3.0</td>\n",
       "      <td>2.0</td>\n",
       "      <td>28.0</td>\n",
       "      <td>1</td>\n",
       "      <td>0</td>\n",
       "      <td>0</td>\n",
       "      <td>0</td>\n",
       "      <td>0</td>\n",
       "      <td>1</td>\n",
       "      <td>1</td>\n",
       "      <td>0</td>\n",
       "    </tr>\n",
       "    <tr>\n",
       "      <td>31</td>\n",
       "      <td>0</td>\n",
       "      <td>25</td>\n",
       "      <td>1.0</td>\n",
       "      <td>1.0</td>\n",
       "      <td>1.0</td>\n",
       "      <td>0.0</td>\n",
       "      <td>4.0</td>\n",
       "      <td>3.0</td>\n",
       "      <td>15.0</td>\n",
       "      <td>1</td>\n",
       "      <td>0</td>\n",
       "      <td>0</td>\n",
       "      <td>0</td>\n",
       "      <td>0</td>\n",
       "      <td>1</td>\n",
       "      <td>1</td>\n",
       "      <td>0</td>\n",
       "    </tr>\n",
       "    <tr>\n",
       "      <td>53</td>\n",
       "      <td>0</td>\n",
       "      <td>23</td>\n",
       "      <td>1.0</td>\n",
       "      <td>0.0</td>\n",
       "      <td>1.0</td>\n",
       "      <td>0.0</td>\n",
       "      <td>2.0</td>\n",
       "      <td>4.0</td>\n",
       "      <td>17.0</td>\n",
       "      <td>1</td>\n",
       "      <td>0</td>\n",
       "      <td>0</td>\n",
       "      <td>0</td>\n",
       "      <td>0</td>\n",
       "      <td>1</td>\n",
       "      <td>1</td>\n",
       "      <td>0</td>\n",
       "    </tr>\n",
       "  </tbody>\n",
       "</table>\n",
       "</div>"
      ],
      "text/plain": [
       "    found_job  age  loan  loan_status  military_status  aboriginal  \\\n",
       "10          0   17   1.0          1.0              1.0         0.0   \n",
       "25          0   22   1.0          1.0              1.0         0.0   \n",
       "27          0   23   1.0          1.0              1.0         0.0   \n",
       "31          0   25   1.0          1.0              1.0         0.0   \n",
       "53          0   23   1.0          0.0              1.0         0.0   \n",
       "\n",
       "    highest_school_level  english_level   bmi  educ_class_B  educ_class_D  \\\n",
       "10                   4.0            2.0  24.0             1             0   \n",
       "25                   1.0            2.0  20.0             1             0   \n",
       "27                   3.0            2.0  28.0             1             0   \n",
       "31                   4.0            3.0  15.0             1             0   \n",
       "53                   2.0            4.0  17.0             1             0   \n",
       "\n",
       "    educ_class_M  highest_graduation_D  highest_graduation_I  \\\n",
       "10             0                     0                     0   \n",
       "25             0                     0                     0   \n",
       "27             0                     0                     0   \n",
       "31             0                     0                     0   \n",
       "53             0                     0                     0   \n",
       "\n",
       "    highest_graduation_Y  marriage_N  marriage_Y  \n",
       "10                     1           1           0  \n",
       "25                     1           1           0  \n",
       "27                     1           1           0  \n",
       "31                     1           1           0  \n",
       "53                     1           1           0  "
      ]
     },
     "execution_count": 67,
     "metadata": {},
     "output_type": "execute_result"
    }
   ],
   "source": [
    "df_female_onehot = pd.concat([df_female[['found_job', 'age', 'loan', 'loan_status', 'military_status', 'aboriginal', 'highest_school_level', 'english_level', 'bmi']], \n",
    "                        pd.get_dummies(df_female[['educ_class', 'highest_graduation', 'marriage']])], axis=1)\n",
    "df_female_onehot.head()"
   ]
  },
  {
   "cell_type": "code",
   "execution_count": 68,
   "metadata": {},
   "outputs": [],
   "source": [
    "df_female_aif = BinaryLabelDataset(df=df_female_onehot.drop('marriage_N', axis=1), label_names=['found_job'], protected_attribute_names=['marriage_Y'])"
   ]
  },
  {
   "cell_type": "code",
   "execution_count": 69,
   "metadata": {},
   "outputs": [],
   "source": [
    "privileged_group = [{'marriage_Y': 0}]\n",
    "unprivileged_group = [{'marriage_Y': 1}]"
   ]
  },
  {
   "cell_type": "code",
   "execution_count": 70,
   "metadata": {},
   "outputs": [
    {
     "name": "stdout",
     "output_type": "stream",
     "text": [
      "[(326621, 15), (195972, 15), (130649, 15)]\n"
     ]
    }
   ],
   "source": [
    "df_orig_trn, df_orig_val, df_orig_tst = df_female_aif.split([0.5, 0.8], shuffle=True)\n",
    "print([x.features.shape for x in [df_orig_trn, df_orig_val, df_orig_tst]])"
   ]
  },
  {
   "cell_type": "markdown",
   "metadata": {},
   "source": [
    "# Compute fairness metric on original dataset"
   ]
  },
  {
   "cell_type": "code",
   "execution_count": 86,
   "metadata": {},
   "outputs": [
    {
     "name": "stdout",
     "output_type": "stream",
     "text": [
      "1-min(DI, 1/DI): 0.65\n"
     ]
    }
   ],
   "source": [
    "metric_orig_trn = BinaryLabelDatasetMetric(df_female_aif, unprivileged_group, privileged_group)\n",
    "print('1-min(DI, 1/DI):', get_disparity_index(metric_orig_trn.disparate_impact()).round(3))"
   ]
  },
  {
   "cell_type": "markdown",
   "metadata": {},
   "source": [
    "# Train model on original dataset"
   ]
  },
  {
   "cell_type": "code",
   "execution_count": 87,
   "metadata": {},
   "outputs": [],
   "source": [
    "lr_orig, lr_scale_orig = train_lr_model(df_orig_trn)"
   ]
  },
  {
   "cell_type": "code",
   "execution_count": 88,
   "metadata": {},
   "outputs": [],
   "source": [
    "thresh_arr = np.linspace(0.01, 0.5, 100)"
   ]
  },
  {
   "cell_type": "code",
   "execution_count": 93,
   "metadata": {},
   "outputs": [],
   "source": [
    "y_validate_pred_prob_orig = get_y_pred_prob_lr(scale=lr_scale_orig, model=lr_orig, dataset=df_orig_val)"
   ]
  },
  {
   "cell_type": "code",
   "execution_count": 95,
   "metadata": {},
   "outputs": [
    {
     "name": "stderr",
     "output_type": "stream",
     "text": [
      "100%|██████████| 100/100 [00:32<00:00,  3.10it/s]\n"
     ]
    }
   ],
   "source": [
    "acc_metrics_orig, bal_acc_arr_orig, disp_imp_arr_orig, dataset_pred_labels_orig = \\\n",
    "get_best_bal_acc_cutoff(y_pred_prob=y_validate_pred_prob_orig, dataset=df_female_aif)"
   ]
  },
  {
   "cell_type": "code",
   "execution_count": 96,
   "metadata": {},
   "outputs": [
    {
     "name": "stdout",
     "output_type": "stream",
     "text": [
      "Threshold corresponding to best balanced accuracy: 0.074\n",
      "Best balanced accuracy: 0.647\n",
      "1-min(DI, 1/DI): 0.926\n"
     ]
    }
   ],
   "source": [
    "print('Threshold corresponding to best balanced accuracy:', acc_metrics_orig.loc['thresh_arr_best', 0].round(3))\n",
    "print('Best balanced accuracy:', acc_metrics_orig.loc['best_bal_acc', 0].round(3))\n",
    "print('1-min(DI, 1/DI):', get_disparity_index(acc_metrics_orig.loc['disp_imp_at_best_bal_acc', 0]).round(3))"
   ]
  },
  {
   "cell_type": "code",
   "execution_count": 97,
   "metadata": {},
   "outputs": [
    {
     "name": "stderr",
     "output_type": "stream",
     "text": [
      "C:\\ProgramData\\Anaconda3\\lib\\site-packages\\ipykernel_launcher.py:2: RuntimeWarning: divide by zero encountered in true_divide\n",
      "  \n"
     ]
    },
    {
     "data": {
      "image/png": "[encoded data removed]",
      "text/plain": [
       "<Figure size 720x504 with 2 Axes>"
      ]
     },
     "metadata": {
      "needs_background": "light"
     },
     "output_type": "display_data"
    }
   ],
   "source": [
    "plot_acc_vs_fairness(get_disparity_index(np.array(disp_imp_arr_orig)), \\\n",
    "  '1-min(DI, 1/DI)', bal_acc_arr_orig, \\\n",
    "  acc_metrics_orig.loc['thresh_arr_best_ind', 0].astype(int))"
   ]
  },
  {
   "cell_type": "markdown",
   "metadata": {},
   "source": [
    "# Test model on original dataset"
   ]
  },
  {
   "cell_type": "code",
   "execution_count": 166,
   "metadata": {},
   "outputs": [],
   "source": [
    "y_test_pred_prob_orig = get_y_pred_prob_lr(scale=lr_scale_orig, model=lr_orig, dataset=df_orig_tst)\n",
    "\n",
    "dataset_pred_labels_orig, classified_metric_orig, metric_pred_orig = test_lr_model(\\\n",
    "  y_data_pred_prob=y_test_pred_prob_orig, dataset=df_orig_tst,\\\n",
    "  thresh_arr=acc_metrics_orig.loc['thresh_arr_best', 0])"
   ]
  },
  {
   "cell_type": "code",
   "execution_count": 167,
   "metadata": {},
   "outputs": [
    {
     "name": "stdout",
     "output_type": "stream",
     "text": [
      "Threshold corresponding to best balanced accuracy: 0.074\n",
      "Best balanced accuracy: 0.647\n",
      "1-min(DI, 1/DI): 0.931\n"
     ]
    }
   ],
   "source": [
    "print('Threshold corresponding to best balanced accuracy:', acc_metrics_orig.loc['thresh_arr_best', 0].round(3))\n",
    "print('Best balanced accuracy:', get_bal_acc(classified_metric_orig).round(3))\n",
    "print('1-min(DI, 1/DI):', get_disparity_index(metric_pred_orig.disparate_impact()).round(3))"
   ]
  },
  {
   "cell_type": "markdown",
   "metadata": {},
   "source": [
    "# Bias mitigation"
   ]
  },
  {
   "cell_type": "code",
   "execution_count": 168,
   "metadata": {},
   "outputs": [],
   "source": [
    "RW = Reweighing(unprivileged_group, privileged_group)\n",
    "df_transf_trn = RW.fit_transform(df_orig_trn)"
   ]
  },
  {
   "cell_type": "code",
   "execution_count": 169,
   "metadata": {},
   "outputs": [
    {
     "name": "stdout",
     "output_type": "stream",
     "text": [
      "1-min(DI, 1/DI): 0.0\n"
     ]
    }
   ],
   "source": [
    "metric_transf_trn = BinaryLabelDatasetMetric(df_transf_trn, unprivileged_group, privileged_group)\n",
    "print('1-min(DI, 1/DI):', get_disparity_index(metric_transf_trn.disparate_impact()).round(3))"
   ]
  },
  {
   "cell_type": "markdown",
   "metadata": {},
   "source": [
    "# Train model on transformed dataset"
   ]
  },
  {
   "cell_type": "code",
   "execution_count": 170,
   "metadata": {},
   "outputs": [],
   "source": [
    "lr_transf, lr_scale_transf = train_lr_model(df_transf_trn)"
   ]
  },
  {
   "cell_type": "code",
   "execution_count": 171,
   "metadata": {},
   "outputs": [],
   "source": [
    "y_validate_pred_prob_transf = get_y_pred_prob_lr(scale=lr_scale_transf, model=lr_transf, dataset=df_orig_val)"
   ]
  },
  {
   "cell_type": "code",
   "execution_count": 172,
   "metadata": {},
   "outputs": [
    {
     "name": "stderr",
     "output_type": "stream",
     "text": [
      "100%|██████████| 100/100 [00:10<00:00,  9.41it/s]\n"
     ]
    }
   ],
   "source": [
    "acc_metrics_transf, bal_acc_arr_transf, disp_imp_arr_transf, dataset_pred_labels_transf = \\\n",
    "get_best_bal_acc_cutoff(y_pred_prob=y_validate_pred_prob_transf, dataset=df_orig_val)"
   ]
  },
  {
   "cell_type": "code",
   "execution_count": 173,
   "metadata": {},
   "outputs": [
    {
     "name": "stdout",
     "output_type": "stream",
     "text": [
      "Threshold corresponding to best balanced accuracy: 0.069\n",
      "Best balanced accuracy: 0.633\n",
      "1-min(DI, 1/DI): 0.018\n"
     ]
    }
   ],
   "source": [
    "print('Threshold corresponding to best balanced accuracy:', acc_metrics_transf.loc['thresh_arr_best', 0].round(3))\n",
    "print('Best balanced accuracy:', acc_metrics_transf.loc['best_bal_acc', 0].round(3))\n",
    "print('1-min(DI, 1/DI):', get_disparity_index(acc_metrics_transf.loc['disp_imp_at_best_bal_acc', 0]).round(3))"
   ]
  },
  {
   "cell_type": "code",
   "execution_count": 174,
   "metadata": {},
   "outputs": [
    {
     "name": "stderr",
     "output_type": "stream",
     "text": [
      "C:\\ProgramData\\Anaconda3\\lib\\site-packages\\ipykernel_launcher.py:2: RuntimeWarning: divide by zero encountered in true_divide\n",
      "  \n"
     ]
    },
    {
     "data": {
      "image/png": "[encoded data removed]",
      "text/plain": [
       "<Figure size 720x504 with 2 Axes>"
      ]
     },
     "metadata": {
      "needs_background": "light"
     },
     "output_type": "display_data"
    }
   ],
   "source": [
    "plot_acc_vs_fairness(get_disparity_index(np.array(disp_imp_arr_transf)), \\\n",
    "  '1-min(DI, 1/DI)', bal_acc_arr_transf, \\\n",
    "  acc_metrics_orig.loc['thresh_arr_best_ind', 0].astype(int))"
   ]
  },
  {
   "cell_type": "markdown",
   "metadata": {},
   "source": [
    "# Test model on transformed dataset"
   ]
  },
  {
   "cell_type": "code",
   "execution_count": 175,
   "metadata": {},
   "outputs": [],
   "source": [
    "y_test_pred_prob_transf = get_y_pred_prob_lr(scale=lr_scale_transf, model=lr_transf, dataset=df_orig_tst)\n",
    "\n",
    "dataset_pred_labels_transf, classified_metric_transf, metric_pred_transf = test_lr_model(\\\n",
    "  y_data_pred_prob=y_test_pred_prob_transf, dataset=df_orig_tst,\\\n",
    "  thresh_arr=acc_metrics_transf.loc['thresh_arr_best', 0])"
   ]
  },
  {
   "cell_type": "code",
   "execution_count": 176,
   "metadata": {},
   "outputs": [
    {
     "name": "stdout",
     "output_type": "stream",
     "text": [
      "Threshold corresponding to best balanced accuracy: 0.069\n",
      "Best balanced accuracy: 0.636\n",
      "1-min(DI, 1/DI): 0.038\n"
     ]
    }
   ],
   "source": [
    "print('Threshold corresponding to best balanced accuracy:', acc_metrics_transf.loc['thresh_arr_best', 0].round(3))\n",
    "print('Best balanced accuracy:', get_bal_acc(classified_metric_transf).round(3))\n",
    "print('1-min(DI, 1/DI):', get_disparity_index(metric_pred_transf.disparate_impact()).round(3))"
   ]
  },
  {
   "cell_type": "code",
   "execution_count": 177,
   "metadata": {},
   "outputs": [
    {
     "name": "stdout",
     "output_type": "stream",
     "text": [
      "347017\n"
     ]
    },
    {
     "data": {
      "text/html": [
       "<div>\n",
       "<style scoped>\n",
       "    .dataframe tbody tr th:only-of-type {\n",
       "        vertical-align: middle;\n",
       "    }\n",
       "\n",
       "    .dataframe tbody tr th {\n",
       "        vertical-align: top;\n",
       "    }\n",
       "\n",
       "    .dataframe thead th {\n",
       "        text-align: right;\n",
       "    }\n",
       "</style>\n",
       "<table border=\"1\" class=\"dataframe\">\n",
       "  <thead>\n",
       "    <tr style=\"text-align: right;\">\n",
       "      <th></th>\n",
       "      <th>age</th>\n",
       "      <th>educ_class</th>\n",
       "      <th>found_job</th>\n",
       "      <th>loan</th>\n",
       "      <th>loan_status</th>\n",
       "      <th>marriage</th>\n",
       "      <th>military_status</th>\n",
       "      <th>aboriginal</th>\n",
       "      <th>bmi</th>\n",
       "      <th>highest_school_level</th>\n",
       "      <th>english_level</th>\n",
       "      <th>highest_graduation</th>\n",
       "    </tr>\n",
       "  </thead>\n",
       "  <tbody>\n",
       "    <tr>\n",
       "      <td>3</td>\n",
       "      <td>22</td>\n",
       "      <td>B</td>\n",
       "      <td>0</td>\n",
       "      <td>1.0</td>\n",
       "      <td>1.0</td>\n",
       "      <td>N</td>\n",
       "      <td>1.0</td>\n",
       "      <td>0.0</td>\n",
       "      <td>18.0</td>\n",
       "      <td>3.0</td>\n",
       "      <td>2.0</td>\n",
       "      <td>Y</td>\n",
       "    </tr>\n",
       "    <tr>\n",
       "      <td>22</td>\n",
       "      <td>27</td>\n",
       "      <td>B</td>\n",
       "      <td>0</td>\n",
       "      <td>1.0</td>\n",
       "      <td>1.0</td>\n",
       "      <td>N</td>\n",
       "      <td>1.0</td>\n",
       "      <td>0.0</td>\n",
       "      <td>23.0</td>\n",
       "      <td>3.0</td>\n",
       "      <td>4.0</td>\n",
       "      <td>Y</td>\n",
       "    </tr>\n",
       "    <tr>\n",
       "      <td>34</td>\n",
       "      <td>32</td>\n",
       "      <td>B</td>\n",
       "      <td>0</td>\n",
       "      <td>1.0</td>\n",
       "      <td>1.0</td>\n",
       "      <td>N</td>\n",
       "      <td>1.0</td>\n",
       "      <td>0.0</td>\n",
       "      <td>24.0</td>\n",
       "      <td>4.0</td>\n",
       "      <td>3.0</td>\n",
       "      <td>Y</td>\n",
       "    </tr>\n",
       "    <tr>\n",
       "      <td>51</td>\n",
       "      <td>19</td>\n",
       "      <td>M</td>\n",
       "      <td>0</td>\n",
       "      <td>1.0</td>\n",
       "      <td>1.0</td>\n",
       "      <td>N</td>\n",
       "      <td>1.0</td>\n",
       "      <td>0.0</td>\n",
       "      <td>20.0</td>\n",
       "      <td>4.0</td>\n",
       "      <td>3.0</td>\n",
       "      <td>Y</td>\n",
       "    </tr>\n",
       "    <tr>\n",
       "      <td>66</td>\n",
       "      <td>26</td>\n",
       "      <td>B</td>\n",
       "      <td>0</td>\n",
       "      <td>1.0</td>\n",
       "      <td>1.0</td>\n",
       "      <td>N</td>\n",
       "      <td>1.0</td>\n",
       "      <td>0.0</td>\n",
       "      <td>20.0</td>\n",
       "      <td>7.0</td>\n",
       "      <td>2.0</td>\n",
       "      <td>Y</td>\n",
       "    </tr>\n",
       "  </tbody>\n",
       "</table>\n",
       "</div>"
      ],
      "text/plain": [
       "    age educ_class  found_job  loan  loan_status marriage  military_status  \\\n",
       "3    22          B          0   1.0          1.0        N              1.0   \n",
       "22   27          B          0   1.0          1.0        N              1.0   \n",
       "34   32          B          0   1.0          1.0        N              1.0   \n",
       "51   19          M          0   1.0          1.0        N              1.0   \n",
       "66   26          B          0   1.0          1.0        N              1.0   \n",
       "\n",
       "    aboriginal   bmi  highest_school_level  english_level highest_graduation  \n",
       "3          0.0  18.0                   3.0            2.0                  Y  \n",
       "22         0.0  23.0                   3.0            4.0                  Y  \n",
       "34         0.0  24.0                   4.0            3.0                  Y  \n",
       "51         0.0  20.0                   4.0            3.0                  Y  \n",
       "66         0.0  20.0                   7.0            2.0                  Y  "
      ]
     },
     "execution_count": 177,
     "metadata": {},
     "output_type": "execute_result"
    }
   ],
   "source": [
    "# 男性做婚姻狀態檢查\n",
    "df_male = df[df['gender']=='male']\n",
    "df_male = df_male.drop('gender', axis=1)\n",
    "print(len(df_male))\n",
    "df_male.head()"
   ]
  },
  {
   "cell_type": "markdown",
   "metadata": {},
   "source": [
    "# Convert to AIF360 format"
   ]
  },
  {
   "cell_type": "code",
   "execution_count": 178,
   "metadata": {},
   "outputs": [
    {
     "data": {
      "text/html": [
       "<div>\n",
       "<style scoped>\n",
       "    .dataframe tbody tr th:only-of-type {\n",
       "        vertical-align: middle;\n",
       "    }\n",
       "\n",
       "    .dataframe tbody tr th {\n",
       "        vertical-align: top;\n",
       "    }\n",
       "\n",
       "    .dataframe thead th {\n",
       "        text-align: right;\n",
       "    }\n",
       "</style>\n",
       "<table border=\"1\" class=\"dataframe\">\n",
       "  <thead>\n",
       "    <tr style=\"text-align: right;\">\n",
       "      <th></th>\n",
       "      <th>found_job</th>\n",
       "      <th>age</th>\n",
       "      <th>loan</th>\n",
       "      <th>loan_status</th>\n",
       "      <th>military_status</th>\n",
       "      <th>aboriginal</th>\n",
       "      <th>highest_school_level</th>\n",
       "      <th>english_level</th>\n",
       "      <th>bmi</th>\n",
       "      <th>educ_class_B</th>\n",
       "      <th>educ_class_D</th>\n",
       "      <th>educ_class_M</th>\n",
       "      <th>highest_graduation_D</th>\n",
       "      <th>highest_graduation_I</th>\n",
       "      <th>highest_graduation_Y</th>\n",
       "      <th>marriage_N</th>\n",
       "      <th>marriage_Y</th>\n",
       "    </tr>\n",
       "  </thead>\n",
       "  <tbody>\n",
       "    <tr>\n",
       "      <td>3</td>\n",
       "      <td>0</td>\n",
       "      <td>22</td>\n",
       "      <td>1.0</td>\n",
       "      <td>1.0</td>\n",
       "      <td>1.0</td>\n",
       "      <td>0.0</td>\n",
       "      <td>3.0</td>\n",
       "      <td>2.0</td>\n",
       "      <td>18.0</td>\n",
       "      <td>1</td>\n",
       "      <td>0</td>\n",
       "      <td>0</td>\n",
       "      <td>0</td>\n",
       "      <td>0</td>\n",
       "      <td>1</td>\n",
       "      <td>1</td>\n",
       "      <td>0</td>\n",
       "    </tr>\n",
       "    <tr>\n",
       "      <td>22</td>\n",
       "      <td>0</td>\n",
       "      <td>27</td>\n",
       "      <td>1.0</td>\n",
       "      <td>1.0</td>\n",
       "      <td>1.0</td>\n",
       "      <td>0.0</td>\n",
       "      <td>3.0</td>\n",
       "      <td>4.0</td>\n",
       "      <td>23.0</td>\n",
       "      <td>1</td>\n",
       "      <td>0</td>\n",
       "      <td>0</td>\n",
       "      <td>0</td>\n",
       "      <td>0</td>\n",
       "      <td>1</td>\n",
       "      <td>1</td>\n",
       "      <td>0</td>\n",
       "    </tr>\n",
       "    <tr>\n",
       "      <td>34</td>\n",
       "      <td>0</td>\n",
       "      <td>32</td>\n",
       "      <td>1.0</td>\n",
       "      <td>1.0</td>\n",
       "      <td>1.0</td>\n",
       "      <td>0.0</td>\n",
       "      <td>4.0</td>\n",
       "      <td>3.0</td>\n",
       "      <td>24.0</td>\n",
       "      <td>1</td>\n",
       "      <td>0</td>\n",
       "      <td>0</td>\n",
       "      <td>0</td>\n",
       "      <td>0</td>\n",
       "      <td>1</td>\n",
       "      <td>1</td>\n",
       "      <td>0</td>\n",
       "    </tr>\n",
       "    <tr>\n",
       "      <td>51</td>\n",
       "      <td>0</td>\n",
       "      <td>19</td>\n",
       "      <td>1.0</td>\n",
       "      <td>1.0</td>\n",
       "      <td>1.0</td>\n",
       "      <td>0.0</td>\n",
       "      <td>4.0</td>\n",
       "      <td>3.0</td>\n",
       "      <td>20.0</td>\n",
       "      <td>0</td>\n",
       "      <td>0</td>\n",
       "      <td>1</td>\n",
       "      <td>0</td>\n",
       "      <td>0</td>\n",
       "      <td>1</td>\n",
       "      <td>1</td>\n",
       "      <td>0</td>\n",
       "    </tr>\n",
       "    <tr>\n",
       "      <td>66</td>\n",
       "      <td>0</td>\n",
       "      <td>26</td>\n",
       "      <td>1.0</td>\n",
       "      <td>1.0</td>\n",
       "      <td>1.0</td>\n",
       "      <td>0.0</td>\n",
       "      <td>7.0</td>\n",
       "      <td>2.0</td>\n",
       "      <td>20.0</td>\n",
       "      <td>1</td>\n",
       "      <td>0</td>\n",
       "      <td>0</td>\n",
       "      <td>0</td>\n",
       "      <td>0</td>\n",
       "      <td>1</td>\n",
       "      <td>1</td>\n",
       "      <td>0</td>\n",
       "    </tr>\n",
       "  </tbody>\n",
       "</table>\n",
       "</div>"
      ],
      "text/plain": [
       "    found_job  age  loan  loan_status  military_status  aboriginal  \\\n",
       "3           0   22   1.0          1.0              1.0         0.0   \n",
       "22          0   27   1.0          1.0              1.0         0.0   \n",
       "34          0   32   1.0          1.0              1.0         0.0   \n",
       "51          0   19   1.0          1.0              1.0         0.0   \n",
       "66          0   26   1.0          1.0              1.0         0.0   \n",
       "\n",
       "    highest_school_level  english_level   bmi  educ_class_B  educ_class_D  \\\n",
       "3                    3.0            2.0  18.0             1             0   \n",
       "22                   3.0            4.0  23.0             1             0   \n",
       "34                   4.0            3.0  24.0             1             0   \n",
       "51                   4.0            3.0  20.0             0             0   \n",
       "66                   7.0            2.0  20.0             1             0   \n",
       "\n",
       "    educ_class_M  highest_graduation_D  highest_graduation_I  \\\n",
       "3              0                     0                     0   \n",
       "22             0                     0                     0   \n",
       "34             0                     0                     0   \n",
       "51             1                     0                     0   \n",
       "66             0                     0                     0   \n",
       "\n",
       "    highest_graduation_Y  marriage_N  marriage_Y  \n",
       "3                      1           1           0  \n",
       "22                     1           1           0  \n",
       "34                     1           1           0  \n",
       "51                     1           1           0  \n",
       "66                     1           1           0  "
      ]
     },
     "execution_count": 178,
     "metadata": {},
     "output_type": "execute_result"
    }
   ],
   "source": [
    "df_male_onehot = pd.concat([df_male[['found_job', 'age', 'loan', 'loan_status', 'military_status', 'aboriginal', 'highest_school_level', 'english_level', 'bmi']], \n",
    "                        pd.get_dummies(df_male[['educ_class', 'highest_graduation', 'marriage']])], axis=1)\n",
    "df_male_onehot.head()"
   ]
  },
  {
   "cell_type": "code",
   "execution_count": 179,
   "metadata": {},
   "outputs": [],
   "source": [
    "df_male_aif = BinaryLabelDataset(df=df_male_onehot.drop('marriage_Y', axis=1), label_names=['found_job'], protected_attribute_names=['marriage_N'])"
   ]
  },
  {
   "cell_type": "code",
   "execution_count": 180,
   "metadata": {},
   "outputs": [],
   "source": [
    "privileged_group = [{'marriage_Y': 1}]\n",
    "unprivileged_group = [{'marriage_Y': 0}]"
   ]
  },
  {
   "cell_type": "code",
   "execution_count": 181,
   "metadata": {},
   "outputs": [
    {
     "name": "stdout",
     "output_type": "stream",
     "text": [
      "[(173508, 15), (104105, 15), (69404, 15)]\n"
     ]
    }
   ],
   "source": [
    "df_orig_trn, df_orig_val, df_orig_tst = df_male_aif.split([0.5, 0.8], shuffle=True)\n",
    "print([x.features.shape for x in [df_orig_trn, df_orig_val, df_orig_tst]])"
   ]
  },
  {
   "cell_type": "markdown",
   "metadata": {},
   "source": [
    "# Compute fairness metric on original dataset"
   ]
  },
  {
   "cell_type": "code",
   "execution_count": 182,
   "metadata": {},
   "outputs": [],
   "source": [
    "lr_orig, lr_scale_orig = train_lr_model(df_orig_trn)"
   ]
  },
  {
   "cell_type": "code",
   "execution_count": null,
   "metadata": {},
   "outputs": [],
   "source": []
  }
 ],
 "metadata": {
  "kernelspec": {
   "display_name": "Python 3",
   "language": "python",
   "name": "python3"
  },
  "language_info": {
   "codemirror_mode": {
    "name": "ipython",
    "version": 3
   },
   "file_extension": ".py",
   "mimetype": "text/x-python",
   "name": "python",
   "nbconvert_exporter": "python",
   "pygments_lexer": "ipython3",
   "version": "3.7.4"
  }
 },
 "nbformat": 4,
 "nbformat_minor": 2
}
