{
 "cells": [
  {
   "cell_type": "code",
   "execution_count": 47,
   "metadata": {},
   "outputs": [],
   "source": [
    "import pandas as pd\n",
    "import numpy as np\n",
    "import seaborn as sns\n",
    "import matplotlib.pyplot as plt\n",
    "from aif360.datasets import BinaryLabelDataset\n",
    "from aif360.metrics import BinaryLabelDatasetMetric\n",
    "from aif360.metrics import ClassificationMetric\n",
    "from aif360.algorithms.preprocessing import Reweighing\n",
    "from sklearn.preprocessing import StandardScaler\n",
    "from sklearn.linear_model import LogisticRegression\n",
    "from tqdm import tqdm"
   ]
  },
  {
   "cell_type": "code",
   "execution_count": 19,
   "metadata": {},
   "outputs": [
    {
     "data": {
      "text/html": [
       "<div>\n",
       "<style scoped>\n",
       "    .dataframe tbody tr th:only-of-type {\n",
       "        vertical-align: middle;\n",
       "    }\n",
       "\n",
       "    .dataframe tbody tr th {\n",
       "        vertical-align: top;\n",
       "    }\n",
       "\n",
       "    .dataframe thead th {\n",
       "        text-align: right;\n",
       "    }\n",
       "</style>\n",
       "<table border=\"1\" class=\"dataframe\">\n",
       "  <thead>\n",
       "    <tr style=\"text-align: right;\">\n",
       "      <th></th>\n",
       "      <th>id</th>\n",
       "      <th>sex</th>\n",
       "      <th>apply_age</th>\n",
       "      <th>marriage</th>\n",
       "      <th>highest_education</th>\n",
       "      <th>highest_graduation</th>\n",
       "      <th>loan</th>\n",
       "      <th>loan_status</th>\n",
       "      <th>military_status</th>\n",
       "      <th>aboriginal</th>\n",
       "      <th>height</th>\n",
       "      <th>weight</th>\n",
       "      <th>nationality</th>\n",
       "      <th>highest_school_level</th>\n",
       "      <th>english_level</th>\n",
       "      <th>hired_or_not</th>\n",
       "      <th>relabel_check</th>\n",
       "    </tr>\n",
       "  </thead>\n",
       "  <tbody>\n",
       "    <tr>\n",
       "      <td>0</td>\n",
       "      <td>R224211691</td>\n",
       "      <td>F</td>\n",
       "      <td>24</td>\n",
       "      <td>0</td>\n",
       "      <td>B</td>\n",
       "      <td>Y</td>\n",
       "      <td>0</td>\n",
       "      <td>1</td>\n",
       "      <td>1</td>\n",
       "      <td>0</td>\n",
       "      <td>162</td>\n",
       "      <td>60</td>\n",
       "      <td>1</td>\n",
       "      <td>3</td>\n",
       "      <td>2.0</td>\n",
       "      <td>N</td>\n",
       "      <td>N</td>\n",
       "    </tr>\n",
       "    <tr>\n",
       "      <td>1</td>\n",
       "      <td>R223936966</td>\n",
       "      <td>F</td>\n",
       "      <td>28</td>\n",
       "      <td>0</td>\n",
       "      <td>B</td>\n",
       "      <td>Y</td>\n",
       "      <td>1</td>\n",
       "      <td>1</td>\n",
       "      <td>1</td>\n",
       "      <td>0</td>\n",
       "      <td>158</td>\n",
       "      <td>52</td>\n",
       "      <td>1</td>\n",
       "      <td>2</td>\n",
       "      <td>2.0</td>\n",
       "      <td>N</td>\n",
       "      <td>N</td>\n",
       "    </tr>\n",
       "    <tr>\n",
       "      <td>2</td>\n",
       "      <td>F228161684</td>\n",
       "      <td>F</td>\n",
       "      <td>24</td>\n",
       "      <td>0</td>\n",
       "      <td>B</td>\n",
       "      <td>Y</td>\n",
       "      <td>1</td>\n",
       "      <td>1</td>\n",
       "      <td>1</td>\n",
       "      <td>0</td>\n",
       "      <td>164</td>\n",
       "      <td>70</td>\n",
       "      <td>1</td>\n",
       "      <td>3</td>\n",
       "      <td>2.0</td>\n",
       "      <td>N</td>\n",
       "      <td>N</td>\n",
       "    </tr>\n",
       "    <tr>\n",
       "      <td>3</td>\n",
       "      <td>O200443001</td>\n",
       "      <td>F</td>\n",
       "      <td>21</td>\n",
       "      <td>0</td>\n",
       "      <td>B</td>\n",
       "      <td>Y</td>\n",
       "      <td>0</td>\n",
       "      <td>1</td>\n",
       "      <td>1</td>\n",
       "      <td>0</td>\n",
       "      <td>152</td>\n",
       "      <td>41</td>\n",
       "      <td>1</td>\n",
       "      <td>5</td>\n",
       "      <td>2.0</td>\n",
       "      <td>N</td>\n",
       "      <td>N</td>\n",
       "    </tr>\n",
       "    <tr>\n",
       "      <td>4</td>\n",
       "      <td>N225966272</td>\n",
       "      <td>F</td>\n",
       "      <td>22</td>\n",
       "      <td>0</td>\n",
       "      <td>B</td>\n",
       "      <td>I</td>\n",
       "      <td>0</td>\n",
       "      <td>1</td>\n",
       "      <td>1</td>\n",
       "      <td>0</td>\n",
       "      <td>155</td>\n",
       "      <td>45</td>\n",
       "      <td>1</td>\n",
       "      <td>6</td>\n",
       "      <td>3.0</td>\n",
       "      <td>N</td>\n",
       "      <td>N</td>\n",
       "    </tr>\n",
       "  </tbody>\n",
       "</table>\n",
       "</div>"
      ],
      "text/plain": [
       "           id sex  apply_age  marriage highest_education highest_graduation  \\\n",
       "0  R224211691   F         24         0                 B                  Y   \n",
       "1  R223936966   F         28         0                 B                  Y   \n",
       "2  F228161684   F         24         0                 B                  Y   \n",
       "3  O200443001   F         21         0                 B                  Y   \n",
       "4  N225966272   F         22         0                 B                  I   \n",
       "\n",
       "   loan  loan_status  military_status  aboriginal  height  weight  \\\n",
       "0     0            1                1           0     162      60   \n",
       "1     1            1                1           0     158      52   \n",
       "2     1            1                1           0     164      70   \n",
       "3     0            1                1           0     152      41   \n",
       "4     0            1                1           0     155      45   \n",
       "\n",
       "   nationality highest_school_level  english_level hired_or_not relabel_check  \n",
       "0            1                    3            2.0            N             N  \n",
       "1            1                    2            2.0            N             N  \n",
       "2            1                    3            2.0            N             N  \n",
       "3            1                    5            2.0            N             N  \n",
       "4            1                    6            3.0            N             N  "
      ]
     },
     "execution_count": 19,
     "metadata": {},
     "output_type": "execute_result"
    }
   ],
   "source": [
    "data = pd.read_excel('C:/Users/bbgog/paper/108_recruit_train.xlsx')\n",
    "data = data[data['highest_school_level']!='F']\n",
    "data = data.drop(['interview','second_interview','relabel'], axis=1)\n",
    "data.head()"
   ]
  },
  {
   "cell_type": "code",
   "execution_count": 3,
   "metadata": {},
   "outputs": [
    {
     "name": "stdout",
     "output_type": "stream",
     "text": [
      "<class 'pandas.core.frame.DataFrame'>\n",
      "Int64Index: 1188 entries, 0 to 1201\n",
      "Data columns (total 17 columns):\n",
      "id                      1188 non-null object\n",
      "sex                     1188 non-null object\n",
      "apply_age               1188 non-null int64\n",
      "marriage                1188 non-null int64\n",
      "highest_education       1188 non-null object\n",
      "highest_graduation      1188 non-null object\n",
      "loan                    1188 non-null int64\n",
      "loan_status             1188 non-null int64\n",
      "military_status         1188 non-null int64\n",
      "aboriginal              1188 non-null int64\n",
      "height                  1188 non-null int64\n",
      "weight                  1188 non-null int64\n",
      "nationality             1188 non-null int64\n",
      "highest_school_level    1188 non-null object\n",
      "english_level           1188 non-null float64\n",
      "hired_or_not            1188 non-null object\n",
      "relabel_check           1188 non-null object\n",
      "dtypes: float64(1), int64(9), object(7)\n",
      "memory usage: 167.1+ KB\n"
     ]
    }
   ],
   "source": [
    "data.info()"
   ]
  },
  {
   "cell_type": "code",
   "execution_count": 5,
   "metadata": {},
   "outputs": [
    {
     "name": "stdout",
     "output_type": "stream",
     "text": [
      "應徵總人數 1188\n",
      "男性應徵人數 412\n",
      "男性錄取人數 39\n",
      "男性錄取率 0.09466019417475728\n",
      "女性應徵人數 776\n",
      "女性錄取人數 63\n",
      "女性錄取率 0.08118556701030928\n",
      "男性應徵人數占比 0.3468013468013468\n",
      "女性應徵人數占比 0.6531986531986532\n"
     ]
    }
   ],
   "source": [
    "print(\"應徵總人數\", len(data))\n",
    "print(\"男性應徵人數\", len(data[data['sex']=='M']))\n",
    "print(\"男性錄取人數\", len(data[(data['sex']=='M') & (data['hired_or_not']=='Y')]))\n",
    "print(\"男性錄取率\", len(data[(data['sex']=='M') & (data['hired_or_not']=='Y')])/len(data[data['sex']=='M']))\n",
    "print(\"女性應徵人數\", len(data[data['sex']=='F']))\n",
    "print(\"女性錄取人數\", len(data[(data['sex']=='F') & (data['hired_or_not']=='Y')]))\n",
    "print(\"女性錄取率\", len(data[(data['sex']=='F') & (data['hired_or_not']=='Y')])/len(data[data['sex']=='F']))\n",
    "print(\"男性應徵人數占比\",len(data[data['sex']=='M'])/len(data))\n",
    "print(\"女性應徵人數占比\",len(data[data['sex']=='F'])/len(data))"
   ]
  },
  {
   "cell_type": "code",
   "execution_count": 6,
   "metadata": {},
   "outputs": [],
   "source": [
    "# 設定資料集男女比及應徵錄取比\n",
    "n_pop = 1000000\n",
    "p_male = 0.3468\n",
    "p_job_male, p_job_female = 0.0946, 0.0812\n",
    "\n",
    "gender = np.random.choice(['male', 'female'], size=n_pop, p=[p_male, 1 - p_male])\n",
    "df = pd.DataFrame({'gender' : gender})\n",
    "df.loc[df.gender == 'male', 'found_job'] = np.random.choice([1, 0], size=len(df.loc[df.gender == 'male']), p=[p_job_male, 1 - p_job_male])\n",
    "df.loc[df.gender == 'female', 'found_job'] = np.random.choice([1, 0], size=len(df.loc[df.gender == 'female']), p=[p_job_female, 1 - p_job_female])\n",
    "df['found_job'] = df['found_job'].astype(int)"
   ]
  },
  {
   "cell_type": "code",
   "execution_count": 7,
   "metadata": {},
   "outputs": [
    {
     "name": "stdout",
     "output_type": "stream",
     "text": [
      "男性應徵人數 346352\n",
      "男性錄取人數 32722\n",
      "男性錄取率 0.0944761398808149\n",
      "女性應徵人數 653648\n",
      "女性錄取人數 53046\n",
      "女性錄取率 0.08115377083690305\n",
      "男性應徵人數占比 0.346352\n",
      "女性應徵人數占比 0.653648\n"
     ]
    }
   ],
   "source": [
    "# 檢視資料集\n",
    "print(\"男性應徵人數\", len(df[df['gender']=='male']))\n",
    "print(\"男性錄取人數\", len(df[(df['gender']=='male') & (df['found_job']==1)]))\n",
    "print(\"男性錄取率\", len(df[(df['gender']=='male') & (df['found_job']==1)])/len(df[df['gender']=='male']))\n",
    "print(\"女性應徵人數\", len(df[df['gender']=='female']))\n",
    "print(\"女性錄取人數\", len(df[(df['gender']=='female') & (df['found_job']==1)]))\n",
    "print(\"女性錄取率\", len(df[(df['gender']=='female') & (df['found_job']==1)])/len(df[df['gender']=='female']))\n",
    "print(\"男性應徵人數占比\",len(df[df['gender']=='male'])/len(df))\n",
    "print(\"女性應徵人數占比\",len(df[df['gender']=='female'])/len(df))"
   ]
  },
  {
   "cell_type": "code",
   "execution_count": 8,
   "metadata": {},
   "outputs": [
    {
     "data": {
      "text/html": [
       "<div>\n",
       "<style scoped>\n",
       "    .dataframe tbody tr th:only-of-type {\n",
       "        vertical-align: middle;\n",
       "    }\n",
       "\n",
       "    .dataframe tbody tr th {\n",
       "        vertical-align: top;\n",
       "    }\n",
       "\n",
       "    .dataframe thead th {\n",
       "        text-align: right;\n",
       "    }\n",
       "</style>\n",
       "<table border=\"1\" class=\"dataframe\">\n",
       "  <thead>\n",
       "    <tr style=\"text-align: right;\">\n",
       "      <th>found_job</th>\n",
       "      <th>0</th>\n",
       "      <th>1</th>\n",
       "    </tr>\n",
       "    <tr>\n",
       "      <th>gender</th>\n",
       "      <th></th>\n",
       "      <th></th>\n",
       "    </tr>\n",
       "  </thead>\n",
       "  <tbody>\n",
       "    <tr>\n",
       "      <td>female</td>\n",
       "      <td>600602</td>\n",
       "      <td>53046</td>\n",
       "    </tr>\n",
       "    <tr>\n",
       "      <td>male</td>\n",
       "      <td>313630</td>\n",
       "      <td>32722</td>\n",
       "    </tr>\n",
       "  </tbody>\n",
       "</table>\n",
       "</div>"
      ],
      "text/plain": [
       "found_job       0      1\n",
       "gender                  \n",
       "female     600602  53046\n",
       "male       313630  32722"
      ]
     },
     "execution_count": 8,
     "metadata": {},
     "output_type": "execute_result"
    }
   ],
   "source": [
    "df.pivot_table(index='gender', columns='found_job', aggfunc='size')"
   ]
  },
  {
   "cell_type": "code",
   "execution_count": 9,
   "metadata": {},
   "outputs": [
    {
     "name": "stdout",
     "output_type": "stream",
     "text": [
      "男性錄取年齡平均 26.53846153846154\n",
      "男性錄取年齡標準差 3.3938501180048863\n",
      "男性未錄取年齡平均 27.396782841823057\n",
      "男性未錄取年齡標準差 4.783842693106973\n",
      "---------------------------------------------------------------------\n",
      "女性錄取年齡平均 25.26984126984127\n",
      "女性錄取年齡標準差 2.806710560059008\n",
      "女性未錄取年齡平均 26.517531556802243\n",
      "女性未錄取年齡標準差 4.669111814273186\n"
     ]
    }
   ],
   "source": [
    "print(\"男性錄取年齡平均\", data[(data['sex']=='M') & (data['hired_or_not']=='Y')].apply_age.mean())\n",
    "print(\"男性錄取年齡標準差\", data[(data['sex']=='M') & (data['hired_or_not']=='Y')].apply_age.std())\n",
    "print(\"男性未錄取年齡平均\", data[(data['sex']=='M') & (data['hired_or_not']=='N')].apply_age.mean())\n",
    "print(\"男性未錄取年齡標準差\", data[(data['sex']=='M') & (data['hired_or_not']=='N')].apply_age.std())\n",
    "print(\"---------------------------------------------------------------------\")\n",
    "print(\"女性錄取年齡平均\", data[(data['sex']=='F') & (data['hired_or_not']=='Y')].apply_age.mean())\n",
    "print(\"女性錄取年齡標準差\", data[(data['sex']=='F') & (data['hired_or_not']=='Y')].apply_age.std())\n",
    "print(\"女性未錄取年齡平均\", data[(data['sex']=='F') & (data['hired_or_not']=='N')].apply_age.mean())\n",
    "print(\"女性未錄取年齡標準差\", data[(data['sex']=='F') & (data['hired_or_not']=='N')].apply_age.std())"
   ]
  },
  {
   "cell_type": "code",
   "execution_count": 10,
   "metadata": {},
   "outputs": [
    {
     "name": "stderr",
     "output_type": "stream",
     "text": [
      "C:\\Users\\bbgog\\Anaconda3\\lib\\site-packages\\pandas\\core\\indexing.py:376: SettingWithCopyWarning: \n",
      "A value is trying to be set on a copy of a slice from a DataFrame.\n",
      "Try using .loc[row_indexer,col_indexer] = value instead\n",
      "\n",
      "See the caveats in the documentation: http://pandas.pydata.org/pandas-docs/stable/user_guide/indexing.html#returning-a-view-versus-a-copy\n",
      "  self.obj[key] = _infer_fill_value(value)\n",
      "C:\\Users\\bbgog\\Anaconda3\\lib\\site-packages\\pandas\\core\\indexing.py:494: SettingWithCopyWarning: \n",
      "A value is trying to be set on a copy of a slice from a DataFrame.\n",
      "Try using .loc[row_indexer,col_indexer] = value instead\n",
      "\n",
      "See the caveats in the documentation: http://pandas.pydata.org/pandas-docs/stable/user_guide/indexing.html#returning-a-view-versus-a-copy\n",
      "  self.obj[item] = s\n"
     ]
    }
   ],
   "source": [
    "# 設定資料集年齡分布(待採樣)\n",
    "mu_job_male, sigma_job_male = 26.5385, 3.3939\n",
    "mu_no_job_male, sigma_no_job_male = 27.3968, 4.7838\n",
    "\n",
    "mu_job_female, sigma_job_female = 25.2698, 2.8067\n",
    "mu_no_job_female, sigma_no_job_female = 26.5175, 4.6691\n",
    "\n",
    "df_male = df[df['gender']=='male']\n",
    "df_female = df[df['gender']=='female']\n",
    "\n",
    "df_male.loc[df_male.found_job == 1, 'age'] = np.floor(np.random.normal(mu_job_male, sigma_job_male, len(df_male.loc[df_male.found_job == 1])))\n",
    "df_male.loc[df_male.found_job == 0, 'age'] = np.floor(np.random.normal(mu_no_job_male, sigma_no_job_male, len(df_male.loc[df_male.found_job == 0])))\n",
    "df_female.loc[df_female.found_job == 1, 'age'] = np.floor(np.random.normal(mu_job_female, sigma_job_female, len(df_female.loc[df_female.found_job == 1])))\n",
    "df_female.loc[df_female.found_job == 0, 'age'] = np.floor(np.random.normal(mu_no_job_female, sigma_no_job_female, len(df_female.loc[df_female.found_job == 0])))\n",
    "\n",
    "df = df_male.append(df_female)\n",
    "df['age'] = df['age'].astype(int)"
   ]
  },
  {
   "cell_type": "code",
   "execution_count": 11,
   "metadata": {},
   "outputs": [
    {
     "name": "stdout",
     "output_type": "stream",
     "text": [
      "男性錄取年齡平均 26.053236354746044\n",
      "男性錄取年齡標準差 3.435715343040166\n",
      "男性未錄取年齡平均 26.90708159295986\n",
      "男性未錄取年齡標準差 4.784530874286535\n",
      "---------------------------------------------------------------------\n",
      "女性錄取年齡平均 24.771368246427627\n",
      "女性錄取年齡標準差 2.8249162527578937\n",
      "女性未錄取年齡平均 26.015647633541015\n",
      "女性未錄取年齡標準差 4.683298879567002\n"
     ]
    }
   ],
   "source": [
    "print(\"男性錄取年齡平均\", df[(df['gender']=='male') & (df['found_job']==1)].age.mean())\n",
    "print(\"男性錄取年齡標準差\", df[(df['gender']=='male') & (df['found_job']==1)].age.std())\n",
    "print(\"男性未錄取年齡平均\", df[(df['gender']=='male') & (df['found_job']==0)].age.mean())\n",
    "print(\"男性未錄取年齡標準差\", df[(df['gender']=='male') & (df['found_job']==0)].age.std())\n",
    "print(\"---------------------------------------------------------------------\")\n",
    "print(\"女性錄取年齡平均\", df[(df['gender']=='female') & (df['found_job']==1)].age.mean())\n",
    "print(\"女性錄取年齡標準差\", df[(df['gender']=='female') & (df['found_job']==1)].age.std())\n",
    "print(\"女性未錄取年齡平均\", df[(df['gender']=='female') & (df['found_job']==0)].age.mean())\n",
    "print(\"女性未錄取年齡標準差\", df[(df['gender']=='female') & (df['found_job']==0)].age.std())"
   ]
  },
  {
   "cell_type": "code",
   "execution_count": 12,
   "metadata": {},
   "outputs": [
    {
     "data": {
      "text/html": [
       "<div>\n",
       "<style scoped>\n",
       "    .dataframe tbody tr th:only-of-type {\n",
       "        vertical-align: middle;\n",
       "    }\n",
       "\n",
       "    .dataframe tbody tr th {\n",
       "        vertical-align: top;\n",
       "    }\n",
       "\n",
       "    .dataframe thead th {\n",
       "        text-align: right;\n",
       "    }\n",
       "</style>\n",
       "<table border=\"1\" class=\"dataframe\">\n",
       "  <thead>\n",
       "    <tr style=\"text-align: right;\">\n",
       "      <th></th>\n",
       "      <th>age</th>\n",
       "    </tr>\n",
       "    <tr>\n",
       "      <th>found_job</th>\n",
       "      <th></th>\n",
       "    </tr>\n",
       "  </thead>\n",
       "  <tbody>\n",
       "    <tr>\n",
       "      <td>0</td>\n",
       "      <td>26.3</td>\n",
       "    </tr>\n",
       "    <tr>\n",
       "      <td>1</td>\n",
       "      <td>25.3</td>\n",
       "    </tr>\n",
       "  </tbody>\n",
       "</table>\n",
       "</div>"
      ],
      "text/plain": [
       "            age\n",
       "found_job      \n",
       "0          26.3\n",
       "1          25.3"
      ]
     },
     "execution_count": 12,
     "metadata": {},
     "output_type": "execute_result"
    }
   ],
   "source": [
    "df.groupby('found_job').mean().round(1)"
   ]
  },
  {
   "cell_type": "code",
   "execution_count": 13,
   "metadata": {},
   "outputs": [
    {
     "name": "stdout",
     "output_type": "stream",
     "text": [
      "學士人數 1024\n",
      "碩士人數 162\n",
      "博士人數 2\n",
      "---------------------------------------------------------------------\n",
      "學士錄取人數 87\n",
      "碩士錄取人數 15\n",
      "博士錄取人數 0\n",
      "總錄取人數 102\n",
      "---------------------------------------------------------------------\n",
      "學士錄取率 0.8529411764705882\n",
      "碩士錄取率 0.14705882352941177\n",
      "博士錄取率 0.0\n",
      "---------------------------------------------------------------------\n",
      "學士不錄取率 0.8627992633517495\n",
      "碩士不錄取率 0.13535911602209943\n",
      "博士不錄取率 0.001841620626151013\n"
     ]
    }
   ],
   "source": [
    "# 設定資料集學歷分布(待採樣)\n",
    "print(\"學士人數\", len(data[data['highest_education']=='B']))\n",
    "print(\"碩士人數\", len(data[data['highest_education']=='M']))\n",
    "print(\"博士人數\", len(data[data['highest_education']=='D']))\n",
    "print(\"---------------------------------------------------------------------\")\n",
    "print(\"學士錄取人數\", len(data[(data['highest_education']=='B') & (data['hired_or_not']=='Y')]))\n",
    "print(\"碩士錄取人數\", len(data[(data['highest_education']=='M') & (data['hired_or_not']=='Y')]))\n",
    "print(\"博士錄取人數\", len(data[(data['highest_education']=='D') & (data['hired_or_not']=='Y')]))\n",
    "print(\"總錄取人數\", len(data[data['hired_or_not']=='Y']))\n",
    "print(\"---------------------------------------------------------------------\")\n",
    "print(\"學士錄取率\", len(data[(data['highest_education']=='B') & (data['hired_or_not']=='Y')])/len(data[data['hired_or_not']=='Y']))\n",
    "print(\"碩士錄取率\", len(data[(data['highest_education']=='M') & (data['hired_or_not']=='Y')])/len(data[data['hired_or_not']=='Y']))\n",
    "print(\"博士錄取率\", len(data[(data['highest_education']=='D') & (data['hired_or_not']=='Y')])/len(data[data['hired_or_not']=='Y']))\n",
    "print(\"---------------------------------------------------------------------\")\n",
    "print(\"學士不錄取率\", len(data[(data['highest_education']=='B') & (data['hired_or_not']=='N')])/len(data[data['hired_or_not']=='N']))\n",
    "print(\"碩士不錄取率\", len(data[(data['highest_education']=='M') & (data['hired_or_not']=='N')])/len(data[data['hired_or_not']=='N']))\n",
    "print(\"博士不錄取率\", len(data[(data['highest_education']=='D') & (data['hired_or_not']=='N')])/len(data[data['hired_or_not']=='N']))"
   ]
  },
  {
   "cell_type": "code",
   "execution_count": 14,
   "metadata": {},
   "outputs": [],
   "source": [
    "educ_class_set = ['B', 'M', 'D']\n",
    "educ_class_wt_job = [0.8529, 0.1471, 0]\n",
    "educ_class_wt_no_job = [0.8628, 0.1354, 0.0018]\n",
    "\n",
    "df.loc[df.found_job == 1, 'educ_class'] = np.random.choice(educ_class_set, size=len(df.loc[df.found_job == 1]), p=educ_class_wt_job)\n",
    "df.loc[df.found_job == 0, 'educ_class'] = np.random.choice(educ_class_set, size=len(df.loc[df.found_job == 0]), p=educ_class_wt_no_job)"
   ]
  },
  {
   "cell_type": "code",
   "execution_count": 15,
   "metadata": {},
   "outputs": [
    {
     "name": "stdout",
     "output_type": "stream",
     "text": [
      "學士人數 862185\n",
      "碩士人數 136079\n",
      "博士人數 1736\n",
      "---------------------------------------------------------------------\n",
      "學士錄取人數 73282\n",
      "碩士錄取人數 12486\n",
      "博士錄取人數 0\n",
      "總錄取人數 85768\n",
      "---------------------------------------------------------------------\n",
      "學士錄取率 0.8544212293629325\n",
      "碩士錄取率 0.14557877063706745\n",
      "博士錄取率 0.0\n",
      "---------------------------------------------------------------------\n",
      "學士不錄取率 0.8629133524094541\n",
      "碩士不錄取率 0.1351877860324294\n",
      "博士不錄取率 0.0018988615581165393\n"
     ]
    }
   ],
   "source": [
    "# 檢視資料集學歷分布\n",
    "print(\"學士人數\", len(df[df['educ_class']=='B']))\n",
    "print(\"碩士人數\", len(df[df['educ_class']=='M']))\n",
    "print(\"博士人數\", len(df[df['educ_class']=='D']))\n",
    "print(\"---------------------------------------------------------------------\")\n",
    "print(\"學士錄取人數\", len(df[(df['educ_class']=='B') & (df['found_job']==1)]))\n",
    "print(\"碩士錄取人數\", len(df[(df['educ_class']=='M') & (df['found_job']==1)]))\n",
    "print(\"博士錄取人數\", len(df[(df['educ_class']=='D') & (df['found_job']==1)]))\n",
    "print(\"總錄取人數\", len(df[df['found_job']==1]))\n",
    "print(\"---------------------------------------------------------------------\")\n",
    "print(\"學士錄取率\", len(df[(df['educ_class']=='B') & (df['found_job']==1)])/len(df[df['found_job']==1]))\n",
    "print(\"碩士錄取率\", len(df[(df['educ_class']=='M') & (df['found_job']==1)])/len(df[df['found_job']==1]))\n",
    "print(\"博士錄取率\", len(df[(df['educ_class']=='D') & (df['found_job']==1)])/len(df[df['found_job']==1]))\n",
    "print(\"---------------------------------------------------------------------\")\n",
    "print(\"學士不錄取率\", len(df[(df['educ_class']=='B') & (df['found_job']==0)])/len(df[df['found_job']==0]))\n",
    "print(\"碩士不錄取率\", len(df[(df['educ_class']=='M') & (df['found_job']==0)])/len(df[df['found_job']==0]))\n",
    "print(\"博士不錄取率\", len(df[(df['educ_class']=='D') & (df['found_job']==0)])/len(df[df['found_job']==0]))"
   ]
  },
  {
   "cell_type": "code",
   "execution_count": 16,
   "metadata": {},
   "outputs": [
    {
     "name": "stdout",
     "output_type": "stream",
     "text": [
      "女性應徵總人數 776\n",
      "女性已婚總人數 95\n",
      "女性未婚總人數 681\n",
      "已錄取女性已婚人數 3\n",
      "女性錄取者已婚比例 0.047619047619047616\n",
      "未錄取女性已婚人數 92\n",
      "女性未錄取者已婚比例 0.12903225806451613\n",
      "---------------------------------------------------------------------\n",
      "男性應徵總人數 412\n",
      "男性已婚總人數 31\n",
      "男性未婚總人數 381\n",
      "已錄取男性已婚人數 5\n",
      "男性錄取者已婚比例 0.1282051282051282\n",
      "未錄取男性已婚人數 26\n",
      "男性未錄取者已婚比例 0.06970509383378017\n",
      "---------------------------------------------------------------------\n",
      "已婚女性錄取率 0.031578947368421054\n",
      "未婚女性錄取率 0.0881057268722467\n",
      "已婚男性錄取率 0.16129032258064516\n",
      "未婚男性錄取率 0.08923884514435695\n"
     ]
    }
   ],
   "source": [
    "# 設定婚姻狀況資料分布(待採樣)\n",
    "print(\"女性應徵總人數\", len(data[data['sex']=='F']))\n",
    "print(\"女性已婚總人數\", len(data[(data['sex']=='F')&(data['marriage']==1)]))\n",
    "print(\"女性未婚總人數\", len(data[(data['sex']=='F')&(data['marriage']==0)]))\n",
    "print(\"已錄取女性已婚人數\", len(data[(data['sex']=='F')&(data['marriage']==1)&(data['hired_or_not']=='Y')]))\n",
    "print(\"女性錄取者已婚比例\", len(data[(data['sex']=='F')&(data['marriage']==1)&(data['hired_or_not']=='Y')])/len(data[(data['sex']=='F')&(data['hired_or_not']=='Y')]))\n",
    "print(\"未錄取女性已婚人數\", len(data[(data['sex']=='F')&(data['marriage']==1)&(data['hired_or_not']=='N')]))\n",
    "print(\"女性未錄取者已婚比例\", len(data[(data['sex']=='F')&(data['marriage']==1)&(data['hired_or_not']=='N')])/len(data[(data['sex']=='F')&(data['hired_or_not']=='N')]))\n",
    "print(\"---------------------------------------------------------------------\")\n",
    "print(\"男性應徵總人數\", len(data[data['sex']=='M']))\n",
    "print(\"男性已婚總人數\", len(data[(data['sex']=='M')&(data['marriage']==1)]))\n",
    "print(\"男性未婚總人數\", len(data[(data['sex']=='M')&(data['marriage']==0)]))\n",
    "print(\"已錄取男性已婚人數\", len(data[(data['sex']=='M')&(data['marriage']==1)&(data['hired_or_not']=='Y')]))\n",
    "print(\"男性錄取者已婚比例\", len(data[(data['sex']=='M')&(data['marriage']==1)&(data['hired_or_not']=='Y')])/len(data[(data['sex']=='M')&(data['hired_or_not']=='Y')]))\n",
    "print(\"未錄取男性已婚人數\", len(data[(data['sex']=='M')&(data['marriage']==1)&(data['hired_or_not']=='N')]))\n",
    "print(\"男性未錄取者已婚比例\", len(data[(data['sex']=='M')&(data['marriage']==1)&(data['hired_or_not']=='N')])/len(data[(data['sex']=='M')&(data['hired_or_not']=='N')]))\n",
    "print(\"---------------------------------------------------------------------\")\n",
    "print(\"已婚女性錄取率\", len(data[(data['sex']=='F')&(data['marriage']==1)&(data['hired_or_not']=='Y')])/len(data[(data['sex']=='F')&(data['marriage']==1)]))\n",
    "print(\"未婚女性錄取率\", len(data[(data['sex']=='F')&(data['marriage']==0)&(data['hired_or_not']=='Y')])/len(data[(data['sex']=='F')&(data['marriage']==0)]))\n",
    "print(\"已婚男性錄取率\", len(data[(data['sex']=='M')&(data['marriage']==1)&(data['hired_or_not']=='Y')])/len(data[(data['sex']=='M')&(data['marriage']==1)]))\n",
    "print(\"未婚男性錄取率\", len(data[(data['sex']=='M')&(data['marriage']==0)&(data['hired_or_not']=='Y')])/len(data[(data['sex']=='M')&(data['marriage']==0)]))"
   ]
  },
  {
   "cell_type": "code",
   "execution_count": 17,
   "metadata": {},
   "outputs": [],
   "source": [
    "# 設定男女婚姻狀況分布\n",
    "# 男性錄取者已婚比例, 男性未錄取者已婚比例\n",
    "p_job_male_marriage, p_no_job_male_marriage = 0.12820512, 0.06970509\n",
    "# 女性錄取者已婚比例, 女性未錄取者已婚比例\n",
    "p_job_female_marriage, p_no_job_female_marriage = 0.04761904, 0.12903225\n",
    "\n",
    "df_male = df[df['gender']=='male']\n",
    "df_female = df[df['gender']=='female']\n",
    "\n",
    "df_male.loc[df_male.found_job == 1, 'marriage'] = np.random.choice([1, 0], size=len(df_male.loc[df_male.found_job == 1]), p=[p_job_male_marriage, 1 - p_job_male_marriage])\n",
    "df_male.loc[df_male.found_job == 0, 'marriage'] = np.random.choice([1, 0], size=len(df_male.loc[df_male.found_job == 0]), p=[p_no_job_male_marriage, 1 - p_no_job_male_marriage])\n",
    "df_female.loc[df_female.found_job == 1, 'marriage'] = np.random.choice([1, 0], size=len(df_female.loc[df_female.found_job == 1]), p=[p_job_female_marriage, 1 - p_job_female_marriage])\n",
    "df_female.loc[df_female.found_job == 0, 'marriage'] = np.random.choice([1, 0], size=len(df_female.loc[df_female.found_job == 0]), p=[p_no_job_female_marriage, 1 - p_no_job_female_marriage])\n",
    "\n",
    "df = df_male.append(df_female)"
   ]
  },
  {
   "cell_type": "code",
   "execution_count": 18,
   "metadata": {},
   "outputs": [
    {
     "name": "stdout",
     "output_type": "stream",
     "text": [
      "女性應徵總人數 653648\n",
      "女性已婚總人數 80492\n",
      "女性未婚總人數 573156\n",
      "已錄取女性已婚人數 2497\n",
      "女性錄取者已婚比例 0.04707235229800551\n",
      "未錄取女性已婚人數 77995\n",
      "女性未錄取者已婚比例 0.12986137242300225\n",
      "---------------------------------------------------------------------\n",
      "男性應徵總人數 346352\n",
      "男性已婚總人數 26186\n",
      "男性未婚總人數 320166\n",
      "已錄取男性已婚人數 4217\n",
      "男性錄取者已婚比例 0.12887354073711876\n",
      "未錄取男性已婚人數 21969\n",
      "男性未錄取者已婚比例 0.07004750821031151\n",
      "---------------------------------------------------------------------\n",
      "已婚女性錄取率 0.0310217164438702\n",
      "未婚女性錄取率 0.08819413911744796\n",
      "已婚男性錄取率 0.16104025051554266\n",
      "未婚男性錄取率 0.08903193968129033\n"
     ]
    }
   ],
   "source": [
    "# 設定婚姻狀況資料分布\n",
    "print(\"女性應徵總人數\", len(df[df['gender']=='female']))\n",
    "print(\"女性已婚總人數\", len(df[(df['gender']=='female')&(df['marriage']==1)]))\n",
    "print(\"女性未婚總人數\", len(df[(df['gender']=='female')&(df['marriage']==0)]))\n",
    "print(\"已錄取女性已婚人數\", len(df[(df['gender']=='female')&(df['marriage']==1)&(df['found_job']==1)]))\n",
    "print(\"女性錄取者已婚比例\", len(df[(df['gender']=='female')&(df['marriage']==1)&(df['found_job']==1)])/len(df[(df['gender']=='female')&(df['found_job']==1)]))\n",
    "print(\"未錄取女性已婚人數\", len(df[(df['gender']=='female')&(df['marriage']==1)&(df['found_job']==0)]))\n",
    "print(\"女性未錄取者已婚比例\", len(df[(df['gender']=='female')&(df['marriage']==1)&(df['found_job']==0)])/len(df[(df['gender']=='female')&(df['found_job']==0)]))\n",
    "print(\"---------------------------------------------------------------------\")\n",
    "print(\"男性應徵總人數\", len(df[df['gender']=='male']))\n",
    "print(\"男性已婚總人數\", len(df[(df['gender']=='male')&(df['marriage']==1)]))\n",
    "print(\"男性未婚總人數\", len(df[(df['gender']=='male')&(df['marriage']==0)]))\n",
    "print(\"已錄取男性已婚人數\", len(df[(df['gender']=='male')&(df['marriage']==1)&(df['found_job']==1)]))\n",
    "print(\"男性錄取者已婚比例\", len(df[(df['gender']=='male')&(df['marriage']==1)&(df['found_job']==1)])/len(df[(df['gender']=='male')&(df['found_job']==1)]))\n",
    "print(\"未錄取男性已婚人數\", len(df[(df['gender']=='male')&(df['marriage']==1)&(df['found_job']==0)]))\n",
    "print(\"男性未錄取者已婚比例\", len(df[(df['gender']=='male')&(df['marriage']==1)&(df['found_job']==0)])/len(df[(df['gender']=='male')&(df['found_job']==0)]))\n",
    "print(\"---------------------------------------------------------------------\")\n",
    "print(\"已婚女性錄取率\", len(df[(df['gender']=='female')&(df['marriage']==1)&(df['found_job']==1)])/len(df[(df['gender']=='female')&(df['marriage']==1)]))\n",
    "print(\"未婚女性錄取率\", len(df[(df['gender']=='female')&(df['marriage']==0)&(df['found_job']==1)])/len(df[(df['gender']=='female')&(df['marriage']==0)]))\n",
    "print(\"已婚男性錄取率\", len(df[(df['gender']=='male')&(df['marriage']==1)&(df['found_job']==1)])/len(df[(df['gender']=='male')&(df['marriage']==1)]))\n",
    "print(\"未婚男性錄取率\", len(df[(df['gender']=='male')&(df['marriage']==0)&(df['found_job']==1)])/len(df[(df['gender']=='male')&(df['marriage']==0)]))"
   ]
  },
  {
   "cell_type": "code",
   "execution_count": 19,
   "metadata": {},
   "outputs": [
    {
     "name": "stdout",
     "output_type": "stream",
     "text": [
      "有借貸者人數 276\n",
      "有借貸且信用正常且錄取者 28\n",
      "有借貸但信用異常且錄取者 0\n",
      "無借貸且錄取者 74\n",
      "有借貸且異常者占有信貸者比例 0.014492753623188406\n",
      "---------------------------------------------------------------------\n",
      "有信貸者錄取率 0.10144927536231885\n",
      "無信貸者錄取率 0.08114035087719298\n",
      "---------------------------------------------------------------------\n",
      "錄取者有信貸比例 0.27450980392156865\n",
      "未錄取者有信貸比例 0.2283609576427256\n"
     ]
    }
   ],
   "source": [
    "# 檢視資料集借貸與錄取與否關係\n",
    "print(\"有借貸者人數\", len(data[data['loan']==1]))\n",
    "print(\"有借貸且信用正常且錄取者\", len(data[(data['loan']==1)&(data['loan_status']==1)&(data['hired_or_not']=='Y')]))\n",
    "print(\"有借貸但信用異常且錄取者\", len(data[(data['loan']==1)&(data['loan_status']==0)&(data['hired_or_not']=='Y')]))\n",
    "print(\"無借貸且錄取者\", len(data[(data['loan']==0)&(data['hired_or_not']=='Y')]))\n",
    "print(\"有借貸且異常者占有信貸者比例\", len(data[(data['loan']==1)&(data['loan_status']==0)])/len(data[data['loan']==1]))\n",
    "print(\"---------------------------------------------------------------------\")\n",
    "print(\"有信貸者錄取率\", len(data[(data['loan']==1)&(data['hired_or_not']=='Y')])/len(data[data['loan']==1]))\n",
    "print(\"無信貸者錄取率\", len(data[(data['loan']==0)&(data['hired_or_not']=='Y')])/len(data[data['loan']==0]))\n",
    "print(\"---------------------------------------------------------------------\")\n",
    "print(\"錄取者有信貸比例\", len(data[(data['loan']==1)&(data['hired_or_not']=='Y')])/len(data[(data['hired_or_not']=='Y')]))\n",
    "print(\"未錄取者有信貸比例\", len(data[(data['loan']==1)&(data['hired_or_not']=='N')])/len(data[(data['hired_or_not']=='N')]))"
   ]
  },
  {
   "cell_type": "code",
   "execution_count": 20,
   "metadata": {},
   "outputs": [],
   "source": [
    "# 建立信貸者資料\n",
    "p_job_loan, p_no_job_loan = 0.27450980, 0.22836095\n",
    "df.loc[df.found_job == 1, 'loan'] = np.random.choice([1, 0], size=len(df.loc[df.found_job == 1]), p=[p_job_loan, 1 - p_job_loan])\n",
    "df.loc[df.found_job == 0, 'loan'] = np.random.choice([1, 0], size=len(df.loc[df.found_job == 0]), p=[p_no_job_loan, 1 - p_no_job_loan])"
   ]
  },
  {
   "cell_type": "code",
   "execution_count": 21,
   "metadata": {},
   "outputs": [
    {
     "name": "stdout",
     "output_type": "stream",
     "text": [
      "有借貸者人數 232442\n",
      "無借貸且錄取者 62294\n",
      "---------------------------------------------------------------------\n",
      "有信貸者錄取率 0.10098863372368161\n",
      "無信貸者錄取率 0.08115868768223379\n",
      "---------------------------------------------------------------------\n",
      "錄取者有信貸比例 0.2736918197929298\n",
      "未錄取者有信貸比例 0.22857217861549367\n"
     ]
    }
   ],
   "source": [
    "# 檢視資料集借貸與錄取與否關係\n",
    "print(\"有借貸者人數\", len(df[df['loan']==1]))\n",
    "print(\"無借貸且錄取者\", len(df[(df['loan']==0)&(df['found_job']==1)]))\n",
    "print(\"---------------------------------------------------------------------\")\n",
    "print(\"有信貸者錄取率\", len(df[(df['loan']==1)&(df['found_job']==1)])/len(df[df['loan']==1]))\n",
    "print(\"無信貸者錄取率\", len(df[(df['loan']==0)&(df['found_job']==1)])/len(df[df['loan']==0]))\n",
    "print(\"---------------------------------------------------------------------\")\n",
    "print(\"錄取者有信貸比例\", len(df[(df['loan']==1)&(df['found_job']==1)])/len(df[(df['found_job']==1)]))\n",
    "print(\"未錄取者有信貸比例\", len(df[(df['loan']==1)&(df['found_job']==0)])/len(df[(df['found_job']==0)]))"
   ]
  },
  {
   "cell_type": "code",
   "execution_count": 22,
   "metadata": {},
   "outputs": [
    {
     "name": "stdout",
     "output_type": "stream",
     "text": [
      "有信貸人數 276\n",
      "有信貸且信用正常人數 272\n",
      "有信貸但信用不正常人數 4\n",
      "---------------------------------------------------------------------\n",
      "有信貸且信用正常錄取人數 28\n",
      "有信貸且信用正常但未錄取人數 244\n",
      "有信貸但信用不正常錄取人數 0\n",
      "有信貸但信用不正常且未錄取人數 4\n",
      "---------------------------------------------------------------------\n",
      "未錄取者中信用正常者佔比 0.9838709677419355\n",
      "未錄取者中信用不正常者佔比 0.016129032258064516\n"
     ]
    }
   ],
   "source": [
    "# 檢視資料集不良信貸者\n",
    "print(\"有信貸人數\", len(data[(data['loan']==1)]))\n",
    "print(\"有信貸且信用正常人數\", len(data[(data['loan']==1)&(data['loan_status']==1)]))\n",
    "print(\"有信貸但信用不正常人數\", len(data[(data['loan']==1)&(data['loan_status']==0)]))\n",
    "print(\"---------------------------------------------------------------------\")\n",
    "print(\"有信貸且信用正常錄取人數\", len(data[(data['loan']==1)&(data['loan_status']==1)&(data['hired_or_not']=='Y')]))\n",
    "print(\"有信貸且信用正常但未錄取人數\", len(data[(data['loan']==1)&(data['loan_status']==1)&(data['hired_or_not']=='N')]))\n",
    "print(\"有信貸但信用不正常錄取人數\", len(data[(data['loan']==1)&(data['loan_status']==0)&(data['hired_or_not']=='Y')]))\n",
    "print(\"有信貸但信用不正常且未錄取人數\", len(data[(data['loan']==1)&(data['loan_status']==0)&(data['hired_or_not']=='N')]))\n",
    "print(\"---------------------------------------------------------------------\")\n",
    "print(\"未錄取者中信用正常者佔比\", len(data[(data['loan']==1)&(data['loan_status']==1)&(data['hired_or_not']=='N')])/len(data[(data['loan']==1)&(data['hired_or_not']=='N')]))\n",
    "print(\"未錄取者中信用不正常者佔比\", len(data[(data['loan']==1)&(data['loan_status']==0)&(data['hired_or_not']=='N')])/len(data[(data['loan']==1)&(data['hired_or_not']=='N')]))"
   ]
  },
  {
   "cell_type": "code",
   "execution_count": 24,
   "metadata": {},
   "outputs": [],
   "source": [
    "# 設定信貸狀況分布\n",
    "# 未錄取信用狀況良好者\n",
    "p_no_job_loan_good = 0.98387096\n",
    "\n",
    "df_loan = df[df['loan']==1]\n",
    "df_no_loan = df[df['loan']==0]\n",
    "\n",
    "df_loan.loc[df_loan.found_job == 1, 'loan_status'] = np.random.choice([1, 0], size=len(df_loan.loc[df_loan.found_job == 1]), p=[1, 0])\n",
    "df_loan.loc[df_loan.found_job == 0, 'loan_status'] = np.random.choice([1, 0], size=len(df_loan.loc[df_loan.found_job == 0]), p=[p_no_job_loan_good, 1-p_no_job_loan_good])\n",
    "\n",
    "df = df_loan.append(df_no_loan)"
   ]
  },
  {
   "cell_type": "code",
   "execution_count": 25,
   "metadata": {},
   "outputs": [
    {
     "name": "stdout",
     "output_type": "stream",
     "text": [
      "有信貸人數 232442\n",
      "有信貸且信用正常人數 229086\n",
      "有信貸但信用不正常人數 3356\n",
      "---------------------------------------------------------------------\n",
      "有信貸且信用正常錄取人數 23474\n",
      "有信貸且信用正常但未錄取人數 205612\n",
      "有信貸但信用不正常錄取人數 0\n",
      "有信貸但信用不正常且未錄取人數 3356\n",
      "---------------------------------------------------------------------\n",
      "未錄取者中信用正常者佔比 0.9839401248037977\n",
      "未錄取者中信用不正常者佔比 0.01605987519620229\n"
     ]
    }
   ],
   "source": [
    "# 檢視資料集不良信貸者\n",
    "print(\"有信貸人數\", len(df[(df['loan']==1)]))\n",
    "print(\"有信貸且信用正常人數\", len(df[(df['loan']==1)&(df['loan_status']==1)]))\n",
    "print(\"有信貸但信用不正常人數\", len(df[(df['loan']==1)&(df['loan_status']==0)]))\n",
    "print(\"---------------------------------------------------------------------\")\n",
    "print(\"有信貸且信用正常錄取人數\", len(df[(df['loan']==1)&(df['loan_status']==1)&(df['found_job']==1)]))\n",
    "print(\"有信貸且信用正常但未錄取人數\", len(df[(df['loan']==1)&(df['loan_status']==1)&(df['found_job']==0)]))\n",
    "print(\"有信貸但信用不正常錄取人數\", len(df[(df['loan']==1)&(df['loan_status']==0)&(df['found_job']==1)]))\n",
    "print(\"有信貸但信用不正常且未錄取人數\", len(df[(df['loan']==1)&(df['loan_status']==0)&(df['found_job']==0)]))\n",
    "print(\"---------------------------------------------------------------------\")\n",
    "print(\"未錄取者中信用正常者佔比\", len(df[(df['loan']==1)&(df['loan_status']==1)&(df['found_job']==0)])/len(df[(df['loan']==1)&(df['found_job']==0)]))\n",
    "print(\"未錄取者中信用不正常者佔比\", len(df[(df['loan']==1)&(df['loan_status']==0)&(df['found_job']==0)])/len(df[(df['loan']==1)&(df['found_job']==0)]))"
   ]
  },
  {
   "cell_type": "code",
   "execution_count": 26,
   "metadata": {},
   "outputs": [
    {
     "name": "stdout",
     "output_type": "stream",
     "text": [
      "役畢總人數 399\n",
      "待畢總人數 13\n",
      "錄取者中役畢人數 38\n",
      "錄取者中未畢人數 1\n",
      "未錄取者中役畢人數 361\n",
      "未錄取者中未畢人數 12\n",
      "---------------------------------------------------------\n",
      "錄取者中役畢占比 0.9743589743589743\n",
      "錄取者中未畢占比 0.02564102564102564\n",
      "未錄取者中役畢占比 0.967828418230563\n",
      "未錄取者中未畢占比 0.032171581769437\n"
     ]
    }
   ],
   "source": [
    "# 檢視服役狀況\n",
    "print(\"役畢總人數\", len(data[(data['sex']=='M')&(data['military_status']==1)]))\n",
    "print(\"待畢總人數\", len(data[(data['sex']=='M')&(data['military_status']==0)]))\n",
    "print(\"錄取者中役畢人數\", len(data[(data['sex']=='M')&(data['military_status']==1)&(data['hired_or_not']=='Y')]))\n",
    "print(\"錄取者中未畢人數\", len(data[(data['sex']=='M')&(data['military_status']==0)&(data['hired_or_not']=='Y')]))\n",
    "print(\"未錄取者中役畢人數\", len(data[(data['sex']=='M')&(data['military_status']==1)&(data['hired_or_not']=='N')]))\n",
    "print(\"未錄取者中未畢人數\", len(data[(data['sex']=='M')&(data['military_status']==0)&(data['hired_or_not']=='N')]))\n",
    "print(\"---------------------------------------------------------\")\n",
    "print(\"錄取者中役畢占比\", len(data[(data['sex']=='M')&(data['military_status']==1)&(data['hired_or_not']=='Y')])/len(data[(data['sex']=='M')&(data['hired_or_not']=='Y')]))\n",
    "print(\"錄取者中未畢占比\", len(data[(data['sex']=='M')&(data['military_status']==0)&(data['hired_or_not']=='Y')])/len(data[(data['sex']=='M')&(data['hired_or_not']=='Y')]))\n",
    "print(\"未錄取者中役畢占比\", len(data[(data['sex']=='M')&(data['military_status']==1)&(data['hired_or_not']=='N')])/len(data[(data['sex']=='M')&(data['hired_or_not']=='N')]))\n",
    "print(\"未錄取者中未畢占比\", len(data[(data['sex']=='M')&(data['military_status']==0)&(data['hired_or_not']=='N')])/len(data[(data['sex']=='M')&(data['hired_or_not']=='N')]))"
   ]
  },
  {
   "cell_type": "code",
   "execution_count": 27,
   "metadata": {},
   "outputs": [],
   "source": [
    "# 設定資料集服役情況\n",
    "p_job_miliarty_status, p_no_job_military_status = 0.97435897, 0.96782841\n",
    "\n",
    "df_male = df[df['gender']=='male']\n",
    "df_female = df[df['gender']=='female']\n",
    "\n",
    "df_male.loc[df_male.found_job == 1, 'military_status'] = np.random.choice([1, 0], size=len(df_male.loc[df_male.found_job == 1]), p=[p_job_miliarty_status, 1-p_job_miliarty_status])\n",
    "df_male.loc[df_male.found_job == 0, 'military_status'] = np.random.choice([1, 0], size=len(df_male.loc[df_male.found_job == 0]), p=[p_no_job_military_status, 1-p_no_job_military_status])\n",
    "df_female.loc[:,'military_status'] = 1\n",
    "\n",
    "df = df_male.append(df_female)"
   ]
  },
  {
   "cell_type": "code",
   "execution_count": 28,
   "metadata": {},
   "outputs": [
    {
     "name": "stdout",
     "output_type": "stream",
     "text": [
      "役畢總人數 335348\n",
      "待畢總人數 11004\n",
      "錄取者中役畢人數 31863\n",
      "錄取者中未畢人數 859\n",
      "未錄取者中役畢人數 303485\n",
      "未錄取者中未畢人數 10145\n",
      "---------------------------------------------------------\n",
      "錄取者中役畢占比 0.9737485483772386\n",
      "錄取者中未畢占比 0.026251451622761445\n",
      "未錄取者中役畢占比 0.9676529668717916\n",
      "未錄取者中未畢占比 0.0323470331282084\n"
     ]
    }
   ],
   "source": [
    "# 檢視服役狀況\n",
    "print(\"役畢總人數\", len(df[(df['gender']=='male')&(df['military_status']==1)]))\n",
    "print(\"待畢總人數\", len(df[(df['gender']=='male')&(df['military_status']==0)]))\n",
    "print(\"錄取者中役畢人數\", len(df[(df['gender']=='male')&(df['military_status']==1)&(df['found_job']==1)]))\n",
    "print(\"錄取者中未畢人數\", len(df[(df['gender']=='male')&(df['military_status']==0)&(df['found_job']==1)]))\n",
    "print(\"未錄取者中役畢人數\", len(df[(df['gender']=='male')&(df['military_status']==1)&(df['found_job']==0)]))\n",
    "print(\"未錄取者中未畢人數\", len(df[(df['gender']=='male')&(df['military_status']==0)&(df['found_job']==0)]))\n",
    "print(\"---------------------------------------------------------\")\n",
    "print(\"錄取者中役畢占比\", len(df[(df['gender']=='male')&(df['military_status']==1)&(df['found_job']==1)])/len(df[(df['gender']=='male')&(df['found_job']==1)]))\n",
    "print(\"錄取者中未畢占比\", len(df[(df['gender']=='male')&(df['military_status']==0)&(df['found_job']==1)])/len(df[(df['gender']=='male')&(df['found_job']==1)]))\n",
    "print(\"未錄取者中役畢占比\", len(df[(df['gender']=='male')&(df['military_status']==1)&(df['found_job']==0)])/len(df[(df['gender']=='male')&(df['found_job']==0)]))\n",
    "print(\"未錄取者中未畢占比\", len(df[(df['gender']=='male')&(df['military_status']==0)&(df['found_job']==0)])/len(df[(df['gender']=='male')&(df['found_job']==0)]))"
   ]
  },
  {
   "cell_type": "code",
   "execution_count": 29,
   "metadata": {},
   "outputs": [
    {
     "name": "stdout",
     "output_type": "stream",
     "text": [
      "原住民身分總人數 10\n",
      "錄取者屬原住民身分者 1\n",
      "未錄取者屬原住民身分者 9\n",
      "---------------------------------------------------------\n",
      "錄取者屬原住民身分者占比 0.00980392156862745\n",
      "未錄取者屬原住民身分者占比 0.008287292817679558\n"
     ]
    }
   ],
   "source": [
    "print(\"原住民身分總人數\", len(data[data['aboriginal']==1]))\n",
    "print(\"錄取者屬原住民身分者\", len(data[(data['aboriginal']==1)&(data['hired_or_not']=='Y')]))\n",
    "print(\"未錄取者屬原住民身分者\", len(data[(data['aboriginal']==1)&(data['hired_or_not']=='N')]))\n",
    "print(\"---------------------------------------------------------\")\n",
    "print(\"錄取者屬原住民身分者占比\", len(data[(data['aboriginal']==1)&(data['hired_or_not']=='Y')])/len(data[(data['hired_or_not']=='Y')]))\n",
    "print(\"未錄取者屬原住民身分者占比\", len(data[(data['aboriginal']==1)&(data['hired_or_not']=='N')])/len(data[(data['hired_or_not']=='N')]))"
   ]
  },
  {
   "cell_type": "code",
   "execution_count": 30,
   "metadata": {},
   "outputs": [],
   "source": [
    "# 設定資料集原住民身分\n",
    "p_job_aboriginal, p_no_job_aboriginal = 0.00980392, 0.00828729\n",
    "\n",
    "df.loc[df.found_job == 1, 'aboriginal'] = np.random.choice([1, 0], size=len(df.loc[df.found_job == 1]), p=[p_job_aboriginal, 1-p_job_aboriginal])\n",
    "df.loc[df.found_job == 0, 'aboriginal'] = np.random.choice([1, 0], size=len(df.loc[df.found_job == 0]), p=[p_no_job_aboriginal, 1-p_no_job_aboriginal])"
   ]
  },
  {
   "cell_type": "code",
   "execution_count": 31,
   "metadata": {},
   "outputs": [
    {
     "name": "stdout",
     "output_type": "stream",
     "text": [
      "原住民身分總人數 8274\n",
      "錄取者屬原住民身分者 812\n",
      "未錄取者屬原住民身分者 7462\n",
      "---------------------------------------------------------\n",
      "錄取者屬原住民身分者占比 0.009467400429064453\n",
      "未錄取者屬原住民身分者占比 0.008162042019968674\n"
     ]
    }
   ],
   "source": [
    "print(\"原住民身分總人數\", len(df[df['aboriginal']==1]))\n",
    "print(\"錄取者屬原住民身分者\", len(df[(df['aboriginal']==1)&(df['found_job']==1)]))\n",
    "print(\"未錄取者屬原住民身分者\", len(df[(df['aboriginal']==1)&(df['found_job']==0)]))\n",
    "print(\"---------------------------------------------------------\")\n",
    "print(\"錄取者屬原住民身分者占比\", len(df[(df['aboriginal']==1)&(df['found_job']==1)])/len(df[(df['found_job']==1)]))\n",
    "print(\"未錄取者屬原住民身分者占比\", len(df[(df['aboriginal']==1)&(df['found_job']==0)])/len(df[(df['found_job']==0)]))"
   ]
  },
  {
   "cell_type": "code",
   "execution_count": 32,
   "metadata": {},
   "outputs": [
    {
     "name": "stdout",
     "output_type": "stream",
     "text": [
      "錄取男性bmi平均 23.474358974358978\n",
      "錄取男性bmi標準差 2.583624336054209\n",
      "未錄取男性bmi平均 22.98739946380696\n",
      "未錄取男性bmi標準差 3.2864133706349055\n",
      "---------------------------------------------------------\n",
      "錄取女性bmi平均 19.603174603174608\n",
      "錄取女性bmi標準差 1.7807182543232611\n",
      "未錄取女性bmi平均 20.42272089761572\n",
      "未錄取女性bmi標準差 2.564294567958626\n"
     ]
    }
   ],
   "source": [
    "# 檢視資料集 BMI 分布\n",
    "data.loc[:,'bmi'] = (data['weight'] / (data['height']/100 * data['height']/100)).round(1)\n",
    "print(\"錄取男性bmi平均\", data[(data['sex']=='M')&(data['hired_or_not']=='Y')].bmi.mean())\n",
    "print(\"錄取男性bmi標準差\", data[(data['sex']=='M')&(data['hired_or_not']=='Y')].bmi.std())\n",
    "print(\"未錄取男性bmi平均\", data[(data['sex']=='M')&(data['hired_or_not']=='N')].bmi.mean())\n",
    "print(\"未錄取男性bmi標準差\", data[(data['sex']=='M')&(data['hired_or_not']=='N')].bmi.std())\n",
    "print(\"---------------------------------------------------------\")\n",
    "print(\"錄取女性bmi平均\", data[(data['sex']=='F')&(data['hired_or_not']=='Y')].bmi.mean())\n",
    "print(\"錄取女性bmi標準差\", data[(data['sex']=='F')&(data['hired_or_not']=='Y')].bmi.std())\n",
    "print(\"未錄取女性bmi平均\", data[(data['sex']=='F')&(data['hired_or_not']=='N')].bmi.mean())\n",
    "print(\"未錄取女性bmi標準差\", data[(data['sex']=='F')&(data['hired_or_not']=='N')].bmi.std())"
   ]
  },
  {
   "cell_type": "code",
   "execution_count": 33,
   "metadata": {},
   "outputs": [
    {
     "data": {
      "text/html": [
       "<div>\n",
       "<style scoped>\n",
       "    .dataframe tbody tr th:only-of-type {\n",
       "        vertical-align: middle;\n",
       "    }\n",
       "\n",
       "    .dataframe tbody tr th {\n",
       "        vertical-align: top;\n",
       "    }\n",
       "\n",
       "    .dataframe thead th {\n",
       "        text-align: right;\n",
       "    }\n",
       "</style>\n",
       "<table border=\"1\" class=\"dataframe\">\n",
       "  <thead>\n",
       "    <tr style=\"text-align: right;\">\n",
       "      <th></th>\n",
       "      <th>age</th>\n",
       "      <th>educ_class</th>\n",
       "      <th>found_job</th>\n",
       "      <th>gender</th>\n",
       "      <th>loan</th>\n",
       "      <th>loan_status</th>\n",
       "      <th>marriage</th>\n",
       "      <th>military_status</th>\n",
       "      <th>aboriginal</th>\n",
       "      <th>bmi</th>\n",
       "    </tr>\n",
       "  </thead>\n",
       "  <tbody>\n",
       "    <tr>\n",
       "      <td>0</td>\n",
       "      <td>28</td>\n",
       "      <td>B</td>\n",
       "      <td>0</td>\n",
       "      <td>male</td>\n",
       "      <td>1.0</td>\n",
       "      <td>1.0</td>\n",
       "      <td>0.0</td>\n",
       "      <td>1.0</td>\n",
       "      <td>0.0</td>\n",
       "      <td>24.0</td>\n",
       "    </tr>\n",
       "    <tr>\n",
       "      <td>13</td>\n",
       "      <td>31</td>\n",
       "      <td>B</td>\n",
       "      <td>0</td>\n",
       "      <td>male</td>\n",
       "      <td>1.0</td>\n",
       "      <td>1.0</td>\n",
       "      <td>0.0</td>\n",
       "      <td>1.0</td>\n",
       "      <td>0.0</td>\n",
       "      <td>25.0</td>\n",
       "    </tr>\n",
       "    <tr>\n",
       "      <td>20</td>\n",
       "      <td>22</td>\n",
       "      <td>B</td>\n",
       "      <td>0</td>\n",
       "      <td>male</td>\n",
       "      <td>1.0</td>\n",
       "      <td>1.0</td>\n",
       "      <td>0.0</td>\n",
       "      <td>1.0</td>\n",
       "      <td>0.0</td>\n",
       "      <td>17.0</td>\n",
       "    </tr>\n",
       "    <tr>\n",
       "      <td>24</td>\n",
       "      <td>20</td>\n",
       "      <td>B</td>\n",
       "      <td>0</td>\n",
       "      <td>male</td>\n",
       "      <td>1.0</td>\n",
       "      <td>1.0</td>\n",
       "      <td>0.0</td>\n",
       "      <td>1.0</td>\n",
       "      <td>0.0</td>\n",
       "      <td>19.0</td>\n",
       "    </tr>\n",
       "    <tr>\n",
       "      <td>39</td>\n",
       "      <td>22</td>\n",
       "      <td>B</td>\n",
       "      <td>0</td>\n",
       "      <td>male</td>\n",
       "      <td>1.0</td>\n",
       "      <td>1.0</td>\n",
       "      <td>0.0</td>\n",
       "      <td>1.0</td>\n",
       "      <td>0.0</td>\n",
       "      <td>23.0</td>\n",
       "    </tr>\n",
       "  </tbody>\n",
       "</table>\n",
       "</div>"
      ],
      "text/plain": [
       "    age educ_class  found_job gender  loan  loan_status  marriage  \\\n",
       "0    28          B          0   male   1.0          1.0       0.0   \n",
       "13   31          B          0   male   1.0          1.0       0.0   \n",
       "20   22          B          0   male   1.0          1.0       0.0   \n",
       "24   20          B          0   male   1.0          1.0       0.0   \n",
       "39   22          B          0   male   1.0          1.0       0.0   \n",
       "\n",
       "    military_status  aboriginal   bmi  \n",
       "0               1.0         0.0  24.0  \n",
       "13              1.0         0.0  25.0  \n",
       "20              1.0         0.0  17.0  \n",
       "24              1.0         0.0  19.0  \n",
       "39              1.0         0.0  23.0  "
      ]
     },
     "execution_count": 33,
     "metadata": {},
     "output_type": "execute_result"
    }
   ],
   "source": [
    "# 設定資料集BMI分布\n",
    "mu_job_male_bmi, mu_job_female_bmi = 23.47435897, 19.60317460\n",
    "sigma_job_male_bmi, sigma_job_female_bmi = 2.58362433, 1.78071825\n",
    "mu_no_job_male_bmi, mu_no_job_female_bmi = 22.98739946, 20.42272089\n",
    "sigma_no_job_male_bmi, sigma_no_job_female_bmi = 3.28641337, 2.56429456\n",
    "\n",
    "df_male = df[df['gender']=='male']\n",
    "df_female = df[df['gender']=='female']\n",
    "\n",
    "df_male.loc[df_male.found_job == 1, 'bmi'] = np.floor(np.random.normal(mu_job_male_bmi, sigma_job_male_bmi, len(df_male.loc[df_male.found_job == 1])))\n",
    "df_male.loc[df_male.found_job == 0, 'bmi'] = np.floor(np.random.normal(mu_no_job_male_bmi, sigma_no_job_male_bmi, len(df_male.loc[df_male.found_job == 0])))\n",
    "df_female.loc[df_female.found_job == 1, 'bmi'] = np.floor(np.random.normal(mu_job_female_bmi, sigma_job_female_bmi, len(df_female.loc[df_female.found_job == 1])))\n",
    "df_female.loc[df_female.found_job == 0, 'bmi'] = np.floor(np.random.normal(mu_no_job_female_bmi, sigma_no_job_female_bmi, len(df_female.loc[df_female.found_job == 0])))\n",
    "\n",
    "df = df_male.append(df_female)\n",
    "df.head()"
   ]
  },
  {
   "cell_type": "markdown",
   "metadata": {},
   "source": [
    "# 原始資料訓練"
   ]
  },
  {
   "cell_type": "code",
   "execution_count": 20,
   "metadata": {},
   "outputs": [],
   "source": [
    "data['marriage'] = data['marriage'].replace(0,\"N\").replace(1,\"Y\")\n",
    "data['hired_or_not'] = data['hired_or_not'].replace(\"Y\",1).replace(\"N\",0)\n",
    "data.loc[:,'bmi'] = (data['weight'] / (data['height']/100 * data['height']/100)).round(1)\n",
    "data = data.drop(['id','relabel_check','height','weight'], axis=1)"
   ]
  },
  {
   "cell_type": "code",
   "execution_count": 57,
   "metadata": {},
   "outputs": [],
   "source": [
    "def get_disparity_index(di):\n",
    "    return 1 - np.minimum(di, 1 / di)\n",
    "\n",
    "def get_bal_acc(classified_metric):\n",
    "    return 0.5 * (classified_metric.true_positive_rate() + classified_metric.true_negative_rate())\n",
    "\n",
    "def train_lr_model(dataset):\n",
    "    scale = StandardScaler().fit(dataset.features)\n",
    "    model = LogisticRegression(random_state=0, solver='liblinear')\n",
    "    x_train = scale.transform(dataset.features)\n",
    "    y_train = dataset.labels.ravel()\n",
    "    model.fit(x_train, y_train, sample_weight=dataset.instance_weights)\n",
    "    y_train_pred = model.predict(x_train)\n",
    "    return model, scale\n",
    "\n",
    "def test_lr_model(y_data_pred_prob, dataset, thresh_arr):\n",
    "    y_pred = (y_data_pred_prob[:,1] > thresh_arr).astype(np.double)\n",
    "    dataset_pred = dataset.copy()\n",
    "    dataset_pred.labels = y_pred\n",
    "    classified_metric = ClassificationMetric(dataset, dataset_pred, unprivileged_group, privileged_group)\n",
    "    metric_pred = BinaryLabelDatasetMetric(dataset_pred, unprivileged_group, privileged_group)\n",
    "    return dataset_pred.labels, classified_metric, metric_pred\n",
    "\n",
    "def get_y_pred_prob_lr(scale, model, dataset):\n",
    "    x = scale.transform(dataset.features)\n",
    "    y_pred_prob = model.predict_proba(x)\n",
    "    return y_pred_prob\n",
    "\n",
    "def get_best_bal_acc_cutoff(y_pred_prob, dataset):\n",
    "    y_validate_pred_prob = y_pred_prob\n",
    "    bal_acc_arr = []\n",
    "    disp_imp_arr = []\n",
    "\n",
    "    for thresh in tqdm(thresh_arr):\n",
    "        y_validate_pred = (y_validate_pred_prob[:,1] > thresh).astype(np.double)\n",
    "        dataset_pred = dataset.copy()\n",
    "        dataset_pred.labels = y_validate_pred\n",
    "\n",
    "        # Calculate accuracy for each threshold value\n",
    "        classified_metric = ClassificationMetric(dataset, dataset_pred, unprivileged_group, privileged_group)\n",
    "        bal_acc = get_bal_acc(classified_metric)\n",
    "        bal_acc_arr.append(bal_acc)\n",
    "\n",
    "        # Calculate fairness for each threshold value\n",
    "        metric_pred = BinaryLabelDatasetMetric(dataset_pred, unprivileged_group, privileged_group)\n",
    "        disp_imp_arr.append(metric_pred.disparate_impact())\n",
    "\n",
    "    # Find threshold for best accuracy\n",
    "    thresh_arr_best_ind = np.where(bal_acc_arr == np.max(bal_acc_arr))[0][0]\n",
    "    thresh_arr_best = np.array(thresh_arr)[thresh_arr_best_ind]\n",
    "\n",
    "    # Calculate accuracy and fairness at this threshold\n",
    "    best_bal_acc = bal_acc_arr[thresh_arr_best_ind]\n",
    "    disp_imp_at_best_bal_acc = disp_imp_arr[thresh_arr_best_ind]\n",
    "\n",
    "    # Output metrics\n",
    "    acc_metrics = pd.DataFrame({'thresh_arr_best_ind' : thresh_arr_best_ind, \\\n",
    "    'thresh_arr_best' : thresh_arr_best, \\\n",
    "    'best_bal_acc' : best_bal_acc, \\\n",
    "    'disp_imp_at_best_bal_acc' : disp_imp_at_best_bal_acc}, index=[0]).transpose()\n",
    "    return acc_metrics, bal_acc_arr, disp_imp_arr, dataset_pred.labels\n",
    "\n",
    "\n",
    "def plot_acc_vs_fairness(metric, metric_name, bal_acc_arr, thresh_arr_best_ind):\n",
    "    fig, ax1 = plt.subplots(figsize=(10, 7))\n",
    "    ax1.plot(thresh_arr, bal_acc_arr, color='b')\n",
    "    ax1.set_xlabel('Classification Thresholds', fontsize=16, fontweight='bold')\n",
    "    ax1.set_ylabel('Balanced Accuracy', color='b', fontsize=16, fontweight='bold')\n",
    "    ax1.xaxis.set_tick_params(labelsize=14)\n",
    "    ax1.yaxis.set_tick_params(labelsize=14, labelcolor='b')\n",
    "    ax2 = ax1.twinx()\n",
    "    ax2.plot(thresh_arr, metric, color='r')\n",
    "    ax2.set_ylabel(metric_name, color='r', fontsize=16, fontweight='bold')\n",
    "    ax2.axvline(np.array(thresh_arr)[thresh_arr_best_ind], color='k', linestyle=':')\n",
    "    ax2.yaxis.set_tick_params(labelsize=14, labelcolor='r')\n",
    "    ax2.grid(True)"
   ]
  },
  {
   "cell_type": "code",
   "execution_count": 21,
   "metadata": {},
   "outputs": [
    {
     "data": {
      "text/html": [
       "<div>\n",
       "<style scoped>\n",
       "    .dataframe tbody tr th:only-of-type {\n",
       "        vertical-align: middle;\n",
       "    }\n",
       "\n",
       "    .dataframe tbody tr th {\n",
       "        vertical-align: top;\n",
       "    }\n",
       "\n",
       "    .dataframe thead th {\n",
       "        text-align: right;\n",
       "    }\n",
       "</style>\n",
       "<table border=\"1\" class=\"dataframe\">\n",
       "  <thead>\n",
       "    <tr style=\"text-align: right;\">\n",
       "      <th></th>\n",
       "      <th>sex</th>\n",
       "      <th>apply_age</th>\n",
       "      <th>marriage</th>\n",
       "      <th>highest_education</th>\n",
       "      <th>highest_graduation</th>\n",
       "      <th>loan</th>\n",
       "      <th>loan_status</th>\n",
       "      <th>military_status</th>\n",
       "      <th>aboriginal</th>\n",
       "      <th>nationality</th>\n",
       "      <th>highest_school_level</th>\n",
       "      <th>english_level</th>\n",
       "      <th>hired_or_not</th>\n",
       "      <th>bmi</th>\n",
       "    </tr>\n",
       "  </thead>\n",
       "  <tbody>\n",
       "    <tr>\n",
       "      <td>0</td>\n",
       "      <td>F</td>\n",
       "      <td>24</td>\n",
       "      <td>N</td>\n",
       "      <td>B</td>\n",
       "      <td>Y</td>\n",
       "      <td>0</td>\n",
       "      <td>1</td>\n",
       "      <td>1</td>\n",
       "      <td>0</td>\n",
       "      <td>1</td>\n",
       "      <td>3</td>\n",
       "      <td>2.0</td>\n",
       "      <td>0</td>\n",
       "      <td>22.9</td>\n",
       "    </tr>\n",
       "    <tr>\n",
       "      <td>1</td>\n",
       "      <td>F</td>\n",
       "      <td>28</td>\n",
       "      <td>N</td>\n",
       "      <td>B</td>\n",
       "      <td>Y</td>\n",
       "      <td>1</td>\n",
       "      <td>1</td>\n",
       "      <td>1</td>\n",
       "      <td>0</td>\n",
       "      <td>1</td>\n",
       "      <td>2</td>\n",
       "      <td>2.0</td>\n",
       "      <td>0</td>\n",
       "      <td>20.8</td>\n",
       "    </tr>\n",
       "    <tr>\n",
       "      <td>2</td>\n",
       "      <td>F</td>\n",
       "      <td>24</td>\n",
       "      <td>N</td>\n",
       "      <td>B</td>\n",
       "      <td>Y</td>\n",
       "      <td>1</td>\n",
       "      <td>1</td>\n",
       "      <td>1</td>\n",
       "      <td>0</td>\n",
       "      <td>1</td>\n",
       "      <td>3</td>\n",
       "      <td>2.0</td>\n",
       "      <td>0</td>\n",
       "      <td>26.0</td>\n",
       "    </tr>\n",
       "    <tr>\n",
       "      <td>3</td>\n",
       "      <td>F</td>\n",
       "      <td>21</td>\n",
       "      <td>N</td>\n",
       "      <td>B</td>\n",
       "      <td>Y</td>\n",
       "      <td>0</td>\n",
       "      <td>1</td>\n",
       "      <td>1</td>\n",
       "      <td>0</td>\n",
       "      <td>1</td>\n",
       "      <td>5</td>\n",
       "      <td>2.0</td>\n",
       "      <td>0</td>\n",
       "      <td>17.7</td>\n",
       "    </tr>\n",
       "    <tr>\n",
       "      <td>4</td>\n",
       "      <td>F</td>\n",
       "      <td>22</td>\n",
       "      <td>N</td>\n",
       "      <td>B</td>\n",
       "      <td>I</td>\n",
       "      <td>0</td>\n",
       "      <td>1</td>\n",
       "      <td>1</td>\n",
       "      <td>0</td>\n",
       "      <td>1</td>\n",
       "      <td>6</td>\n",
       "      <td>3.0</td>\n",
       "      <td>0</td>\n",
       "      <td>18.7</td>\n",
       "    </tr>\n",
       "  </tbody>\n",
       "</table>\n",
       "</div>"
      ],
      "text/plain": [
       "  sex  apply_age marriage highest_education highest_graduation  loan  \\\n",
       "0   F         24        N                 B                  Y     0   \n",
       "1   F         28        N                 B                  Y     1   \n",
       "2   F         24        N                 B                  Y     1   \n",
       "3   F         21        N                 B                  Y     0   \n",
       "4   F         22        N                 B                  I     0   \n",
       "\n",
       "   loan_status  military_status  aboriginal  nationality highest_school_level  \\\n",
       "0            1                1           0            1                    3   \n",
       "1            1                1           0            1                    2   \n",
       "2            1                1           0            1                    3   \n",
       "3            1                1           0            1                    5   \n",
       "4            1                1           0            1                    6   \n",
       "\n",
       "   english_level  hired_or_not   bmi  \n",
       "0            2.0             0  22.9  \n",
       "1            2.0             0  20.8  \n",
       "2            2.0             0  26.0  \n",
       "3            2.0             0  17.7  \n",
       "4            3.0             0  18.7  "
      ]
     },
     "execution_count": 21,
     "metadata": {},
     "output_type": "execute_result"
    }
   ],
   "source": [
    "data.head()"
   ]
  },
  {
   "cell_type": "markdown",
   "metadata": {},
   "source": [
    "# 將男女資料分開來處理並訓練模型"
   ]
  },
  {
   "cell_type": "code",
   "execution_count": 25,
   "metadata": {},
   "outputs": [
    {
     "data": {
      "text/html": [
       "<div>\n",
       "<style scoped>\n",
       "    .dataframe tbody tr th:only-of-type {\n",
       "        vertical-align: middle;\n",
       "    }\n",
       "\n",
       "    .dataframe tbody tr th {\n",
       "        vertical-align: top;\n",
       "    }\n",
       "\n",
       "    .dataframe thead th {\n",
       "        text-align: right;\n",
       "    }\n",
       "</style>\n",
       "<table border=\"1\" class=\"dataframe\">\n",
       "  <thead>\n",
       "    <tr style=\"text-align: right;\">\n",
       "      <th></th>\n",
       "      <th>apply_age</th>\n",
       "      <th>marriage</th>\n",
       "      <th>highest_education</th>\n",
       "      <th>highest_graduation</th>\n",
       "      <th>loan</th>\n",
       "      <th>loan_status</th>\n",
       "      <th>military_status</th>\n",
       "      <th>aboriginal</th>\n",
       "      <th>nationality</th>\n",
       "      <th>highest_school_level</th>\n",
       "      <th>english_level</th>\n",
       "      <th>hired_or_not</th>\n",
       "      <th>bmi</th>\n",
       "    </tr>\n",
       "  </thead>\n",
       "  <tbody>\n",
       "    <tr>\n",
       "      <td>0</td>\n",
       "      <td>24</td>\n",
       "      <td>N</td>\n",
       "      <td>B</td>\n",
       "      <td>Y</td>\n",
       "      <td>0</td>\n",
       "      <td>1</td>\n",
       "      <td>1</td>\n",
       "      <td>0</td>\n",
       "      <td>1</td>\n",
       "      <td>3</td>\n",
       "      <td>2.0</td>\n",
       "      <td>0</td>\n",
       "      <td>22.9</td>\n",
       "    </tr>\n",
       "    <tr>\n",
       "      <td>1</td>\n",
       "      <td>28</td>\n",
       "      <td>N</td>\n",
       "      <td>B</td>\n",
       "      <td>Y</td>\n",
       "      <td>1</td>\n",
       "      <td>1</td>\n",
       "      <td>1</td>\n",
       "      <td>0</td>\n",
       "      <td>1</td>\n",
       "      <td>2</td>\n",
       "      <td>2.0</td>\n",
       "      <td>0</td>\n",
       "      <td>20.8</td>\n",
       "    </tr>\n",
       "    <tr>\n",
       "      <td>2</td>\n",
       "      <td>24</td>\n",
       "      <td>N</td>\n",
       "      <td>B</td>\n",
       "      <td>Y</td>\n",
       "      <td>1</td>\n",
       "      <td>1</td>\n",
       "      <td>1</td>\n",
       "      <td>0</td>\n",
       "      <td>1</td>\n",
       "      <td>3</td>\n",
       "      <td>2.0</td>\n",
       "      <td>0</td>\n",
       "      <td>26.0</td>\n",
       "    </tr>\n",
       "    <tr>\n",
       "      <td>3</td>\n",
       "      <td>21</td>\n",
       "      <td>N</td>\n",
       "      <td>B</td>\n",
       "      <td>Y</td>\n",
       "      <td>0</td>\n",
       "      <td>1</td>\n",
       "      <td>1</td>\n",
       "      <td>0</td>\n",
       "      <td>1</td>\n",
       "      <td>5</td>\n",
       "      <td>2.0</td>\n",
       "      <td>0</td>\n",
       "      <td>17.7</td>\n",
       "    </tr>\n",
       "    <tr>\n",
       "      <td>4</td>\n",
       "      <td>22</td>\n",
       "      <td>N</td>\n",
       "      <td>B</td>\n",
       "      <td>I</td>\n",
       "      <td>0</td>\n",
       "      <td>1</td>\n",
       "      <td>1</td>\n",
       "      <td>0</td>\n",
       "      <td>1</td>\n",
       "      <td>6</td>\n",
       "      <td>3.0</td>\n",
       "      <td>0</td>\n",
       "      <td>18.7</td>\n",
       "    </tr>\n",
       "  </tbody>\n",
       "</table>\n",
       "</div>"
      ],
      "text/plain": [
       "   apply_age marriage highest_education highest_graduation  loan  loan_status  \\\n",
       "0         24        N                 B                  Y     0            1   \n",
       "1         28        N                 B                  Y     1            1   \n",
       "2         24        N                 B                  Y     1            1   \n",
       "3         21        N                 B                  Y     0            1   \n",
       "4         22        N                 B                  I     0            1   \n",
       "\n",
       "   military_status  aboriginal  nationality highest_school_level  \\\n",
       "0                1           0            1                    3   \n",
       "1                1           0            1                    2   \n",
       "2                1           0            1                    3   \n",
       "3                1           0            1                    5   \n",
       "4                1           0            1                    6   \n",
       "\n",
       "   english_level  hired_or_not   bmi  \n",
       "0            2.0             0  22.9  \n",
       "1            2.0             0  20.8  \n",
       "2            2.0             0  26.0  \n",
       "3            2.0             0  17.7  \n",
       "4            3.0             0  18.7  "
      ]
     },
     "execution_count": 25,
     "metadata": {},
     "output_type": "execute_result"
    }
   ],
   "source": [
    "# 女性做婚姻狀態檢查\n",
    "df_female = data[data['sex']=='F']\n",
    "df_female = df_female.drop('sex', axis=1)\n",
    "df_female.head()"
   ]
  },
  {
   "cell_type": "markdown",
   "metadata": {},
   "source": [
    "# Convert to AIF360 format"
   ]
  },
  {
   "cell_type": "code",
   "execution_count": 26,
   "metadata": {},
   "outputs": [
    {
     "data": {
      "text/html": [
       "<div>\n",
       "<style scoped>\n",
       "    .dataframe tbody tr th:only-of-type {\n",
       "        vertical-align: middle;\n",
       "    }\n",
       "\n",
       "    .dataframe tbody tr th {\n",
       "        vertical-align: top;\n",
       "    }\n",
       "\n",
       "    .dataframe thead th {\n",
       "        text-align: right;\n",
       "    }\n",
       "</style>\n",
       "<table border=\"1\" class=\"dataframe\">\n",
       "  <thead>\n",
       "    <tr style=\"text-align: right;\">\n",
       "      <th></th>\n",
       "      <th>hired_or_not</th>\n",
       "      <th>apply_age</th>\n",
       "      <th>loan</th>\n",
       "      <th>loan_status</th>\n",
       "      <th>military_status</th>\n",
       "      <th>aboriginal</th>\n",
       "      <th>nationality</th>\n",
       "      <th>highest_school_level</th>\n",
       "      <th>english_level</th>\n",
       "      <th>bmi</th>\n",
       "      <th>highest_education_B</th>\n",
       "      <th>highest_education_D</th>\n",
       "      <th>highest_education_M</th>\n",
       "      <th>highest_graduation_I</th>\n",
       "      <th>highest_graduation_Y</th>\n",
       "      <th>marriage_N</th>\n",
       "      <th>marriage_Y</th>\n",
       "    </tr>\n",
       "  </thead>\n",
       "  <tbody>\n",
       "    <tr>\n",
       "      <td>0</td>\n",
       "      <td>0</td>\n",
       "      <td>24</td>\n",
       "      <td>0</td>\n",
       "      <td>1</td>\n",
       "      <td>1</td>\n",
       "      <td>0</td>\n",
       "      <td>1</td>\n",
       "      <td>3</td>\n",
       "      <td>2.0</td>\n",
       "      <td>22.9</td>\n",
       "      <td>1</td>\n",
       "      <td>0</td>\n",
       "      <td>0</td>\n",
       "      <td>0</td>\n",
       "      <td>1</td>\n",
       "      <td>1</td>\n",
       "      <td>0</td>\n",
       "    </tr>\n",
       "    <tr>\n",
       "      <td>1</td>\n",
       "      <td>0</td>\n",
       "      <td>28</td>\n",
       "      <td>1</td>\n",
       "      <td>1</td>\n",
       "      <td>1</td>\n",
       "      <td>0</td>\n",
       "      <td>1</td>\n",
       "      <td>2</td>\n",
       "      <td>2.0</td>\n",
       "      <td>20.8</td>\n",
       "      <td>1</td>\n",
       "      <td>0</td>\n",
       "      <td>0</td>\n",
       "      <td>0</td>\n",
       "      <td>1</td>\n",
       "      <td>1</td>\n",
       "      <td>0</td>\n",
       "    </tr>\n",
       "    <tr>\n",
       "      <td>2</td>\n",
       "      <td>0</td>\n",
       "      <td>24</td>\n",
       "      <td>1</td>\n",
       "      <td>1</td>\n",
       "      <td>1</td>\n",
       "      <td>0</td>\n",
       "      <td>1</td>\n",
       "      <td>3</td>\n",
       "      <td>2.0</td>\n",
       "      <td>26.0</td>\n",
       "      <td>1</td>\n",
       "      <td>0</td>\n",
       "      <td>0</td>\n",
       "      <td>0</td>\n",
       "      <td>1</td>\n",
       "      <td>1</td>\n",
       "      <td>0</td>\n",
       "    </tr>\n",
       "    <tr>\n",
       "      <td>3</td>\n",
       "      <td>0</td>\n",
       "      <td>21</td>\n",
       "      <td>0</td>\n",
       "      <td>1</td>\n",
       "      <td>1</td>\n",
       "      <td>0</td>\n",
       "      <td>1</td>\n",
       "      <td>5</td>\n",
       "      <td>2.0</td>\n",
       "      <td>17.7</td>\n",
       "      <td>1</td>\n",
       "      <td>0</td>\n",
       "      <td>0</td>\n",
       "      <td>0</td>\n",
       "      <td>1</td>\n",
       "      <td>1</td>\n",
       "      <td>0</td>\n",
       "    </tr>\n",
       "    <tr>\n",
       "      <td>4</td>\n",
       "      <td>0</td>\n",
       "      <td>22</td>\n",
       "      <td>0</td>\n",
       "      <td>1</td>\n",
       "      <td>1</td>\n",
       "      <td>0</td>\n",
       "      <td>1</td>\n",
       "      <td>6</td>\n",
       "      <td>3.0</td>\n",
       "      <td>18.7</td>\n",
       "      <td>1</td>\n",
       "      <td>0</td>\n",
       "      <td>0</td>\n",
       "      <td>1</td>\n",
       "      <td>0</td>\n",
       "      <td>1</td>\n",
       "      <td>0</td>\n",
       "    </tr>\n",
       "  </tbody>\n",
       "</table>\n",
       "</div>"
      ],
      "text/plain": [
       "   hired_or_not  apply_age  loan  loan_status  military_status  aboriginal  \\\n",
       "0             0         24     0            1                1           0   \n",
       "1             0         28     1            1                1           0   \n",
       "2             0         24     1            1                1           0   \n",
       "3             0         21     0            1                1           0   \n",
       "4             0         22     0            1                1           0   \n",
       "\n",
       "   nationality highest_school_level  english_level   bmi  highest_education_B  \\\n",
       "0            1                    3            2.0  22.9                    1   \n",
       "1            1                    2            2.0  20.8                    1   \n",
       "2            1                    3            2.0  26.0                    1   \n",
       "3            1                    5            2.0  17.7                    1   \n",
       "4            1                    6            3.0  18.7                    1   \n",
       "\n",
       "   highest_education_D  highest_education_M  highest_graduation_I  \\\n",
       "0                    0                    0                     0   \n",
       "1                    0                    0                     0   \n",
       "2                    0                    0                     0   \n",
       "3                    0                    0                     0   \n",
       "4                    0                    0                     1   \n",
       "\n",
       "   highest_graduation_Y  marriage_N  marriage_Y  \n",
       "0                     1           1           0  \n",
       "1                     1           1           0  \n",
       "2                     1           1           0  \n",
       "3                     1           1           0  \n",
       "4                     0           1           0  "
      ]
     },
     "execution_count": 26,
     "metadata": {},
     "output_type": "execute_result"
    }
   ],
   "source": [
    "df_onehot = pd.concat([df_female[['hired_or_not', 'apply_age', 'loan', 'loan_status', 'military_status', 'aboriginal', 'nationality', 'highest_school_level', 'english_level', 'bmi']], \n",
    "                        pd.get_dummies(df_female[['highest_education', 'highest_graduation', 'marriage']])], axis=1)\n",
    "df_onehot.head()"
   ]
  },
  {
   "cell_type": "code",
   "execution_count": 29,
   "metadata": {},
   "outputs": [],
   "source": [
    "df_aif = BinaryLabelDataset(df=df_onehot.drop('marriage_N', axis=1), label_names=['hired_or_not'], protected_attribute_names=['marriage_Y'])"
   ]
  },
  {
   "cell_type": "code",
   "execution_count": 30,
   "metadata": {},
   "outputs": [],
   "source": [
    "privileged_group = [{'marriage_Y': 0}]\n",
    "unprivileged_group = [{'marriage_Y': 1}]"
   ]
  },
  {
   "cell_type": "code",
   "execution_count": 31,
   "metadata": {},
   "outputs": [
    {
     "name": "stdout",
     "output_type": "stream",
     "text": [
      "[(388, 15), (232, 15), (156, 15)]\n"
     ]
    }
   ],
   "source": [
    "df_orig_trn, df_orig_val, df_orig_tst = df_aif.split([0.5, 0.8], shuffle=True)\n",
    "print([x.features.shape for x in [df_orig_trn, df_orig_val, df_orig_tst]])"
   ]
  },
  {
   "cell_type": "markdown",
   "metadata": {},
   "source": [
    "# Compute fairness metric on original dataset"
   ]
  },
  {
   "cell_type": "code",
   "execution_count": 36,
   "metadata": {},
   "outputs": [
    {
     "name": "stdout",
     "output_type": "stream",
     "text": [
      "1-min(DI, 1/DI): 0.723\n"
     ]
    }
   ],
   "source": [
    "metric_orig_trn = BinaryLabelDatasetMetric(df_orig_trn, unprivileged_group, privileged_group)\n",
    "print('1-min(DI, 1/DI):', get_disparity_index(metric_orig_trn.disparate_impact()).round(3))"
   ]
  },
  {
   "cell_type": "markdown",
   "metadata": {},
   "source": [
    "# Train model on original dataset"
   ]
  },
  {
   "cell_type": "code",
   "execution_count": 39,
   "metadata": {},
   "outputs": [],
   "source": [
    "lr_orig, lr_scale_orig = train_lr_model(df_orig_trn)"
   ]
  },
  {
   "cell_type": "code",
   "execution_count": 40,
   "metadata": {},
   "outputs": [],
   "source": [
    "thresh_arr = np.linspace(0.01, 0.5, 100)"
   ]
  },
  {
   "cell_type": "code",
   "execution_count": 43,
   "metadata": {},
   "outputs": [],
   "source": [
    "y_validate_pred_prob_orig = get_y_pred_prob_lr(scale=lr_scale_orig, model=lr_orig, dataset=df_orig_val)"
   ]
  },
  {
   "cell_type": "code",
   "execution_count": 53,
   "metadata": {},
   "outputs": [
    {
     "name": "stderr",
     "output_type": "stream",
     "text": [
      "  0%|          | 0/100 [00:00<?, ?it/s]C:\\Users\\bbgog\\Anaconda3\\lib\\site-packages\\aif360\\metrics\\dataset_metric.py:82: RuntimeWarning: invalid value encountered in double_scalars\n",
      "  return metric_fun(privileged=False) / metric_fun(privileged=True)\n",
      "100%|██████████| 100/100 [00:00<00:00, 1699.43it/s]\n"
     ]
    }
   ],
   "source": [
    "acc_metrics_orig, bal_acc_arr_orig, disp_imp_arr_orig, dataset_pred_labels_orig = \\\n",
    "get_best_bal_acc_cutoff(y_pred_prob=y_validate_pred_prob_orig, dataset=df_orig_val)"
   ]
  },
  {
   "cell_type": "code",
   "execution_count": 54,
   "metadata": {},
   "outputs": [
    {
     "name": "stdout",
     "output_type": "stream",
     "text": [
      "Threshold corresponding to best balanced accuracy: 0.04\n",
      "Best balanced accuracy: 0.593\n",
      "1-min(DI, 1/DI): 0.915\n"
     ]
    }
   ],
   "source": [
    "print('Threshold corresponding to best balanced accuracy:', acc_metrics_orig.loc['thresh_arr_best', 0].round(3))\n",
    "print('Best balanced accuracy:', acc_metrics_orig.loc['best_bal_acc', 0].round(3))\n",
    "print('1-min(DI, 1/DI):', get_disparity_index(acc_metrics_orig.loc['disp_imp_at_best_bal_acc', 0]).round(3))"
   ]
  },
  {
   "cell_type": "code",
   "execution_count": 55,
   "metadata": {},
   "outputs": [
    {
     "name": "stderr",
     "output_type": "stream",
     "text": [
      "C:\\Users\\bbgog\\Anaconda3\\lib\\site-packages\\ipykernel_launcher.py:2: RuntimeWarning: divide by zero encountered in true_divide\n",
      "  \n"
     ]
    },
    {
     "data": {
      "image/png": "[encoded data removed]",
      "text/plain": [
       "<Figure size 720x504 with 2 Axes>"
      ]
     },
     "metadata": {
      "needs_background": "light"
     },
     "output_type": "display_data"
    }
   ],
   "source": [
    "plot_acc_vs_fairness(get_disparity_index(np.array(disp_imp_arr_orig)), \\\n",
    "  '1-min(DI, 1/DI)', bal_acc_arr_orig, \\\n",
    "  acc_metrics_orig.loc['thresh_arr_best_ind', 0].astype(int))"
   ]
  },
  {
   "cell_type": "markdown",
   "metadata": {},
   "source": [
    "# Test model on original dataset"
   ]
  },
  {
   "cell_type": "code",
   "execution_count": 58,
   "metadata": {},
   "outputs": [],
   "source": [
    "y_test_pred_prob_orig = get_y_pred_prob_lr(scale=lr_scale_orig, model=lr_orig, dataset=df_orig_tst)\n",
    "\n",
    "dataset_pred_labels_orig, classified_metric_orig, metric_pred_orig = test_lr_model(\\\n",
    "  y_data_pred_prob=y_test_pred_prob_orig, dataset=df_orig_tst,\\\n",
    "  thresh_arr=acc_metrics_orig.loc['thresh_arr_best', 0])"
   ]
  },
  {
   "cell_type": "code",
   "execution_count": 59,
   "metadata": {},
   "outputs": [
    {
     "name": "stdout",
     "output_type": "stream",
     "text": [
      "Threshold corresponding to best balanced accuracy: 0.04\n",
      "Best balanced accuracy: 0.608\n",
      "1-min(DI, 1/DI): 0.747\n"
     ]
    }
   ],
   "source": [
    "print('Threshold corresponding to best balanced accuracy:', acc_metrics_orig.loc['thresh_arr_best', 0].round(3))\n",
    "print('Best balanced accuracy:', get_bal_acc(classified_metric_orig).round(3))\n",
    "print('1-min(DI, 1/DI):', get_disparity_index(metric_pred_orig.disparate_impact()).round(3))"
   ]
  },
  {
   "cell_type": "markdown",
   "metadata": {},
   "source": [
    "# Bias mitigation"
   ]
  },
  {
   "cell_type": "code",
   "execution_count": 60,
   "metadata": {},
   "outputs": [],
   "source": [
    "RW = Reweighing(unprivileged_group, privileged_group)\n",
    "df_transf_trn = RW.fit_transform(df_orig_trn)"
   ]
  },
  {
   "cell_type": "code",
   "execution_count": 61,
   "metadata": {},
   "outputs": [
    {
     "name": "stdout",
     "output_type": "stream",
     "text": [
      "1-min(DI, 1/DI): 0.0\n"
     ]
    }
   ],
   "source": [
    "metric_transf_trn = BinaryLabelDatasetMetric(df_transf_trn, unprivileged_group, privileged_group)\n",
    "print('1-min(DI, 1/DI):', get_disparity_index(metric_transf_trn.disparate_impact()).round(3))"
   ]
  },
  {
   "cell_type": "markdown",
   "metadata": {},
   "source": [
    "# Train model on transformed dataset# "
   ]
  },
  {
   "cell_type": "code",
   "execution_count": 62,
   "metadata": {},
   "outputs": [],
   "source": [
    "lr_transf, lr_scale_transf = train_lr_model(df_transf_trn)"
   ]
  },
  {
   "cell_type": "code",
   "execution_count": 63,
   "metadata": {},
   "outputs": [],
   "source": [
    "y_validate_pred_prob_transf = get_y_pred_prob_lr(scale=lr_scale_transf, model=lr_transf, dataset=df_orig_val)"
   ]
  },
  {
   "cell_type": "code",
   "execution_count": 65,
   "metadata": {},
   "outputs": [
    {
     "name": "stderr",
     "output_type": "stream",
     "text": [
      "100%|██████████| 100/100 [00:00<00:00, 1822.27it/s]\n"
     ]
    }
   ],
   "source": [
    "acc_metrics_transf, bal_acc_arr_transf, disp_imp_arr_transf, dataset_pred_labels_transf = \\\n",
    "get_best_bal_acc_cutoff(y_pred_prob=y_validate_pred_prob_transf, dataset=df_orig_val)"
   ]
  },
  {
   "cell_type": "code",
   "execution_count": 66,
   "metadata": {},
   "outputs": [
    {
     "name": "stdout",
     "output_type": "stream",
     "text": [
      "Threshold corresponding to best balanced accuracy: 0.114\n",
      "Best balanced accuracy: 0.594\n",
      "1-min(DI, 1/DI): 0.143\n"
     ]
    }
   ],
   "source": [
    "print('Threshold corresponding to best balanced accuracy:', acc_metrics_transf.loc['thresh_arr_best', 0].round(3))\n",
    "print('Best balanced accuracy:', acc_metrics_transf.loc['best_bal_acc', 0].round(3))\n",
    "print('1-min(DI, 1/DI):', get_disparity_index(acc_metrics_transf.loc['disp_imp_at_best_bal_acc', 0]).round(3))"
   ]
  },
  {
   "cell_type": "code",
   "execution_count": 67,
   "metadata": {},
   "outputs": [
    {
     "name": "stderr",
     "output_type": "stream",
     "text": [
      "C:\\Users\\bbgog\\Anaconda3\\lib\\site-packages\\ipykernel_launcher.py:2: RuntimeWarning: divide by zero encountered in true_divide\n",
      "  \n"
     ]
    },
    {
     "data": {
      "image/png": "[encoded data removed]",
      "text/plain": [
       "<Figure size 720x504 with 2 Axes>"
      ]
     },
     "metadata": {
      "needs_background": "light"
     },
     "output_type": "display_data"
    }
   ],
   "source": [
    "plot_acc_vs_fairness(get_disparity_index(np.array(disp_imp_arr_transf)), \\\n",
    "  '1-min(DI, 1/DI)', bal_acc_arr_transf, \\\n",
    "  acc_metrics_orig.loc['thresh_arr_best_ind', 0].astype(int))"
   ]
  },
  {
   "cell_type": "markdown",
   "metadata": {},
   "source": [
    "# Test model on transformed dataset"
   ]
  },
  {
   "cell_type": "code",
   "execution_count": 68,
   "metadata": {},
   "outputs": [],
   "source": [
    "y_test_pred_prob_transf = get_y_pred_prob_lr(scale=lr_scale_transf, model=lr_transf, dataset=df_orig_tst)\n",
    "\n",
    "dataset_pred_labels_transf, classified_metric_transf, metric_pred_transf = test_lr_model(\\\n",
    "  y_data_pred_prob=y_test_pred_prob_transf, dataset=df_orig_tst,\\\n",
    "  thresh_arr=acc_metrics_transf.loc['thresh_arr_best', 0])"
   ]
  },
  {
   "cell_type": "code",
   "execution_count": 69,
   "metadata": {},
   "outputs": [
    {
     "name": "stdout",
     "output_type": "stream",
     "text": [
      "Threshold corresponding to best balanced accuracy: 0.114\n",
      "Best balanced accuracy: 0.448\n",
      "1-min(DI, 1/DI): 0.641\n"
     ]
    }
   ],
   "source": [
    "print('Threshold corresponding to best balanced accuracy:', acc_metrics_transf.loc['thresh_arr_best', 0].round(3))\n",
    "print('Best balanced accuracy:', get_bal_acc(classified_metric_transf).round(3))\n",
    "print('1-min(DI, 1/DI):', get_disparity_index(metric_pred_transf.disparate_impact()).round(3))"
   ]
  },
  {
   "cell_type": "code",
   "execution_count": null,
   "metadata": {},
   "outputs": [],
   "source": []
  }
 ],
 "metadata": {
  "kernelspec": {
   "display_name": "Python 3",
   "language": "python",
   "name": "python3"
  },
  "language_info": {
   "codemirror_mode": {
    "name": "ipython",
    "version": 3
   },
   "file_extension": ".py",
   "mimetype": "text/x-python",
   "name": "python",
   "nbconvert_exporter": "python",
   "pygments_lexer": "ipython3",
   "version": "3.7.4"
  }
 },
 "nbformat": 4,
 "nbformat_minor": 2
}
