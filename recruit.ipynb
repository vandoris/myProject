{
 "cells": [
  {
   "cell_type": "code",
   "execution_count": 1,
   "metadata": {},
   "outputs": [],
   "source": [
    "import pandas as pd\n",
    "import numpy as np\n",
    "import matplotlib.pyplot as plt\n",
    "import seaborn as sns\n",
    "\n",
    "from sklearn.ensemble import RandomForestClassifier\n",
    "from sklearn.linear_model import LogisticRegression\n",
    "from sklearn.model_selection import cross_val_predict, StratifiedKFold, learning_curve, train_test_split\n",
    "from sklearn.preprocessing import LabelEncoder\n",
    "from sklearn.feature_selection import RFECV\n",
    "from sklearn.metrics import accuracy_score\n",
    "\n",
    "from IPython.display import display\n",
    "from IPython.display import display_html\n",
    "def display_side_by_side(*args):\n",
    "    html_str=''\n",
    "    for df in args:\n",
    "        html_str+=df.to_html()\n",
    "    display_html(html_str.replace('table','table style=\"display:inline\"'),raw=True)\n",
    "    \n",
    "import warnings\n",
    "warnings.filterwarnings(\"ignore\")\n",
    "    \n",
    "%matplotlib inline"
   ]
  },
  {
   "cell_type": "markdown",
   "metadata": {},
   "source": [
    "# 匯入資料集"
   ]
  },
  {
   "cell_type": "code",
   "execution_count": 2,
   "metadata": {},
   "outputs": [
    {
     "data": {
      "text/html": [
       "<div>\n",
       "<style scoped>\n",
       "    .dataframe tbody tr th:only-of-type {\n",
       "        vertical-align: middle;\n",
       "    }\n",
       "\n",
       "    .dataframe tbody tr th {\n",
       "        vertical-align: top;\n",
       "    }\n",
       "\n",
       "    .dataframe thead th {\n",
       "        text-align: right;\n",
       "    }\n",
       "</style>\n",
       "<table border=\"1\" class=\"dataframe\">\n",
       "  <thead>\n",
       "    <tr style=\"text-align: right;\">\n",
       "      <th></th>\n",
       "      <th>id</th>\n",
       "      <th>sex</th>\n",
       "      <th>apply_age</th>\n",
       "      <th>marriage</th>\n",
       "      <th>highest_education</th>\n",
       "      <th>highest_graduation</th>\n",
       "      <th>loan</th>\n",
       "      <th>loan_status</th>\n",
       "      <th>military_status</th>\n",
       "      <th>aboriginal</th>\n",
       "      <th>height</th>\n",
       "      <th>weight</th>\n",
       "      <th>nationality</th>\n",
       "      <th>highest_school_level</th>\n",
       "      <th>english_level</th>\n",
       "      <th>hired_or_not</th>\n",
       "      <th>bmi</th>\n",
       "      <th>bmi_cagegory</th>\n",
       "    </tr>\n",
       "  </thead>\n",
       "  <tbody>\n",
       "    <tr>\n",
       "      <td>0</td>\n",
       "      <td>R224211691</td>\n",
       "      <td>F</td>\n",
       "      <td>24</td>\n",
       "      <td>0</td>\n",
       "      <td>B</td>\n",
       "      <td>Y</td>\n",
       "      <td>0</td>\n",
       "      <td>1</td>\n",
       "      <td>1</td>\n",
       "      <td>0</td>\n",
       "      <td>162</td>\n",
       "      <td>60</td>\n",
       "      <td>1</td>\n",
       "      <td>3</td>\n",
       "      <td>2.0</td>\n",
       "      <td>0</td>\n",
       "      <td>23</td>\n",
       "      <td>1</td>\n",
       "    </tr>\n",
       "    <tr>\n",
       "      <td>1</td>\n",
       "      <td>R223936966</td>\n",
       "      <td>F</td>\n",
       "      <td>28</td>\n",
       "      <td>0</td>\n",
       "      <td>B</td>\n",
       "      <td>Y</td>\n",
       "      <td>1</td>\n",
       "      <td>1</td>\n",
       "      <td>1</td>\n",
       "      <td>0</td>\n",
       "      <td>158</td>\n",
       "      <td>52</td>\n",
       "      <td>1</td>\n",
       "      <td>2</td>\n",
       "      <td>2.0</td>\n",
       "      <td>0</td>\n",
       "      <td>21</td>\n",
       "      <td>1</td>\n",
       "    </tr>\n",
       "    <tr>\n",
       "      <td>2</td>\n",
       "      <td>F228161684</td>\n",
       "      <td>F</td>\n",
       "      <td>24</td>\n",
       "      <td>0</td>\n",
       "      <td>B</td>\n",
       "      <td>Y</td>\n",
       "      <td>1</td>\n",
       "      <td>1</td>\n",
       "      <td>1</td>\n",
       "      <td>0</td>\n",
       "      <td>164</td>\n",
       "      <td>70</td>\n",
       "      <td>1</td>\n",
       "      <td>3</td>\n",
       "      <td>2.0</td>\n",
       "      <td>0</td>\n",
       "      <td>26</td>\n",
       "      <td>0</td>\n",
       "    </tr>\n",
       "    <tr>\n",
       "      <td>3</td>\n",
       "      <td>O200443001</td>\n",
       "      <td>F</td>\n",
       "      <td>21</td>\n",
       "      <td>0</td>\n",
       "      <td>B</td>\n",
       "      <td>Y</td>\n",
       "      <td>0</td>\n",
       "      <td>1</td>\n",
       "      <td>1</td>\n",
       "      <td>0</td>\n",
       "      <td>152</td>\n",
       "      <td>41</td>\n",
       "      <td>1</td>\n",
       "      <td>5</td>\n",
       "      <td>2.0</td>\n",
       "      <td>0</td>\n",
       "      <td>18</td>\n",
       "      <td>0</td>\n",
       "    </tr>\n",
       "    <tr>\n",
       "      <td>4</td>\n",
       "      <td>N225966272</td>\n",
       "      <td>F</td>\n",
       "      <td>22</td>\n",
       "      <td>0</td>\n",
       "      <td>B</td>\n",
       "      <td>I</td>\n",
       "      <td>0</td>\n",
       "      <td>1</td>\n",
       "      <td>1</td>\n",
       "      <td>0</td>\n",
       "      <td>155</td>\n",
       "      <td>45</td>\n",
       "      <td>1</td>\n",
       "      <td>6</td>\n",
       "      <td>3.0</td>\n",
       "      <td>0</td>\n",
       "      <td>19</td>\n",
       "      <td>1</td>\n",
       "    </tr>\n",
       "  </tbody>\n",
       "</table>\n",
       "</div>"
      ],
      "text/plain": [
       "           id sex  apply_age  marriage highest_education highest_graduation  \\\n",
       "0  R224211691   F         24         0                 B                  Y   \n",
       "1  R223936966   F         28         0                 B                  Y   \n",
       "2  F228161684   F         24         0                 B                  Y   \n",
       "3  O200443001   F         21         0                 B                  Y   \n",
       "4  N225966272   F         22         0                 B                  I   \n",
       "\n",
       "   loan  loan_status  military_status  aboriginal  height  weight  \\\n",
       "0     0            1                1           0     162      60   \n",
       "1     1            1                1           0     158      52   \n",
       "2     1            1                1           0     164      70   \n",
       "3     0            1                1           0     152      41   \n",
       "4     0            1                1           0     155      45   \n",
       "\n",
       "   nationality  highest_school_level  english_level  hired_or_not  bmi  \\\n",
       "0            1                     3            2.0             0   23   \n",
       "1            1                     2            2.0             0   21   \n",
       "2            1                     3            2.0             0   26   \n",
       "3            1                     5            2.0             0   18   \n",
       "4            1                     6            3.0             0   19   \n",
       "\n",
       "   bmi_cagegory  \n",
       "0             1  \n",
       "1             1  \n",
       "2             0  \n",
       "3             0  \n",
       "4             1  "
      ]
     },
     "execution_count": 2,
     "metadata": {},
     "output_type": "execute_result"
    }
   ],
   "source": [
    "data = pd.read_excel('C:/Users/Administrator/paper/108_recruit_train.xlsx')\n",
    "data = data[data['highest_school_level']!='F']\n",
    "data['highest_school_level'] = data['highest_school_level'].astype('int')\n",
    "data = data.drop(['interview','second_interview','relabel'], axis=1)\n",
    "data.head()"
   ]
  },
  {
   "cell_type": "code",
   "execution_count": 3,
   "metadata": {},
   "outputs": [
    {
     "name": "stdout",
     "output_type": "stream",
     "text": [
      "<class 'pandas.core.frame.DataFrame'>\n",
      "Int64Index: 1188 entries, 0 to 1201\n",
      "Data columns (total 18 columns):\n",
      "id                      1188 non-null object\n",
      "sex                     1188 non-null object\n",
      "apply_age               1188 non-null int64\n",
      "marriage                1188 non-null int64\n",
      "highest_education       1188 non-null object\n",
      "highest_graduation      1188 non-null object\n",
      "loan                    1188 non-null int64\n",
      "loan_status             1188 non-null int64\n",
      "military_status         1188 non-null int64\n",
      "aboriginal              1188 non-null int64\n",
      "height                  1188 non-null int64\n",
      "weight                  1188 non-null int64\n",
      "nationality             1188 non-null int64\n",
      "highest_school_level    1188 non-null int32\n",
      "english_level           1188 non-null float64\n",
      "hired_or_not            1188 non-null int64\n",
      "bmi                     1188 non-null int64\n",
      "bmi_cagegory            1188 non-null int64\n",
      "dtypes: float64(1), int32(1), int64(12), object(4)\n",
      "memory usage: 171.7+ KB\n"
     ]
    }
   ],
   "source": [
    "data.info()"
   ]
  },
  {
   "cell_type": "markdown",
   "metadata": {},
   "source": [
    "# 檢視資料集"
   ]
  },
  {
   "cell_type": "code",
   "execution_count": 4,
   "metadata": {},
   "outputs": [
    {
     "data": {
      "text/html": [
       "<div>\n",
       "<style scoped>\n",
       "    .dataframe tbody tr th:only-of-type {\n",
       "        vertical-align: middle;\n",
       "    }\n",
       "\n",
       "    .dataframe tbody tr th {\n",
       "        vertical-align: top;\n",
       "    }\n",
       "\n",
       "    .dataframe thead th {\n",
       "        text-align: right;\n",
       "    }\n",
       "</style>\n",
       "<table border=\"1\" class=\"dataframe\">\n",
       "  <thead>\n",
       "    <tr style=\"text-align: right;\">\n",
       "      <th></th>\n",
       "      <th>sex</th>\n",
       "      <th>hired_or_not</th>\n",
       "    </tr>\n",
       "  </thead>\n",
       "  <tbody>\n",
       "    <tr>\n",
       "      <td>0</td>\n",
       "      <td>F</td>\n",
       "      <td>0.081</td>\n",
       "    </tr>\n",
       "    <tr>\n",
       "      <td>1</td>\n",
       "      <td>M</td>\n",
       "      <td>0.095</td>\n",
       "    </tr>\n",
       "  </tbody>\n",
       "</table>\n",
       "</div>"
      ],
      "text/plain": [
       "  sex  hired_or_not\n",
       "0   F         0.081\n",
       "1   M         0.095"
      ]
     },
     "metadata": {},
     "output_type": "display_data"
    },
    {
     "data": {
      "image/png": "[encoded data removed]",
      "text/plain": [
       "<Figure size 432x288 with 1 Axes>"
      ]
     },
     "metadata": {
      "needs_background": "light"
     },
     "output_type": "display_data"
    }
   ],
   "source": [
    "# 性別\n",
    "sns.countplot(data['sex'], hue=data['hired_or_not'])\n",
    "display(data[['sex','hired_or_not']].groupby(['sex'], as_index=False).mean().round(3))"
   ]
  },
  {
   "cell_type": "code",
   "execution_count": 5,
   "metadata": {},
   "outputs": [
    {
     "data": {
      "text/html": [
       "<div>\n",
       "<style scoped>\n",
       "    .dataframe tbody tr th:only-of-type {\n",
       "        vertical-align: middle;\n",
       "    }\n",
       "\n",
       "    .dataframe tbody tr th {\n",
       "        vertical-align: top;\n",
       "    }\n",
       "\n",
       "    .dataframe thead th {\n",
       "        text-align: right;\n",
       "    }\n",
       "</style>\n",
       "<table border=\"1\" class=\"dataframe\">\n",
       "  <thead>\n",
       "    <tr style=\"text-align: right;\">\n",
       "      <th></th>\n",
       "      <th>highest_education</th>\n",
       "      <th>hired_or_not</th>\n",
       "    </tr>\n",
       "  </thead>\n",
       "  <tbody>\n",
       "    <tr>\n",
       "      <td>0</td>\n",
       "      <td>B</td>\n",
       "      <td>0.085</td>\n",
       "    </tr>\n",
       "    <tr>\n",
       "      <td>1</td>\n",
       "      <td>D</td>\n",
       "      <td>0.000</td>\n",
       "    </tr>\n",
       "    <tr>\n",
       "      <td>2</td>\n",
       "      <td>M</td>\n",
       "      <td>0.093</td>\n",
       "    </tr>\n",
       "  </tbody>\n",
       "</table>\n",
       "</div>"
      ],
      "text/plain": [
       "  highest_education  hired_or_not\n",
       "0                 B         0.085\n",
       "1                 D         0.000\n",
       "2                 M         0.093"
      ]
     },
     "metadata": {},
     "output_type": "display_data"
    },
    {
     "data": {
      "image/png": "[encoded data removed]",
      "text/plain": [
       "<Figure size 432x288 with 1 Axes>"
      ]
     },
     "metadata": {
      "needs_background": "light"
     },
     "output_type": "display_data"
    }
   ],
   "source": [
    "# 最高學歷\n",
    "sns.countplot(data['highest_education'], hue=data['hired_or_not'])\n",
    "display(data[['highest_education','hired_or_not']].groupby(['highest_education'], as_index=False).mean().round(3))"
   ]
  },
  {
   "cell_type": "code",
   "execution_count": 6,
   "metadata": {},
   "outputs": [
    {
     "data": {
      "text/html": [
       "<div>\n",
       "<style scoped>\n",
       "    .dataframe tbody tr th:only-of-type {\n",
       "        vertical-align: middle;\n",
       "    }\n",
       "\n",
       "    .dataframe tbody tr th {\n",
       "        vertical-align: top;\n",
       "    }\n",
       "\n",
       "    .dataframe thead th {\n",
       "        text-align: right;\n",
       "    }\n",
       "</style>\n",
       "<table border=\"1\" class=\"dataframe\">\n",
       "  <thead>\n",
       "    <tr style=\"text-align: right;\">\n",
       "      <th></th>\n",
       "      <th>loan</th>\n",
       "      <th>hired_or_not</th>\n",
       "    </tr>\n",
       "  </thead>\n",
       "  <tbody>\n",
       "    <tr>\n",
       "      <td>0</td>\n",
       "      <td>0</td>\n",
       "      <td>0.081</td>\n",
       "    </tr>\n",
       "    <tr>\n",
       "      <td>1</td>\n",
       "      <td>1</td>\n",
       "      <td>0.101</td>\n",
       "    </tr>\n",
       "  </tbody>\n",
       "</table>\n",
       "</div>"
      ],
      "text/plain": [
       "   loan  hired_or_not\n",
       "0     0         0.081\n",
       "1     1         0.101"
      ]
     },
     "metadata": {},
     "output_type": "display_data"
    },
    {
     "data": {
      "image/png": "[encoded data removed]",
      "text/plain": [
       "<Figure size 432x288 with 1 Axes>"
      ]
     },
     "metadata": {
      "needs_background": "light"
     },
     "output_type": "display_data"
    }
   ],
   "source": [
    "# 借貸狀況\n",
    "sns.countplot(data['loan'], hue=data['hired_or_not'])\n",
    "display(data[['loan','hired_or_not']].groupby(['loan'], as_index=False).mean().round(3))"
   ]
  },
  {
   "cell_type": "code",
   "execution_count": 7,
   "metadata": {},
   "outputs": [
    {
     "data": {
      "text/html": [
       "<div>\n",
       "<style scoped>\n",
       "    .dataframe tbody tr th:only-of-type {\n",
       "        vertical-align: middle;\n",
       "    }\n",
       "\n",
       "    .dataframe tbody tr th {\n",
       "        vertical-align: top;\n",
       "    }\n",
       "\n",
       "    .dataframe thead th {\n",
       "        text-align: right;\n",
       "    }\n",
       "</style>\n",
       "<table border=\"1\" class=\"dataframe\">\n",
       "  <thead>\n",
       "    <tr style=\"text-align: right;\">\n",
       "      <th></th>\n",
       "      <th>marriage</th>\n",
       "      <th>hired_or_not</th>\n",
       "    </tr>\n",
       "  </thead>\n",
       "  <tbody>\n",
       "    <tr>\n",
       "      <td>0</td>\n",
       "      <td>0</td>\n",
       "      <td>0.089</td>\n",
       "    </tr>\n",
       "    <tr>\n",
       "      <td>1</td>\n",
       "      <td>1</td>\n",
       "      <td>0.063</td>\n",
       "    </tr>\n",
       "  </tbody>\n",
       "</table>\n",
       "</div>"
      ],
      "text/plain": [
       "   marriage  hired_or_not\n",
       "0         0         0.089\n",
       "1         1         0.063"
      ]
     },
     "metadata": {},
     "output_type": "display_data"
    },
    {
     "data": {
      "image/png": "[encoded data removed]",
      "text/plain": [
       "<Figure size 432x288 with 1 Axes>"
      ]
     },
     "metadata": {
      "needs_background": "light"
     },
     "output_type": "display_data"
    }
   ],
   "source": [
    "# 婚姻狀況\n",
    "sns.countplot(data['marriage'], hue=data['hired_or_not'])\n",
    "display(data[['marriage','hired_or_not']].groupby(['marriage'], as_index=False).mean().round(3))"
   ]
  },
  {
   "cell_type": "code",
   "execution_count": 8,
   "metadata": {},
   "outputs": [
    {
     "data": {
      "text/html": [
       "<div>\n",
       "<style scoped>\n",
       "    .dataframe tbody tr th:only-of-type {\n",
       "        vertical-align: middle;\n",
       "    }\n",
       "\n",
       "    .dataframe tbody tr th {\n",
       "        vertical-align: top;\n",
       "    }\n",
       "\n",
       "    .dataframe thead th {\n",
       "        text-align: right;\n",
       "    }\n",
       "</style>\n",
       "<table border=\"1\" class=\"dataframe\">\n",
       "  <thead>\n",
       "    <tr style=\"text-align: right;\">\n",
       "      <th></th>\n",
       "      <th>bmi_cagegory</th>\n",
       "      <th>hired_or_not</th>\n",
       "    </tr>\n",
       "  </thead>\n",
       "  <tbody>\n",
       "    <tr>\n",
       "      <td>0</td>\n",
       "      <td>0</td>\n",
       "      <td>0.088</td>\n",
       "    </tr>\n",
       "    <tr>\n",
       "      <td>1</td>\n",
       "      <td>1</td>\n",
       "      <td>0.085</td>\n",
       "    </tr>\n",
       "  </tbody>\n",
       "</table>\n",
       "</div>"
      ],
      "text/plain": [
       "   bmi_cagegory  hired_or_not\n",
       "0             0         0.088\n",
       "1             1         0.085"
      ]
     },
     "metadata": {},
     "output_type": "display_data"
    },
    {
     "data": {
      "image/png": "[encoded data removed]",
      "text/plain": [
       "<Figure size 432x288 with 1 Axes>"
      ]
     },
     "metadata": {
      "needs_background": "light"
     },
     "output_type": "display_data"
    }
   ],
   "source": [
    "# BMI\n",
    "sns.countplot(data['bmi_cagegory'], hue=data['hired_or_not'])\n",
    "display(data[['bmi_cagegory','hired_or_not']].groupby(['bmi_cagegory'], as_index=False).mean().round(3))"
   ]
  },
  {
   "cell_type": "code",
   "execution_count": 9,
   "metadata": {},
   "outputs": [
    {
     "name": "stdout",
     "output_type": "stream",
     "text": [
      "女性應徵錄取率： 0.08118556701030928\n",
      "男性應徵錄取率： 0.09466019417475728\n",
      "應徵者女男比： 1.883495145631068\n",
      "錄取者女男比： 1.6153846153846154\n"
     ]
    }
   ],
   "source": [
    "mask1 = data['sex'] == 'F'\n",
    "mask2 = data['hired_or_not'] == 1\n",
    "mask3 = data['sex'] == 'M'\n",
    "mask4 = data['hired_or_not'] == 1\n",
    "\n",
    "print(\"女性應徵錄取率：\", len(data[(mask1 & mask2)]) / len(data[data['sex']=='F']))\n",
    "print(\"男性應徵錄取率：\", len(data[(mask3 & mask4)]) / len(data[data['sex']=='M']))\n",
    "print(\"應徵者女男比：\", len(data[data['sex']=='F'])/ len(data[data['sex']=='M']))\n",
    "print(\"錄取者女男比：\", len(data[(mask1 & mask2)]) / len(data[(mask3 & mask4)]))"
   ]
  },
  {
   "cell_type": "code",
   "execution_count": 10,
   "metadata": {},
   "outputs": [
    {
     "name": "stdout",
     "output_type": "stream",
     "text": [
      "女性應徵者平均年齡： 26.41623711340206\n",
      "女性應徵者平均錄取年齡： 25.26984126984127\n",
      "男性應徵者平均年齡： 27.315533980582526\n",
      "男性應徵者平均錄取年齡： 26.53846153846154\n"
     ]
    }
   ],
   "source": [
    "print(\"女性應徵者平均年齡：\", data[data['sex']=='F'].apply_age.mean())\n",
    "print(\"女性應徵者平均錄取年齡：\", data[(mask1 & mask2)].apply_age.mean())\n",
    "print(\"男性應徵者平均年齡：\", data[data['sex']=='M'].apply_age.mean())\n",
    "print(\"男性應徵者平均錄取年齡：\", data[(mask3 & mask4)].apply_age.mean())"
   ]
  },
  {
   "cell_type": "markdown",
   "metadata": {},
   "source": [
    "# 進行訓練"
   ]
  },
  {
   "cell_type": "code",
   "execution_count": 11,
   "metadata": {},
   "outputs": [],
   "source": [
    "data_train = data.iloc[:,1:-3]\n",
    "data_hired = data.iloc[:,-3]\n",
    "data_train = pd.get_dummies(data_train)"
   ]
  },
  {
   "cell_type": "code",
   "execution_count": 12,
   "metadata": {},
   "outputs": [
    {
     "data": {
      "text/html": [
       "<div>\n",
       "<style scoped>\n",
       "    .dataframe tbody tr th:only-of-type {\n",
       "        vertical-align: middle;\n",
       "    }\n",
       "\n",
       "    .dataframe tbody tr th {\n",
       "        vertical-align: top;\n",
       "    }\n",
       "\n",
       "    .dataframe thead th {\n",
       "        text-align: right;\n",
       "    }\n",
       "</style>\n",
       "<table border=\"1\" class=\"dataframe\">\n",
       "  <thead>\n",
       "    <tr style=\"text-align: right;\">\n",
       "      <th></th>\n",
       "      <th>apply_age</th>\n",
       "      <th>marriage</th>\n",
       "      <th>loan</th>\n",
       "      <th>loan_status</th>\n",
       "      <th>military_status</th>\n",
       "      <th>aboriginal</th>\n",
       "      <th>height</th>\n",
       "      <th>weight</th>\n",
       "      <th>nationality</th>\n",
       "      <th>highest_school_level</th>\n",
       "      <th>english_level</th>\n",
       "      <th>sex_F</th>\n",
       "      <th>sex_M</th>\n",
       "      <th>highest_education_B</th>\n",
       "      <th>highest_education_D</th>\n",
       "      <th>highest_education_M</th>\n",
       "      <th>highest_graduation_D</th>\n",
       "      <th>highest_graduation_I</th>\n",
       "      <th>highest_graduation_Y</th>\n",
       "    </tr>\n",
       "  </thead>\n",
       "  <tbody>\n",
       "    <tr>\n",
       "      <td>0</td>\n",
       "      <td>24</td>\n",
       "      <td>0</td>\n",
       "      <td>0</td>\n",
       "      <td>1</td>\n",
       "      <td>1</td>\n",
       "      <td>0</td>\n",
       "      <td>162</td>\n",
       "      <td>60</td>\n",
       "      <td>1</td>\n",
       "      <td>3</td>\n",
       "      <td>2.0</td>\n",
       "      <td>1</td>\n",
       "      <td>0</td>\n",
       "      <td>1</td>\n",
       "      <td>0</td>\n",
       "      <td>0</td>\n",
       "      <td>0</td>\n",
       "      <td>0</td>\n",
       "      <td>1</td>\n",
       "    </tr>\n",
       "    <tr>\n",
       "      <td>1</td>\n",
       "      <td>28</td>\n",
       "      <td>0</td>\n",
       "      <td>1</td>\n",
       "      <td>1</td>\n",
       "      <td>1</td>\n",
       "      <td>0</td>\n",
       "      <td>158</td>\n",
       "      <td>52</td>\n",
       "      <td>1</td>\n",
       "      <td>2</td>\n",
       "      <td>2.0</td>\n",
       "      <td>1</td>\n",
       "      <td>0</td>\n",
       "      <td>1</td>\n",
       "      <td>0</td>\n",
       "      <td>0</td>\n",
       "      <td>0</td>\n",
       "      <td>0</td>\n",
       "      <td>1</td>\n",
       "    </tr>\n",
       "    <tr>\n",
       "      <td>2</td>\n",
       "      <td>24</td>\n",
       "      <td>0</td>\n",
       "      <td>1</td>\n",
       "      <td>1</td>\n",
       "      <td>1</td>\n",
       "      <td>0</td>\n",
       "      <td>164</td>\n",
       "      <td>70</td>\n",
       "      <td>1</td>\n",
       "      <td>3</td>\n",
       "      <td>2.0</td>\n",
       "      <td>1</td>\n",
       "      <td>0</td>\n",
       "      <td>1</td>\n",
       "      <td>0</td>\n",
       "      <td>0</td>\n",
       "      <td>0</td>\n",
       "      <td>0</td>\n",
       "      <td>1</td>\n",
       "    </tr>\n",
       "    <tr>\n",
       "      <td>3</td>\n",
       "      <td>21</td>\n",
       "      <td>0</td>\n",
       "      <td>0</td>\n",
       "      <td>1</td>\n",
       "      <td>1</td>\n",
       "      <td>0</td>\n",
       "      <td>152</td>\n",
       "      <td>41</td>\n",
       "      <td>1</td>\n",
       "      <td>5</td>\n",
       "      <td>2.0</td>\n",
       "      <td>1</td>\n",
       "      <td>0</td>\n",
       "      <td>1</td>\n",
       "      <td>0</td>\n",
       "      <td>0</td>\n",
       "      <td>0</td>\n",
       "      <td>0</td>\n",
       "      <td>1</td>\n",
       "    </tr>\n",
       "    <tr>\n",
       "      <td>4</td>\n",
       "      <td>22</td>\n",
       "      <td>0</td>\n",
       "      <td>0</td>\n",
       "      <td>1</td>\n",
       "      <td>1</td>\n",
       "      <td>0</td>\n",
       "      <td>155</td>\n",
       "      <td>45</td>\n",
       "      <td>1</td>\n",
       "      <td>6</td>\n",
       "      <td>3.0</td>\n",
       "      <td>1</td>\n",
       "      <td>0</td>\n",
       "      <td>1</td>\n",
       "      <td>0</td>\n",
       "      <td>0</td>\n",
       "      <td>0</td>\n",
       "      <td>1</td>\n",
       "      <td>0</td>\n",
       "    </tr>\n",
       "  </tbody>\n",
       "</table>\n",
       "</div>"
      ],
      "text/plain": [
       "   apply_age  marriage  loan  loan_status  military_status  aboriginal  \\\n",
       "0         24         0     0            1                1           0   \n",
       "1         28         0     1            1                1           0   \n",
       "2         24         0     1            1                1           0   \n",
       "3         21         0     0            1                1           0   \n",
       "4         22         0     0            1                1           0   \n",
       "\n",
       "   height  weight  nationality  highest_school_level  english_level  sex_F  \\\n",
       "0     162      60            1                     3            2.0      1   \n",
       "1     158      52            1                     2            2.0      1   \n",
       "2     164      70            1                     3            2.0      1   \n",
       "3     152      41            1                     5            2.0      1   \n",
       "4     155      45            1                     6            3.0      1   \n",
       "\n",
       "   sex_M  highest_education_B  highest_education_D  highest_education_M  \\\n",
       "0      0                    1                    0                    0   \n",
       "1      0                    1                    0                    0   \n",
       "2      0                    1                    0                    0   \n",
       "3      0                    1                    0                    0   \n",
       "4      0                    1                    0                    0   \n",
       "\n",
       "   highest_graduation_D  highest_graduation_I  highest_graduation_Y  \n",
       "0                     0                     0                     1  \n",
       "1                     0                     0                     1  \n",
       "2                     0                     0                     1  \n",
       "3                     0                     0                     1  \n",
       "4                     0                     1                     0  "
      ]
     },
     "execution_count": 12,
     "metadata": {},
     "output_type": "execute_result"
    }
   ],
   "source": [
    "data_train.head()"
   ]
  },
  {
   "cell_type": "code",
   "execution_count": 13,
   "metadata": {},
   "outputs": [
    {
     "data": {
      "text/plain": [
       "0    0\n",
       "1    0\n",
       "2    0\n",
       "3    0\n",
       "4    0\n",
       "Name: hired_or_not, dtype: int64"
      ]
     },
     "execution_count": 13,
     "metadata": {},
     "output_type": "execute_result"
    }
   ],
   "source": [
    "data_hired.head()"
   ]
  },
  {
   "cell_type": "code",
   "execution_count": 14,
   "metadata": {},
   "outputs": [],
   "source": [
    "df_train, df_test, hired_train, hired_test = train_test_split(data_train, data_hired, test_size = 0.2, random_state = 0)"
   ]
  },
  {
   "cell_type": "code",
   "execution_count": 15,
   "metadata": {},
   "outputs": [],
   "source": [
    "from sklearn.preprocessing import StandardScaler\n",
    "sc = StandardScaler()\n",
    "df_train_logistic = sc.fit_transform(df_train)\n",
    "df_test_logistic = sc.transform(df_test)"
   ]
  },
  {
   "cell_type": "code",
   "execution_count": 16,
   "metadata": {},
   "outputs": [],
   "source": [
    "logistic_reg = LogisticRegression()"
   ]
  },
  {
   "cell_type": "code",
   "execution_count": 17,
   "metadata": {},
   "outputs": [
    {
     "data": {
      "text/plain": [
       "LogisticRegression(C=1.0, class_weight=None, dual=False, fit_intercept=True,\n",
       "                   intercept_scaling=1, l1_ratio=None, max_iter=100,\n",
       "                   multi_class='warn', n_jobs=None, penalty='l2',\n",
       "                   random_state=None, solver='warn', tol=0.0001, verbose=0,\n",
       "                   warm_start=False)"
      ]
     },
     "execution_count": 17,
     "metadata": {},
     "output_type": "execute_result"
    }
   ],
   "source": [
    "# 進行訓練\n",
    "logistic_reg.fit(df_train_logistic, hired_train)"
   ]
  },
  {
   "cell_type": "code",
   "execution_count": 18,
   "metadata": {},
   "outputs": [],
   "source": [
    "# 預測\n",
    "logistic_pred = logistic_reg.predict(df_test_logistic)"
   ]
  },
  {
   "cell_type": "code",
   "execution_count": 19,
   "metadata": {},
   "outputs": [],
   "source": [
    "# 預測機率\n",
    "logistic_pred_proba = logistic_reg.predict_proba(df_test_logistic)"
   ]
  },
  {
   "cell_type": "code",
   "execution_count": 20,
   "metadata": {},
   "outputs": [
    {
     "data": {
      "text/plain": [
       "0.9117647058823529"
      ]
     },
     "execution_count": 20,
     "metadata": {},
     "output_type": "execute_result"
    }
   ],
   "source": [
    "# 準確率\n",
    "accuracy_score(hired_test, logistic_pred)"
   ]
  },
  {
   "cell_type": "markdown",
   "metadata": {},
   "source": [
    "# 建立測試資料集"
   ]
  },
  {
   "cell_type": "code",
   "execution_count": 21,
   "metadata": {},
   "outputs": [],
   "source": [
    "import pandas as pd\n",
    "import numpy as np\n",
    "import seaborn as sns\n",
    "import matplotlib.pyplot as plt\n",
    "from aif360.datasets import BinaryLabelDataset\n",
    "from aif360.metrics import BinaryLabelDatasetMetric\n",
    "from aif360.metrics import ClassificationMetric\n",
    "from aif360.algorithms.preprocessing import Reweighing\n",
    "from sklearn.preprocessing import StandardScaler\n",
    "from sklearn.linear_model import LogisticRegression\n",
    "from tqdm import tqdm\n",
    "np.random.seed(1)"
   ]
  },
  {
   "cell_type": "code",
   "execution_count": 22,
   "metadata": {},
   "outputs": [],
   "source": [
    "n_pop = 1000000\n",
    "p_male = 0.7\n",
    "\n",
    "p_job_male, p_job_female = 0.09, 0.05"
   ]
  },
  {
   "cell_type": "code",
   "execution_count": 23,
   "metadata": {},
   "outputs": [],
   "source": [
    "gender = np.random.choice(['male', 'female'], size=n_pop, p=[p_male, 1 - p_male])\n",
    "\n",
    "df = pd.DataFrame({'gender' : gender})\n",
    "\n",
    "df.loc[df.gender == 'male', 'found_job'] = np.random.choice([1, 0], size=len(df.loc[df.gender == 'male']), p=[p_job_male, 1 - p_job_male])\n",
    "df.loc[df.gender == 'female', 'found_job'] = np.random.choice([1, 0], size=len(df.loc[df.gender == 'female']), p=[p_job_female, 1 - p_job_female])\n",
    "\n",
    "df['found_job'] = df['found_job'].astype(int)"
   ]
  },
  {
   "cell_type": "code",
   "execution_count": 24,
   "metadata": {},
   "outputs": [
    {
     "data": {
      "text/html": [
       "<div>\n",
       "<style scoped>\n",
       "    .dataframe tbody tr th:only-of-type {\n",
       "        vertical-align: middle;\n",
       "    }\n",
       "\n",
       "    .dataframe tbody tr th {\n",
       "        vertical-align: top;\n",
       "    }\n",
       "\n",
       "    .dataframe thead th {\n",
       "        text-align: right;\n",
       "    }\n",
       "</style>\n",
       "<table border=\"1\" class=\"dataframe\">\n",
       "  <thead>\n",
       "    <tr style=\"text-align: right;\">\n",
       "      <th>found_job</th>\n",
       "      <th>0</th>\n",
       "      <th>1</th>\n",
       "    </tr>\n",
       "    <tr>\n",
       "      <th>gender</th>\n",
       "      <th></th>\n",
       "      <th></th>\n",
       "    </tr>\n",
       "  </thead>\n",
       "  <tbody>\n",
       "    <tr>\n",
       "      <td>female</td>\n",
       "      <td>284995</td>\n",
       "      <td>15023</td>\n",
       "    </tr>\n",
       "    <tr>\n",
       "      <td>male</td>\n",
       "      <td>636697</td>\n",
       "      <td>63285</td>\n",
       "    </tr>\n",
       "  </tbody>\n",
       "</table>\n",
       "</div>"
      ],
      "text/plain": [
       "found_job       0      1\n",
       "gender                  \n",
       "female     284995  15023\n",
       "male       636697  63285"
      ]
     },
     "execution_count": 24,
     "metadata": {},
     "output_type": "execute_result"
    }
   ],
   "source": [
    "df.pivot_table(index='gender', columns='found_job', aggfunc='size')"
   ]
  },
  {
   "cell_type": "code",
   "execution_count": 49,
   "metadata": {},
   "outputs": [],
   "source": [
    "mu_job, sigma_job = 25, 8\n",
    "mu_no_job, sigma_no_job = 35, 10"
   ]
  },
  {
   "cell_type": "code",
   "execution_count": 50,
   "metadata": {},
   "outputs": [],
   "source": [
    "df.loc[df.found_job == 1, 'age'] = np.floor(np.random.normal(mu_job, sigma_job, len(df.loc[df.found_job == 1])))\n",
    "df.loc[df.found_job == 0, 'age'] = np.floor(np.random.normal(mu_no_job, sigma_no_job, len(df.loc[df.found_job == 0])))\n",
    "\n",
    "df['age'] = df['age'].astype(int)"
   ]
  },
  {
   "cell_type": "code",
   "execution_count": 51,
   "metadata": {},
   "outputs": [
    {
     "data": {
      "text/html": [
       "<div>\n",
       "<style scoped>\n",
       "    .dataframe tbody tr th:only-of-type {\n",
       "        vertical-align: middle;\n",
       "    }\n",
       "\n",
       "    .dataframe tbody tr th {\n",
       "        vertical-align: top;\n",
       "    }\n",
       "\n",
       "    .dataframe thead th {\n",
       "        text-align: right;\n",
       "    }\n",
       "</style>\n",
       "<table border=\"1\" class=\"dataframe\">\n",
       "  <thead>\n",
       "    <tr style=\"text-align: right;\">\n",
       "      <th></th>\n",
       "      <th>age</th>\n",
       "    </tr>\n",
       "    <tr>\n",
       "      <th>found_job</th>\n",
       "      <th></th>\n",
       "    </tr>\n",
       "  </thead>\n",
       "  <tbody>\n",
       "    <tr>\n",
       "      <td>0</td>\n",
       "      <td>34.5</td>\n",
       "    </tr>\n",
       "    <tr>\n",
       "      <td>1</td>\n",
       "      <td>24.5</td>\n",
       "    </tr>\n",
       "  </tbody>\n",
       "</table>\n",
       "</div>"
      ],
      "text/plain": [
       "            age\n",
       "found_job      \n",
       "0          34.5\n",
       "1          24.5"
      ]
     },
     "execution_count": 51,
     "metadata": {},
     "output_type": "execute_result"
    }
   ],
   "source": [
    "df.groupby('found_job').mean().round(1)"
   ]
  },
  {
   "cell_type": "code",
   "execution_count": 28,
   "metadata": {},
   "outputs": [],
   "source": [
    "class_set = ['A', 'B', 'C']\n",
    "class_wt_job = [0.4, 0.4, 0.2]\n",
    "class_wt_no_job = [0.2, 0.3, 0.5]"
   ]
  },
  {
   "cell_type": "code",
   "execution_count": 29,
   "metadata": {},
   "outputs": [],
   "source": [
    "df.loc[df.found_job == 1, 'class'] = np.random.choice(class_set, size=len(df.loc[df.found_job == 1]), p=class_wt_job)\n",
    "df.loc[df.found_job == 0, 'class'] = np.random.choice(class_set, size=len(df.loc[df.found_job == 0]), p=class_wt_no_job)"
   ]
  },
  {
   "cell_type": "code",
   "execution_count": 30,
   "metadata": {},
   "outputs": [
    {
     "data": {
      "text/html": [
       "<div>\n",
       "<style scoped>\n",
       "    .dataframe tbody tr th:only-of-type {\n",
       "        vertical-align: middle;\n",
       "    }\n",
       "\n",
       "    .dataframe tbody tr th {\n",
       "        vertical-align: top;\n",
       "    }\n",
       "\n",
       "    .dataframe thead th {\n",
       "        text-align: right;\n",
       "    }\n",
       "</style>\n",
       "<table border=\"1\" class=\"dataframe\">\n",
       "  <thead>\n",
       "    <tr style=\"text-align: right;\">\n",
       "      <th>found_job</th>\n",
       "      <th>0</th>\n",
       "      <th>1</th>\n",
       "    </tr>\n",
       "    <tr>\n",
       "      <th>class</th>\n",
       "      <th></th>\n",
       "      <th></th>\n",
       "    </tr>\n",
       "  </thead>\n",
       "  <tbody>\n",
       "    <tr>\n",
       "      <td>A</td>\n",
       "      <td>184175</td>\n",
       "      <td>31266</td>\n",
       "    </tr>\n",
       "    <tr>\n",
       "      <td>B</td>\n",
       "      <td>276702</td>\n",
       "      <td>31463</td>\n",
       "    </tr>\n",
       "    <tr>\n",
       "      <td>C</td>\n",
       "      <td>460815</td>\n",
       "      <td>15579</td>\n",
       "    </tr>\n",
       "  </tbody>\n",
       "</table>\n",
       "</div>"
      ],
      "text/plain": [
       "found_job       0      1\n",
       "class                   \n",
       "A          184175  31266\n",
       "B          276702  31463\n",
       "C          460815  15579"
      ]
     },
     "execution_count": 30,
     "metadata": {},
     "output_type": "execute_result"
    }
   ],
   "source": [
    "df.pivot_table(index='class', columns='found_job', aggfunc='size')"
   ]
  },
  {
   "cell_type": "code",
   "execution_count": 31,
   "metadata": {},
   "outputs": [
    {
     "data": {
      "text/html": [
       "<div>\n",
       "<style scoped>\n",
       "    .dataframe tbody tr th:only-of-type {\n",
       "        vertical-align: middle;\n",
       "    }\n",
       "\n",
       "    .dataframe tbody tr th {\n",
       "        vertical-align: top;\n",
       "    }\n",
       "\n",
       "    .dataframe thead th {\n",
       "        text-align: right;\n",
       "    }\n",
       "</style>\n",
       "<table border=\"1\" class=\"dataframe\">\n",
       "  <thead>\n",
       "    <tr style=\"text-align: right;\">\n",
       "      <th></th>\n",
       "      <th>found_job</th>\n",
       "    </tr>\n",
       "    <tr>\n",
       "      <th>gender</th>\n",
       "      <th></th>\n",
       "    </tr>\n",
       "  </thead>\n",
       "  <tbody>\n",
       "    <tr>\n",
       "      <td>female</td>\n",
       "      <td>0.05</td>\n",
       "    </tr>\n",
       "    <tr>\n",
       "      <td>male</td>\n",
       "      <td>0.09</td>\n",
       "    </tr>\n",
       "  </tbody>\n",
       "</table>\n",
       "</div>"
      ],
      "text/plain": [
       "        found_job\n",
       "gender           \n",
       "female       0.05\n",
       "male         0.09"
      ]
     },
     "execution_count": 31,
     "metadata": {},
     "output_type": "execute_result"
    }
   ],
   "source": [
    "agg_gender = df[['gender', 'found_job']].groupby('gender').mean()\n",
    "agg_gender.round(3)"
   ]
  },
  {
   "cell_type": "code",
   "execution_count": null,
   "metadata": {},
   "outputs": [],
   "source": []
  },
  {
   "cell_type": "code",
   "execution_count": 32,
   "metadata": {},
   "outputs": [
    {
     "data": {
      "image/png": "[encoded data removed]",
      "text/plain": [
       "<Figure size 720x504 with 1 Axes>"
      ]
     },
     "metadata": {
      "needs_background": "light"
     },
     "output_type": "display_data"
    }
   ],
   "source": [
    "mean_found_job = df['found_job'].mean()\n",
    "\n",
    "fig, ax1 = plt.subplots(figsize=(10, 7))\n",
    "sns.barplot(x=agg_gender.index, y=agg_gender.found_job, ax=ax1).\\\n",
    "set_title('Proportion of total who find a job', fontsize=16, fontweight='bold')\n",
    "ax1.axhline(mean_found_job, color='k', linestyle=':')\n",
    "ax1.set(xlabel='', ylabel='')\n",
    "ax1.xaxis.set_tick_params(labelsize=14)\n",
    "ax1.yaxis.set_tick_params(labelsize=14)"
   ]
  },
  {
   "cell_type": "code",
   "execution_count": 55,
   "metadata": {},
   "outputs": [],
   "source": [
    "df.to_excel(\"df.xlsx\")"
   ]
  },
  {
   "cell_type": "code",
   "execution_count": 53,
   "metadata": {},
   "outputs": [
    {
     "data": {
      "text/plain": [
       "Text(0.5, 1.0, 'Age vs Found or not')"
      ]
     },
     "execution_count": 53,
     "metadata": {},
     "output_type": "execute_result"
    },
    {
     "data": {
      "image/png": "[encoded data removed]",
      "text/plain": [
       "<Figure size 1080x648 with 1 Axes>"
      ]
     },
     "metadata": {
      "needs_background": "light"
     },
     "output_type": "display_data"
    }
   ],
   "source": [
    "fig, ax = plt.subplots( figsize = (15,9) )\n",
    "ax = sns.distplot(df.loc[df['found_job']==1,'age'], kde=False, bins=10, norm_hist=True, label='Found') \n",
    "ax = sns.distplot(df.loc[df['found_job']==0,'age'], kde=False, bins=10, norm_hist=True, label='Not found')\n",
    "ax.legend()\n",
    "ax.set_title('Age vs Found or not',fontsize = 20)"
   ]
  },
  {
   "cell_type": "code",
   "execution_count": 41,
   "metadata": {},
   "outputs": [
    {
     "data": {
      "text/html": [
       "<div>\n",
       "<style scoped>\n",
       "    .dataframe tbody tr th:only-of-type {\n",
       "        vertical-align: middle;\n",
       "    }\n",
       "\n",
       "    .dataframe tbody tr th {\n",
       "        vertical-align: top;\n",
       "    }\n",
       "\n",
       "    .dataframe thead th {\n",
       "        text-align: right;\n",
       "    }\n",
       "</style>\n",
       "<table border=\"1\" class=\"dataframe\">\n",
       "  <thead>\n",
       "    <tr style=\"text-align: right;\">\n",
       "      <th></th>\n",
       "      <th>gender</th>\n",
       "      <th>found_job</th>\n",
       "    </tr>\n",
       "  </thead>\n",
       "  <tbody>\n",
       "    <tr>\n",
       "      <td>0</td>\n",
       "      <td>female</td>\n",
       "      <td>0.05</td>\n",
       "    </tr>\n",
       "    <tr>\n",
       "      <td>1</td>\n",
       "      <td>male</td>\n",
       "      <td>0.09</td>\n",
       "    </tr>\n",
       "  </tbody>\n",
       "</table>\n",
       "</div>"
      ],
      "text/plain": [
       "   gender  found_job\n",
       "0  female       0.05\n",
       "1    male       0.09"
      ]
     },
     "metadata": {},
     "output_type": "display_data"
    },
    {
     "data": {
      "image/png": "[encoded data removed]",
      "text/plain": [
       "<Figure size 432x288 with 1 Axes>"
      ]
     },
     "metadata": {
      "needs_background": "light"
     },
     "output_type": "display_data"
    }
   ],
   "source": [
    "# 性別\n",
    "sns.countplot(df['gender'], hue=df['found_job'])\n",
    "display(df[['gender','found_job']].groupby(['gender'], as_index=False).mean().round(3))"
   ]
  },
  {
   "cell_type": "code",
   "execution_count": 54,
   "metadata": {},
   "outputs": [
    {
     "data": {
      "text/html": [
       "<div>\n",
       "<style scoped>\n",
       "    .dataframe tbody tr th:only-of-type {\n",
       "        vertical-align: middle;\n",
       "    }\n",
       "\n",
       "    .dataframe tbody tr th {\n",
       "        vertical-align: top;\n",
       "    }\n",
       "\n",
       "    .dataframe thead th {\n",
       "        text-align: right;\n",
       "    }\n",
       "</style>\n",
       "<table border=\"1\" class=\"dataframe\">\n",
       "  <thead>\n",
       "    <tr style=\"text-align: right;\">\n",
       "      <th></th>\n",
       "      <th></th>\n",
       "      <th>found_job</th>\n",
       "      <th>class</th>\n",
       "    </tr>\n",
       "    <tr>\n",
       "      <th>age</th>\n",
       "      <th>gender</th>\n",
       "      <th></th>\n",
       "      <th></th>\n",
       "    </tr>\n",
       "  </thead>\n",
       "  <tbody>\n",
       "    <tr>\n",
       "      <td>-19</td>\n",
       "      <td>female</td>\n",
       "      <td>1</td>\n",
       "      <td>1</td>\n",
       "    </tr>\n",
       "    <tr>\n",
       "      <td>-16</td>\n",
       "      <td>male</td>\n",
       "      <td>1</td>\n",
       "      <td>1</td>\n",
       "    </tr>\n",
       "    <tr>\n",
       "      <td>-13</td>\n",
       "      <td>male</td>\n",
       "      <td>1</td>\n",
       "      <td>1</td>\n",
       "    </tr>\n",
       "    <tr>\n",
       "      <td>-11</td>\n",
       "      <td>female</td>\n",
       "      <td>1</td>\n",
       "      <td>1</td>\n",
       "    </tr>\n",
       "    <tr>\n",
       "      <td>-10</td>\n",
       "      <td>female</td>\n",
       "      <td>2</td>\n",
       "      <td>2</td>\n",
       "    </tr>\n",
       "    <tr>\n",
       "      <td>...</td>\n",
       "      <td>...</td>\n",
       "      <td>...</td>\n",
       "      <td>...</td>\n",
       "    </tr>\n",
       "    <tr>\n",
       "      <td>77</td>\n",
       "      <td>male</td>\n",
       "      <td>8</td>\n",
       "      <td>8</td>\n",
       "    </tr>\n",
       "    <tr>\n",
       "      <td rowspan=\"2\" valign=\"top\">78</td>\n",
       "      <td>female</td>\n",
       "      <td>1</td>\n",
       "      <td>1</td>\n",
       "    </tr>\n",
       "    <tr>\n",
       "      <td>male</td>\n",
       "      <td>2</td>\n",
       "      <td>2</td>\n",
       "    </tr>\n",
       "    <tr>\n",
       "      <td>79</td>\n",
       "      <td>male</td>\n",
       "      <td>1</td>\n",
       "      <td>1</td>\n",
       "    </tr>\n",
       "    <tr>\n",
       "      <td>81</td>\n",
       "      <td>male</td>\n",
       "      <td>1</td>\n",
       "      <td>1</td>\n",
       "    </tr>\n",
       "  </tbody>\n",
       "</table>\n",
       "<p>183 rows × 2 columns</p>\n",
       "</div>"
      ],
      "text/plain": [
       "            found_job  class\n",
       "age gender                  \n",
       "-19 female          1      1\n",
       "-16 male            1      1\n",
       "-13 male            1      1\n",
       "-11 female          1      1\n",
       "-10 female          2      2\n",
       "...               ...    ...\n",
       " 77 male            8      8\n",
       " 78 female          1      1\n",
       "    male            2      2\n",
       " 79 male            1      1\n",
       " 81 male            1      1\n",
       "\n",
       "[183 rows x 2 columns]"
      ]
     },
     "execution_count": 54,
     "metadata": {},
     "output_type": "execute_result"
    }
   ],
   "source": [
    "df.groupby(['age','gender']).count()"
   ]
  },
  {
   "cell_type": "markdown",
   "metadata": {},
   "source": [
    "# 採樣並建立測試資料集"
   ]
  },
  {
   "cell_type": "code",
   "execution_count": 162,
   "metadata": {},
   "outputs": [
    {
     "data": {
      "text/html": [
       "<div>\n",
       "<style scoped>\n",
       "    .dataframe tbody tr th:only-of-type {\n",
       "        vertical-align: middle;\n",
       "    }\n",
       "\n",
       "    .dataframe tbody tr th {\n",
       "        vertical-align: top;\n",
       "    }\n",
       "\n",
       "    .dataframe thead th {\n",
       "        text-align: right;\n",
       "    }\n",
       "</style>\n",
       "<table border=\"1\" class=\"dataframe\">\n",
       "  <thead>\n",
       "    <tr style=\"text-align: right;\">\n",
       "      <th></th>\n",
       "      <th>id</th>\n",
       "      <th>sex</th>\n",
       "      <th>apply_age</th>\n",
       "      <th>marriage</th>\n",
       "      <th>highest_education</th>\n",
       "      <th>highest_graduation</th>\n",
       "      <th>loan</th>\n",
       "      <th>loan_status</th>\n",
       "      <th>military_status</th>\n",
       "      <th>aboriginal</th>\n",
       "      <th>height</th>\n",
       "      <th>weight</th>\n",
       "      <th>nationality</th>\n",
       "      <th>highest_school_level</th>\n",
       "      <th>english_level</th>\n",
       "      <th>hired_or_not</th>\n",
       "      <th>relabel_check</th>\n",
       "    </tr>\n",
       "  </thead>\n",
       "  <tbody>\n",
       "    <tr>\n",
       "      <td>0</td>\n",
       "      <td>R224211691</td>\n",
       "      <td>F</td>\n",
       "      <td>24</td>\n",
       "      <td>0</td>\n",
       "      <td>B</td>\n",
       "      <td>Y</td>\n",
       "      <td>0</td>\n",
       "      <td>1</td>\n",
       "      <td>1</td>\n",
       "      <td>0</td>\n",
       "      <td>162</td>\n",
       "      <td>60</td>\n",
       "      <td>1</td>\n",
       "      <td>3</td>\n",
       "      <td>2.0</td>\n",
       "      <td>N</td>\n",
       "      <td>N</td>\n",
       "    </tr>\n",
       "    <tr>\n",
       "      <td>1</td>\n",
       "      <td>R223936966</td>\n",
       "      <td>F</td>\n",
       "      <td>28</td>\n",
       "      <td>0</td>\n",
       "      <td>B</td>\n",
       "      <td>Y</td>\n",
       "      <td>1</td>\n",
       "      <td>1</td>\n",
       "      <td>1</td>\n",
       "      <td>0</td>\n",
       "      <td>158</td>\n",
       "      <td>52</td>\n",
       "      <td>1</td>\n",
       "      <td>2</td>\n",
       "      <td>2.0</td>\n",
       "      <td>N</td>\n",
       "      <td>N</td>\n",
       "    </tr>\n",
       "    <tr>\n",
       "      <td>2</td>\n",
       "      <td>F228161684</td>\n",
       "      <td>F</td>\n",
       "      <td>24</td>\n",
       "      <td>0</td>\n",
       "      <td>B</td>\n",
       "      <td>Y</td>\n",
       "      <td>1</td>\n",
       "      <td>1</td>\n",
       "      <td>1</td>\n",
       "      <td>0</td>\n",
       "      <td>164</td>\n",
       "      <td>70</td>\n",
       "      <td>1</td>\n",
       "      <td>3</td>\n",
       "      <td>2.0</td>\n",
       "      <td>N</td>\n",
       "      <td>N</td>\n",
       "    </tr>\n",
       "    <tr>\n",
       "      <td>3</td>\n",
       "      <td>O200443001</td>\n",
       "      <td>F</td>\n",
       "      <td>21</td>\n",
       "      <td>0</td>\n",
       "      <td>B</td>\n",
       "      <td>Y</td>\n",
       "      <td>0</td>\n",
       "      <td>1</td>\n",
       "      <td>1</td>\n",
       "      <td>0</td>\n",
       "      <td>152</td>\n",
       "      <td>41</td>\n",
       "      <td>1</td>\n",
       "      <td>5</td>\n",
       "      <td>2.0</td>\n",
       "      <td>N</td>\n",
       "      <td>N</td>\n",
       "    </tr>\n",
       "    <tr>\n",
       "      <td>4</td>\n",
       "      <td>N225966272</td>\n",
       "      <td>F</td>\n",
       "      <td>22</td>\n",
       "      <td>0</td>\n",
       "      <td>B</td>\n",
       "      <td>I</td>\n",
       "      <td>0</td>\n",
       "      <td>1</td>\n",
       "      <td>1</td>\n",
       "      <td>0</td>\n",
       "      <td>155</td>\n",
       "      <td>45</td>\n",
       "      <td>1</td>\n",
       "      <td>6</td>\n",
       "      <td>3.0</td>\n",
       "      <td>N</td>\n",
       "      <td>N</td>\n",
       "    </tr>\n",
       "  </tbody>\n",
       "</table>\n",
       "</div>"
      ],
      "text/plain": [
       "           id sex  apply_age  marriage highest_education highest_graduation  \\\n",
       "0  R224211691   F         24         0                 B                  Y   \n",
       "1  R223936966   F         28         0                 B                  Y   \n",
       "2  F228161684   F         24         0                 B                  Y   \n",
       "3  O200443001   F         21         0                 B                  Y   \n",
       "4  N225966272   F         22         0                 B                  I   \n",
       "\n",
       "   loan  loan_status  military_status  aboriginal  height  weight  \\\n",
       "0     0            1                1           0     162      60   \n",
       "1     1            1                1           0     158      52   \n",
       "2     1            1                1           0     164      70   \n",
       "3     0            1                1           0     152      41   \n",
       "4     0            1                1           0     155      45   \n",
       "\n",
       "   nationality highest_school_level  english_level hired_or_not relabel_check  \n",
       "0            1                    3            2.0            N             N  \n",
       "1            1                    2            2.0            N             N  \n",
       "2            1                    3            2.0            N             N  \n",
       "3            1                    5            2.0            N             N  \n",
       "4            1                    6            3.0            N             N  "
      ]
     },
     "execution_count": 162,
     "metadata": {},
     "output_type": "execute_result"
    }
   ],
   "source": [
    "data = pd.read_excel('C:/Users/Administrator/paper/108_recruit_train.xlsx')\n",
    "data = data[data['highest_school_level']!='F']\n",
    "data = data.drop(['interview','second_interview','relabel'], axis=1)\n",
    "data.head()"
   ]
  },
  {
   "cell_type": "code",
   "execution_count": 163,
   "metadata": {},
   "outputs": [
    {
     "name": "stdout",
     "output_type": "stream",
     "text": [
      "<class 'pandas.core.frame.DataFrame'>\n",
      "Int64Index: 1188 entries, 0 to 1201\n",
      "Data columns (total 17 columns):\n",
      "id                      1188 non-null object\n",
      "sex                     1188 non-null object\n",
      "apply_age               1188 non-null int64\n",
      "marriage                1188 non-null int64\n",
      "highest_education       1188 non-null object\n",
      "highest_graduation      1188 non-null object\n",
      "loan                    1188 non-null int64\n",
      "loan_status             1188 non-null int64\n",
      "military_status         1188 non-null int64\n",
      "aboriginal              1188 non-null int64\n",
      "height                  1188 non-null int64\n",
      "weight                  1188 non-null int64\n",
      "nationality             1188 non-null int64\n",
      "highest_school_level    1188 non-null object\n",
      "english_level           1188 non-null float64\n",
      "hired_or_not            1188 non-null object\n",
      "relabel_check           1188 non-null object\n",
      "dtypes: float64(1), int64(9), object(7)\n",
      "memory usage: 167.1+ KB\n"
     ]
    }
   ],
   "source": [
    "data.info()"
   ]
  },
  {
   "cell_type": "code",
   "execution_count": 164,
   "metadata": {},
   "outputs": [
    {
     "name": "stdout",
     "output_type": "stream",
     "text": [
      "應徵總人數 1188\n",
      "男性應徵人數 412\n",
      "男性錄取人數 39\n",
      "男性錄取率 0.09466019417475728\n",
      "女性應徵人數 776\n",
      "女性錄取人數 63\n",
      "女性錄取率 0.08118556701030928\n",
      "男性應徵人數占比 0.3468013468013468\n",
      "女性應徵人數占比 0.6531986531986532\n"
     ]
    }
   ],
   "source": [
    "print(\"應徵總人數\", len(data))\n",
    "print(\"男性應徵人數\", len(data[data['sex']=='M']))\n",
    "print(\"男性錄取人數\", len(data[(data['sex']=='M') & (data['hired_or_not']=='Y')]))\n",
    "print(\"男性錄取率\", len(data[(data['sex']=='M') & (data['hired_or_not']=='Y')])/len(data[data['sex']=='M']))\n",
    "print(\"女性應徵人數\", len(data[data['sex']=='F']))\n",
    "print(\"女性錄取人數\", len(data[(data['sex']=='F') & (data['hired_or_not']=='Y')]))\n",
    "print(\"女性錄取率\", len(data[(data['sex']=='F') & (data['hired_or_not']=='Y')])/len(data[data['sex']=='F']))\n",
    "print(\"男性應徵人數占比\",len(data[data['sex']=='M'])/len(data))\n",
    "print(\"女性應徵人數占比\",len(data[data['sex']=='F'])/len(data))"
   ]
  },
  {
   "cell_type": "code",
   "execution_count": 165,
   "metadata": {},
   "outputs": [],
   "source": [
    "# 設定資料集男女比及應徵錄取比\n",
    "n_pop = 1000000\n",
    "p_male = 0.3468\n",
    "p_job_male, p_job_female = 0.0946, 0.0812\n",
    "\n",
    "gender = np.random.choice(['male', 'female'], size=n_pop, p=[p_male, 1 - p_male])\n",
    "df = pd.DataFrame({'gender' : gender})\n",
    "df.loc[df.gender == 'male', 'found_job'] = np.random.choice([1, 0], size=len(df.loc[df.gender == 'male']), p=[p_job_male, 1 - p_job_male])\n",
    "df.loc[df.gender == 'female', 'found_job'] = np.random.choice([1, 0], size=len(df.loc[df.gender == 'female']), p=[p_job_female, 1 - p_job_female])\n",
    "df['found_job'] = df['found_job'].astype(int)"
   ]
  },
  {
   "cell_type": "code",
   "execution_count": 166,
   "metadata": {},
   "outputs": [
    {
     "name": "stdout",
     "output_type": "stream",
     "text": [
      "男性應徵人數 346745\n",
      "男性錄取人數 33095\n",
      "男性錄取率 0.09544477930467635\n",
      "女性應徵人數 653255\n",
      "女性錄取人數 53065\n",
      "女性錄取率 0.08123167828795799\n",
      "男性應徵人數占比 0.346745\n",
      "女性應徵人數占比 0.653255\n"
     ]
    }
   ],
   "source": [
    "# 檢視資料集\n",
    "print(\"男性應徵人數\", len(df[df['gender']=='male']))\n",
    "print(\"男性錄取人數\", len(df[(df['gender']=='male') & (df['found_job']==1)]))\n",
    "print(\"男性錄取率\", len(df[(df['gender']=='male') & (df['found_job']==1)])/len(df[df['gender']=='male']))\n",
    "print(\"女性應徵人數\", len(df[df['gender']=='female']))\n",
    "print(\"女性錄取人數\", len(df[(df['gender']=='female') & (df['found_job']==1)]))\n",
    "print(\"女性錄取率\", len(df[(df['gender']=='female') & (df['found_job']==1)])/len(df[df['gender']=='female']))\n",
    "print(\"男性應徵人數占比\",len(df[df['gender']=='male'])/len(df))\n",
    "print(\"女性應徵人數占比\",len(df[df['gender']=='female'])/len(df))"
   ]
  },
  {
   "cell_type": "code",
   "execution_count": 167,
   "metadata": {},
   "outputs": [
    {
     "data": {
      "text/html": [
       "<div>\n",
       "<style scoped>\n",
       "    .dataframe tbody tr th:only-of-type {\n",
       "        vertical-align: middle;\n",
       "    }\n",
       "\n",
       "    .dataframe tbody tr th {\n",
       "        vertical-align: top;\n",
       "    }\n",
       "\n",
       "    .dataframe thead th {\n",
       "        text-align: right;\n",
       "    }\n",
       "</style>\n",
       "<table border=\"1\" class=\"dataframe\">\n",
       "  <thead>\n",
       "    <tr style=\"text-align: right;\">\n",
       "      <th>found_job</th>\n",
       "      <th>0</th>\n",
       "      <th>1</th>\n",
       "    </tr>\n",
       "    <tr>\n",
       "      <th>gender</th>\n",
       "      <th></th>\n",
       "      <th></th>\n",
       "    </tr>\n",
       "  </thead>\n",
       "  <tbody>\n",
       "    <tr>\n",
       "      <td>female</td>\n",
       "      <td>600190</td>\n",
       "      <td>53065</td>\n",
       "    </tr>\n",
       "    <tr>\n",
       "      <td>male</td>\n",
       "      <td>313650</td>\n",
       "      <td>33095</td>\n",
       "    </tr>\n",
       "  </tbody>\n",
       "</table>\n",
       "</div>"
      ],
      "text/plain": [
       "found_job       0      1\n",
       "gender                  \n",
       "female     600190  53065\n",
       "male       313650  33095"
      ]
     },
     "execution_count": 167,
     "metadata": {},
     "output_type": "execute_result"
    }
   ],
   "source": [
    "df.pivot_table(index='gender', columns='found_job', aggfunc='size')"
   ]
  },
  {
   "cell_type": "code",
   "execution_count": 168,
   "metadata": {},
   "outputs": [
    {
     "name": "stdout",
     "output_type": "stream",
     "text": [
      "男性錄取年齡平均 26.53846153846154\n",
      "男性錄取年齡標準差 3.3938501180048863\n",
      "男性未錄取年齡平均 27.396782841823057\n",
      "男性未錄取年齡標準差 4.783842693106973\n",
      "---------------------------------------------------------------------\n",
      "女性錄取年齡平均 25.26984126984127\n",
      "女性錄取年齡標準差 2.806710560059008\n",
      "女性未錄取年齡平均 26.517531556802243\n",
      "女性未錄取年齡標準差 4.669111814273186\n"
     ]
    }
   ],
   "source": [
    "print(\"男性錄取年齡平均\", data[(data['sex']=='M') & (data['hired_or_not']=='Y')].apply_age.mean())\n",
    "print(\"男性錄取年齡標準差\", data[(data['sex']=='M') & (data['hired_or_not']=='Y')].apply_age.std())\n",
    "print(\"男性未錄取年齡平均\", data[(data['sex']=='M') & (data['hired_or_not']=='N')].apply_age.mean())\n",
    "print(\"男性未錄取年齡標準差\", data[(data['sex']=='M') & (data['hired_or_not']=='N')].apply_age.std())\n",
    "print(\"---------------------------------------------------------------------\")\n",
    "print(\"女性錄取年齡平均\", data[(data['sex']=='F') & (data['hired_or_not']=='Y')].apply_age.mean())\n",
    "print(\"女性錄取年齡標準差\", data[(data['sex']=='F') & (data['hired_or_not']=='Y')].apply_age.std())\n",
    "print(\"女性未錄取年齡平均\", data[(data['sex']=='F') & (data['hired_or_not']=='N')].apply_age.mean())\n",
    "print(\"女性未錄取年齡標準差\", data[(data['sex']=='F') & (data['hired_or_not']=='N')].apply_age.std())"
   ]
  },
  {
   "cell_type": "code",
   "execution_count": 169,
   "metadata": {},
   "outputs": [],
   "source": [
    "# 設定資料集年齡分布(待採樣)\n",
    "mu_job_male, sigma_job_male = 26.5385, 3.3939\n",
    "mu_no_job_male, sigma_no_job_male = 27.3968, 4.7838\n",
    "\n",
    "mu_job_female, sigma_job_female = 25.2698, 2.8067\n",
    "mu_no_job_female, sigma_no_job_female = 26.5175, 4.6691\n",
    "\n",
    "df_male = df[df['gender']=='male']\n",
    "df_female = df[df['gender']=='female']\n",
    "\n",
    "df_male.loc[df_male.found_job == 1, 'age'] = np.floor(np.random.normal(mu_job_male, sigma_job_male, len(df_male.loc[df_male.found_job == 1])))\n",
    "df_male.loc[df_male.found_job == 0, 'age'] = np.floor(np.random.normal(mu_no_job_male, sigma_no_job_male, len(df_male.loc[df_male.found_job == 0])))\n",
    "df_female.loc[df_female.found_job == 1, 'age'] = np.floor(np.random.normal(mu_job_female, sigma_job_female, len(df_female.loc[df_female.found_job == 1])))\n",
    "df_female.loc[df_female.found_job == 0, 'age'] = np.floor(np.random.normal(mu_no_job_female, sigma_no_job_female, len(df_female.loc[df_female.found_job == 0])))\n",
    "\n",
    "df = df_male.append(df_female)\n",
    "df['age'] = df['age'].astype(int)"
   ]
  },
  {
   "cell_type": "code",
   "execution_count": 170,
   "metadata": {},
   "outputs": [
    {
     "name": "stdout",
     "output_type": "stream",
     "text": [
      "男性錄取年齡平均 26.00676839401722\n",
      "男性錄取年齡標準差 3.391759643128539\n",
      "男性未錄取年齡平均 26.897631117487645\n",
      "男性未錄取年齡標準差 4.78264371429016\n",
      "---------------------------------------------------------------------\n",
      "女性錄取年齡平均 24.7745783473099\n",
      "女性錄取年齡標準差 2.8316817032423542\n",
      "女性未錄取年齡平均 26.024530565320983\n",
      "女性未錄取年齡標準差 4.68005487606021\n"
     ]
    }
   ],
   "source": [
    "print(\"男性錄取年齡平均\", df[(df['gender']=='male') & (df['found_job']==1)].age.mean())\n",
    "print(\"男性錄取年齡標準差\", df[(df['gender']=='male') & (df['found_job']==1)].age.std())\n",
    "print(\"男性未錄取年齡平均\", df[(df['gender']=='male') & (df['found_job']==0)].age.mean())\n",
    "print(\"男性未錄取年齡標準差\", df[(df['gender']=='male') & (df['found_job']==0)].age.std())\n",
    "print(\"---------------------------------------------------------------------\")\n",
    "print(\"女性錄取年齡平均\", df[(df['gender']=='female') & (df['found_job']==1)].age.mean())\n",
    "print(\"女性錄取年齡標準差\", df[(df['gender']=='female') & (df['found_job']==1)].age.std())\n",
    "print(\"女性未錄取年齡平均\", df[(df['gender']=='female') & (df['found_job']==0)].age.mean())\n",
    "print(\"女性未錄取年齡標準差\", df[(df['gender']=='female') & (df['found_job']==0)].age.std())"
   ]
  },
  {
   "cell_type": "code",
   "execution_count": 171,
   "metadata": {},
   "outputs": [
    {
     "data": {
      "text/html": [
       "<div>\n",
       "<style scoped>\n",
       "    .dataframe tbody tr th:only-of-type {\n",
       "        vertical-align: middle;\n",
       "    }\n",
       "\n",
       "    .dataframe tbody tr th {\n",
       "        vertical-align: top;\n",
       "    }\n",
       "\n",
       "    .dataframe thead th {\n",
       "        text-align: right;\n",
       "    }\n",
       "</style>\n",
       "<table border=\"1\" class=\"dataframe\">\n",
       "  <thead>\n",
       "    <tr style=\"text-align: right;\">\n",
       "      <th></th>\n",
       "      <th>age</th>\n",
       "    </tr>\n",
       "    <tr>\n",
       "      <th>found_job</th>\n",
       "      <th></th>\n",
       "    </tr>\n",
       "  </thead>\n",
       "  <tbody>\n",
       "    <tr>\n",
       "      <td>0</td>\n",
       "      <td>26.3</td>\n",
       "    </tr>\n",
       "    <tr>\n",
       "      <td>1</td>\n",
       "      <td>25.2</td>\n",
       "    </tr>\n",
       "  </tbody>\n",
       "</table>\n",
       "</div>"
      ],
      "text/plain": [
       "            age\n",
       "found_job      \n",
       "0          26.3\n",
       "1          25.2"
      ]
     },
     "execution_count": 171,
     "metadata": {},
     "output_type": "execute_result"
    }
   ],
   "source": [
    "df.groupby('found_job').mean().round(1)"
   ]
  },
  {
   "cell_type": "code",
   "execution_count": 172,
   "metadata": {},
   "outputs": [
    {
     "name": "stdout",
     "output_type": "stream",
     "text": [
      "學士人數 1024\n",
      "碩士人數 162\n",
      "博士人數 2\n",
      "---------------------------------------------------------------------\n",
      "學士錄取人數 87\n",
      "碩士錄取人數 15\n",
      "博士錄取人數 0\n",
      "總錄取人數 102\n",
      "---------------------------------------------------------------------\n",
      "學士錄取率 0.8529411764705882\n",
      "碩士錄取率 0.14705882352941177\n",
      "博士錄取率 0.0\n",
      "---------------------------------------------------------------------\n",
      "學士不錄取率 0.8627992633517495\n",
      "碩士不錄取率 0.13535911602209943\n",
      "博士不錄取率 0.001841620626151013\n"
     ]
    }
   ],
   "source": [
    "# 設定資料集學歷分布(待採樣)\n",
    "print(\"學士人數\", len(data[data['highest_education']=='B']))\n",
    "print(\"碩士人數\", len(data[data['highest_education']=='M']))\n",
    "print(\"博士人數\", len(data[data['highest_education']=='D']))\n",
    "print(\"---------------------------------------------------------------------\")\n",
    "print(\"學士錄取人數\", len(data[(data['highest_education']=='B') & (data['hired_or_not']=='Y')]))\n",
    "print(\"碩士錄取人數\", len(data[(data['highest_education']=='M') & (data['hired_or_not']=='Y')]))\n",
    "print(\"博士錄取人數\", len(data[(data['highest_education']=='D') & (data['hired_or_not']=='Y')]))\n",
    "print(\"總錄取人數\", len(data[data['hired_or_not']=='Y']))\n",
    "print(\"---------------------------------------------------------------------\")\n",
    "print(\"學士錄取率\", len(data[(data['highest_education']=='B') & (data['hired_or_not']=='Y')])/len(data[data['hired_or_not']=='Y']))\n",
    "print(\"碩士錄取率\", len(data[(data['highest_education']=='M') & (data['hired_or_not']=='Y')])/len(data[data['hired_or_not']=='Y']))\n",
    "print(\"博士錄取率\", len(data[(data['highest_education']=='D') & (data['hired_or_not']=='Y')])/len(data[data['hired_or_not']=='Y']))\n",
    "print(\"---------------------------------------------------------------------\")\n",
    "print(\"學士不錄取率\", len(data[(data['highest_education']=='B') & (data['hired_or_not']=='N')])/len(data[data['hired_or_not']=='N']))\n",
    "print(\"碩士不錄取率\", len(data[(data['highest_education']=='M') & (data['hired_or_not']=='N')])/len(data[data['hired_or_not']=='N']))\n",
    "print(\"博士不錄取率\", len(data[(data['highest_education']=='D') & (data['hired_or_not']=='N')])/len(data[data['hired_or_not']=='N']))"
   ]
  },
  {
   "cell_type": "code",
   "execution_count": 173,
   "metadata": {},
   "outputs": [],
   "source": [
    "educ_class_set = ['B', 'M', 'D']\n",
    "educ_class_wt_job = [0.8529, 0.1471, 0]\n",
    "educ_class_wt_no_job = [0.8628, 0.1354, 0.0018]\n",
    "\n",
    "df.loc[df.found_job == 1, 'educ_class'] = np.random.choice(educ_class_set, size=len(df.loc[df.found_job == 1]), p=educ_class_wt_job)\n",
    "df.loc[df.found_job == 0, 'educ_class'] = np.random.choice(educ_class_set, size=len(df.loc[df.found_job == 0]), p=educ_class_wt_no_job)"
   ]
  },
  {
   "cell_type": "code",
   "execution_count": 174,
   "metadata": {},
   "outputs": [
    {
     "name": "stdout",
     "output_type": "stream",
     "text": [
      "學士人數 861793\n",
      "碩士人數 136630\n",
      "博士人數 1577\n",
      "---------------------------------------------------------------------\n",
      "學士錄取人數 73530\n",
      "碩士錄取人數 12630\n",
      "博士錄取人數 0\n",
      "總錄取人數 86160\n",
      "---------------------------------------------------------------------\n",
      "學士錄取率 0.8534122562674095\n",
      "碩士錄取率 0.14658774373259054\n",
      "博士錄取率 0.0\n",
      "---------------------------------------------------------------------\n",
      "學士不錄取率 0.8625831655432024\n",
      "碩士不錄取率 0.13569114943534974\n",
      "博士不錄取率 0.0017256850214479558\n"
     ]
    }
   ],
   "source": [
    "# 檢視資料集學歷分布\n",
    "print(\"學士人數\", len(df[df['educ_class']=='B']))\n",
    "print(\"碩士人數\", len(df[df['educ_class']=='M']))\n",
    "print(\"博士人數\", len(df[df['educ_class']=='D']))\n",
    "print(\"---------------------------------------------------------------------\")\n",
    "print(\"學士錄取人數\", len(df[(df['educ_class']=='B') & (df['found_job']==1)]))\n",
    "print(\"碩士錄取人數\", len(df[(df['educ_class']=='M') & (df['found_job']==1)]))\n",
    "print(\"博士錄取人數\", len(df[(df['educ_class']=='D') & (df['found_job']==1)]))\n",
    "print(\"總錄取人數\", len(df[df['found_job']==1]))\n",
    "print(\"---------------------------------------------------------------------\")\n",
    "print(\"學士錄取率\", len(df[(df['educ_class']=='B') & (df['found_job']==1)])/len(df[df['found_job']==1]))\n",
    "print(\"碩士錄取率\", len(df[(df['educ_class']=='M') & (df['found_job']==1)])/len(df[df['found_job']==1]))\n",
    "print(\"博士錄取率\", len(df[(df['educ_class']=='D') & (df['found_job']==1)])/len(df[df['found_job']==1]))\n",
    "print(\"---------------------------------------------------------------------\")\n",
    "print(\"學士不錄取率\", len(df[(df['educ_class']=='B') & (df['found_job']==0)])/len(df[df['found_job']==0]))\n",
    "print(\"碩士不錄取率\", len(df[(df['educ_class']=='M') & (df['found_job']==0)])/len(df[df['found_job']==0]))\n",
    "print(\"博士不錄取率\", len(df[(df['educ_class']=='D') & (df['found_job']==0)])/len(df[df['found_job']==0]))"
   ]
  },
  {
   "cell_type": "code",
   "execution_count": 260,
   "metadata": {},
   "outputs": [
    {
     "name": "stdout",
     "output_type": "stream",
     "text": [
      "女性應徵總人數 776\n",
      "女性已婚總人數 95\n",
      "女性未婚總人數 681\n",
      "已錄取女性已婚人數 3\n",
      "女性錄取者已婚比例 0.047619047619047616\n",
      "未錄取女性已婚人數 92\n",
      "女性未錄取者已婚比例 0.12903225806451613\n",
      "---------------------------------------------------------------------\n",
      "男性應徵總人數 412\n",
      "男性已婚總人數 31\n",
      "男性未婚總人數 381\n",
      "已錄取男性已婚人數 5\n",
      "男性錄取者已婚比例 0.1282051282051282\n",
      "未錄取男性已婚人數 26\n",
      "男性未錄取者已婚比例 0.06970509383378017\n",
      "---------------------------------------------------------------------\n",
      "已婚女性錄取率 0.031578947368421054\n",
      "未婚女性錄取率 0.0881057268722467\n",
      "已婚男性錄取率 0.16129032258064516\n",
      "未婚男性錄取率 0.08923884514435695\n"
     ]
    }
   ],
   "source": [
    "# 設定婚姻狀況資料分布(待採樣)\n",
    "print(\"女性應徵總人數\", len(data[data['sex']=='F']))\n",
    "print(\"女性已婚總人數\", len(data[(data['sex']=='F')&(data['marriage']==1)]))\n",
    "print(\"女性未婚總人數\", len(data[(data['sex']=='F')&(data['marriage']==0)]))\n",
    "print(\"已錄取女性已婚人數\", len(data[(data['sex']=='F')&(data['marriage']==1)&(data['hired_or_not']=='Y')]))\n",
    "print(\"女性錄取者已婚比例\", len(data[(data['sex']=='F')&(data['marriage']==1)&(data['hired_or_not']=='Y')])/len(data[(data['sex']=='F')&(data['hired_or_not']=='Y')]))\n",
    "print(\"未錄取女性已婚人數\", len(data[(data['sex']=='F')&(data['marriage']==1)&(data['hired_or_not']=='N')]))\n",
    "print(\"女性未錄取者已婚比例\", len(data[(data['sex']=='F')&(data['marriage']==1)&(data['hired_or_not']=='N')])/len(data[(data['sex']=='F')&(data['hired_or_not']=='N')]))\n",
    "print(\"---------------------------------------------------------------------\")\n",
    "print(\"男性應徵總人數\", len(data[data['sex']=='M']))\n",
    "print(\"男性已婚總人數\", len(data[(data['sex']=='M')&(data['marriage']==1)]))\n",
    "print(\"男性未婚總人數\", len(data[(data['sex']=='M')&(data['marriage']==0)]))\n",
    "print(\"已錄取男性已婚人數\", len(data[(data['sex']=='M')&(data['marriage']==1)&(data['hired_or_not']=='Y')]))\n",
    "print(\"男性錄取者已婚比例\", len(data[(data['sex']=='M')&(data['marriage']==1)&(data['hired_or_not']=='Y')])/len(data[(data['sex']=='M')&(data['hired_or_not']=='Y')]))\n",
    "print(\"未錄取男性已婚人數\", len(data[(data['sex']=='M')&(data['marriage']==1)&(data['hired_or_not']=='N')]))\n",
    "print(\"男性未錄取者已婚比例\", len(data[(data['sex']=='M')&(data['marriage']==1)&(data['hired_or_not']=='N')])/len(data[(data['sex']=='M')&(data['hired_or_not']=='N')]))\n",
    "print(\"---------------------------------------------------------------------\")\n",
    "print(\"已婚女性錄取率\", len(data[(data['sex']=='F')&(data['marriage']==1)&(data['hired_or_not']=='Y')])/len(data[(data['sex']=='F')&(data['marriage']==1)]))\n",
    "print(\"未婚女性錄取率\", len(data[(data['sex']=='F')&(data['marriage']==0)&(data['hired_or_not']=='Y')])/len(data[(data['sex']=='F')&(data['marriage']==0)]))\n",
    "print(\"已婚男性錄取率\", len(data[(data['sex']=='M')&(data['marriage']==1)&(data['hired_or_not']=='Y')])/len(data[(data['sex']=='M')&(data['marriage']==1)]))\n",
    "print(\"未婚男性錄取率\", len(data[(data['sex']=='M')&(data['marriage']==0)&(data['hired_or_not']=='Y')])/len(data[(data['sex']=='M')&(data['marriage']==0)]))"
   ]
  },
  {
   "cell_type": "code",
   "execution_count": 261,
   "metadata": {},
   "outputs": [],
   "source": [
    "# 設定男女婚姻狀況分布\n",
    "# 男性錄取者已婚比例, 男性未錄取者已婚比例\n",
    "p_job_male_marriage, p_no_job_male_marriage = 0.12820512, 0.06970509\n",
    "# 女性錄取者已婚比例, 女性未錄取者已婚比例\n",
    "p_job_female_marriage, p_no_job_female_marriage = 0.04761904, 0.12903225\n",
    "\n",
    "df_male = df[df['gender']=='male']\n",
    "df_female = df[df['gender']=='female']\n",
    "\n",
    "df_male.loc[df_male.found_job == 1, 'marriage'] = np.random.choice([1, 0], size=len(df_male.loc[df_male.found_job == 1]), p=[p_job_male_marriage, 1 - p_job_male_marriage])\n",
    "df_male.loc[df_male.found_job == 0, 'marriage'] = np.random.choice([1, 0], size=len(df_male.loc[df_male.found_job == 0]), p=[p_no_job_male_marriage, 1 - p_no_job_male_marriage])\n",
    "df_female.loc[df_female.found_job == 1, 'marriage'] = np.random.choice([1, 0], size=len(df_female.loc[df_female.found_job == 1]), p=[p_job_female_marriage, 1 - p_job_female_marriage])\n",
    "df_female.loc[df_female.found_job == 0, 'marriage'] = np.random.choice([1, 0], size=len(df_female.loc[df_female.found_job == 0]), p=[p_no_job_female_marriage, 1 - p_no_job_female_marriage])\n",
    "\n",
    "df = df_male.append(df_female)"
   ]
  },
  {
   "cell_type": "code",
   "execution_count": 250,
   "metadata": {},
   "outputs": [
    {
     "data": {
      "text/plain": [
       "69934"
      ]
     },
     "execution_count": 250,
     "metadata": {},
     "output_type": "execute_result"
    }
   ],
   "source": [
    "len(df[(df['gender']=='male')&(df['marriage']==0)&(df['found_job']==1)])"
   ]
  },
  {
   "cell_type": "code",
   "execution_count": 263,
   "metadata": {},
   "outputs": [
    {
     "name": "stdout",
     "output_type": "stream",
     "text": [
      "女性應徵總人數 653255\n",
      "女性已婚總人數 79666\n",
      "女性未婚總人數 573589\n",
      "已錄取女性已婚人數 2497\n",
      "女性錄取者已婚比例 0.047055497974182604\n",
      "未錄取女性已婚人數 77169\n",
      "女性未錄取者已婚比例 0.12857428480981023\n",
      "---------------------------------------------------------------------\n",
      "男性應徵總人數 346745\n",
      "男性已婚總人數 26195\n",
      "男性未婚總人數 320550\n",
      "已錄取男性已婚人數 4303\n",
      "男性錄取者已婚比例 0.13001964042906783\n",
      "未錄取男性已婚人數 21892\n",
      "男性未錄取者已婚比例 0.06979754503427388\n",
      "---------------------------------------------------------------------\n",
      "已婚女性錄取率 0.03134335852182864\n",
      "未婚女性錄取率 0.08816068648457345\n",
      "已婚男性錄取率 0.16426799007444168\n",
      "未婚男性錄取率 0.08982062080798628\n"
     ]
    }
   ],
   "source": [
    "# 設定婚姻狀況資料分布\n",
    "print(\"女性應徵總人數\", len(df[df['gender']=='female']))\n",
    "print(\"女性已婚總人數\", len(df[(df['gender']=='female')&(df['marriage']==1)]))\n",
    "print(\"女性未婚總人數\", len(df[(df['gender']=='female')&(df['marriage']==0)]))\n",
    "print(\"已錄取女性已婚人數\", len(df[(df['gender']=='female')&(df['marriage']==1)&(df['found_job']==1)]))\n",
    "print(\"女性錄取者已婚比例\", len(df[(df['gender']=='female')&(df['marriage']==1)&(df['found_job']==1)])/len(df[(df['gender']=='female')&(df['found_job']==1)]))\n",
    "print(\"未錄取女性已婚人數\", len(df[(df['gender']=='female')&(df['marriage']==1)&(df['found_job']==0)]))\n",
    "print(\"女性未錄取者已婚比例\", len(df[(df['gender']=='female')&(df['marriage']==1)&(df['found_job']==0)])/len(df[(df['gender']=='female')&(df['found_job']==0)]))\n",
    "print(\"---------------------------------------------------------------------\")\n",
    "print(\"男性應徵總人數\", len(df[df['gender']=='male']))\n",
    "print(\"男性已婚總人數\", len(df[(df['gender']=='male')&(df['marriage']==1)]))\n",
    "print(\"男性未婚總人數\", len(df[(df['gender']=='male')&(df['marriage']==0)]))\n",
    "print(\"已錄取男性已婚人數\", len(df[(df['gender']=='male')&(df['marriage']==1)&(df['found_job']==1)]))\n",
    "print(\"男性錄取者已婚比例\", len(df[(df['gender']=='male')&(df['marriage']==1)&(df['found_job']==1)])/len(df[(df['gender']=='male')&(df['found_job']==1)]))\n",
    "print(\"未錄取男性已婚人數\", len(df[(df['gender']=='male')&(df['marriage']==1)&(df['found_job']==0)]))\n",
    "print(\"男性未錄取者已婚比例\", len(df[(df['gender']=='male')&(df['marriage']==1)&(df['found_job']==0)])/len(df[(df['gender']=='male')&(df['found_job']==0)]))\n",
    "print(\"---------------------------------------------------------------------\")\n",
    "print(\"已婚女性錄取率\", len(df[(df['gender']=='female')&(df['marriage']==1)&(df['found_job']==1)])/len(df[(df['gender']=='female')&(df['marriage']==1)]))\n",
    "print(\"未婚女性錄取率\", len(df[(df['gender']=='female')&(df['marriage']==0)&(df['found_job']==1)])/len(df[(df['gender']=='female')&(df['marriage']==0)]))\n",
    "print(\"已婚男性錄取率\", len(df[(df['gender']=='male')&(df['marriage']==1)&(df['found_job']==1)])/len(df[(df['gender']=='male')&(df['marriage']==1)]))\n",
    "print(\"未婚男性錄取率\", len(df[(df['gender']=='male')&(df['marriage']==0)&(df['found_job']==1)])/len(df[(df['gender']=='male')&(df['marriage']==0)]))"
   ]
  },
  {
   "cell_type": "code",
   "execution_count": 256,
   "metadata": {},
   "outputs": [],
   "source": [
    "df_male.to_excel(\"df.xlsx\")"
   ]
  },
  {
   "cell_type": "code",
   "execution_count": 178,
   "metadata": {},
   "outputs": [
    {
     "data": {
      "text/plain": [
       "0.08123167828795799"
      ]
     },
     "execution_count": 178,
     "metadata": {},
     "output_type": "execute_result"
    }
   ],
   "source": [
    "len(df[(df['gender']=='female') & (df['found_job']==1)])/len(df[(df['gender']=='female')])"
   ]
  },
  {
   "cell_type": "code",
   "execution_count": 199,
   "metadata": {},
   "outputs": [
    {
     "name": "stdout",
     "output_type": "stream",
     "text": [
      "女性人數 653184\n",
      "女性已婚人數 79643\n",
      "女性已婚占比 0.12193042083088379\n",
      "女性未婚人數 573541\n",
      "女性已婚錄取人數 6367\n",
      "女性未婚錄取人數 46355\n",
      "女性已婚族群錄取率 0.07994425122107404\n",
      "女性未婚族群錄取率 0.08082246953574374\n",
      "---------------------------------------------------------------------\n",
      "男性人數 346816\n",
      "男性已婚人數 25862\n",
      "男性已婚占比 0.0745698007012364\n",
      "男性未婚人數 320954\n",
      "男性已婚錄取人數 2544\n",
      "男性未婚錄取人數 30275\n",
      "男性已婚族群錄取率 0.09836826231536618\n",
      "男性未婚族群錄取率 0.09432815917545817\n"
     ]
    }
   ],
   "source": [
    "# 設定婚姻狀況資料分布(待採樣)\n",
    "print(\"女性人數\", len(df[df['gender']=='female']))\n",
    "print(\"女性已婚人數\", len(df[(df['gender']=='female') & (df['marriage']==1)]))\n",
    "print(\"女性已婚占比\", len(df[(df['gender']=='female') & (df['marriage']==1)])/len(df[df['gender']=='female']))\n",
    "print(\"女性未婚人數\", len(df[(df['gender']=='female') & (df['marriage']==0)]))\n",
    "print(\"女性已婚錄取人數\", len(df[(df['gender']=='female') & (df['marriage']==1) & (df['found_job']==1)]))\n",
    "print(\"女性未婚錄取人數\", len(df[(df['gender']=='female') & (df['marriage']==0) & (df['found_job']==1)]))\n",
    "print(\"女性已婚族群錄取率\", len(df[(df['gender']=='female') & (df['marriage']==1) & (df['found_job']==1)])/len(df[(df['gender']=='female') & (df['marriage']==1)]))\n",
    "print(\"女性未婚族群錄取率\", len(df[(df['gender']=='female') & (df['marriage']==0) & (df['found_job']==1)])/len(df[(df['gender']=='female') & (df['marriage']==0)]))\n",
    "print(\"---------------------------------------------------------------------\")\n",
    "print(\"男性人數\", len(df[df['gender']=='male']))\n",
    "print(\"男性已婚人數\", len(df[(df['gender']=='male') & (df['marriage']==1)]))\n",
    "print(\"男性已婚占比\", len(df[(df['gender']=='male') & (df['marriage']==1)])/len(df[df['gender']=='male']))\n",
    "print(\"男性未婚人數\", len(df[(df['gender']=='male') & (df['marriage']==0)]))\n",
    "print(\"男性已婚錄取人數\", len(df[(df['gender']=='male') & (df['marriage']==1) & (df['found_job']==1)]))\n",
    "print(\"男性未婚錄取人數\", len(df[(df['gender']=='male') & (df['marriage']==0) & (df['found_job']==1)]))\n",
    "print(\"男性已婚族群錄取率\", len(df[(df['gender']=='male') & (df['marriage']==1) & (df['found_job']==1)])/len(df[(df['gender']=='male') & (df['marriage']==1)]))\n",
    "print(\"男性未婚族群錄取率\", len(df[(df['gender']=='male') & (df['marriage']==0) & (df['found_job']==1)])/len(df[(df['gender']=='male') & (df['marriage']==0)]))"
   ]
  },
  {
   "cell_type": "code",
   "execution_count": 200,
   "metadata": {},
   "outputs": [
    {
     "data": {
      "text/plain": [
       "0         0.0\n",
       "3         0.0\n",
       "5         0.0\n",
       "11        0.0\n",
       "12        0.0\n",
       "         ... \n",
       "999984    0.0\n",
       "999987    1.0\n",
       "999988    0.0\n",
       "999995    0.0\n",
       "999996    0.0\n",
       "Name: marriage, Length: 346816, dtype: float64"
      ]
     },
     "execution_count": 200,
     "metadata": {},
     "output_type": "execute_result"
    }
   ],
   "source": [
    "df.loc[df.gender == 'male', 'marriage']"
   ]
  },
  {
   "cell_type": "code",
   "execution_count": 16,
   "metadata": {},
   "outputs": [],
   "source": [
    "import pandas as pd\n",
    "import numpy as np\n",
    "import seaborn as sns\n",
    "import matplotlib.pyplot as plt\n",
    "from aif360.datasets import BinaryLabelDataset\n",
    "from aif360.metrics import BinaryLabelDatasetMetric\n",
    "from aif360.metrics import ClassificationMetric\n",
    "from aif360.algorithms.preprocessing import Reweighing\n",
    "from sklearn.preprocessing import StandardScaler\n",
    "from sklearn.linear_model import LogisticRegression\n",
    "from tqdm import tqdm\n",
    "np.random.seed(1)"
   ]
  },
  {
   "cell_type": "code",
   "execution_count": 17,
   "metadata": {},
   "outputs": [],
   "source": [
    "def get_disparity_index(di):\n",
    "    return 1 - np.minimum(di, 1 / di)\n",
    "\n",
    "\n",
    "def get_bal_acc(classified_metric):\n",
    "    return 0.5 * (classified_metric.true_positive_rate() + classified_metric.true_negative_rate())\n",
    "\n",
    "\n",
    "def train_lr_model(dataset):\n",
    "    scale = StandardScaler().fit(dataset.features)\n",
    "    model = LogisticRegression(random_state=0, solver='liblinear')\n",
    "    x_train = scale.transform(dataset.features)\n",
    "    y_train = dataset.labels.ravel()\n",
    "    model.fit(x_train, y_train, sample_weight=dataset.instance_weights)\n",
    "    y_train_pred = model.predict(x_train)\n",
    "    return model, scale\n",
    "\n",
    "\n",
    "def test_lr_model(y_data_pred_prob, dataset, thresh_arr):\n",
    "    y_pred = (y_data_pred_prob[:,1] > thresh_arr).astype(np.double)\n",
    "    dataset_pred = dataset.copy()\n",
    "    dataset_pred.labels = y_pred\n",
    "    classified_metric = ClassificationMetric(dataset, dataset_pred, unprivileged_group, privileged_group)\n",
    "    metric_pred = BinaryLabelDatasetMetric(dataset_pred, unprivileged_group, privileged_group)\n",
    "    return dataset_pred.labels, classified_metric, metric_pred\n",
    "\n",
    "\n",
    "def get_y_pred_prob_lr(scale, model, dataset):\n",
    "    x = scale.transform(dataset.features)\n",
    "    y_pred_prob = model.predict_proba(x)\n",
    "    return y_pred_prob\n",
    "\n",
    "\n",
    "def get_best_bal_acc_cutoff(y_pred_prob, dataset):\n",
    "    y_validate_pred_prob = y_pred_prob\n",
    "    bal_acc_arr = []\n",
    "    disp_imp_arr = []\n",
    "\n",
    "    for thresh in tqdm(thresh_arr):\n",
    "        y_validate_pred = (y_validate_pred_prob[:,1] > thresh).astype(np.double)\n",
    "        dataset_pred = dataset.copy()\n",
    "        dataset_pred.labels = y_validate_pred\n",
    "\n",
    "        # Calculate accuracy for each threshold value\n",
    "        classified_metric = ClassificationMetric(dataset, dataset_pred, unprivileged_group, privileged_group)\n",
    "        bal_acc = get_bal_acc(classified_metric)\n",
    "        bal_acc_arr.append(bal_acc)\n",
    "\n",
    "        # Calculate fairness for each threshold value\n",
    "        metric_pred = BinaryLabelDatasetMetric(dataset_pred, unprivileged_group, privileged_group)\n",
    "        disp_imp_arr.append(metric_pred.disparate_impact())\n",
    "\n",
    "    # Find threshold for best accuracy\n",
    "    thresh_arr_best_ind = np.where(bal_acc_arr == np.max(bal_acc_arr))[0][0]\n",
    "    thresh_arr_best = np.array(thresh_arr)[thresh_arr_best_ind]\n",
    "\n",
    "    # Calculate accuracy and fairness at this threshold\n",
    "    best_bal_acc = bal_acc_arr[thresh_arr_best_ind]\n",
    "    disp_imp_at_best_bal_acc = disp_imp_arr[thresh_arr_best_ind]\n",
    "\n",
    "    # Output metrics\n",
    "    acc_metrics = pd.DataFrame({'thresh_arr_best_ind' : thresh_arr_best_ind, \\\n",
    "    'thresh_arr_best' : thresh_arr_best, \\\n",
    "    'best_bal_acc' : best_bal_acc, \\\n",
    "    'disp_imp_at_best_bal_acc' : disp_imp_at_best_bal_acc}, index=[0]).transpose()\n",
    "    return acc_metrics, bal_acc_arr, disp_imp_arr, dataset_pred.labels\n",
    "\n",
    "\n",
    "def plot_acc_vs_fairness(metric, metric_name, bal_acc_arr, thresh_arr_best_ind):\n",
    "    fig, ax1 = plt.subplots(figsize=(10, 7))\n",
    "    ax1.plot(thresh_arr, bal_acc_arr, color='b')\n",
    "    ax1.set_xlabel('Classification Thresholds', fontsize=16, fontweight='bold')\n",
    "    ax1.set_ylabel('Balanced Accuracy', color='b', fontsize=16, fontweight='bold')\n",
    "    ax1.xaxis.set_tick_params(labelsize=14)\n",
    "    ax1.yaxis.set_tick_params(labelsize=14, labelcolor='b')\n",
    "    ax2 = ax1.twinx()\n",
    "    ax2.plot(thresh_arr, metric, color='r')\n",
    "    ax2.set_ylabel(metric_name, color='r', fontsize=16, fontweight='bold')\n",
    "    ax2.axvline(np.array(thresh_arr)[thresh_arr_best_ind], color='k', linestyle=':')\n",
    "    ax2.yaxis.set_tick_params(labelsize=14, labelcolor='r')\n",
    "    ax2.grid(True)"
   ]
  },
  {
   "cell_type": "code",
   "execution_count": 118,
   "metadata": {},
   "outputs": [],
   "source": [
    "df = data\n",
    "df['gender'] = data['sex'].replace(\"M\",\"male\").replace(\"F\",\"female\")\n",
    "df['found_job'] = data['hired_or_not'].replace(\"Y\",1).replace(\"N\",0)\n",
    "df['height_2'] = df['height']*df['height']\n",
    "df['height_2'] = df['height_2'] / 10000\n",
    "df['bmi'] = df['weight']/df['height_2']\n",
    "df['bmi'] = df['bmi'].round(1)\n",
    "df['age'] = df['apply_age']\n",
    "df = df.drop(['id','relabel_check','sex','hired_or_not','weight','height','height_2','apply_age'], axis=1)"
   ]
  },
  {
   "cell_type": "code",
   "execution_count": 119,
   "metadata": {},
   "outputs": [
    {
     "data": {
      "text/html": [
       "<div>\n",
       "<style scoped>\n",
       "    .dataframe tbody tr th:only-of-type {\n",
       "        vertical-align: middle;\n",
       "    }\n",
       "\n",
       "    .dataframe tbody tr th {\n",
       "        vertical-align: top;\n",
       "    }\n",
       "\n",
       "    .dataframe thead th {\n",
       "        text-align: right;\n",
       "    }\n",
       "</style>\n",
       "<table border=\"1\" class=\"dataframe\">\n",
       "  <thead>\n",
       "    <tr style=\"text-align: right;\">\n",
       "      <th></th>\n",
       "      <th>marriage</th>\n",
       "      <th>highest_education</th>\n",
       "      <th>highest_graduation</th>\n",
       "      <th>loan</th>\n",
       "      <th>loan_status</th>\n",
       "      <th>military_status</th>\n",
       "      <th>aboriginal</th>\n",
       "      <th>nationality</th>\n",
       "      <th>highest_school_level</th>\n",
       "      <th>english_level</th>\n",
       "      <th>gender</th>\n",
       "      <th>found_job</th>\n",
       "      <th>bmi</th>\n",
       "      <th>age</th>\n",
       "    </tr>\n",
       "  </thead>\n",
       "  <tbody>\n",
       "    <tr>\n",
       "      <td>0</td>\n",
       "      <td>N</td>\n",
       "      <td>B</td>\n",
       "      <td>Y</td>\n",
       "      <td>0</td>\n",
       "      <td>1</td>\n",
       "      <td>1</td>\n",
       "      <td>0</td>\n",
       "      <td>1</td>\n",
       "      <td>3</td>\n",
       "      <td>2.0</td>\n",
       "      <td>female</td>\n",
       "      <td>0</td>\n",
       "      <td>22.9</td>\n",
       "      <td>24</td>\n",
       "    </tr>\n",
       "    <tr>\n",
       "      <td>1</td>\n",
       "      <td>N</td>\n",
       "      <td>B</td>\n",
       "      <td>Y</td>\n",
       "      <td>1</td>\n",
       "      <td>1</td>\n",
       "      <td>1</td>\n",
       "      <td>0</td>\n",
       "      <td>1</td>\n",
       "      <td>2</td>\n",
       "      <td>2.0</td>\n",
       "      <td>female</td>\n",
       "      <td>0</td>\n",
       "      <td>20.8</td>\n",
       "      <td>28</td>\n",
       "    </tr>\n",
       "    <tr>\n",
       "      <td>2</td>\n",
       "      <td>N</td>\n",
       "      <td>B</td>\n",
       "      <td>Y</td>\n",
       "      <td>1</td>\n",
       "      <td>1</td>\n",
       "      <td>1</td>\n",
       "      <td>0</td>\n",
       "      <td>1</td>\n",
       "      <td>3</td>\n",
       "      <td>2.0</td>\n",
       "      <td>female</td>\n",
       "      <td>0</td>\n",
       "      <td>26.0</td>\n",
       "      <td>24</td>\n",
       "    </tr>\n",
       "    <tr>\n",
       "      <td>3</td>\n",
       "      <td>N</td>\n",
       "      <td>B</td>\n",
       "      <td>Y</td>\n",
       "      <td>0</td>\n",
       "      <td>1</td>\n",
       "      <td>1</td>\n",
       "      <td>0</td>\n",
       "      <td>1</td>\n",
       "      <td>5</td>\n",
       "      <td>2.0</td>\n",
       "      <td>female</td>\n",
       "      <td>0</td>\n",
       "      <td>17.7</td>\n",
       "      <td>21</td>\n",
       "    </tr>\n",
       "    <tr>\n",
       "      <td>4</td>\n",
       "      <td>N</td>\n",
       "      <td>B</td>\n",
       "      <td>I</td>\n",
       "      <td>0</td>\n",
       "      <td>1</td>\n",
       "      <td>1</td>\n",
       "      <td>0</td>\n",
       "      <td>1</td>\n",
       "      <td>6</td>\n",
       "      <td>3.0</td>\n",
       "      <td>female</td>\n",
       "      <td>0</td>\n",
       "      <td>18.7</td>\n",
       "      <td>22</td>\n",
       "    </tr>\n",
       "  </tbody>\n",
       "</table>\n",
       "</div>"
      ],
      "text/plain": [
       "  marriage highest_education highest_graduation  loan  loan_status  \\\n",
       "0        N                 B                  Y     0            1   \n",
       "1        N                 B                  Y     1            1   \n",
       "2        N                 B                  Y     1            1   \n",
       "3        N                 B                  Y     0            1   \n",
       "4        N                 B                  I     0            1   \n",
       "\n",
       "   military_status  aboriginal  nationality highest_school_level  \\\n",
       "0                1           0            1                    3   \n",
       "1                1           0            1                    2   \n",
       "2                1           0            1                    3   \n",
       "3                1           0            1                    5   \n",
       "4                1           0            1                    6   \n",
       "\n",
       "   english_level  gender  found_job   bmi  age  \n",
       "0            2.0  female          0  22.9   24  \n",
       "1            2.0  female          0  20.8   28  \n",
       "2            2.0  female          0  26.0   24  \n",
       "3            2.0  female          0  17.7   21  \n",
       "4            3.0  female          0  18.7   22  "
      ]
     },
     "execution_count": 119,
     "metadata": {},
     "output_type": "execute_result"
    }
   ],
   "source": [
    "df.head()"
   ]
  },
  {
   "cell_type": "markdown",
   "metadata": {},
   "source": [
    "# Convert to AIF360 format"
   ]
  },
  {
   "cell_type": "code",
   "execution_count": 120,
   "metadata": {},
   "outputs": [
    {
     "data": {
      "text/html": [
       "<div>\n",
       "<style scoped>\n",
       "    .dataframe tbody tr th:only-of-type {\n",
       "        vertical-align: middle;\n",
       "    }\n",
       "\n",
       "    .dataframe tbody tr th {\n",
       "        vertical-align: top;\n",
       "    }\n",
       "\n",
       "    .dataframe thead th {\n",
       "        text-align: right;\n",
       "    }\n",
       "</style>\n",
       "<table border=\"1\" class=\"dataframe\">\n",
       "  <thead>\n",
       "    <tr style=\"text-align: right;\">\n",
       "      <th></th>\n",
       "      <th>found_job</th>\n",
       "      <th>age</th>\n",
       "      <th>loan</th>\n",
       "      <th>loan_status</th>\n",
       "      <th>military_status</th>\n",
       "      <th>aboriginal</th>\n",
       "      <th>nationality</th>\n",
       "      <th>english_level</th>\n",
       "      <th>bmi</th>\n",
       "      <th>marriage</th>\n",
       "      <th>...</th>\n",
       "      <th>highest_graduation_D</th>\n",
       "      <th>highest_graduation_I</th>\n",
       "      <th>highest_graduation_Y</th>\n",
       "      <th>highest_school_level_1</th>\n",
       "      <th>highest_school_level_2</th>\n",
       "      <th>highest_school_level_3</th>\n",
       "      <th>highest_school_level_4</th>\n",
       "      <th>highest_school_level_5</th>\n",
       "      <th>highest_school_level_6</th>\n",
       "      <th>highest_school_level_7</th>\n",
       "    </tr>\n",
       "  </thead>\n",
       "  <tbody>\n",
       "    <tr>\n",
       "      <td>0</td>\n",
       "      <td>0</td>\n",
       "      <td>24</td>\n",
       "      <td>0</td>\n",
       "      <td>1</td>\n",
       "      <td>1</td>\n",
       "      <td>0</td>\n",
       "      <td>1</td>\n",
       "      <td>2.0</td>\n",
       "      <td>22.9</td>\n",
       "      <td>N</td>\n",
       "      <td>...</td>\n",
       "      <td>0</td>\n",
       "      <td>0</td>\n",
       "      <td>1</td>\n",
       "      <td>0</td>\n",
       "      <td>0</td>\n",
       "      <td>1</td>\n",
       "      <td>0</td>\n",
       "      <td>0</td>\n",
       "      <td>0</td>\n",
       "      <td>0</td>\n",
       "    </tr>\n",
       "    <tr>\n",
       "      <td>1</td>\n",
       "      <td>0</td>\n",
       "      <td>28</td>\n",
       "      <td>1</td>\n",
       "      <td>1</td>\n",
       "      <td>1</td>\n",
       "      <td>0</td>\n",
       "      <td>1</td>\n",
       "      <td>2.0</td>\n",
       "      <td>20.8</td>\n",
       "      <td>N</td>\n",
       "      <td>...</td>\n",
       "      <td>0</td>\n",
       "      <td>0</td>\n",
       "      <td>1</td>\n",
       "      <td>0</td>\n",
       "      <td>1</td>\n",
       "      <td>0</td>\n",
       "      <td>0</td>\n",
       "      <td>0</td>\n",
       "      <td>0</td>\n",
       "      <td>0</td>\n",
       "    </tr>\n",
       "    <tr>\n",
       "      <td>2</td>\n",
       "      <td>0</td>\n",
       "      <td>24</td>\n",
       "      <td>1</td>\n",
       "      <td>1</td>\n",
       "      <td>1</td>\n",
       "      <td>0</td>\n",
       "      <td>1</td>\n",
       "      <td>2.0</td>\n",
       "      <td>26.0</td>\n",
       "      <td>N</td>\n",
       "      <td>...</td>\n",
       "      <td>0</td>\n",
       "      <td>0</td>\n",
       "      <td>1</td>\n",
       "      <td>0</td>\n",
       "      <td>0</td>\n",
       "      <td>1</td>\n",
       "      <td>0</td>\n",
       "      <td>0</td>\n",
       "      <td>0</td>\n",
       "      <td>0</td>\n",
       "    </tr>\n",
       "    <tr>\n",
       "      <td>3</td>\n",
       "      <td>0</td>\n",
       "      <td>21</td>\n",
       "      <td>0</td>\n",
       "      <td>1</td>\n",
       "      <td>1</td>\n",
       "      <td>0</td>\n",
       "      <td>1</td>\n",
       "      <td>2.0</td>\n",
       "      <td>17.7</td>\n",
       "      <td>N</td>\n",
       "      <td>...</td>\n",
       "      <td>0</td>\n",
       "      <td>0</td>\n",
       "      <td>1</td>\n",
       "      <td>0</td>\n",
       "      <td>0</td>\n",
       "      <td>0</td>\n",
       "      <td>0</td>\n",
       "      <td>1</td>\n",
       "      <td>0</td>\n",
       "      <td>0</td>\n",
       "    </tr>\n",
       "    <tr>\n",
       "      <td>4</td>\n",
       "      <td>0</td>\n",
       "      <td>22</td>\n",
       "      <td>0</td>\n",
       "      <td>1</td>\n",
       "      <td>1</td>\n",
       "      <td>0</td>\n",
       "      <td>1</td>\n",
       "      <td>3.0</td>\n",
       "      <td>18.7</td>\n",
       "      <td>N</td>\n",
       "      <td>...</td>\n",
       "      <td>0</td>\n",
       "      <td>1</td>\n",
       "      <td>0</td>\n",
       "      <td>0</td>\n",
       "      <td>0</td>\n",
       "      <td>0</td>\n",
       "      <td>0</td>\n",
       "      <td>0</td>\n",
       "      <td>1</td>\n",
       "      <td>0</td>\n",
       "    </tr>\n",
       "  </tbody>\n",
       "</table>\n",
       "<p>5 rows × 25 columns</p>\n",
       "</div>"
      ],
      "text/plain": [
       "   found_job  age  loan  loan_status  military_status  aboriginal  \\\n",
       "0          0   24     0            1                1           0   \n",
       "1          0   28     1            1                1           0   \n",
       "2          0   24     1            1                1           0   \n",
       "3          0   21     0            1                1           0   \n",
       "4          0   22     0            1                1           0   \n",
       "\n",
       "   nationality  english_level   bmi marriage  ...  highest_graduation_D  \\\n",
       "0            1            2.0  22.9        N  ...                     0   \n",
       "1            1            2.0  20.8        N  ...                     0   \n",
       "2            1            2.0  26.0        N  ...                     0   \n",
       "3            1            2.0  17.7        N  ...                     0   \n",
       "4            1            3.0  18.7        N  ...                     0   \n",
       "\n",
       "   highest_graduation_I  highest_graduation_Y  highest_school_level_1  \\\n",
       "0                     0                     1                       0   \n",
       "1                     0                     1                       0   \n",
       "2                     0                     1                       0   \n",
       "3                     0                     1                       0   \n",
       "4                     1                     0                       0   \n",
       "\n",
       "   highest_school_level_2  highest_school_level_3  highest_school_level_4  \\\n",
       "0                       0                       1                       0   \n",
       "1                       1                       0                       0   \n",
       "2                       0                       1                       0   \n",
       "3                       0                       0                       0   \n",
       "4                       0                       0                       0   \n",
       "\n",
       "   highest_school_level_5  highest_school_level_6  highest_school_level_7  \n",
       "0                       0                       0                       0  \n",
       "1                       0                       0                       0  \n",
       "2                       0                       0                       0  \n",
       "3                       1                       0                       0  \n",
       "4                       0                       1                       0  \n",
       "\n",
       "[5 rows x 25 columns]"
      ]
     },
     "execution_count": 120,
     "metadata": {},
     "output_type": "execute_result"
    }
   ],
   "source": [
    "df_onehot = pd.concat([df[['found_job', 'age', 'loan', 'loan_status', 'military_status', 'aboriginal', 'nationality', 'english_level', 'bmi', 'marriage']], \n",
    "                        pd.get_dummies(df[['gender', 'highest_education', 'highest_graduation', 'highest_school_level']])], axis=1)\n",
    "df_onehot.head()"
   ]
  },
  {
   "cell_type": "code",
   "execution_count": 121,
   "metadata": {},
   "outputs": [
    {
     "name": "stdout",
     "output_type": "stream",
     "text": [
      "<class 'pandas.core.frame.DataFrame'>\n",
      "Int64Index: 1188 entries, 0 to 1201\n",
      "Data columns (total 25 columns):\n",
      "found_job                 1188 non-null int64\n",
      "age                       1188 non-null int64\n",
      "loan                      1188 non-null int64\n",
      "loan_status               1188 non-null int64\n",
      "military_status           1188 non-null int64\n",
      "aboriginal                1188 non-null int64\n",
      "nationality               1188 non-null int64\n",
      "english_level             1188 non-null float64\n",
      "bmi                       1188 non-null float64\n",
      "marriage                  1188 non-null object\n",
      "gender_female             1188 non-null uint8\n",
      "gender_male               1188 non-null uint8\n",
      "highest_education_B       1188 non-null uint8\n",
      "highest_education_D       1188 non-null uint8\n",
      "highest_education_M       1188 non-null uint8\n",
      "highest_graduation_D      1188 non-null uint8\n",
      "highest_graduation_I      1188 non-null uint8\n",
      "highest_graduation_Y      1188 non-null uint8\n",
      "highest_school_level_1    1188 non-null uint8\n",
      "highest_school_level_2    1188 non-null uint8\n",
      "highest_school_level_3    1188 non-null uint8\n",
      "highest_school_level_4    1188 non-null uint8\n",
      "highest_school_level_5    1188 non-null uint8\n",
      "highest_school_level_6    1188 non-null uint8\n",
      "highest_school_level_7    1188 non-null uint8\n",
      "dtypes: float64(2), int64(7), object(1), uint8(15)\n",
      "memory usage: 159.5+ KB\n"
     ]
    }
   ],
   "source": [
    "df_onehot.info()"
   ]
  },
  {
   "cell_type": "code",
   "execution_count": 98,
   "metadata": {},
   "outputs": [],
   "source": [
    "df_aif = BinaryLabelDataset(df=df_onehot.drop('gender_male', axis=1), label_names=['found_job'], protected_attribute_names=['gender_female'])"
   ]
  },
  {
   "cell_type": "code",
   "execution_count": 99,
   "metadata": {},
   "outputs": [],
   "source": [
    "privileged_group = [{'gender_female': 0}]\n",
    "unprivileged_group = [{'gender_female': 1}]"
   ]
  },
  {
   "cell_type": "code",
   "execution_count": 100,
   "metadata": {},
   "outputs": [
    {
     "name": "stdout",
     "output_type": "stream",
     "text": [
      "[(594, 24), (356, 24), (238, 24)]\n"
     ]
    }
   ],
   "source": [
    "df_orig_trn, df_orig_val, df_orig_tst = df_aif.split([0.5, 0.8], shuffle=True)\n",
    "print([x.features.shape for x in [df_orig_trn, df_orig_val, df_orig_tst]])"
   ]
  },
  {
   "cell_type": "markdown",
   "metadata": {},
   "source": [
    "# Original dataset"
   ]
  },
  {
   "cell_type": "code",
   "execution_count": 101,
   "metadata": {},
   "outputs": [
    {
     "name": "stdout",
     "output_type": "stream",
     "text": [
      "1-min(DI, 1/DI): 0.244\n"
     ]
    }
   ],
   "source": [
    "metric_orig_trn = BinaryLabelDatasetMetric(df_orig_trn, unprivileged_group, privileged_group)\n",
    "print('1-min(DI, 1/DI):', get_disparity_index(metric_orig_trn.disparate_impact()).round(3))"
   ]
  },
  {
   "cell_type": "markdown",
   "metadata": {},
   "source": [
    "# Train model on original dataset"
   ]
  },
  {
   "cell_type": "code",
   "execution_count": 102,
   "metadata": {},
   "outputs": [],
   "source": [
    "lr_orig, lr_scale_orig = train_lr_model(df_orig_trn)"
   ]
  },
  {
   "cell_type": "markdown",
   "metadata": {},
   "source": [
    "# Find cutoff threshold using original validation dataset"
   ]
  },
  {
   "cell_type": "code",
   "execution_count": 103,
   "metadata": {},
   "outputs": [],
   "source": [
    "thresh_arr = np.linspace(0.01, 0.5, 100)"
   ]
  },
  {
   "cell_type": "code",
   "execution_count": 104,
   "metadata": {},
   "outputs": [],
   "source": [
    "y_validate_pred_prob_orig = get_y_pred_prob_lr(scale=lr_scale_orig, model=lr_orig, dataset=df_orig_val)"
   ]
  },
  {
   "cell_type": "code",
   "execution_count": 105,
   "metadata": {},
   "outputs": [
    {
     "name": "stderr",
     "output_type": "stream",
     "text": [
      "100%|██████████| 100/100 [00:00<00:00, 1431.80it/s]\n"
     ]
    }
   ],
   "source": [
    "acc_metrics_orig, bal_acc_arr_orig, disp_imp_arr_orig, dataset_pred_labels_orig = \\\n",
    "get_best_bal_acc_cutoff(y_pred_prob=y_validate_pred_prob_orig, dataset=df_orig_val)"
   ]
  },
  {
   "cell_type": "code",
   "execution_count": 106,
   "metadata": {},
   "outputs": [
    {
     "name": "stdout",
     "output_type": "stream",
     "text": [
      "Threshold corresponding to best balanced accuracy: 0.059\n",
      "Best balanced accuracy: 0.583\n",
      "1-min(DI, 1/DI): 0.1\n"
     ]
    }
   ],
   "source": [
    "print('Threshold corresponding to best balanced accuracy:', acc_metrics_orig.loc['thresh_arr_best', 0].round(3))\n",
    "print('Best balanced accuracy:', acc_metrics_orig.loc['best_bal_acc', 0].round(3))\n",
    "print('1-min(DI, 1/DI):', get_disparity_index(acc_metrics_orig.loc['disp_imp_at_best_bal_acc', 0]).round(3))"
   ]
  },
  {
   "cell_type": "code",
   "execution_count": 107,
   "metadata": {},
   "outputs": [
    {
     "data": {
      "image/png": "[encoded data removed]",
      "text/plain": [
       "<Figure size 720x504 with 2 Axes>"
      ]
     },
     "metadata": {
      "needs_background": "light"
     },
     "output_type": "display_data"
    }
   ],
   "source": [
    "plot_acc_vs_fairness(get_disparity_index(np.array(disp_imp_arr_orig)), \\\n",
    "  '1-min(DI, 1/DI)', bal_acc_arr_orig, \\\n",
    "  acc_metrics_orig.loc['thresh_arr_best_ind', 0].astype(int))"
   ]
  },
  {
   "cell_type": "markdown",
   "metadata": {},
   "source": [
    "# Test model on original dataset"
   ]
  },
  {
   "cell_type": "code",
   "execution_count": 108,
   "metadata": {},
   "outputs": [],
   "source": [
    "y_test_pred_prob_orig = get_y_pred_prob_lr(scale=lr_scale_orig, model=lr_orig, dataset=df_orig_tst)\n",
    "\n",
    "dataset_pred_labels_orig, classified_metric_orig, metric_pred_orig = test_lr_model(\\\n",
    "  y_data_pred_prob=y_test_pred_prob_orig, dataset=df_orig_tst,\\\n",
    "  thresh_arr=acc_metrics_orig.loc['thresh_arr_best', 0])"
   ]
  },
  {
   "cell_type": "code",
   "execution_count": 109,
   "metadata": {},
   "outputs": [
    {
     "name": "stdout",
     "output_type": "stream",
     "text": [
      "Threshold corresponding to best balanced accuracy: 0.059\n",
      "Best balanced accuracy: 0.647\n",
      "1-min(DI, 1/DI): 0.171\n"
     ]
    }
   ],
   "source": [
    "print('Threshold corresponding to best balanced accuracy:', acc_metrics_orig.loc['thresh_arr_best', 0].round(3))\n",
    "print('Best balanced accuracy:', get_bal_acc(classified_metric_orig).round(3))\n",
    "print('1-min(DI, 1/DI):', get_disparity_index(metric_pred_orig.disparate_impact()).round(3))"
   ]
  },
  {
   "cell_type": "markdown",
   "metadata": {},
   "source": [
    "# Bias mitigation"
   ]
  },
  {
   "cell_type": "code",
   "execution_count": 110,
   "metadata": {},
   "outputs": [],
   "source": [
    "RW = Reweighing(unprivileged_group, privileged_group)\n",
    "df_transf_trn = RW.fit_transform(df_orig_trn)"
   ]
  },
  {
   "cell_type": "code",
   "execution_count": 111,
   "metadata": {},
   "outputs": [
    {
     "name": "stdout",
     "output_type": "stream",
     "text": [
      "1-min(DI, 1/DI): 0.0\n"
     ]
    }
   ],
   "source": [
    "metric_transf_trn = BinaryLabelDatasetMetric(df_transf_trn, unprivileged_group, privileged_group)\n",
    "print('1-min(DI, 1/DI):', get_disparity_index(metric_transf_trn.disparate_impact()).round(3)) "
   ]
  },
  {
   "cell_type": "code",
   "execution_count": 112,
   "metadata": {},
   "outputs": [],
   "source": [
    "lr_transf, lr_scale_transf = train_lr_model(df_transf_trn)"
   ]
  },
  {
   "cell_type": "code",
   "execution_count": 113,
   "metadata": {},
   "outputs": [],
   "source": [
    "y_validate_pred_prob_transf = get_y_pred_prob_lr(scale=lr_scale_transf, model=lr_transf, dataset=df_orig_val)"
   ]
  },
  {
   "cell_type": "code",
   "execution_count": 114,
   "metadata": {},
   "outputs": [
    {
     "name": "stderr",
     "output_type": "stream",
     "text": [
      "100%|██████████| 100/100 [00:00<00:00, 432.14it/s]\n"
     ]
    }
   ],
   "source": [
    "acc_metrics_transf, bal_acc_arr_transf, disp_imp_arr_transf, dataset_pred_labels_transf = \\\n",
    "get_best_bal_acc_cutoff(y_pred_prob=y_validate_pred_prob_transf, dataset=df_orig_val)"
   ]
  },
  {
   "cell_type": "code",
   "execution_count": 115,
   "metadata": {},
   "outputs": [
    {
     "name": "stdout",
     "output_type": "stream",
     "text": [
      "Threshold corresponding to best balanced accuracy: 0.069\n",
      "Best balanced accuracy: 0.618\n",
      "1-min(DI, 1/DI): 0.085\n"
     ]
    }
   ],
   "source": [
    "print('Threshold corresponding to best balanced accuracy:', acc_metrics_transf.loc['thresh_arr_best', 0].round(3))\n",
    "print('Best balanced accuracy:', acc_metrics_transf.loc['best_bal_acc', 0].round(3))\n",
    "print('1-min(DI, 1/DI):', get_disparity_index(acc_metrics_transf.loc['disp_imp_at_best_bal_acc', 0]).round(3))"
   ]
  },
  {
   "cell_type": "code",
   "execution_count": 116,
   "metadata": {},
   "outputs": [
    {
     "data": {
      "image/png": "[encoded data removed]",
      "text/plain": [
       "<Figure size 720x504 with 2 Axes>"
      ]
     },
     "metadata": {
      "needs_background": "light"
     },
     "output_type": "display_data"
    }
   ],
   "source": [
    "plot_acc_vs_fairness(get_disparity_index(np.array(disp_imp_arr_transf)), \\\n",
    "  '1-min(DI, 1/DI)', bal_acc_arr_transf, \\\n",
    "  acc_metrics_orig.loc['thresh_arr_best_ind', 0].astype(int))"
   ]
  },
  {
   "cell_type": "code",
   "execution_count": 129,
   "metadata": {},
   "outputs": [
    {
     "data": {
      "text/html": [
       "<div>\n",
       "<style scoped>\n",
       "    .dataframe tbody tr th:only-of-type {\n",
       "        vertical-align: middle;\n",
       "    }\n",
       "\n",
       "    .dataframe tbody tr th {\n",
       "        vertical-align: top;\n",
       "    }\n",
       "\n",
       "    .dataframe thead th {\n",
       "        text-align: right;\n",
       "    }\n",
       "</style>\n",
       "<table border=\"1\" class=\"dataframe\">\n",
       "  <thead>\n",
       "    <tr style=\"text-align: right;\">\n",
       "      <th></th>\n",
       "      <th>found_job</th>\n",
       "      <th>age</th>\n",
       "      <th>loan</th>\n",
       "      <th>loan_status</th>\n",
       "      <th>military_status</th>\n",
       "      <th>aboriginal</th>\n",
       "      <th>nationality</th>\n",
       "      <th>english_level</th>\n",
       "      <th>bmi</th>\n",
       "      <th>highest_education_B</th>\n",
       "      <th>...</th>\n",
       "      <th>highest_graduation_Y</th>\n",
       "      <th>highest_school_level_1</th>\n",
       "      <th>highest_school_level_2</th>\n",
       "      <th>highest_school_level_3</th>\n",
       "      <th>highest_school_level_4</th>\n",
       "      <th>highest_school_level_5</th>\n",
       "      <th>highest_school_level_6</th>\n",
       "      <th>highest_school_level_7</th>\n",
       "      <th>marriage_N</th>\n",
       "      <th>marriage_Y</th>\n",
       "    </tr>\n",
       "  </thead>\n",
       "  <tbody>\n",
       "    <tr>\n",
       "      <td>0</td>\n",
       "      <td>0</td>\n",
       "      <td>24</td>\n",
       "      <td>0</td>\n",
       "      <td>1</td>\n",
       "      <td>1</td>\n",
       "      <td>0</td>\n",
       "      <td>1</td>\n",
       "      <td>2.0</td>\n",
       "      <td>22.9</td>\n",
       "      <td>1</td>\n",
       "      <td>...</td>\n",
       "      <td>1</td>\n",
       "      <td>0</td>\n",
       "      <td>0</td>\n",
       "      <td>1</td>\n",
       "      <td>0</td>\n",
       "      <td>0</td>\n",
       "      <td>0</td>\n",
       "      <td>0</td>\n",
       "      <td>1</td>\n",
       "      <td>0</td>\n",
       "    </tr>\n",
       "    <tr>\n",
       "      <td>1</td>\n",
       "      <td>0</td>\n",
       "      <td>28</td>\n",
       "      <td>1</td>\n",
       "      <td>1</td>\n",
       "      <td>1</td>\n",
       "      <td>0</td>\n",
       "      <td>1</td>\n",
       "      <td>2.0</td>\n",
       "      <td>20.8</td>\n",
       "      <td>1</td>\n",
       "      <td>...</td>\n",
       "      <td>1</td>\n",
       "      <td>0</td>\n",
       "      <td>1</td>\n",
       "      <td>0</td>\n",
       "      <td>0</td>\n",
       "      <td>0</td>\n",
       "      <td>0</td>\n",
       "      <td>0</td>\n",
       "      <td>1</td>\n",
       "      <td>0</td>\n",
       "    </tr>\n",
       "    <tr>\n",
       "      <td>2</td>\n",
       "      <td>0</td>\n",
       "      <td>24</td>\n",
       "      <td>1</td>\n",
       "      <td>1</td>\n",
       "      <td>1</td>\n",
       "      <td>0</td>\n",
       "      <td>1</td>\n",
       "      <td>2.0</td>\n",
       "      <td>26.0</td>\n",
       "      <td>1</td>\n",
       "      <td>...</td>\n",
       "      <td>1</td>\n",
       "      <td>0</td>\n",
       "      <td>0</td>\n",
       "      <td>1</td>\n",
       "      <td>0</td>\n",
       "      <td>0</td>\n",
       "      <td>0</td>\n",
       "      <td>0</td>\n",
       "      <td>1</td>\n",
       "      <td>0</td>\n",
       "    </tr>\n",
       "    <tr>\n",
       "      <td>3</td>\n",
       "      <td>0</td>\n",
       "      <td>21</td>\n",
       "      <td>0</td>\n",
       "      <td>1</td>\n",
       "      <td>1</td>\n",
       "      <td>0</td>\n",
       "      <td>1</td>\n",
       "      <td>2.0</td>\n",
       "      <td>17.7</td>\n",
       "      <td>1</td>\n",
       "      <td>...</td>\n",
       "      <td>1</td>\n",
       "      <td>0</td>\n",
       "      <td>0</td>\n",
       "      <td>0</td>\n",
       "      <td>0</td>\n",
       "      <td>1</td>\n",
       "      <td>0</td>\n",
       "      <td>0</td>\n",
       "      <td>1</td>\n",
       "      <td>0</td>\n",
       "    </tr>\n",
       "    <tr>\n",
       "      <td>4</td>\n",
       "      <td>0</td>\n",
       "      <td>22</td>\n",
       "      <td>0</td>\n",
       "      <td>1</td>\n",
       "      <td>1</td>\n",
       "      <td>0</td>\n",
       "      <td>1</td>\n",
       "      <td>3.0</td>\n",
       "      <td>18.7</td>\n",
       "      <td>1</td>\n",
       "      <td>...</td>\n",
       "      <td>0</td>\n",
       "      <td>0</td>\n",
       "      <td>0</td>\n",
       "      <td>0</td>\n",
       "      <td>0</td>\n",
       "      <td>0</td>\n",
       "      <td>1</td>\n",
       "      <td>0</td>\n",
       "      <td>1</td>\n",
       "      <td>0</td>\n",
       "    </tr>\n",
       "  </tbody>\n",
       "</table>\n",
       "<p>5 rows × 24 columns</p>\n",
       "</div>"
      ],
      "text/plain": [
       "   found_job  age  loan  loan_status  military_status  aboriginal  \\\n",
       "0          0   24     0            1                1           0   \n",
       "1          0   28     1            1                1           0   \n",
       "2          0   24     1            1                1           0   \n",
       "3          0   21     0            1                1           0   \n",
       "4          0   22     0            1                1           0   \n",
       "\n",
       "   nationality  english_level   bmi  highest_education_B  ...  \\\n",
       "0            1            2.0  22.9                    1  ...   \n",
       "1            1            2.0  20.8                    1  ...   \n",
       "2            1            2.0  26.0                    1  ...   \n",
       "3            1            2.0  17.7                    1  ...   \n",
       "4            1            3.0  18.7                    1  ...   \n",
       "\n",
       "   highest_graduation_Y  highest_school_level_1  highest_school_level_2  \\\n",
       "0                     1                       0                       0   \n",
       "1                     1                       0                       1   \n",
       "2                     1                       0                       0   \n",
       "3                     1                       0                       0   \n",
       "4                     0                       0                       0   \n",
       "\n",
       "   highest_school_level_3  highest_school_level_4  highest_school_level_5  \\\n",
       "0                       1                       0                       0   \n",
       "1                       0                       0                       0   \n",
       "2                       1                       0                       0   \n",
       "3                       0                       0                       1   \n",
       "4                       0                       0                       0   \n",
       "\n",
       "   highest_school_level_6  highest_school_level_7  marriage_N  marriage_Y  \n",
       "0                       0                       0           1           0  \n",
       "1                       0                       0           1           0  \n",
       "2                       0                       0           1           0  \n",
       "3                       0                       0           1           0  \n",
       "4                       1                       0           1           0  \n",
       "\n",
       "[5 rows x 24 columns]"
      ]
     },
     "execution_count": 129,
     "metadata": {},
     "output_type": "execute_result"
    }
   ],
   "source": [
    "# 僅女性做婚姻狀態檢查\n",
    "df_female = df[df['gender']=='female']\n",
    "df_female = df_female.drop('gender', axis=1)\n",
    "df_onehot = pd.concat([df[['found_job', 'age', 'loan', 'loan_status', 'military_status', 'aboriginal', 'nationality', 'english_level', 'bmi']], \n",
    "                        pd.get_dummies(df[['highest_education', 'highest_graduation', 'highest_school_level', 'marriage']])], axis=1)\n",
    "df_onehot.head()"
   ]
  },
  {
   "cell_type": "code",
   "execution_count": 149,
   "metadata": {},
   "outputs": [],
   "source": [
    "df_aif = BinaryLabelDataset(df=df_onehot.drop('marriage_N', axis=1), label_names=['found_job'], protected_attribute_names=['marriage_Y'])"
   ]
  },
  {
   "cell_type": "code",
   "execution_count": 150,
   "metadata": {},
   "outputs": [],
   "source": [
    "privileged_group = [{'marriage_Y': 0}]\n",
    "unprivileged_group = [{'marriage_Y': 1}]"
   ]
  },
  {
   "cell_type": "code",
   "execution_count": 151,
   "metadata": {},
   "outputs": [
    {
     "name": "stdout",
     "output_type": "stream",
     "text": [
      "[(594, 22), (356, 22), (238, 22)]\n"
     ]
    }
   ],
   "source": [
    "df_orig_trn, df_orig_val, df_orig_tst = df_aif.split([0.5, 0.8], shuffle=True)\n",
    "print([x.features.shape for x in [df_orig_trn, df_orig_val, df_orig_tst]])"
   ]
  },
  {
   "cell_type": "code",
   "execution_count": 152,
   "metadata": {},
   "outputs": [
    {
     "name": "stdout",
     "output_type": "stream",
     "text": [
      "1-min(DI, 1/DI): 0.428\n"
     ]
    }
   ],
   "source": [
    "metric_orig_trn = BinaryLabelDatasetMetric(df_orig_trn, unprivileged_group, privileged_group)\n",
    "print('1-min(DI, 1/DI):', get_disparity_index(metric_orig_trn.disparate_impact()).round(3))"
   ]
  },
  {
   "cell_type": "code",
   "execution_count": 153,
   "metadata": {},
   "outputs": [],
   "source": [
    "lr_orig, lr_scale_orig = train_lr_model(df_orig_trn)"
   ]
  },
  {
   "cell_type": "code",
   "execution_count": 154,
   "metadata": {},
   "outputs": [],
   "source": [
    "thresh_arr = np.linspace(0.01, 0.5, 100)"
   ]
  },
  {
   "cell_type": "code",
   "execution_count": 155,
   "metadata": {},
   "outputs": [],
   "source": [
    "y_validate_pred_prob_orig = get_y_pred_prob_lr(scale=lr_scale_orig, model=lr_orig, dataset=df_orig_val)"
   ]
  },
  {
   "cell_type": "code",
   "execution_count": 156,
   "metadata": {},
   "outputs": [
    {
     "name": "stderr",
     "output_type": "stream",
     "text": [
      "100%|██████████| 100/100 [00:00<00:00, 1411.64it/s]\n"
     ]
    }
   ],
   "source": [
    "acc_metrics_orig, bal_acc_arr_orig, disp_imp_arr_orig, dataset_pred_labels_orig = \\\n",
    "get_best_bal_acc_cutoff(y_pred_prob=y_validate_pred_prob_orig, dataset=df_orig_val)"
   ]
  },
  {
   "cell_type": "code",
   "execution_count": 157,
   "metadata": {},
   "outputs": [
    {
     "name": "stdout",
     "output_type": "stream",
     "text": [
      "Threshold corresponding to best balanced accuracy: 0.059\n",
      "Best balanced accuracy: 0.528\n",
      "1-min(DI, 1/DI): 0.558\n"
     ]
    }
   ],
   "source": [
    "print('Threshold corresponding to best balanced accuracy:', acc_metrics_orig.loc['thresh_arr_best', 0].round(3))\n",
    "print('Best balanced accuracy:', acc_metrics_orig.loc['best_bal_acc', 0].round(3))\n",
    "print('1-min(DI, 1/DI):', get_disparity_index(acc_metrics_orig.loc['disp_imp_at_best_bal_acc', 0]).round(3))"
   ]
  },
  {
   "cell_type": "code",
   "execution_count": 158,
   "metadata": {},
   "outputs": [
    {
     "data": {
      "image/png": "[encoded data removed]",
      "text/plain": [
       "<Figure size 720x504 with 2 Axes>"
      ]
     },
     "metadata": {
      "needs_background": "light"
     },
     "output_type": "display_data"
    }
   ],
   "source": [
    "plot_acc_vs_fairness(get_disparity_index(np.array(disp_imp_arr_orig)), \\\n",
    "  '1-min(DI, 1/DI)', bal_acc_arr_orig, \\\n",
    "  acc_metrics_orig.loc['thresh_arr_best_ind', 0].astype(int))"
   ]
  },
  {
   "cell_type": "code",
   "execution_count": 159,
   "metadata": {},
   "outputs": [],
   "source": [
    "y_test_pred_prob_orig = get_y_pred_prob_lr(scale=lr_scale_orig, model=lr_orig, dataset=df_orig_tst)\n",
    "\n",
    "dataset_pred_labels_orig, classified_metric_orig, metric_pred_orig = test_lr_model(\\\n",
    "  y_data_pred_prob=y_test_pred_prob_orig, dataset=df_orig_tst,\\\n",
    "  thresh_arr=acc_metrics_orig.loc['thresh_arr_best', 0])"
   ]
  },
  {
   "cell_type": "code",
   "execution_count": 160,
   "metadata": {},
   "outputs": [
    {
     "name": "stdout",
     "output_type": "stream",
     "text": [
      "Threshold corresponding to best balanced accuracy: 0.059\n",
      "Best balanced accuracy: 0.544\n",
      "1-min(DI, 1/DI): 0.657\n"
     ]
    }
   ],
   "source": [
    "print('Threshold corresponding to best balanced accuracy:', acc_metrics_orig.loc['thresh_arr_best', 0].round(3))\n",
    "print('Best balanced accuracy:', get_bal_acc(classified_metric_orig).round(3))\n",
    "print('1-min(DI, 1/DI):', get_disparity_index(metric_pred_orig.disparate_impact()).round(3))"
   ]
  },
  {
   "cell_type": "code",
   "execution_count": 142,
   "metadata": {},
   "outputs": [],
   "source": [
    "RW = Reweighing(unprivileged_group, privileged_group)\n",
    "df_transf_trn = RW.fit_transform(df_orig_trn)"
   ]
  },
  {
   "cell_type": "code",
   "execution_count": 143,
   "metadata": {},
   "outputs": [
    {
     "name": "stdout",
     "output_type": "stream",
     "text": [
      "1-min(DI, 1/DI): 0.0\n"
     ]
    }
   ],
   "source": [
    "metric_transf_trn = BinaryLabelDatasetMetric(df_transf_trn, unprivileged_group, privileged_group)\n",
    "print('1-min(DI, 1/DI):', get_disparity_index(metric_transf_trn.disparate_impact()).round(3)) "
   ]
  },
  {
   "cell_type": "code",
   "execution_count": 144,
   "metadata": {},
   "outputs": [],
   "source": [
    "lr_transf, lr_scale_transf = train_lr_model(df_transf_trn)"
   ]
  },
  {
   "cell_type": "code",
   "execution_count": 145,
   "metadata": {},
   "outputs": [],
   "source": [
    "y_validate_pred_prob_transf = get_y_pred_prob_lr(scale=lr_scale_transf, model=lr_transf, dataset=df_orig_val)"
   ]
  },
  {
   "cell_type": "code",
   "execution_count": 146,
   "metadata": {},
   "outputs": [
    {
     "name": "stderr",
     "output_type": "stream",
     "text": [
      "100%|██████████| 100/100 [00:00<00:00, 1495.92it/s]\n"
     ]
    }
   ],
   "source": [
    "acc_metrics_transf, bal_acc_arr_transf, disp_imp_arr_transf, dataset_pred_labels_transf = \\\n",
    "get_best_bal_acc_cutoff(y_pred_prob=y_validate_pred_prob_transf, dataset=df_orig_val)"
   ]
  },
  {
   "cell_type": "code",
   "execution_count": 147,
   "metadata": {},
   "outputs": [
    {
     "name": "stdout",
     "output_type": "stream",
     "text": [
      "Threshold corresponding to best balanced accuracy: 0.124\n",
      "Best balanced accuracy: 0.591\n",
      "1-min(DI, 1/DI): 0.29\n"
     ]
    }
   ],
   "source": [
    "print('Threshold corresponding to best balanced accuracy:', acc_metrics_transf.loc['thresh_arr_best', 0].round(3))\n",
    "print('Best balanced accuracy:', acc_metrics_transf.loc['best_bal_acc', 0].round(3))\n",
    "print('1-min(DI, 1/DI):', get_disparity_index(acc_metrics_transf.loc['disp_imp_at_best_bal_acc', 0]).round(3))"
   ]
  },
  {
   "cell_type": "code",
   "execution_count": 148,
   "metadata": {},
   "outputs": [
    {
     "data": {
      "image/png": "[encoded data removed]",
      "text/plain": [
       "<Figure size 720x504 with 2 Axes>"
      ]
     },
     "metadata": {
      "needs_background": "light"
     },
     "output_type": "display_data"
    }
   ],
   "source": [
    "plot_acc_vs_fairness(get_disparity_index(np.array(disp_imp_arr_transf)), \\\n",
    "  '1-min(DI, 1/DI)', bal_acc_arr_transf, \\\n",
    "  acc_metrics_orig.loc['thresh_arr_best_ind', 0].astype(int))"
   ]
  },
  {
   "cell_type": "code",
   "execution_count": null,
   "metadata": {},
   "outputs": [],
   "source": []
  }
 ],
 "metadata": {
  "kernelspec": {
   "display_name": "Python 3",
   "language": "python",
   "name": "python3"
  },
  "language_info": {
   "codemirror_mode": {
    "name": "ipython",
    "version": 3
   },
   "file_extension": ".py",
   "mimetype": "text/x-python",
   "name": "python",
   "nbconvert_exporter": "python",
   "pygments_lexer": "ipython3",
   "version": "3.7.4"
  }
 },
 "nbformat": 4,
 "nbformat_minor": 2
}
