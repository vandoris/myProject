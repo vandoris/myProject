{
 "cells": [
  {
   "cell_type": "code",
   "execution_count": 16,
   "metadata": {},
   "outputs": [],
   "source": [
    "import requests\n",
    "from bs4 import BeautifulSoup\n",
    "from selenium import webdriver\n",
    "from time import sleep"
   ]
  },
  {
   "cell_type": "code",
   "execution_count": 83,
   "metadata": {
    "scrolled": true
   },
   "outputs": [],
   "source": [
    "global driver\n",
    "url = 'https://findbiz.nat.gov.tw/fts/query/QueryBar/queryInit.do'\n",
    "driver = requests.Session()\n",
    "driver = webdriver.Chrome()\n",
    "driver.get(url)\n",
    "\n",
    "id = []\n",
    "compName = []\n",
    "bossName = []\n",
    "compAddr = []\n",
    "\n",
    "driver.find_element_by_xpath(\"//*[@id='qryCond']\").send_keys(\"地產\")\n",
    "sleep(2)\n",
    "driver.find_element_by_xpath(\"//*[@id='qryBtn']\").click()\n",
    "\n",
    "# 一頁20筆\n",
    "for i in range(20):\n",
    "    driver.find_element_by_xpath(\"//*[@id='vParagraph']/div[\"+str(i+1)+\"]/div/a\").click()\n",
    "\n",
    "    for col in range(10):\n",
    "        colName = driver.find_element_by_xpath(\"/html/body/div[2]/div[2]/div/div/div/div[2]/div/div/div/div[1]/div/table/tbody/tr[\"+str(col+1)+\"]/td[1]\").text\n",
    "        colContent = driver.find_element_by_xpath(\"/html/body/div[2]/div[2]/div/div/div/div[2]/div/div/div/div[1]/div/table/tbody/tr[\"+str(col+1)+\"]/td[2]\").text\n",
    "\n",
    "        if ( colName == \"統一編號\" or colName == \"商業統一編號\" ):\n",
    "            id.append(colContent)\n",
    "        elif ( colName == \"公司名稱\" or colName == \"商業名稱\" ) :\n",
    "            compName.append(colContent)\n",
    "        elif ( colName == \"代表人姓名\" or colName == \"負責人姓名\" ) :\n",
    "            bossName.append(colContent)\n",
    "        elif ( colName == \"公司所在地\" or colName == \"地址\" ) :\n",
    "            compAddr.append(colContent)\n",
    "\n",
    "\n",
    "    # 上一頁\n",
    "    driver.find_element_by_xpath(\"//*[@id='bs-example-navbar-collapse-1']/ul/li[3]/a\").click()"
   ]
  },
  {
   "cell_type": "code",
   "execution_count": null,
   "metadata": {},
   "outputs": [],
   "source": [
    "compName"
   ]
  },
  {
   "cell_type": "code",
   "execution_count": 99,
   "metadata": {},
   "outputs": [
    {
     "data": {
      "text/plain": [
       "['83793169   訂閱',\n",
       " '53109562   訂閱',\n",
       " '83499449   訂閱',\n",
       " '56376909   訂閱',\n",
       " '83621238   訂閱',\n",
       " '27228535   訂閱',\n",
       " '60391987   訂閱',\n",
       " '42587539   訂閱',\n",
       " '42601461   訂閱',\n",
       " '42625169   訂閱',\n",
       " '42647425   訂閱',\n",
       " '42661734   訂閱',\n",
       " '42762466   訂閱',\n",
       " '53380198   訂閱',\n",
       " '53420136   訂閱',\n",
       " '53549772   訂閱',\n",
       " '53550593   訂閱',\n",
       " '53940116   訂閱',\n",
       " '53994317   訂閱',\n",
       " '54003834   訂閱',\n",
       " '54005517   訂閱',\n",
       " '54031424   訂閱',\n",
       " '54114846   訂閱',\n",
       " '53193266   訂閱',\n",
       " '53197761   訂閱',\n",
       " '53209387   訂閱',\n",
       " '53272000   訂閱',\n",
       " '53580409   訂閱',\n",
       " '53755245   訂閱',\n",
       " '54254677   訂閱',\n",
       " '54289943   訂閱',\n",
       " '54290792   訂閱',\n",
       " '53827368   訂閱',\n",
       " '53856898   訂閱',\n",
       " '53899587   訂閱',\n",
       " '54558897   訂閱',\n",
       " '54187404   訂閱',\n",
       " '54201095   訂閱',\n",
       " '54206253   訂閱',\n",
       " '54213000   訂閱',\n",
       " '54248845   訂閱',\n",
       " '54677818   訂閱',\n",
       " '54678372   訂閱',\n",
       " '24944508   訂閱',\n",
       " '24980193   訂閱',\n",
       " '24994817   訂閱',\n",
       " '25005164   訂閱',\n",
       " '24700502   訂閱',\n",
       " '24706978   訂閱',\n",
       " '24877156   訂閱',\n",
       " '24594235   訂閱',\n",
       " '24635593   訂閱',\n",
       " '24660348   訂閱',\n",
       " '27423586   訂閱',\n",
       " '27458923   訂閱',\n",
       " '27998230   訂閱',\n",
       " '24542167   訂閱',\n",
       " '52503616   訂閱',\n",
       " '52796612   訂閱',\n",
       " '53087429   訂閱']"
      ]
     },
     "execution_count": 99,
     "metadata": {},
     "output_type": "execute_result"
    }
   ],
   "source": [
    "id"
   ]
  },
  {
   "cell_type": "code",
   "execution_count": null,
   "metadata": {},
   "outputs": [
    {
     "name": "stdout",
     "output_type": "stream",
     "text": [
      "1\n"
     ]
    }
   ],
   "source": [
    "global driver\n",
    "url = 'https://findbiz.nat.gov.tw/fts/query/QueryBar/queryInit.do'\n",
    "driver = requests.Session()\n",
    "driver = webdriver.Chrome()\n",
    "driver.get(url)\n",
    "\n",
    "id = []\n",
    "compName = []\n",
    "bossName = []\n",
    "compAddr = []\n",
    "\n",
    "driver.find_element_by_xpath(\"//*[@id='qryCond']\").send_keys(\"地產\")\n",
    "sleep(2)\n",
    "driver.find_element_by_xpath(\"//*[@id='qryBtn']\").click()\n",
    "\n",
    "for page in range(3):\n",
    "    nextPage = (page+1) % 10\n",
    "    print(nextPage)\n",
    "    sleep(5)\n",
    "    if nextPage == 1:\n",
    "        # 一頁20筆\n",
    "        for i in range(20):\n",
    "            driver.find_element_by_xpath(\"//*[@id='vParagraph']/div[\"+str(i+1)+\"]/div/a\").click()\n",
    "\n",
    "            for col in range(10):\n",
    "                colName = driver.find_element_by_xpath(\"/html/body/div[2]/div[2]/div/div/div/div[2]/div/div/div/div[1]/div/table/tbody/tr[\"+str(col+1)+\"]/td[1]\").text\n",
    "                colContent = driver.find_element_by_xpath(\"/html/body/div[2]/div[2]/div/div/div/div[2]/div/div/div/div[1]/div/table/tbody/tr[\"+str(col+1)+\"]/td[2]\").text\n",
    "\n",
    "                if ( colName == \"統一編號\" or colName == \"商業統一編號\" ):\n",
    "                    id.append(colContent)\n",
    "                elif ( colName == \"公司名稱\" or colName == \"商業名稱\" ) :\n",
    "                    compName.append(colContent)\n",
    "                elif ( colName == \"代表人姓名\" or colName == \"負責人姓名\" ) :\n",
    "                    bossName.append(colContent)\n",
    "                elif ( colName == \"公司所在地\" or colName == \"地址\" ) :\n",
    "                    compAddr.append(colContent)\n",
    "            # 上一頁\n",
    "            driver.find_element_by_xpath(\"//*[@id='bs-example-navbar-collapse-1']/ul/li[3]/a\").click()\n",
    "            sleep(3)\n",
    "    else:\n",
    "        sleep(5)\n",
    "        driver.find_element_by_xpath(\"/html/body/div[2]/form[2]/div/div/div/div/nav/ul/li[\"+str(nextPage+1)+\"]/a\").click()\n",
    "        # 一頁20筆\n",
    "        for i in range(20):\n",
    "            driver.find_element_by_xpath(\"//*[@id='vParagraph']/div[\"+str(i+1)+\"]/div/a\").click()\n",
    "\n",
    "            for col in range(10):\n",
    "                colName = driver.find_element_by_xpath(\"/html/body/div[2]/div[2]/div/div/div/div[2]/div/div/div/div[1]/div/table/tbody/tr[\"+str(col+1)+\"]/td[1]\").text\n",
    "                colContent = driver.find_element_by_xpath(\"/html/body/div[2]/div[2]/div/div/div/div[2]/div/div/div/div[1]/div/table/tbody/tr[\"+str(col+1)+\"]/td[2]\").text\n",
    "\n",
    "                if ( colName == \"統一編號\" or colName == \"商業統一編號\" ):\n",
    "                    id.append(colContent)\n",
    "                elif ( colName == \"公司名稱\" or colName == \"商業名稱\" ) :\n",
    "                    compName.append(colContent)\n",
    "                elif ( colName == \"代表人姓名\" or colName == \"負責人姓名\" ) :\n",
    "                    bossName.append(colContent)\n",
    "                elif ( colName == \"公司所在地\" or colName == \"地址\" ) :\n",
    "                    compAddr.append(colContent)\n",
    "            # 上一頁\n",
    "            driver.find_element_by_xpath(\"//*[@id='bs-example-navbar-collapse-1']/ul/li[3]/a\").click()\n",
    "            sleep(3)"
   ]
  },
  {
   "cell_type": "code",
   "execution_count": null,
   "metadata": {},
   "outputs": [],
   "source": []
  }
 ],
 "metadata": {
  "kernelspec": {
   "display_name": "Python 3",
   "language": "python",
   "name": "python3"
  },
  "language_info": {
   "codemirror_mode": {
    "name": "ipython",
    "version": 3
   },
   "file_extension": ".py",
   "mimetype": "text/x-python",
   "name": "python",
   "nbconvert_exporter": "python",
   "pygments_lexer": "ipython3",
   "version": "3.7.4"
  }
 },
 "nbformat": 4,
 "nbformat_minor": 2
}
